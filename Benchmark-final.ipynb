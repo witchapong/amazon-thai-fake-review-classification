{
 "cells": [
  {
   "cell_type": "code",
   "execution_count": 1,
   "metadata": {
    "nbpresent": {
     "id": "ace8b800-7656-4bb3-9402-98d41fe3881c"
    }
   },
   "outputs": [],
   "source": [
    "import pandas as pd\n",
    "pd.options.display.max_columns=999\n",
    "pd.options.display.max_rows=999\n",
    "from collections import Counter, defaultdict\n",
    "import re\n",
    "import numpy as np\n",
    "import matplotlib.pyplot as plt\n",
    "%matplotlib inline\n",
    "import seaborn as sns\n",
    "%reload_ext autoreload\n",
    "%autoreload 2\n",
    "from tqdm import tqdm_notebook, trange\n",
    "import pickle\n",
    "from IPython.core.interactiveshell import InteractiveShell\n",
    "InteractiveShell.ast_node_interactivity = \"all\"\n",
    "from itertools import chain\n",
    "from sklearn.preprocessing import StandardScaler, OneHotEncoder, LabelEncoder\n",
    "from sklearn.model_selection import train_test_split\n",
    "import datetime\n",
    "import os\n",
    "from pythainlp import word_tokenize\n",
    "from sklearn.feature_extraction.text import TfidfVectorizer\n",
    "from sklearn.linear_model import LogisticRegression\n",
    "from fastai.text import *\n",
    "from fastai.callbacks import CSVLogger, SaveModelCallback\n",
    "from pythainlp.ulmfit import *\n",
    "import torch\n",
    "import torch.nn as nn\n",
    "import torch.nn.functional as F\n",
    "import torch.optim as optim\n",
    "from torch.utils.data import Dataset, DataLoader, ConcatDataset\n",
    "from pytorch_wrapper.container import *\n",
    "from pytorch_wrapper.callback import *\n",
    "from cto_ds_utilities.tabular_nn import *"
   ]
  },
  {
   "cell_type": "code",
   "execution_count": 2,
   "metadata": {
    "nbpresent": {
     "id": "f1151b15-232e-4cab-bff4-51f2ac8276d0"
    }
   },
   "outputs": [],
   "source": [
    "review_df = pd.read_csv('src/amzn_fake_review_star_correct_302066.csv')"
   ]
  },
  {
   "cell_type": "code",
   "execution_count": 3,
   "metadata": {
    "nbpresent": {
     "id": "74b1c50a-942f-4d28-b857-2d10b370da2c"
    }
   },
   "outputs": [
    {
     "data": {
      "text/html": [
       "<div>\n",
       "<style scoped>\n",
       "    .dataframe tbody tr th:only-of-type {\n",
       "        vertical-align: middle;\n",
       "    }\n",
       "\n",
       "    .dataframe tbody tr th {\n",
       "        vertical-align: top;\n",
       "    }\n",
       "\n",
       "    .dataframe thead th {\n",
       "        text-align: right;\n",
       "    }\n",
       "</style>\n",
       "<table border=\"1\" class=\"dataframe\">\n",
       "  <thead>\n",
       "    <tr style=\"text-align: right;\">\n",
       "      <th></th>\n",
       "      <th>review_id</th>\n",
       "      <th>en_segment</th>\n",
       "      <th>th_segment</th>\n",
       "      <th>correct</th>\n",
       "      <th>review_star</th>\n",
       "    </tr>\n",
       "  </thead>\n",
       "  <tbody>\n",
       "    <tr>\n",
       "      <th>0</th>\n",
       "      <td>1-333090</td>\n",
       "      <td>Good quality product at reasonable price.</td>\n",
       "      <td>สินค้าคุณภาพดีในราคาที่เหมาะสม</td>\n",
       "      <td>1.0</td>\n",
       "      <td>4.0</td>\n",
       "    </tr>\n",
       "    <tr>\n",
       "      <th>1</th>\n",
       "      <td>1-57783</td>\n",
       "      <td>They do NOT last more than 10 bottles.</td>\n",
       "      <td>พวกเขาไม่เกิน 10 ขวด</td>\n",
       "      <td>0.0</td>\n",
       "      <td>1.0</td>\n",
       "    </tr>\n",
       "    <tr>\n",
       "      <th>2</th>\n",
       "      <td>1-319174</td>\n",
       "      <td>If you like post-apocalyptic fiction with a tw...</td>\n",
       "      <td>ถ้าคุณชอบนิยายหลังเลิกเรียนด้วยการบิดนี่คือมัน</td>\n",
       "      <td>0.0</td>\n",
       "      <td>4.0</td>\n",
       "    </tr>\n",
       "    <tr>\n",
       "      <th>3</th>\n",
       "      <td>1-425331</td>\n",
       "      <td>Was a little worried when purchasing due to so...</td>\n",
       "      <td>รู้สึกกังวลเล็กน้อยเมื่อซื้อเนื่องจากรีวิวบางอ...</td>\n",
       "      <td>0.0</td>\n",
       "      <td>4.0</td>\n",
       "    </tr>\n",
       "    <tr>\n",
       "      <th>4</th>\n",
       "      <td>1-134583</td>\n",
       "      <td>I had heard from relatives who have read this ...</td>\n",
       "      <td>ฉันได้ยินจากญาติที่อ่านหนังสือเล่มนี้ว่าพ่อแม่...</td>\n",
       "      <td>1.0</td>\n",
       "      <td>2.0</td>\n",
       "    </tr>\n",
       "  </tbody>\n",
       "</table>\n",
       "</div>"
      ],
      "text/plain": [
       "  review_id                                         en_segment  \\\n",
       "0  1-333090          Good quality product at reasonable price.   \n",
       "1   1-57783             They do NOT last more than 10 bottles.   \n",
       "2  1-319174  If you like post-apocalyptic fiction with a tw...   \n",
       "3  1-425331  Was a little worried when purchasing due to so...   \n",
       "4  1-134583  I had heard from relatives who have read this ...   \n",
       "\n",
       "                                          th_segment  correct  review_star  \n",
       "0                     สินค้าคุณภาพดีในราคาที่เหมาะสม      1.0          4.0  \n",
       "1                               พวกเขาไม่เกิน 10 ขวด      0.0          1.0  \n",
       "2     ถ้าคุณชอบนิยายหลังเลิกเรียนด้วยการบิดนี่คือมัน      0.0          4.0  \n",
       "3  รู้สึกกังวลเล็กน้อยเมื่อซื้อเนื่องจากรีวิวบางอ...      0.0          4.0  \n",
       "4  ฉันได้ยินจากญาติที่อ่านหนังสือเล่มนี้ว่าพ่อแม่...      1.0          2.0  "
      ]
     },
     "execution_count": 3,
     "metadata": {},
     "output_type": "execute_result"
    }
   ],
   "source": [
    "review_df.head()"
   ]
  },
  {
   "cell_type": "code",
   "execution_count": 4,
   "metadata": {
    "nbpresent": {
     "id": "0a5f3c22-e268-4acf-aeb5-2dee5d6345a6"
    }
   },
   "outputs": [
    {
     "data": {
      "text/plain": [
       "(302066, 5)"
      ]
     },
     "execution_count": 4,
     "metadata": {},
     "output_type": "execute_result"
    }
   ],
   "source": [
    "review_df.shape"
   ]
  },
  {
   "cell_type": "markdown",
   "metadata": {
    "heading_collapsed": true
   },
   "source": [
    "# Explore data"
   ]
  },
  {
   "cell_type": "code",
   "execution_count": 5,
   "metadata": {
    "hidden": true
   },
   "outputs": [
    {
     "name": "stdout",
     "output_type": "stream",
     "text": [
      "Eng comment: I've been looking for a set of bowls that fit in my cabinet and didn't tip over or spill.I decided on this because it was the largest set.And they work perfectly.They don't slip or feel unstable.But I'm rating them 3 stars instead of 4 due to how cheaply made these are.The glass is thin, which doesn't seem surprising since they're plastic, but still.It isn't like we keep an eye out when we're eating at our table, so there's no reason why it's chipping away from us.\n",
      "\n",
      "Thai comment: ฉันกำลังมองหาชุดชามที่พอดีในตู้ของฉันและไม่หงายท้องหรือหกฉันตัดสินใจเรื่องนี้เพราะมันเป็นฉากที่ใหญ่ที่สุดและพวกเขาทำงานอย่างสมบูรณ์พวกเขาไม่ลื่นหรือรู้สึกไม่มั่นคงแต่ฉันให้คะแนนพวกเขา 3 ดาวแทนที่จะเป็น 4 เนื่องจากวิธีการทำสิ่งเหล่านี้อย่างถูกกระจกบางซึ่งไม่น่าแปลกใจเพราะมันเป็นพลาสติก แต่ก็ยังมันไม่เหมือนที่เราจับตาดูเมื่อเรากินที่โต๊ะของเราดังนั้นจึงไม่มีเหตุผลว่าทำไมมันถึงบิ่นไปจากเรา\n",
      "\n",
      "is_correct: 0.0\n",
      "review star:3.0\n"
     ]
    }
   ],
   "source": [
    "# show random en_segment / th_segment\n",
    "rand_idx = np.random.randint(len(review_df))\n",
    "print('Eng comment: {}\\n\\nThai comment: {}\\n\\nis_correct: {}\\nreview star:{}'\\\n",
    "      .format(review_df.iloc[rand_idx]['en_segment'],\n",
    "      review_df.iloc[rand_idx]['th_segment'],\n",
    "      review_df.iloc[rand_idx]['correct'],\n",
    "      review_df.iloc[rand_idx]['review_star']))"
   ]
  },
  {
   "cell_type": "code",
   "execution_count": 74,
   "metadata": {
    "hidden": true,
    "nbpresent": {
     "id": "b252421b-5d03-4d2d-b83a-20e55452d9df"
    }
   },
   "outputs": [
    {
     "data": {
      "text/plain": [
       "review_id      0\n",
       "en_segment     0\n",
       "th_segment     0\n",
       "correct        0\n",
       "review_star    0\n",
       "dtype: int64"
      ]
     },
     "execution_count": 74,
     "metadata": {},
     "output_type": "execute_result"
    }
   ],
   "source": [
    "review_df.isna().sum()"
   ]
  },
  {
   "cell_type": "code",
   "execution_count": 75,
   "metadata": {
    "hidden": true,
    "nbpresent": {
     "id": "228db468-5f5a-4897-b86e-164217e03b54"
    }
   },
   "outputs": [
    {
     "data": {
      "text/plain": [
       "<matplotlib.axes._subplots.AxesSubplot at 0x7f178c2dd1d0>"
      ]
     },
     "execution_count": 75,
     "metadata": {},
     "output_type": "execute_result"
    },
    {
     "data": {
      "image/png": "[encoded data removed]",
      "text/plain": [
       "<Figure size 432x288 with 1 Axes>"
      ]
     },
     "metadata": {
      "needs_background": "light"
     },
     "output_type": "display_data"
    }
   ],
   "source": [
    "review_df['correct'].value_counts().plot(kind='bar')"
   ]
  },
  {
   "cell_type": "code",
   "execution_count": 76,
   "metadata": {
    "hidden": true,
    "nbpresent": {
     "id": "e94d9fa7-64a8-4109-8f60-ed962871f0d0"
    }
   },
   "outputs": [
    {
     "data": {
      "text/plain": [
       "<matplotlib.axes._subplots.AxesSubplot at 0x7f178e5fd450>"
      ]
     },
     "execution_count": 76,
     "metadata": {},
     "output_type": "execute_result"
    },
    {
     "data": {
      "image/png": "[encoded data removed]",
      "text/plain": [
       "<Figure size 432x288 with 1 Axes>"
      ]
     },
     "metadata": {
      "needs_background": "light"
     },
     "output_type": "display_data"
    }
   ],
   "source": [
    "review_df['review_star'].value_counts().plot(kind='bar')"
   ]
  },
  {
   "cell_type": "code",
   "execution_count": 77,
   "metadata": {
    "hidden": true
   },
   "outputs": [],
   "source": [
    "def customized_process_thai(s):\n",
    "    # pre-rule\n",
    "    ps = [re.compile(r'\\s\\.+'),re.compile(r'\\s\\-+'),re.compile(r'&.*?;')]\n",
    "    for p in ps: s = p.sub('',s)\n",
    "    \n",
    "    # tokenize\n",
    "    tokens = word_tokenize(s,engine='newmm')\n",
    "    \n",
    "    return '|'.join(tokens)"
   ]
  },
  {
   "cell_type": "code",
   "execution_count": 12,
   "metadata": {
    "hidden": true,
    "nbpresent": {
     "id": "18103c5c-5fd0-404d-a2f5-335d75b43418"
    }
   },
   "outputs": [
    {
     "name": "stderr",
     "output_type": "stream",
     "text": [
      "/opt/conda/lib/python3.7/site-packages/ipykernel_launcher.py:1: TqdmDeprecationWarning: This function will be removed in tqdm==5.0.0\n",
      "Please use `tqdm.notebook.tqdm` instead of `tqdm.tqdm_notebook`\n",
      "  \"\"\"Entry point for launching an IPython kernel.\n"
     ]
    },
    {
     "data": {
      "application/vnd.jupyter.widget-view+json": {
       "model_id": "2b95bfdf8f914a0991a7afe64524d1b6",
       "version_major": 2,
       "version_minor": 0
      },
      "text/plain": [
       "HBox(children=(FloatProgress(value=0.0, max=302066.0), HTML(value='')))"
      ]
     },
     "metadata": {},
     "output_type": "display_data"
    },
    {
     "name": "stdout",
     "output_type": "stream",
     "text": [
      "\n"
     ]
    }
   ],
   "source": [
    "review_df[\"processed\"] = [customized_process_thai(txt) for txt in tqdm_notebook(review_df['th_segment'].values)]\n",
    "review_df[\"wc\"] = review_df['processed'].map(lambda x: len(x.split(\"|\")))\n",
    "review_df[\"uwc\"] = review_df['processed'].map(lambda x: len(set(x.split(\"|\"))))"
   ]
  },
  {
   "cell_type": "code",
   "execution_count": 6,
   "metadata": {
    "hidden": true,
    "nbpresent": {
     "id": "e2bda8b4-46b6-48e4-86ae-a94547cc0a5c"
    }
   },
   "outputs": [],
   "source": [
    "# save tokenized review\n",
    "os.makedirs('tmp',exist_ok=True)\n",
    "# review_df.to_csv('tmp/review_df_check-point-1.csv',index=False)\n",
    "\n",
    "review_df = pd.read_csv('tmp/review_df_check-point-1.csv')"
   ]
  },
  {
   "cell_type": "code",
   "execution_count": 7,
   "metadata": {
    "hidden": true
   },
   "outputs": [
    {
     "data": {
      "text/html": [
       "<div>\n",
       "<style scoped>\n",
       "    .dataframe tbody tr th:only-of-type {\n",
       "        vertical-align: middle;\n",
       "    }\n",
       "\n",
       "    .dataframe tbody tr th {\n",
       "        vertical-align: top;\n",
       "    }\n",
       "\n",
       "    .dataframe thead th {\n",
       "        text-align: right;\n",
       "    }\n",
       "</style>\n",
       "<table border=\"1\" class=\"dataframe\">\n",
       "  <thead>\n",
       "    <tr style=\"text-align: right;\">\n",
       "      <th></th>\n",
       "      <th>review_id</th>\n",
       "      <th>en_segment</th>\n",
       "      <th>th_segment</th>\n",
       "      <th>correct</th>\n",
       "      <th>review_star</th>\n",
       "      <th>processed</th>\n",
       "      <th>wc</th>\n",
       "      <th>uwc</th>\n",
       "    </tr>\n",
       "  </thead>\n",
       "  <tbody>\n",
       "    <tr>\n",
       "      <th>0</th>\n",
       "      <td>1-333090</td>\n",
       "      <td>Good quality product at reasonable price.</td>\n",
       "      <td>สินค้าคุณภาพดีในราคาที่เหมาะสม</td>\n",
       "      <td>1.0</td>\n",
       "      <td>4.0</td>\n",
       "      <td>สินค้า|คุณภาพดี|ใน|รา|คาที่|เหมาะสม</td>\n",
       "      <td>6</td>\n",
       "      <td>6</td>\n",
       "    </tr>\n",
       "    <tr>\n",
       "      <th>1</th>\n",
       "      <td>1-57783</td>\n",
       "      <td>They do NOT last more than 10 bottles.</td>\n",
       "      <td>พวกเขาไม่เกิน 10 ขวด</td>\n",
       "      <td>0.0</td>\n",
       "      <td>1.0</td>\n",
       "      <td>พวกเขา|ไม่|เกิน| |10| |ขวด</td>\n",
       "      <td>7</td>\n",
       "      <td>6</td>\n",
       "    </tr>\n",
       "    <tr>\n",
       "      <th>2</th>\n",
       "      <td>1-319174</td>\n",
       "      <td>If you like post-apocalyptic fiction with a tw...</td>\n",
       "      <td>ถ้าคุณชอบนิยายหลังเลิกเรียนด้วยการบิดนี่คือมัน</td>\n",
       "      <td>0.0</td>\n",
       "      <td>4.0</td>\n",
       "      <td>ถ้า|คุณ|ชอบ|นิยาย|หลัง|เลิกเรียน|ด้วย|การ|บิด|...</td>\n",
       "      <td>12</td>\n",
       "      <td>12</td>\n",
       "    </tr>\n",
       "    <tr>\n",
       "      <th>3</th>\n",
       "      <td>1-425331</td>\n",
       "      <td>Was a little worried when purchasing due to so...</td>\n",
       "      <td>รู้สึกกังวลเล็กน้อยเมื่อซื้อเนื่องจากรีวิวบางอ...</td>\n",
       "      <td>0.0</td>\n",
       "      <td>4.0</td>\n",
       "      <td>รู้สึก|กังวล|เล็กน้อย|เมื่อ|ซื้อ|เนื่องจาก|รีว...</td>\n",
       "      <td>10</td>\n",
       "      <td>10</td>\n",
       "    </tr>\n",
       "    <tr>\n",
       "      <th>4</th>\n",
       "      <td>1-134583</td>\n",
       "      <td>I had heard from relatives who have read this ...</td>\n",
       "      <td>ฉันได้ยินจากญาติที่อ่านหนังสือเล่มนี้ว่าพ่อแม่...</td>\n",
       "      <td>1.0</td>\n",
       "      <td>2.0</td>\n",
       "      <td>ฉัน|ได้ยิน|จาก|ญาติ|ที่|อ่านหนังสือ|เล่ม|นี้|ว...</td>\n",
       "      <td>17</td>\n",
       "      <td>17</td>\n",
       "    </tr>\n",
       "  </tbody>\n",
       "</table>\n",
       "</div>"
      ],
      "text/plain": [
       "  review_id                                         en_segment  \\\n",
       "0  1-333090          Good quality product at reasonable price.   \n",
       "1   1-57783             They do NOT last more than 10 bottles.   \n",
       "2  1-319174  If you like post-apocalyptic fiction with a tw...   \n",
       "3  1-425331  Was a little worried when purchasing due to so...   \n",
       "4  1-134583  I had heard from relatives who have read this ...   \n",
       "\n",
       "                                          th_segment  correct  review_star  \\\n",
       "0                     สินค้าคุณภาพดีในราคาที่เหมาะสม      1.0          4.0   \n",
       "1                               พวกเขาไม่เกิน 10 ขวด      0.0          1.0   \n",
       "2     ถ้าคุณชอบนิยายหลังเลิกเรียนด้วยการบิดนี่คือมัน      0.0          4.0   \n",
       "3  รู้สึกกังวลเล็กน้อยเมื่อซื้อเนื่องจากรีวิวบางอ...      0.0          4.0   \n",
       "4  ฉันได้ยินจากญาติที่อ่านหนังสือเล่มนี้ว่าพ่อแม่...      1.0          2.0   \n",
       "\n",
       "                                           processed  wc  uwc  \n",
       "0                สินค้า|คุณภาพดี|ใน|รา|คาที่|เหมาะสม   6    6  \n",
       "1                         พวกเขา|ไม่|เกิน| |10| |ขวด   7    6  \n",
       "2  ถ้า|คุณ|ชอบ|นิยาย|หลัง|เลิกเรียน|ด้วย|การ|บิด|...  12   12  \n",
       "3  รู้สึก|กังวล|เล็กน้อย|เมื่อ|ซื้อ|เนื่องจาก|รีว...  10   10  \n",
       "4  ฉัน|ได้ยิน|จาก|ญาติ|ที่|อ่านหนังสือ|เล่ม|นี้|ว...  17   17  "
      ]
     },
     "execution_count": 7,
     "metadata": {},
     "output_type": "execute_result"
    }
   ],
   "source": [
    "review_df.head()"
   ]
  },
  {
   "cell_type": "markdown",
   "metadata": {
    "heading_collapsed": true,
    "nbpresent": {
     "id": "bb557a4f-86f7-42f1-b49d-b16f71b24941"
    }
   },
   "source": [
    "# Train/valid split"
   ]
  },
  {
   "cell_type": "code",
   "execution_count": 8,
   "metadata": {
    "hidden": true,
    "nbpresent": {
     "id": "dc4d5f9e-d1f3-40d8-9dd1-4cc8e77ee5cd"
    }
   },
   "outputs": [
    {
     "data": {
      "text/plain": [
       "((241652, 8), (30207, 8), (30207, 8))"
      ]
     },
     "execution_count": 8,
     "metadata": {},
     "output_type": "execute_result"
    }
   ],
   "source": [
    "train_df, valid_df = train_test_split(review_df, test_size=0.20, random_state=1)\n",
    "train_df = train_df.reset_index(drop=True)\n",
    "\n",
    "# further split validation to validation & test\n",
    "valid_df, test_df = train_test_split(valid_df, test_size=0.50, random_state=11)\n",
    "valid_df = valid_df.reset_index(drop=True)\n",
    "test_df = test_df.reset_index(drop=True)\n",
    "\n",
    "train_df.shape, valid_df.shape, test_df.shape"
   ]
  },
  {
   "cell_type": "code",
   "execution_count": 9,
   "metadata": {
    "hidden": true,
    "nbpresent": {
     "id": "9f2151ee-f79a-4652-b388-f2444fd0234f"
    }
   },
   "outputs": [
    {
     "data": {
      "text/plain": [
       "0.0    0.689533\n",
       "1.0    0.310467\n",
       "Name: correct, dtype: float64"
      ]
     },
     "execution_count": 9,
     "metadata": {},
     "output_type": "execute_result"
    }
   ],
   "source": [
    "# prevalence\n",
    "train_df[\"correct\"].value_counts(normalize=True)"
   ]
  },
  {
   "cell_type": "code",
   "execution_count": 10,
   "metadata": {
    "hidden": true,
    "nbpresent": {
     "id": "7ec58639-1f78-44a6-9615-e13963ec74c5"
    }
   },
   "outputs": [
    {
     "data": {
      "text/plain": [
       "0.0    0.682822\n",
       "1.0    0.317178\n",
       "Name: correct, dtype: float64"
      ]
     },
     "execution_count": 10,
     "metadata": {},
     "output_type": "execute_result"
    }
   ],
   "source": [
    "# prevalence\n",
    "valid_df[\"correct\"].value_counts(normalize=True)"
   ]
  },
  {
   "cell_type": "markdown",
   "metadata": {
    "hidden": true
   },
   "source": [
    "Save train/valid/test set"
   ]
  },
  {
   "cell_type": "code",
   "execution_count": 11,
   "metadata": {
    "hidden": true
   },
   "outputs": [],
   "source": [
    "# train_df.to_csv('src/amazon_train.csv',index=False)\n",
    "# valid_df.to_csv('src/amazon_valid.csv',index=False)\n",
    "# test_df.to_csv('src/amazon_test.csv',index=False)\n",
    "\n",
    "train_df = pd.read_csv('src/amazon_train.csv')\n",
    "valid_df = pd.read_csv('src/amazon_valid.csv')\n",
    "test_df = pd.read_csv('src/amazon_test.csv')"
   ]
  },
  {
   "cell_type": "code",
   "execution_count": 12,
   "metadata": {
    "hidden": true
   },
   "outputs": [],
   "source": [
    "# create separate train + valid data called all df\n",
    "all_df = pd.concat([train_df,valid_df],axis=0)\n",
    "all_df.reset_index(drop=True, inplace=True)"
   ]
  },
  {
   "cell_type": "code",
   "execution_count": 13,
   "metadata": {
    "hidden": true
   },
   "outputs": [
    {
     "data": {
      "text/plain": [
       "(271859, 8)"
      ]
     },
     "execution_count": 13,
     "metadata": {},
     "output_type": "execute_result"
    }
   ],
   "source": [
    "all_df.shape"
   ]
  },
  {
   "cell_type": "code",
   "execution_count": 14,
   "metadata": {
    "hidden": true
   },
   "outputs": [
    {
     "data": {
      "text/html": [
       "<div>\n",
       "<style scoped>\n",
       "    .dataframe tbody tr th:only-of-type {\n",
       "        vertical-align: middle;\n",
       "    }\n",
       "\n",
       "    .dataframe tbody tr th {\n",
       "        vertical-align: top;\n",
       "    }\n",
       "\n",
       "    .dataframe thead th {\n",
       "        text-align: right;\n",
       "    }\n",
       "</style>\n",
       "<table border=\"1\" class=\"dataframe\">\n",
       "  <thead>\n",
       "    <tr style=\"text-align: right;\">\n",
       "      <th></th>\n",
       "      <th>review_id</th>\n",
       "      <th>en_segment</th>\n",
       "      <th>th_segment</th>\n",
       "      <th>correct</th>\n",
       "      <th>review_star</th>\n",
       "      <th>processed</th>\n",
       "      <th>wc</th>\n",
       "      <th>uwc</th>\n",
       "    </tr>\n",
       "  </thead>\n",
       "  <tbody>\n",
       "    <tr>\n",
       "      <th>0</th>\n",
       "      <td>1-105256</td>\n",
       "      <td>The writing seems stilted and the characters a...</td>\n",
       "      <td>ดูเหมือนว่าการเขียนจะโอ้อวดและตัวละครไม่น่าสนใ...</td>\n",
       "      <td>0.0</td>\n",
       "      <td>2.0</td>\n",
       "      <td>ดูเหมือนว่า|การเขียน|จะ|โอ้อวด|และ|ตัวละคร|ไม่...</td>\n",
       "      <td>88</td>\n",
       "      <td>69</td>\n",
       "    </tr>\n",
       "    <tr>\n",
       "      <th>1</th>\n",
       "      <td>2-38709</td>\n",
       "      <td>We bought these for our 3 year old son to acco...</td>\n",
       "      <td>เราซื้อสิ่งเหล่านี้ให้กับลูกชายวัย 3 ขวบของเรา...</td>\n",
       "      <td>0.0</td>\n",
       "      <td>4.0</td>\n",
       "      <td>เรา|ซื้อ|สิ่ง|เหล่านี้|ให้|กับ|ลูกชาย|วัย| |3|...</td>\n",
       "      <td>43</td>\n",
       "      <td>33</td>\n",
       "    </tr>\n",
       "    <tr>\n",
       "      <th>2</th>\n",
       "      <td>1-399475</td>\n",
       "      <td>this movie was fun and funny, I loved it from ...</td>\n",
       "      <td>หนังเรื่องนี้สนุกและตลกมากฉันชอบมันตั้งแต่ต้นจ...</td>\n",
       "      <td>0.0</td>\n",
       "      <td>4.0</td>\n",
       "      <td>หนัง|เรื่อง|นี้|สนุก|และ|ตลก|มาก|ฉัน|ชอบ|มัน|ต...</td>\n",
       "      <td>24</td>\n",
       "      <td>23</td>\n",
       "    </tr>\n",
       "    <tr>\n",
       "      <th>3</th>\n",
       "      <td>2-31276</td>\n",
       "      <td>The book has a lot of helpful tips, but is lac...</td>\n",
       "      <td>หนังสือเล่มนี้มีเคล็ดลับที่เป็นประโยชน์มากมาย ...</td>\n",
       "      <td>0.0</td>\n",
       "      <td>2.0</td>\n",
       "      <td>หนังสือ|เล่ม|นี้|มี|เคล็ดลับ|ที่|เป็นประโยชน์|...</td>\n",
       "      <td>77</td>\n",
       "      <td>65</td>\n",
       "    </tr>\n",
       "    <tr>\n",
       "      <th>4</th>\n",
       "      <td>2-11047</td>\n",
       "      <td>I like the author however this book did was no...</td>\n",
       "      <td>ฉันชอบผู้แต่ง แต่หนังสือเล่มนี้ไม่ได้ขึ้นอยู่ก...</td>\n",
       "      <td>0.0</td>\n",
       "      <td>1.0</td>\n",
       "      <td>ฉัน|ชอบ|ผู้แต่ง| |แต่|หนังสือ|เล่ม|นี้|ไม่|ได้...</td>\n",
       "      <td>42</td>\n",
       "      <td>35</td>\n",
       "    </tr>\n",
       "  </tbody>\n",
       "</table>\n",
       "</div>"
      ],
      "text/plain": [
       "  review_id                                         en_segment  \\\n",
       "0  1-105256  The writing seems stilted and the characters a...   \n",
       "1   2-38709  We bought these for our 3 year old son to acco...   \n",
       "2  1-399475  this movie was fun and funny, I loved it from ...   \n",
       "3   2-31276  The book has a lot of helpful tips, but is lac...   \n",
       "4   2-11047  I like the author however this book did was no...   \n",
       "\n",
       "                                          th_segment  correct  review_star  \\\n",
       "0  ดูเหมือนว่าการเขียนจะโอ้อวดและตัวละครไม่น่าสนใ...      0.0          2.0   \n",
       "1  เราซื้อสิ่งเหล่านี้ให้กับลูกชายวัย 3 ขวบของเรา...      0.0          4.0   \n",
       "2  หนังเรื่องนี้สนุกและตลกมากฉันชอบมันตั้งแต่ต้นจ...      0.0          4.0   \n",
       "3  หนังสือเล่มนี้มีเคล็ดลับที่เป็นประโยชน์มากมาย ...      0.0          2.0   \n",
       "4  ฉันชอบผู้แต่ง แต่หนังสือเล่มนี้ไม่ได้ขึ้นอยู่ก...      0.0          1.0   \n",
       "\n",
       "                                           processed  wc  uwc  \n",
       "0  ดูเหมือนว่า|การเขียน|จะ|โอ้อวด|และ|ตัวละคร|ไม่...  88   69  \n",
       "1  เรา|ซื้อ|สิ่ง|เหล่านี้|ให้|กับ|ลูกชาย|วัย| |3|...  43   33  \n",
       "2  หนัง|เรื่อง|นี้|สนุก|และ|ตลก|มาก|ฉัน|ชอบ|มัน|ต...  24   23  \n",
       "3  หนังสือ|เล่ม|นี้|มี|เคล็ดลับ|ที่|เป็นประโยชน์|...  77   65  \n",
       "4  ฉัน|ชอบ|ผู้แต่ง| |แต่|หนังสือ|เล่ม|นี้|ไม่|ได้...  42   35  "
      ]
     },
     "execution_count": 14,
     "metadata": {},
     "output_type": "execute_result"
    }
   ],
   "source": [
    "all_df.head()"
   ]
  },
  {
   "cell_type": "markdown",
   "metadata": {},
   "source": [
    "# Preprocess data"
   ]
  },
  {
   "cell_type": "markdown",
   "metadata": {
    "heading_collapsed": true
   },
   "source": [
    "## Text feature"
   ]
  },
  {
   "cell_type": "code",
   "execution_count": 88,
   "metadata": {
    "hidden": true
   },
   "outputs": [],
   "source": [
    "# select vocabs with given minimum freq\n",
    "def get_tokens_from_processed_text(df_col:pd.Series):\n",
    "    return [toks_str.split('|') for toks_str in df_col.values.tolist()]\n",
    "\n",
    "tokens_train = get_tokens_from_processed_text(train_df['processed'])\n",
    "tokens_valid = get_tokens_from_processed_text(valid_df['processed'])\n",
    "tokens_test = get_tokens_from_processed_text(test_df['processed'])\n",
    "\n",
    "mcn = Counter(chain(*tokens_train)).most_common()\n",
    "freq = np.array(list(zip(*mcn))[1])\n",
    "cut_idx = len(freq[freq>2])\n",
    "vocabs = list(zip(*mcn))[0][:cut_idx]"
   ]
  },
  {
   "cell_type": "code",
   "execution_count": 89,
   "metadata": {
    "hidden": true
   },
   "outputs": [],
   "source": [
    "# create encoder/decoder for vocabs --> start at 1 and leave 0 for padding and 1 for unknnown\n",
    "stoi = defaultdict(lambda:1 ,{vocab:i for i,vocab in enumerate(vocabs,2)})\n",
    "itos = defaultdict(lambda:1 ,{i:vocab for i,vocab in enumerate(vocabs,2)})"
   ]
  },
  {
   "cell_type": "code",
   "execution_count": 90,
   "metadata": {
    "hidden": true
   },
   "outputs": [
    {
     "name": "stderr",
     "output_type": "stream",
     "text": [
      "/opt/conda/lib/python3.7/site-packages/ipykernel_launcher.py:4: TqdmDeprecationWarning: This function will be removed in tqdm==5.0.0\n",
      "Please use `tqdm.notebook.tqdm` instead of `tqdm.tqdm_notebook`\n",
      "  after removing the cwd from sys.path.\n"
     ]
    },
    {
     "data": {
      "application/vnd.jupyter.widget-view+json": {
       "model_id": "d1498a57635d4c659a0081a5c681214d",
       "version_major": 2,
       "version_minor": 0
      },
      "text/plain": [
       "HBox(children=(FloatProgress(value=0.0, max=241652.0), HTML(value='')))"
      ]
     },
     "metadata": {},
     "output_type": "display_data"
    },
    {
     "name": "stdout",
     "output_type": "stream",
     "text": [
      "\n"
     ]
    },
    {
     "data": {
      "application/vnd.jupyter.widget-view+json": {
       "model_id": "f6464fcb3c00401493aade27297684f6",
       "version_major": 2,
       "version_minor": 0
      },
      "text/plain": [
       "HBox(children=(FloatProgress(value=0.0, max=30207.0), HTML(value='')))"
      ]
     },
     "metadata": {},
     "output_type": "display_data"
    },
    {
     "name": "stdout",
     "output_type": "stream",
     "text": [
      "\n"
     ]
    },
    {
     "data": {
      "application/vnd.jupyter.widget-view+json": {
       "model_id": "9fee3a47aa9f435bac089c6d9a9da8b8",
       "version_major": 2,
       "version_minor": 0
      },
      "text/plain": [
       "HBox(children=(FloatProgress(value=0.0, max=30207.0), HTML(value='')))"
      ]
     },
     "metadata": {},
     "output_type": "display_data"
    },
    {
     "name": "stdout",
     "output_type": "stream",
     "text": [
      "\n"
     ]
    }
   ],
   "source": [
    "# filter tokens\n",
    "def filter_tokens(tokens, vocabs):\n",
    "    return [[tkn for tkn in tkns if tkn in vocabs] for tkns in tqdm_notebook(tokens)]\n",
    "\n",
    "tokens_train = filter_tokens(tokens_train,vocabs)\n",
    "tokens_valid = filter_tokens(tokens_valid,vocabs)\n",
    "tokens_test = filter_tokens(tokens_test,vocabs)\n",
    "\n",
    "def encode_tokens(tokens, stoi):\n",
    "    return [[stoi[tkn] for tkn in tkns] for tkns in tokens]\n",
    "\n",
    "# encode tokens\n",
    "tokens_train_enc = encode_tokens(tokens_train,stoi)\n",
    "tokens_valid_enc = encode_tokens(tokens_valid,stoi)\n",
    "tokens_test_enc = encode_tokens(tokens_test,stoi)"
   ]
  },
  {
   "cell_type": "code",
   "execution_count": 91,
   "metadata": {
    "hidden": true
   },
   "outputs": [
    {
     "data": {
      "text/plain": [
       "array([34., 63., 84.])"
      ]
     },
     "execution_count": 91,
     "metadata": {},
     "output_type": "execute_result"
    },
    {
     "data": {
      "image/png": "[encoded data removed]",
      "text/plain": [
       "<Figure size 432x288 with 1 Axes>"
      ]
     },
     "metadata": {
      "needs_background": "light"
     },
     "output_type": "display_data"
    }
   ],
   "source": [
    "# check tokens length\n",
    "tokens_len = np.array([len(tokens) for tokens in tokens_train])\n",
    "_ = plt.hist(tokens_len)\n",
    "np.percentile(tokens_len, [25,50,75])"
   ]
  },
  {
   "cell_type": "code",
   "execution_count": 92,
   "metadata": {
    "hidden": true
   },
   "outputs": [],
   "source": [
    "def zero_padding(enc_tokens,seq_length):\n",
    "    '''\n",
    "    function as written in in https://github.com/udacity/deep-learning-v2-pytorch/blob/master/sentiment-rnn/Sentiment_RNN_Solution.ipynb\n",
    "    '''\n",
    "    features = np.zeros((len(enc_tokens),seq_length),dtype=int)\n",
    "    \n",
    "    for i, toks in enumerate(enc_tokens):\n",
    "        if len(toks)>0: features[i, -len(toks):] = np.array(toks)[:seq_length]\n",
    "        \n",
    "    return features\n",
    "\n",
    "# zero padding\n",
    "text_feat_train = zero_padding(tokens_train_enc, 100)\n",
    "text_feat_valid = zero_padding(tokens_valid_enc, 100)\n",
    "text_feat_test = zero_padding(tokens_test_enc, 100)"
   ]
  },
  {
   "cell_type": "code",
   "execution_count": 93,
   "metadata": {
    "hidden": true
   },
   "outputs": [
    {
     "data": {
      "text/plain": [
       "((241652, 100), (30207, 100), (30207, 100))"
      ]
     },
     "execution_count": 93,
     "metadata": {},
     "output_type": "execute_result"
    }
   ],
   "source": [
    "text_feat_train.shape, text_feat_valid.shape, text_feat_test.shape"
   ]
  },
  {
   "cell_type": "markdown",
   "metadata": {
    "heading_collapsed": true
   },
   "source": [
    "## Numerical feature"
   ]
  },
  {
   "cell_type": "code",
   "execution_count": 17,
   "metadata": {
    "hidden": true
   },
   "outputs": [],
   "source": [
    "# get numeric feat --> just use the original word count & unique word count\n",
    "scaler = StandardScaler()\n",
    "num_cols = ['wc','uwc']\n",
    "num_feat_train = scaler.fit_transform(train_df[num_cols].values)\n",
    "num_feat_valid = scaler.transform(valid_df[num_cols].values)\n",
    "num_feat_test = scaler.transform(test_df[num_cols].values)"
   ]
  },
  {
   "cell_type": "code",
   "execution_count": 18,
   "metadata": {
    "hidden": true
   },
   "outputs": [
    {
     "data": {
      "text/plain": [
       "((241652, 2), (30207, 2), (30207, 2))"
      ]
     },
     "execution_count": 18,
     "metadata": {},
     "output_type": "execute_result"
    }
   ],
   "source": [
    "num_feat_train.shape, num_feat_valid.shape, num_feat_test.shape"
   ]
  },
  {
   "cell_type": "markdown",
   "metadata": {
    "heading_collapsed": true
   },
   "source": [
    "## Targets"
   ]
  },
  {
   "cell_type": "code",
   "execution_count": 19,
   "metadata": {
    "hidden": true
   },
   "outputs": [],
   "source": [
    "targ1_col = 'correct'\n",
    "targ1_train = train_df[targ1_col].values\n",
    "targ1_valid = valid_df[targ1_col].values\n",
    "targ1_test = test_df[targ1_col].values\n",
    "\n",
    "targ2_col = 'review_star'\n",
    "label_enc = LabelEncoder()\n",
    "\n",
    "targ2_train = label_enc.fit_transform(train_df[targ2_col].values)\n",
    "targ2_valid = label_enc.transform(valid_df[targ2_col].values)\n",
    "targ2_test = label_enc.transform(test_df[targ2_col].values)"
   ]
  },
  {
   "cell_type": "markdown",
   "metadata": {
    "hidden": true
   },
   "source": [
    "Check-point"
   ]
  },
  {
   "cell_type": "code",
   "execution_count": 21,
   "metadata": {
    "hidden": true
   },
   "outputs": [],
   "source": [
    "# pickle.dump(text_feat_train,open('tmp/text_feat_train.pkl','wb'))\n",
    "# pickle.dump(text_feat_valid,open('tmp/text_feat_valid.pkl','wb'))\n",
    "# pickle.dump(text_feat_test,open('tmp/text_feat_test.pkl','wb'))\n",
    "\n",
    "# pickle.dump(num_feat_train,open('tmp/num_feat_train.pkl','wb'))\n",
    "# pickle.dump(num_feat_valid,open('tmp/num_feat_valid.pkl','wb'))\n",
    "# pickle.dump(num_feat_test,open('tmp/num_feat_test.pkl','wb'))\n",
    "\n",
    "# pickle.dump(targ1_train,open('tmp/targ1_train.pkl','wb'))\n",
    "# pickle.dump(targ1_valid,open('tmp/targ1_valid.pkl','wb'))\n",
    "# pickle.dump(targ1_test,open('tmp/targ1_test.pkl','wb'))\n",
    "\n",
    "# pickle.dump(targ2_train,open('tmp/targ2_train.pkl','wb'))\n",
    "# pickle.dump(targ2_valid,open('tmp/targ2_valid.pkl','wb'))\n",
    "# pickle.dump(targ2_test,open('tmp/targ2_test.pkl','wb'))\n",
    "\n",
    "# pickle.dump(vocabs,open('tmp/vocab.pkl','wb'))\n",
    "\n",
    "# text_feat_train = pickle.load(open('tmp/text_feat_train.pkl','rb'))\n",
    "# text_feat_valid = pickle.load(open('tmp/text_feat_valid.pkl','rb'))\n",
    "# text_feat_test = pickle.load(open('tmp/text_feat_test.pkl','rb'))\n",
    "\n",
    "# num_feat_train = pickle.load(open('tmp/num_feat_train.pkl','rb'))\n",
    "# num_feat_valid = pickle.load(open('tmp/num_feat_valid.pkl','rb'))\n",
    "# num_feat_test = pickle.load(open('tmp/num_feat_test.pkl','rb'))\n",
    "\n",
    "# targ1_train = pickle.load(open('tmp/targ1_train.pkl','rb'))\n",
    "# targ1_valid = pickle.load(open('tmp/targ1_valid.pkl','rb'))\n",
    "# targ1_test = pickle.load(open('tmp/targ1_test.pkl','rb'))\n",
    "\n",
    "# targ2_train = pickle.load(open('tmp/targ2_train.pkl','rb'))\n",
    "# targ2_valid = pickle.load(open('tmp/targ2_valid.pkl','rb'))\n",
    "# targ2_test = pickle.load(open('tmp/targ2_test.pkl','rb'))\n",
    "\n",
    "# vocabs = pickle.load(open('tmp/vocab.pkl','rb'))"
   ]
  },
  {
   "cell_type": "markdown",
   "metadata": {},
   "source": [
    "# Model"
   ]
  },
  {
   "cell_type": "markdown",
   "metadata": {
    "heading_collapsed": true,
    "nbpresent": {
     "id": "f0100153-e7e4-43b3-b47d-d0e930b465cd"
    }
   },
   "source": [
    "## Logistic regression"
   ]
  },
  {
   "cell_type": "code",
   "execution_count": 23,
   "metadata": {
    "hidden": true,
    "nbpresent": {
     "id": "9af808e6-b983-4b1f-ae2a-59345393b4e5"
    }
   },
   "outputs": [
    {
     "data": {
      "text/plain": [
       "TfidfVectorizer(analyzer='word', binary=False, decode_error='strict',\n",
       "                dtype=<class 'numpy.float64'>, encoding='utf-8',\n",
       "                input='content', lowercase=True, max_df=1.0, max_features=25000,\n",
       "                min_df=1, ngram_range=(1, 2), norm='l2', preprocessor=None,\n",
       "                smooth_idf=True, stop_words=None, strip_accents=None,\n",
       "                sublinear_tf=True, token_pattern='(?u)\\\\b\\\\w\\\\w+\\\\b',\n",
       "                tokenizer=<function <lambda> at 0x12c45a598>, use_idf=True,\n",
       "                vocabulary=None)"
      ]
     },
     "execution_count": 23,
     "metadata": {},
     "output_type": "execute_result"
    },
    {
     "data": {
      "text/plain": [
       "((241652, 25000), (30207, 25000))"
      ]
     },
     "execution_count": 23,
     "metadata": {},
     "output_type": "execute_result"
    }
   ],
   "source": [
    "tfidf = TfidfVectorizer(tokenizer=lambda x:x.split('|'), ngram_range=(1,2), max_features=25_000, sublinear_tf=True)\n",
    "tfidf.fit(all_df[\"processed\"])\n",
    "text_train = tfidf.transform(train_df[\"processed\"])\n",
    "text_valid = tfidf.transform(valid_df[\"processed\"])\n",
    "text_test = tfidf.transform(test_df[\"processed\"])\n",
    "text_train.shape, text_valid.shape"
   ]
  },
  {
   "cell_type": "code",
   "execution_count": 24,
   "metadata": {
    "hidden": true,
    "nbpresent": {
     "id": "51f64e06-0521-4b97-a701-4a8ff2661ed3"
    },
    "scrolled": true
   },
   "outputs": [
    {
     "data": {
      "text/plain": [
       "((241652, 25002), (30207, 25002))"
      ]
     },
     "execution_count": 24,
     "metadata": {},
     "output_type": "execute_result"
    }
   ],
   "source": [
    "#concatenate text and word count features\n",
    "X_train = np.concatenate([num_feat_train,text_train.toarray()],axis=1)\n",
    "X_valid = np.concatenate([num_feat_valid,text_valid.toarray()],axis=1)\n",
    "X_test = np.concatenate([num_feat_test,text_test.toarray()],axis=1)\n",
    "X_train.shape, X_valid.shape"
   ]
  },
  {
   "cell_type": "markdown",
   "metadata": {
    "hidden": true
   },
   "source": [
    "### Train on training data only"
   ]
  },
  {
   "cell_type": "code",
   "execution_count": 26,
   "metadata": {
    "hidden": true,
    "nbpresent": {
     "id": "4c75cc50-ab57-44be-bea4-b0d3b39e148d"
    }
   },
   "outputs": [
    {
     "data": {
      "text/plain": [
       "LogisticRegression(C=2.0, class_weight=None, dual=False, fit_intercept=True,\n",
       "                   intercept_scaling=1, l1_ratio=None, max_iter=100,\n",
       "                   multi_class='ovr', n_jobs=None, penalty='l2',\n",
       "                   random_state=None, solver='liblinear', tol=0.0001, verbose=0,\n",
       "                   warm_start=False)"
      ]
     },
     "execution_count": 26,
     "metadata": {},
     "output_type": "execute_result"
    },
    {
     "data": {
      "text/plain": [
       "0.7077167543946767"
      ]
     },
     "execution_count": 26,
     "metadata": {},
     "output_type": "execute_result"
    }
   ],
   "source": [
    "#fit logistic regression models\n",
    "model = LogisticRegression(C=2., penalty=\"l2\", solver=\"liblinear\", dual=False, multi_class=\"ovr\")\n",
    "model.fit(X_train,targ1_train)\n",
    "model.score(X_valid,targ1_valid)"
   ]
  },
  {
   "cell_type": "code",
   "execution_count": 27,
   "metadata": {
    "hidden": true
   },
   "outputs": [
    {
     "data": {
      "text/plain": [
       "LogisticRegression(C=2.0, class_weight=None, dual=False, fit_intercept=True,\n",
       "                   intercept_scaling=1, l1_ratio=None, max_iter=100,\n",
       "                   multi_class='ovr', n_jobs=None, penalty='l2',\n",
       "                   random_state=None, solver='liblinear', tol=0.0001, verbose=0,\n",
       "                   warm_start=False)"
      ]
     },
     "execution_count": 27,
     "metadata": {},
     "output_type": "execute_result"
    },
    {
     "data": {
      "text/plain": [
       "0.5977422451749594"
      ]
     },
     "execution_count": 27,
     "metadata": {},
     "output_type": "execute_result"
    }
   ],
   "source": [
    "#fit logistic regression models\n",
    "model = LogisticRegression(C=2., penalty=\"l2\", solver=\"liblinear\", dual=False, multi_class=\"ovr\")\n",
    "model.fit(X_train,targ2_train)\n",
    "model.score(X_valid,targ2_valid)"
   ]
  },
  {
   "cell_type": "markdown",
   "metadata": {
    "hidden": true
   },
   "source": [
    "### Training on training + validation data"
   ]
  },
  {
   "cell_type": "code",
   "execution_count": 29,
   "metadata": {
    "hidden": true
   },
   "outputs": [],
   "source": [
    "X_all = np.concatenate([X_train,X_valid],0)\n",
    "targ1_all = np.concatenate([targ1_train,targ1_valid],0)\n",
    "targ2_all = np.concatenate([targ2_train,targ2_valid],0)"
   ]
  },
  {
   "cell_type": "code",
   "execution_count": 30,
   "metadata": {
    "hidden": true
   },
   "outputs": [
    {
     "data": {
      "text/plain": [
       "LogisticRegression(C=2.0, class_weight=None, dual=False, fit_intercept=True,\n",
       "                   intercept_scaling=1, l1_ratio=None, max_iter=100,\n",
       "                   multi_class='ovr', n_jobs=None, penalty='l2',\n",
       "                   random_state=None, solver='liblinear', tol=0.0001, verbose=0,\n",
       "                   warm_start=False)"
      ]
     },
     "execution_count": 30,
     "metadata": {},
     "output_type": "execute_result"
    },
    {
     "data": {
      "text/plain": [
       "0.713344589002549"
      ]
     },
     "execution_count": 30,
     "metadata": {},
     "output_type": "execute_result"
    }
   ],
   "source": [
    "#fit logistic regression models\n",
    "model = LogisticRegression(C=2., penalty=\"l2\", solver=\"liblinear\", dual=False, multi_class=\"ovr\")\n",
    "model.fit(X_all,targ1_all)\n",
    "model.score(X_test,targ1_test)"
   ]
  },
  {
   "cell_type": "code",
   "execution_count": 33,
   "metadata": {
    "hidden": true
   },
   "outputs": [
    {
     "data": {
      "text/plain": [
       "LogisticRegression(C=2.0, class_weight=None, dual=False, fit_intercept=True,\n",
       "                   intercept_scaling=1, l1_ratio=None, max_iter=100,\n",
       "                   multi_class='ovr', n_jobs=None, penalty='l2',\n",
       "                   random_state=None, solver='liblinear', tol=0.0001, verbose=0,\n",
       "                   warm_start=False)"
      ]
     },
     "execution_count": 33,
     "metadata": {},
     "output_type": "execute_result"
    },
    {
     "data": {
      "text/plain": [
       "0.596153209520972"
      ]
     },
     "execution_count": 33,
     "metadata": {},
     "output_type": "execute_result"
    }
   ],
   "source": [
    "#fit logistic regression models\n",
    "model = LogisticRegression(C=2., penalty=\"l2\", solver=\"liblinear\", dual=False, multi_class=\"ovr\")\n",
    "model.fit(X_all,targ2_all)\n",
    "model.score(X_test,targ2_test)"
   ]
  },
  {
   "cell_type": "markdown",
   "metadata": {
    "heading_collapsed": true,
    "nbpresent": {
     "id": "15c43e31-4ab8-4bcd-b4cc-ff0a012aab62"
    }
   },
   "source": [
    "## ULMFit"
   ]
  },
  {
   "cell_type": "code",
   "execution_count": 9,
   "metadata": {
    "hidden": true,
    "nbpresent": {
     "id": "20fc262e-b944-443e-b255-9b1a5b01ec8b"
    }
   },
   "outputs": [],
   "source": [
    "os.makedirs('output', exist_ok=True)\n",
    "model_path = \"output/\""
   ]
  },
  {
   "cell_type": "code",
   "execution_count": 46,
   "metadata": {
    "hidden": true,
    "nbpresent": {
     "id": "cd236985-82db-4ef0-9657-9ca0e19c7c2f"
    }
   },
   "outputs": [
    {
     "data": {
      "text/html": [],
      "text/plain": [
       "<IPython.core.display.HTML object>"
      ]
     },
     "metadata": {},
     "output_type": "display_data"
    },
    {
     "data": {
      "text/html": [],
      "text/plain": [
       "<IPython.core.display.HTML object>"
      ]
     },
     "metadata": {},
     "output_type": "display_data"
    }
   ],
   "source": [
    "tt = Tokenizer(tok_func=ThaiTokenizer, lang=\"th\", pre_rules=pre_rules_th, post_rules=post_rules_th)\n",
    "processor = [TokenizeProcessor(tokenizer=tt, chunksize=10_000, mark_fields=False),\n",
    "            NumericalizeProcessor(vocab=None, max_vocab=30_000, min_freq=2)]\n",
    "\n",
    "data_lm = (TextList.from_df(all_df, model_path, cols=\"th_segment\", processor=processor)\n",
    "    .split_by_rand_pct(valid_pct = 0.01, seed = 1412)\n",
    "    .label_for_lm()\n",
    "    .databunch(bs=128))\n",
    "data_lm.sanity_check()"
   ]
  },
  {
   "cell_type": "code",
   "execution_count": 47,
   "metadata": {
    "hidden": true,
    "nbpresent": {
     "id": "64aa1897-c3ab-4580-b822-83bf91fa6e1f"
    }
   },
   "outputs": [],
   "source": [
    "data_lm.save('amazon_fake_review_lm.pkl')"
   ]
  },
  {
   "cell_type": "code",
   "execution_count": 48,
   "metadata": {
    "hidden": true,
    "nbpresent": {
     "id": "f173fb22-5d20-465b-ad34-9a68ba824d7d"
    },
    "scrolled": false
   },
   "outputs": [
    {
     "data": {
      "text/plain": [
       "LanguageLearner(data=TextLMDataBunch;\n",
       "\n",
       "Train: LabelList (269141 items)\n",
       "x: LMTextList\n",
       "xxbos   ดูเหมือนว่า การเขียน จะ โอ้อวด และ ตัวละคร ไม่ น่าสนใจ พอ ที่จะ ดึง ฉัน เข้ามา มี หลาย คน ที่ เป็น แบบแผน เช่น   &' nerd &'   หรือ   &' jerk &' และ พล็อต เรื่อง ต่าง   ๆ   ดูเหมือน จะ ถูก วางแผน เพื่อ ความ สะดวกสบาย ของ ฉัน เรื่องราว ลาก ไป ใน สถานที่ โดยเฉพาะอย่างยิ่ง ใน บางครั้ง อาจ เป็น เพราะ ฉัน เคยชิน กับ นวนิยาย อเมริกัน สมัยใหม่ ซึ่ง มีแนวโน้ม ที่จะ เคลื่อนไหว ได้ เร็ว ขึ้น โดย ไม่ต้อง สร้าง โลก ที่ ซับซ้อน ในทางกลับกัน ตัวละคร เหล่านี้ มี ความลึก ไม่ มาก เมื่อ เทียบ กับ ที่ ฉัน มักจะ พบ   /   พบ เจอ,xxbos   เรา ซื้อ สิ่ง เหล่านี้ ให้ กับ ลูกชาย วัย   3   ขวบ ของ เรา เพื่อ ติดตาม   kindle   fire   ใหม่ ของ เขา เพราะ เรา คิด ว่า เขา จะ กลัว ที่จะ ใช้ มัน   แต่ พวกเขา กลับ กลายเป็น ว่า ถูกต้อง ง่าย นิดเดียว,xxbos   หนัง เรื่อง นี้ สนุก และ ตลก มาก ฉัน ชอบ มัน ตั้ง แต่ต้นจนจบ ภาพยนตร์ คืน วันที่ ดี เหมาะสำหรับ ผู้ ที่ ไม่ ชอบ อารมณ์ขัน หรือ ความรุนแรง,xxbos   หนังสือ เล่ม นี้ มี เคล็ดลับ ที่ เป็นประโยชน์ มากมาย   แต่ ขาด บาง วิธี ที่จะ ทำให้ มีประโยชน์ และ ใช้งาน ได้ ง่าย ขึ้น ตัวอย่างเช่น ส่วน   &' การ เริ่มต้น อย่างรวดเร็ว &'   บอ กว่า คุณ ควร เริ่ม ด้วย การ ฝึก ครั้งแรก ที่ ระบุ ไว้ จากนั้น ย้อนกลับ ไป   ผ่าน การออกกำลังกาย   1   ต่อ หนึ่ง จากนั้น ทำ แบบฝึกหัด ทั้งหมด ใน คราว เดียว ซึ่ง ดูเหมือน จะ ไม่ ค่อย เป็นประโยชน์ เพราะ มัน แทบจะ เป็นไปไม่ได้ เลย ที่จะ ไม่ ติดตาม สิ่ง หนึ่ง ที่ เกิดขึ้น หลังจากนั้น,xxbos   ฉัน ชอบ ผู้แต่ง   แต่ หนังสือ เล่ม นี้ ไม่ได้ ขึ้นอยู่กับ หนังสือ ธรรมดา ของ เขา ที่ มัน ขาด ความลึก เกี่ยวกับ ตัวละคร ดูเหมือนว่า จะ รีบ แล้วก็ รีบ มาก ไม่มี การ เชื่อมต่อ ระหว่าง ตัวละคร ที่ ทำให้ ฉัน ต้องการ พวกเขา ด้วยกัน น่า ผิดหวัง มาก\n",
       "y: LMLabelList\n",
       ",,,,\n",
       "Path: output;\n",
       "\n",
       "Valid: LabelList (2718 items)\n",
       "x: LMTextList\n",
       "xxbos   ใน โลก ของ เรา ทุกวันนี้ ทุกสิ่ง เป็น สินค้า ชุด นี้ ผลิต ใน ราคา ถูก ด้วย คุณภาพต่ำ และ มีความรู้สึก ของ การ แก้ไข ร่วมกัน เพื่อ ตอบสนอง การ สิ้นสุด ใน การผลิต อายุ ห้า ขวบ ของ ฉัน ที่รัก จอร์จ อยากรู้อยากเห็น และ การแสดง ตลก ของ เขา รัก พวกเขา   แต่ การแสดง ตัวเอง ก็ ไม่ได้ สนใจ ฉัน หวัง ว่า จะ มี ใคร ซัก คน หา วิธี อื่น สำหรับ ซีรีส์ นี้ หรือ อื่น   ๆ   ที่ รายการ ทีวี สำหรับ เด็ก ที่จะ ทำ มากกว่า สิ่ง ที่ ดูเหมือนว่า พวกเขา มี ตอนนี้ แสดงให้เห็น อึ,xxbos   หวี นี้ ดูเหมือนว่า จะ ทำ ดีมาก,xxbos   มัน ยาก ที่จะ เข้าใจ ว่า ทำไม ผู้คน มากมาย ถึง ชอบ หรือ เคารพ หนังสือ เล่ม นี้,xxbos   ก่อนอื่น ฉัน ต้อง แสดงความคิดเห็น ของ คนอื่น ว่า คุณ ต้อง การคน สอง คนใน การ ชุมนุม เมื่อ ฉัน ได้ มัน มา ด้วยกัน   ( และ ในเวลานี้ ทุก ชิ้น หลุด เข้าไป ใน สถานที่ ตั้งแต่ ชิ้นส่วน ถูก เชื่อม อย่าง ไม่ ถูกต้อง และ ไม่ได้ เชื่อม ต่อกัน อีก )   มัน ไม่ แข็งแรง พอ   -   แมว ตัว หนึ่ง ของ ฉัน กระโดด ขึ้น มา เคาะ ขา หน้า   สนับสนุน รอยขีดข่วน ใน หนึ่ง แล้วก็ กระโดด ออก เมื่อ เขา ในที่สุด ก็ คิดออก ว่า มัน ง่าย แค่ ไหน,xxbos   จนถึง ตอนนี้ ดีมาก แบตเตอรี่ นี้ มาถึง เมื่อ คาดหวัง พอดี กับ แบตเตอรี่ ที่ มี อยู่ ของ ฉัน ชาร์จ ได้ดี\n",
       "y: LMLabelList\n",
       ",,,,\n",
       "Path: output;\n",
       "\n",
       "Test: None, model=SequentialRNN(\n",
       "  (0): AWD_LSTM(\n",
       "    (encoder): Embedding(27720, 400, padding_idx=1)\n",
       "    (encoder_dp): EmbeddingDropout(\n",
       "      (emb): Embedding(27720, 400, padding_idx=1)\n",
       "    )\n",
       "    (rnns): ModuleList(\n",
       "      (0): WeightDropout(\n",
       "        (module): LSTM(400, 1550, batch_first=True)\n",
       "      )\n",
       "      (1): WeightDropout(\n",
       "        (module): LSTM(1550, 1550, batch_first=True)\n",
       "      )\n",
       "      (2): WeightDropout(\n",
       "        (module): LSTM(1550, 1550, batch_first=True)\n",
       "      )\n",
       "      (3): WeightDropout(\n",
       "        (module): LSTM(1550, 400, batch_first=True)\n",
       "      )\n",
       "    )\n",
       "    (input_dp): RNNDropout()\n",
       "    (hidden_dps): ModuleList(\n",
       "      (0): RNNDropout()\n",
       "      (1): RNNDropout()\n",
       "      (2): RNNDropout()\n",
       "      (3): RNNDropout()\n",
       "    )\n",
       "  )\n",
       "  (1): LinearDecoder(\n",
       "    (decoder): Linear(in_features=400, out_features=27720, bias=True)\n",
       "    (output_dp): RNNDropout()\n",
       "  )\n",
       "), opt_func=functools.partial(<class 'torch.optim.adam.Adam'>, betas=(0.9, 0.99)), loss_func=FlattenedLoss of CrossEntropyLoss(), metrics=[<function accuracy at 0x7f509cb16050>], true_wd=True, bn_wd=True, wd=0.01, train_bn=True, path=PosixPath('output'), model_dir='models', callback_fns=[functools.partial(<class 'fastai.basic_train.Recorder'>, add_time=True, silent=False), functools.partial(<class 'fastai.train.GradientClipping'>, clip=0.12)], callbacks=[RNNTrainer\n",
       "learn: ...\n",
       "alpha: 2\n",
       "beta: 1], layer_groups=[Sequential(\n",
       "  (0): WeightDropout(\n",
       "    (module): LSTM(400, 1550, batch_first=True)\n",
       "  )\n",
       "  (1): RNNDropout()\n",
       "), Sequential(\n",
       "  (0): WeightDropout(\n",
       "    (module): LSTM(1550, 1550, batch_first=True)\n",
       "  )\n",
       "  (1): RNNDropout()\n",
       "), Sequential(\n",
       "  (0): WeightDropout(\n",
       "    (module): LSTM(1550, 1550, batch_first=True)\n",
       "  )\n",
       "  (1): RNNDropout()\n",
       "), Sequential(\n",
       "  (0): WeightDropout(\n",
       "    (module): LSTM(1550, 400, batch_first=True)\n",
       "  )\n",
       "  (1): RNNDropout()\n",
       "), Sequential(\n",
       "  (0): Embedding(27720, 400, padding_idx=1)\n",
       "  (1): EmbeddingDropout(\n",
       "    (emb): Embedding(27720, 400, padding_idx=1)\n",
       "  )\n",
       "  (2): LinearDecoder(\n",
       "    (decoder): Linear(in_features=400, out_features=27720, bias=True)\n",
       "    (output_dp): RNNDropout()\n",
       "  )\n",
       ")], add_time=True, silent=False)"
      ]
     },
     "execution_count": 48,
     "metadata": {},
     "output_type": "execute_result"
    }
   ],
   "source": [
    "config = dict(emb_sz=400, n_hid=1550, n_layers=4, pad_token=1, qrnn=False, tie_weights=True, out_bias=True,\n",
    "             output_p=0.25, hidden_p=0.1, input_p=0.2, embed_p=0.02, weight_p=0.15)\n",
    "trn_args = dict(drop_mult=1., clip=0.12, alpha=2, beta=1)\n",
    "\n",
    "learn = language_model_learner(data_lm, AWD_LSTM, config=config, pretrained=False, **trn_args)\n",
    "\n",
    "#load pretrained models\n",
    "learn.load_pretrained(**_THWIKI_LSTM)"
   ]
  },
  {
   "cell_type": "code",
   "execution_count": 49,
   "metadata": {
    "hidden": true,
    "nbpresent": {
     "id": "de529c3d-3264-4797-bfde-3cd8f4a579a2"
    }
   },
   "outputs": [
    {
     "name": "stdout",
     "output_type": "stream",
     "text": [
      "training frozen\n"
     ]
    },
    {
     "data": {
      "text/html": [
       "<table border=\"1\" class=\"dataframe\">\n",
       "  <thead>\n",
       "    <tr style=\"text-align: left;\">\n",
       "      <th>epoch</th>\n",
       "      <th>train_loss</th>\n",
       "      <th>valid_loss</th>\n",
       "      <th>accuracy</th>\n",
       "      <th>time</th>\n",
       "    </tr>\n",
       "  </thead>\n",
       "  <tbody>\n",
       "    <tr>\n",
       "      <td>0</td>\n",
       "      <td>4.079043</td>\n",
       "      <td>3.842914</td>\n",
       "      <td>0.288828</td>\n",
       "      <td>18:16</td>\n",
       "    </tr>\n",
       "  </tbody>\n",
       "</table>"
      ],
      "text/plain": [
       "<IPython.core.display.HTML object>"
      ]
     },
     "metadata": {},
     "output_type": "display_data"
    }
   ],
   "source": [
    "print(\"training frozen\")\n",
    "learn.freeze_to(-1)\n",
    "learn.fit_one_cycle(1, 1e-2, moms=(0.8, 0.7))"
   ]
  },
  {
   "cell_type": "code",
   "execution_count": 50,
   "metadata": {
    "hidden": true,
    "nbpresent": {
     "id": "4d1ac58c-13f3-4969-8a33-501f37c39f34"
    }
   },
   "outputs": [
    {
     "name": "stdout",
     "output_type": "stream",
     "text": [
      "training unfrozen\n"
     ]
    },
    {
     "data": {
      "text/html": [
       "<table border=\"1\" class=\"dataframe\">\n",
       "  <thead>\n",
       "    <tr style=\"text-align: left;\">\n",
       "      <th>epoch</th>\n",
       "      <th>train_loss</th>\n",
       "      <th>valid_loss</th>\n",
       "      <th>accuracy</th>\n",
       "      <th>time</th>\n",
       "    </tr>\n",
       "  </thead>\n",
       "  <tbody>\n",
       "    <tr>\n",
       "      <td>0</td>\n",
       "      <td>3.747461</td>\n",
       "      <td>3.570154</td>\n",
       "      <td>0.323326</td>\n",
       "      <td>18:31</td>\n",
       "    </tr>\n",
       "    <tr>\n",
       "      <td>1</td>\n",
       "      <td>3.581792</td>\n",
       "      <td>3.424643</td>\n",
       "      <td>0.340161</td>\n",
       "      <td>18:29</td>\n",
       "    </tr>\n",
       "    <tr>\n",
       "      <td>2</td>\n",
       "      <td>3.498412</td>\n",
       "      <td>3.353867</td>\n",
       "      <td>0.348631</td>\n",
       "      <td>18:29</td>\n",
       "    </tr>\n",
       "    <tr>\n",
       "      <td>3</td>\n",
       "      <td>3.437457</td>\n",
       "      <td>3.317187</td>\n",
       "      <td>0.352902</td>\n",
       "      <td>18:31</td>\n",
       "    </tr>\n",
       "    <tr>\n",
       "      <td>4</td>\n",
       "      <td>3.409792</td>\n",
       "      <td>3.308141</td>\n",
       "      <td>0.354065</td>\n",
       "      <td>18:31</td>\n",
       "    </tr>\n",
       "  </tbody>\n",
       "</table>"
      ],
      "text/plain": [
       "<IPython.core.display.HTML object>"
      ]
     },
     "metadata": {},
     "output_type": "display_data"
    }
   ],
   "source": [
    "#train unfrozen\n",
    "print(\"training unfrozen\")\n",
    "learn.unfreeze()\n",
    "learn.fit_one_cycle(5, 1e-3, moms=(0.8, 0.7))"
   ]
  },
  {
   "cell_type": "code",
   "execution_count": 51,
   "metadata": {
    "hidden": true,
    "nbpresent": {
     "id": "4b7ef24b-1025-4ca0-a66c-de885e9c4467"
    }
   },
   "outputs": [],
   "source": [
    "learn.save_encoder(\"amazon_thai_review_enc\")"
   ]
  },
  {
   "cell_type": "markdown",
   "metadata": {
    "hidden": true,
    "nbpresent": {
     "id": "3dc922ee-af85-4d26-8a53-bc6490ff5985"
    }
   },
   "source": [
    "### Train classifier"
   ]
  },
  {
   "cell_type": "markdown",
   "metadata": {
    "hidden": true
   },
   "source": [
    "#### Task 1"
   ]
  },
  {
   "cell_type": "code",
   "execution_count": null,
   "metadata": {
    "hidden": true
   },
   "outputs": [],
   "source": [
    "# convert target to int for fastai to understand training task as classification\n",
    "all_df['correct'] = all_df['correct'].astype(int)\n",
    "\n",
    "#lm data\n",
    "data_lm = load_data(model_path, 'amazon_fake_review_lm.pkl')\n",
    "data_lm.sanity_check()\n",
    "\n",
    "#classification data\n",
    "tt = Tokenizer(tok_func=ThaiTokenizer, lang=\"th\", pre_rules=pre_rules_th, post_rules=post_rules_th)\n",
    "processor = [TokenizeProcessor(tokenizer=tt, chunksize=10000, mark_fields=False),\n",
    "            NumericalizeProcessor(vocab=data_lm.vocab, max_vocab=30_000, min_freq=2)]\n",
    "\n",
    "data_cls = (ItemLists(model_path,train=TextList.from_df(all_df, model_path, cols=[\"th_segment\"], processor=processor),\n",
    "                     valid=TextList.from_df(valid_df, model_path, cols=[\"th_segment\"], processor=processor))\n",
    "    .label_from_df(\"correct\")\n",
    "    .databunch(bs=256)\n",
    "    )\n",
    "data_cls.sanity_check()\n",
    "print(len(data_cls.vocab.itos))"
   ]
  },
  {
   "cell_type": "code",
   "execution_count": 11,
   "metadata": {
    "hidden": true,
    "nbpresent": {
     "id": "4838c0e9-96f9-415a-a6bb-d1cfb90cde7c"
    },
    "scrolled": false
   },
   "outputs": [
    {
     "data": {
      "text/plain": [
       "RNNLearner(data=TextClasDataBunch;\n",
       "\n",
       "Train: LabelList (271859 items)\n",
       "x: TextList\n",
       "xxbos   ดูเหมือนว่า การเขียน จะ โอ้อวด และ ตัวละคร ไม่ น่าสนใจ พอ ที่จะ ดึง ฉัน เข้ามา มี หลาย คน ที่ เป็น แบบแผน เช่น   &' nerd &'   หรือ   &' jerk &' และ พล็อต เรื่อง ต่าง   ๆ   ดูเหมือน จะ ถูก วางแผน เพื่อ ความ สะดวกสบาย ของ ฉัน เรื่องราว ลาก ไป ใน สถานที่ โดยเฉพาะอย่างยิ่ง ใน บางครั้ง อาจ เป็น เพราะ ฉัน เคยชิน กับ นวนิยาย อเมริกัน สมัยใหม่ ซึ่ง มีแนวโน้ม ที่จะ เคลื่อนไหว ได้ เร็ว ขึ้น โดย ไม่ต้อง สร้าง โลก ที่ ซับซ้อน ในทางกลับกัน ตัวละคร เหล่านี้ มี ความลึก ไม่ มาก เมื่อ เทียบ กับ ที่ ฉัน มักจะ พบ   /   พบ เจอ,xxbos   เรา ซื้อ สิ่ง เหล่านี้ ให้ กับ ลูกชาย วัย   3   ขวบ ของ เรา เพื่อ ติดตาม   kindle   fire   ใหม่ ของ เขา เพราะ เรา คิด ว่า เขา จะ กลัว ที่จะ ใช้ มัน   แต่ พวกเขา กลับ กลายเป็น ว่า ถูกต้อง ง่าย นิดเดียว,xxbos   หนัง เรื่อง นี้ สนุก และ ตลก มาก ฉัน ชอบ มัน ตั้ง แต่ต้นจนจบ ภาพยนตร์ คืน วันที่ ดี เหมาะสำหรับ ผู้ ที่ ไม่ ชอบ อารมณ์ขัน หรือ ความรุนแรง,xxbos   หนังสือ เล่ม นี้ มี เคล็ดลับ ที่ เป็นประโยชน์ มากมาย   แต่ ขาด บาง วิธี ที่จะ ทำให้ มีประโยชน์ และ ใช้งาน ได้ ง่าย ขึ้น ตัวอย่างเช่น ส่วน   &' การ เริ่มต้น อย่างรวดเร็ว &'   บอ กว่า คุณ ควร เริ่ม ด้วย การ ฝึก ครั้งแรก ที่ ระบุ ไว้ จากนั้น ย้อนกลับ ไป   ผ่าน การออกกำลังกาย   1   ต่อ หนึ่ง จากนั้น ทำ แบบฝึกหัด ทั้งหมด ใน คราว เดียว ซึ่ง ดูเหมือน จะ ไม่ ค่อย เป็นประโยชน์ เพราะ มัน แทบจะ เป็นไปไม่ได้ เลย ที่จะ ไม่ ติดตาม สิ่ง หนึ่ง ที่ เกิดขึ้น หลังจากนั้น,xxbos   ฉัน ชอบ ผู้แต่ง   แต่ หนังสือ เล่ม นี้ ไม่ได้ ขึ้นอยู่กับ หนังสือ ธรรมดา ของ เขา ที่ มัน ขาด ความลึก เกี่ยวกับ ตัวละคร ดูเหมือนว่า จะ รีบ แล้วก็ รีบ มาก ไม่มี การ เชื่อมต่อ ระหว่าง ตัวละคร ที่ ทำให้ ฉัน ต้องการ พวกเขา ด้วยกัน น่า ผิดหวัง มาก\n",
       "y: CategoryList\n",
       "0,0,0,0,0\n",
       "Path: output;\n",
       "\n",
       "Valid: LabelList (30207 items)\n",
       "x: TextList\n",
       "xxbos   คุณ ซื้อ สิ่ง เหล่านี้ ใน ราคา ถูก เมื่อ คิด ว่า คุณ ได้รับ ทั้ง กรณี   แต่ จริงๆ แล้ว ครึ่งหนึ่ง ของ ราคา นั้น มัน ไม่ คุ้มค่า ที่จะ อารมณ์เสีย และ พวกเขา เข้ากัน กับ เครื่อง ปั่น ของ ฉัน   แต่ ฉัน ต้องการ เตือน ผู้อื่น ก่อนที่จะ เสียเงิน กับ สิ่ง นี้ พวกเขา ทำ สมูทตี้ ยอดเยี่ยม ด้วย ผลไม้ แช่แข็ง !   :),xxbos   ไม่แน่ใจ ว่า ใช้งาน ได้ จริง หรือไม่ ฉัน แค่ ให้ อันนี้ ให้ เพื่อน ของ ฉัน ดูเหมือนว่า ผลลัพธ์ ของ เขา จะ ดี ไม่มี การร้องเรียน จาก เขา แต่ ผลิตภัณฑ์ มี ราคาแพง มาก และ ไม่ ค่อย ดี นัก เขา บอ กว่า เขา ได้ รับประโยชน์ มากขึ้น ใน รา คาที่ ถูก กว่า,xxbos   ซื้อ จาก ผู้ขาย และ ได้รับ ใน   3   วัน กับ   prime,xxbos   ผลิตภัณฑ์ นี้ มี คุณภาพ ไม่ ดีฉัน เพิ่ง มี เวลา สอง สาม เดือน และ อีก ด้าน หนึ่ง เพิ่ง หลุด เมื่อ สามี ของ ฉัน พยายาม หาเงิน ออกจาก ทะเบียน ฝีมือ แย่ หรือ กาว ไม่ดี ? ฉัน จะ ไม่มีทาง รู้ เพราะ เรา ไม่ได้ เก็บ กระดาษ ไว้ ใน นั้น มัน เป็นปัญหา มากเกินไป สำหรับ ฉัน เนื่องจาก มี เด็ก   2   คน ที่ ไปเที่ยว กับ มัน ทุก สุดสัปดาห์ ราคา ควร มากกว่า นี้ อย่า วาง ของ หนัก   ๆ   เหมือน เงินสด เลย,xxbos   ฉัน เพิ่ง ได้รับ กรณี นี้ เป็น สีชมพู สำหรับ   ipad   2   ของ ฉัน และ จนถึง ตอนนี้ ลูกค้า มีความสุข มาก สี เป็นจริง กับ ภาพ มัน พอดี เช่นกัน สิ่ง เดียว ที่ ฉัน ร้องเรียน เกี่ยวกับ มัน   ( ไม่ มาก )   ก็ คือ มัน มี ฝุ่น อยู่ สอง สาม ชิ้น การ เช็ด อย่างรวดเร็ว ด้วย แอลกอฮอล์ ถู คงที่   แต่ ถ้า คุณ กำลัง มองหา บางสิ่ง ที่ สมบูรณ์แบบ สำหรับ ลุค ให้ ใช้ เงิน เพิ่มขึ้น อีก   $   หรือ รับ   smart   cover\n",
       "y: CategoryList\n",
       "0,0,1,0,0\n",
       "Path: output;\n",
       "\n",
       "Test: None, model=SequentialRNN(\n",
       "  (0): MultiBatchEncoder(\n",
       "    (module): AWD_LSTM(\n",
       "      (encoder): Embedding(27720, 400, padding_idx=1)\n",
       "      (encoder_dp): EmbeddingDropout(\n",
       "        (emb): Embedding(27720, 400, padding_idx=1)\n",
       "      )\n",
       "      (rnns): ModuleList(\n",
       "        (0): WeightDropout(\n",
       "          (module): LSTM(400, 1550, batch_first=True)\n",
       "        )\n",
       "        (1): WeightDropout(\n",
       "          (module): LSTM(1550, 1550, batch_first=True)\n",
       "        )\n",
       "        (2): WeightDropout(\n",
       "          (module): LSTM(1550, 1550, batch_first=True)\n",
       "        )\n",
       "        (3): WeightDropout(\n",
       "          (module): LSTM(1550, 400, batch_first=True)\n",
       "        )\n",
       "      )\n",
       "      (input_dp): RNNDropout()\n",
       "      (hidden_dps): ModuleList(\n",
       "        (0): RNNDropout()\n",
       "        (1): RNNDropout()\n",
       "        (2): RNNDropout()\n",
       "        (3): RNNDropout()\n",
       "      )\n",
       "    )\n",
       "  )\n",
       "  (1): PoolingLinearClassifier(\n",
       "    (layers): Sequential(\n",
       "      (0): BatchNorm1d(1200, eps=1e-05, momentum=0.1, affine=True, track_running_stats=True)\n",
       "      (1): Dropout(p=0.27999999999999997, inplace=False)\n",
       "      (2): Linear(in_features=1200, out_features=50, bias=True)\n",
       "      (3): ReLU(inplace=True)\n",
       "      (4): BatchNorm1d(50, eps=1e-05, momentum=0.1, affine=True, track_running_stats=True)\n",
       "      (5): Dropout(p=0.1, inplace=False)\n",
       "      (6): Linear(in_features=50, out_features=2, bias=True)\n",
       "    )\n",
       "  )\n",
       "), opt_func=functools.partial(<class 'torch.optim.adam.Adam'>, betas=(0.9, 0.99)), loss_func=FlattenedLoss of CrossEntropyLoss(), metrics=[<function accuracy at 0x7f18a84ab3b0>], true_wd=True, bn_wd=True, wd=0.01, train_bn=True, path=PosixPath('output'), model_dir='models', callback_fns=[functools.partial(<class 'fastai.basic_train.Recorder'>, add_time=True, silent=False)], callbacks=[RNNTrainer\n",
       "learn: ...\n",
       "alpha: 2\n",
       "beta: 1], layer_groups=[Sequential(\n",
       "  (0): Embedding(27720, 400, padding_idx=1)\n",
       "  (1): EmbeddingDropout(\n",
       "    (emb): Embedding(27720, 400, padding_idx=1)\n",
       "  )\n",
       "), Sequential(\n",
       "  (0): WeightDropout(\n",
       "    (module): LSTM(400, 1550, batch_first=True)\n",
       "  )\n",
       "  (1): RNNDropout()\n",
       "), Sequential(\n",
       "  (0): WeightDropout(\n",
       "    (module): LSTM(1550, 1550, batch_first=True)\n",
       "  )\n",
       "  (1): RNNDropout()\n",
       "), Sequential(\n",
       "  (0): WeightDropout(\n",
       "    (module): LSTM(1550, 1550, batch_first=True)\n",
       "  )\n",
       "  (1): RNNDropout()\n",
       "), Sequential(\n",
       "  (0): WeightDropout(\n",
       "    (module): LSTM(1550, 400, batch_first=True)\n",
       "  )\n",
       "  (1): RNNDropout()\n",
       "), Sequential(\n",
       "  (0): PoolingLinearClassifier(\n",
       "    (layers): Sequential(\n",
       "      (0): BatchNorm1d(1200, eps=1e-05, momentum=0.1, affine=True, track_running_stats=True)\n",
       "      (1): Dropout(p=0.27999999999999997, inplace=False)\n",
       "      (2): Linear(in_features=1200, out_features=50, bias=True)\n",
       "      (3): ReLU(inplace=True)\n",
       "      (4): BatchNorm1d(50, eps=1e-05, momentum=0.1, affine=True, track_running_stats=True)\n",
       "      (5): Dropout(p=0.1, inplace=False)\n",
       "      (6): Linear(in_features=50, out_features=2, bias=True)\n",
       "    )\n",
       "  )\n",
       ")], add_time=True, silent=False)"
      ]
     },
     "execution_count": 11,
     "metadata": {},
     "output_type": "execute_result"
    }
   ],
   "source": [
    "#model\n",
    "config = dict(emb_sz=400, n_hid=1550, n_layers=4, pad_token=1, qrnn=False,\n",
    "             output_p=0.4, hidden_p=0.2, input_p=0.6, embed_p=0.1, weight_p=0.5)\n",
    "trn_args = dict(bptt=70, drop_mult=0.7, alpha=2, beta=1, max_len=500)\n",
    "\n",
    "learn = text_classifier_learner(data_cls, AWD_LSTM, config=config, pretrained=False, **trn_args)\n",
    "#load pretrained finetuned model\n",
    "learn.load_encoder(\"amazon_thai_review_enc\")"
   ]
  },
  {
   "cell_type": "code",
   "execution_count": 12,
   "metadata": {
    "hidden": true
   },
   "outputs": [
    {
     "data": {
      "text/html": [
       "<table border=\"1\" class=\"dataframe\">\n",
       "  <thead>\n",
       "    <tr style=\"text-align: left;\">\n",
       "      <th>epoch</th>\n",
       "      <th>train_loss</th>\n",
       "      <th>valid_loss</th>\n",
       "      <th>accuracy</th>\n",
       "      <th>time</th>\n",
       "    </tr>\n",
       "  </thead>\n",
       "  <tbody>\n",
       "    <tr>\n",
       "      <td>0</td>\n",
       "      <td>0.615187</td>\n",
       "      <td>0.585522</td>\n",
       "      <td>0.701592</td>\n",
       "      <td>16:49</td>\n",
       "    </tr>\n",
       "  </tbody>\n",
       "</table>"
      ],
      "text/plain": [
       "<IPython.core.display.HTML object>"
      ]
     },
     "metadata": {},
     "output_type": "display_data"
    },
    {
     "data": {
      "text/html": [
       "<table border=\"1\" class=\"dataframe\">\n",
       "  <thead>\n",
       "    <tr style=\"text-align: left;\">\n",
       "      <th>epoch</th>\n",
       "      <th>train_loss</th>\n",
       "      <th>valid_loss</th>\n",
       "      <th>accuracy</th>\n",
       "      <th>time</th>\n",
       "    </tr>\n",
       "  </thead>\n",
       "  <tbody>\n",
       "    <tr>\n",
       "      <td>0</td>\n",
       "      <td>0.604787</td>\n",
       "      <td>0.585467</td>\n",
       "      <td>0.701725</td>\n",
       "      <td>16:55</td>\n",
       "    </tr>\n",
       "  </tbody>\n",
       "</table>"
      ],
      "text/plain": [
       "<IPython.core.display.HTML object>"
      ]
     },
     "metadata": {},
     "output_type": "display_data"
    },
    {
     "data": {
      "text/html": [
       "<table border=\"1\" class=\"dataframe\">\n",
       "  <thead>\n",
       "    <tr style=\"text-align: left;\">\n",
       "      <th>epoch</th>\n",
       "      <th>train_loss</th>\n",
       "      <th>valid_loss</th>\n",
       "      <th>accuracy</th>\n",
       "      <th>time</th>\n",
       "    </tr>\n",
       "  </thead>\n",
       "  <tbody>\n",
       "    <tr>\n",
       "      <td>0</td>\n",
       "      <td>0.588029</td>\n",
       "      <td>0.587631</td>\n",
       "      <td>0.707121</td>\n",
       "      <td>15:11</td>\n",
       "    </tr>\n",
       "  </tbody>\n",
       "</table>"
      ],
      "text/plain": [
       "<IPython.core.display.HTML object>"
      ]
     },
     "metadata": {},
     "output_type": "display_data"
    },
    {
     "data": {
      "text/html": [
       "<table border=\"1\" class=\"dataframe\">\n",
       "  <thead>\n",
       "    <tr style=\"text-align: left;\">\n",
       "      <th>epoch</th>\n",
       "      <th>train_loss</th>\n",
       "      <th>valid_loss</th>\n",
       "      <th>accuracy</th>\n",
       "      <th>time</th>\n",
       "    </tr>\n",
       "  </thead>\n",
       "  <tbody>\n",
       "    <tr>\n",
       "      <td>0</td>\n",
       "      <td>0.612046</td>\n",
       "      <td>0.585743</td>\n",
       "      <td>0.700235</td>\n",
       "      <td>17:02</td>\n",
       "    </tr>\n",
       "    <tr>\n",
       "      <td>1</td>\n",
       "      <td>0.607746</td>\n",
       "      <td>0.585793</td>\n",
       "      <td>0.701957</td>\n",
       "      <td>15:51</td>\n",
       "    </tr>\n",
       "    <tr>\n",
       "      <td>2</td>\n",
       "      <td>0.603214</td>\n",
       "      <td>0.586834</td>\n",
       "      <td>0.706823</td>\n",
       "      <td>14:43</td>\n",
       "    </tr>\n",
       "  </tbody>\n",
       "</table>"
      ],
      "text/plain": [
       "<IPython.core.display.HTML object>"
      ]
     },
     "metadata": {},
     "output_type": "display_data"
    },
    {
     "name": "stdout",
     "output_type": "stream",
     "text": [
      "Better model found at epoch 0 with accuracy value: 0.7002350687980652.\n",
      "Better model found at epoch 1 with accuracy value: 0.7019565105438232.\n",
      "Better model found at epoch 2 with accuracy value: 0.70682293176651.\n"
     ]
    }
   ],
   "source": [
    "learn.freeze_to(-1)\n",
    "learn.fit_one_cycle(1, 2e-2)\n",
    "\n",
    "learn.freeze_to(-2)\n",
    "learn.fit_one_cycle(1, slice(2e-6 / (2.6 ** 4), 2e-6))\n",
    "\n",
    "learn.freeze_to(-3)\n",
    "learn.fit_one_cycle(1, slice(1e-6 / (2.6 ** 4), 1e-6))\n",
    "\n",
    "learn.unfreeze()\n",
    "learn.fit_one_cycle(3, slice(5e-7 / (2.6 ** 4), 5e-7),\n",
    "                   callbacks=[SaveModelCallback(learn, every='improvement', monitor='accuracy', name='bestmodel')])"
   ]
  },
  {
   "cell_type": "code",
   "execution_count": 13,
   "metadata": {
    "hidden": true
   },
   "outputs": [],
   "source": [
    "learn.save_encoder(\"amazon_thai_review_enc-clf1\")"
   ]
  },
  {
   "cell_type": "code",
   "execution_count": 16,
   "metadata": {
    "hidden": true
   },
   "outputs": [],
   "source": [
    "learn.export(file='export_clas1.pkl')\n",
    "test_df['correct'] = test_df['correct'].astype(int)\n",
    "learn_ = load_learner(model_path,file='export_clas1.pkl',test=TextList.from_df(test_df, model_path, cols=[\"th_segment\"], processor=processor))\n",
    "preds, _ = learn_.get_preds(ds_type=DatasetType.Test)"
   ]
  },
  {
   "cell_type": "code",
   "execution_count": 49,
   "metadata": {
    "hidden": true
   },
   "outputs": [
    {
     "data": {
      "text/plain": [
       "0.7095375244148707"
      ]
     },
     "execution_count": 49,
     "metadata": {},
     "output_type": "execute_result"
    }
   ],
   "source": [
    "(preds.argmax(1).numpy() == test_df['correct'].values).mean()"
   ]
  },
  {
   "cell_type": "markdown",
   "metadata": {
    "hidden": true
   },
   "source": [
    "#### Task 2"
   ]
  },
  {
   "cell_type": "code",
   "execution_count": 52,
   "metadata": {
    "hidden": true
   },
   "outputs": [
    {
     "data": {
      "text/html": [],
      "text/plain": [
       "<IPython.core.display.HTML object>"
      ]
     },
     "metadata": {},
     "output_type": "display_data"
    },
    {
     "data": {
      "text/html": [],
      "text/plain": [
       "<IPython.core.display.HTML object>"
      ]
     },
     "metadata": {},
     "output_type": "display_data"
    },
    {
     "name": "stdout",
     "output_type": "stream",
     "text": [
      "27720\n"
     ]
    }
   ],
   "source": [
    "# convert target to int for fastai to understand training task as classification\n",
    "all_df['review_star'] = all_df['review_star'].astype(int)\n",
    "\n",
    "#lm data\n",
    "data_lm = load_data(model_path, \"amazon_fake_review_lm.pkl\")\n",
    "data_lm.sanity_check()\n",
    "\n",
    "#classification data\n",
    "tt = Tokenizer(tok_func=ThaiTokenizer, lang=\"th\", pre_rules=pre_rules_th, post_rules=post_rules_th)\n",
    "processor = [TokenizeProcessor(tokenizer=tt, chunksize=10000, mark_fields=False),\n",
    "            NumericalizeProcessor(vocab=data_lm.vocab, max_vocab=30_000, min_freq=2)]\n",
    "\n",
    "#classification data\n",
    "data_cls = (ItemLists(model_path,train=TextList.from_df(all_df, model_path, cols=[\"th_segment\"], processor=processor),\n",
    "                     valid=TextList.from_df(valid_df, model_path, cols=[\"th_segment\"], processor=processor))\n",
    "    .label_from_df(\"review_star\")\n",
    "    .databunch(bs=256)\n",
    "    )\n",
    "data_cls.sanity_check()\n",
    "print(len(data_cls.vocab.itos))"
   ]
  },
  {
   "cell_type": "code",
   "execution_count": 53,
   "metadata": {
    "hidden": true,
    "scrolled": false
   },
   "outputs": [
    {
     "data": {
      "text/plain": [
       "RNNLearner(data=TextClasDataBunch;\n",
       "\n",
       "Train: LabelList (271859 items)\n",
       "x: TextList\n",
       "xxbos   ดูเหมือนว่า การเขียน จะ โอ้อวด และ ตัวละคร ไม่ น่าสนใจ พอ ที่จะ ดึง ฉัน เข้ามา มี หลาย คน ที่ เป็น แบบแผน เช่น   &' nerd &'   หรือ   &' jerk &' และ พล็อต เรื่อง ต่าง   ๆ   ดูเหมือน จะ ถูก วางแผน เพื่อ ความ สะดวกสบาย ของ ฉัน เรื่องราว ลาก ไป ใน สถานที่ โดยเฉพาะอย่างยิ่ง ใน บางครั้ง อาจ เป็น เพราะ ฉัน เคยชิน กับ นวนิยาย อเมริกัน สมัยใหม่ ซึ่ง มีแนวโน้ม ที่จะ เคลื่อนไหว ได้ เร็ว ขึ้น โดย ไม่ต้อง สร้าง โลก ที่ ซับซ้อน ในทางกลับกัน ตัวละคร เหล่านี้ มี ความลึก ไม่ มาก เมื่อ เทียบ กับ ที่ ฉัน มักจะ พบ   /   พบ เจอ,xxbos   เรา ซื้อ สิ่ง เหล่านี้ ให้ กับ ลูกชาย วัย   3   ขวบ ของ เรา เพื่อ ติดตาม   kindle   fire   ใหม่ ของ เขา เพราะ เรา คิด ว่า เขา จะ กลัว ที่จะ ใช้ มัน   แต่ พวกเขา กลับ กลายเป็น ว่า ถูกต้อง ง่าย นิดเดียว,xxbos   หนัง เรื่อง นี้ สนุก และ ตลก มาก ฉัน ชอบ มัน ตั้ง แต่ต้นจนจบ ภาพยนตร์ คืน วันที่ ดี เหมาะสำหรับ ผู้ ที่ ไม่ ชอบ อารมณ์ขัน หรือ ความรุนแรง,xxbos   หนังสือ เล่ม นี้ มี เคล็ดลับ ที่ เป็นประโยชน์ มากมาย   แต่ ขาด บาง วิธี ที่จะ ทำให้ มีประโยชน์ และ ใช้งาน ได้ ง่าย ขึ้น ตัวอย่างเช่น ส่วน   &' การ เริ่มต้น อย่างรวดเร็ว &'   บอ กว่า คุณ ควร เริ่ม ด้วย การ ฝึก ครั้งแรก ที่ ระบุ ไว้ จากนั้น ย้อนกลับ ไป   ผ่าน การออกกำลังกาย   1   ต่อ หนึ่ง จากนั้น ทำ แบบฝึกหัด ทั้งหมด ใน คราว เดียว ซึ่ง ดูเหมือน จะ ไม่ ค่อย เป็นประโยชน์ เพราะ มัน แทบจะ เป็นไปไม่ได้ เลย ที่จะ ไม่ ติดตาม สิ่ง หนึ่ง ที่ เกิดขึ้น หลังจากนั้น,xxbos   ฉัน ชอบ ผู้แต่ง   แต่ หนังสือ เล่ม นี้ ไม่ได้ ขึ้นอยู่กับ หนังสือ ธรรมดา ของ เขา ที่ มัน ขาด ความลึก เกี่ยวกับ ตัวละคร ดูเหมือนว่า จะ รีบ แล้วก็ รีบ มาก ไม่มี การ เชื่อมต่อ ระหว่าง ตัวละคร ที่ ทำให้ ฉัน ต้องการ พวกเขา ด้วยกัน น่า ผิดหวัง มาก\n",
       "y: CategoryList\n",
       "2,4,4,2,1\n",
       "Path: output;\n",
       "\n",
       "Valid: LabelList (30207 items)\n",
       "x: TextList\n",
       "xxbos   คุณ ซื้อ สิ่ง เหล่านี้ ใน ราคา ถูก เมื่อ คิด ว่า คุณ ได้รับ ทั้ง กรณี   แต่ จริงๆ แล้ว ครึ่งหนึ่ง ของ ราคา นั้น มัน ไม่ คุ้มค่า ที่จะ อารมณ์เสีย และ พวกเขา เข้ากัน กับ เครื่อง ปั่น ของ ฉัน   แต่ ฉัน ต้องการ เตือน ผู้อื่น ก่อนที่จะ เสียเงิน กับ สิ่ง นี้ พวกเขา ทำ สมูทตี้ ยอดเยี่ยม ด้วย ผลไม้ แช่แข็ง !   :),xxbos   ไม่แน่ใจ ว่า ใช้งาน ได้ จริง หรือไม่ ฉัน แค่ ให้ อันนี้ ให้ เพื่อน ของ ฉัน ดูเหมือนว่า ผลลัพธ์ ของ เขา จะ ดี ไม่มี การร้องเรียน จาก เขา แต่ ผลิตภัณฑ์ มี ราคาแพง มาก และ ไม่ ค่อย ดี นัก เขา บอ กว่า เขา ได้ รับประโยชน์ มากขึ้น ใน รา คาที่ ถูก กว่า,xxbos   ซื้อ จาก ผู้ขาย และ ได้รับ ใน   3   วัน กับ   prime,xxbos   ผลิตภัณฑ์ นี้ มี คุณภาพ ไม่ ดีฉัน เพิ่ง มี เวลา สอง สาม เดือน และ อีก ด้าน หนึ่ง เพิ่ง หลุด เมื่อ สามี ของ ฉัน พยายาม หาเงิน ออกจาก ทะเบียน ฝีมือ แย่ หรือ กาว ไม่ดี ? ฉัน จะ ไม่มีทาง รู้ เพราะ เรา ไม่ได้ เก็บ กระดาษ ไว้ ใน นั้น มัน เป็นปัญหา มากเกินไป สำหรับ ฉัน เนื่องจาก มี เด็ก   2   คน ที่ ไปเที่ยว กับ มัน ทุก สุดสัปดาห์ ราคา ควร มากกว่า นี้ อย่า วาง ของ หนัก   ๆ   เหมือน เงินสด เลย,xxbos   ฉัน เพิ่ง ได้รับ กรณี นี้ เป็น สีชมพู สำหรับ   ipad   2   ของ ฉัน และ จนถึง ตอนนี้ ลูกค้า มีความสุข มาก สี เป็นจริง กับ ภาพ มัน พอดี เช่นกัน สิ่ง เดียว ที่ ฉัน ร้องเรียน เกี่ยวกับ มัน   ( ไม่ มาก )   ก็ คือ มัน มี ฝุ่น อยู่ สอง สาม ชิ้น การ เช็ด อย่างรวดเร็ว ด้วย แอลกอฮอล์ ถู คงที่   แต่ ถ้า คุณ กำลัง มองหา บางสิ่ง ที่ สมบูรณ์แบบ สำหรับ ลุค ให้ ใช้ เงิน เพิ่มขึ้น อีก   $   หรือ รับ   smart   cover\n",
       "y: CategoryList\n",
       "3,4,3,1,4\n",
       "Path: output;\n",
       "\n",
       "Test: None, model=SequentialRNN(\n",
       "  (0): MultiBatchEncoder(\n",
       "    (module): AWD_LSTM(\n",
       "      (encoder): Embedding(27720, 400, padding_idx=1)\n",
       "      (encoder_dp): EmbeddingDropout(\n",
       "        (emb): Embedding(27720, 400, padding_idx=1)\n",
       "      )\n",
       "      (rnns): ModuleList(\n",
       "        (0): WeightDropout(\n",
       "          (module): LSTM(400, 1550, batch_first=True)\n",
       "        )\n",
       "        (1): WeightDropout(\n",
       "          (module): LSTM(1550, 1550, batch_first=True)\n",
       "        )\n",
       "        (2): WeightDropout(\n",
       "          (module): LSTM(1550, 1550, batch_first=True)\n",
       "        )\n",
       "        (3): WeightDropout(\n",
       "          (module): LSTM(1550, 400, batch_first=True)\n",
       "        )\n",
       "      )\n",
       "      (input_dp): RNNDropout()\n",
       "      (hidden_dps): ModuleList(\n",
       "        (0): RNNDropout()\n",
       "        (1): RNNDropout()\n",
       "        (2): RNNDropout()\n",
       "        (3): RNNDropout()\n",
       "      )\n",
       "    )\n",
       "  )\n",
       "  (1): PoolingLinearClassifier(\n",
       "    (layers): Sequential(\n",
       "      (0): BatchNorm1d(1200, eps=1e-05, momentum=0.1, affine=True, track_running_stats=True)\n",
       "      (1): Dropout(p=0.27999999999999997, inplace=False)\n",
       "      (2): Linear(in_features=1200, out_features=50, bias=True)\n",
       "      (3): ReLU(inplace=True)\n",
       "      (4): BatchNorm1d(50, eps=1e-05, momentum=0.1, affine=True, track_running_stats=True)\n",
       "      (5): Dropout(p=0.1, inplace=False)\n",
       "      (6): Linear(in_features=50, out_features=5, bias=True)\n",
       "    )\n",
       "  )\n",
       "), opt_func=functools.partial(<class 'torch.optim.adam.Adam'>, betas=(0.9, 0.99)), loss_func=FlattenedLoss of CrossEntropyLoss(), metrics=[<function accuracy at 0x7f18a84ab3b0>], true_wd=True, bn_wd=True, wd=0.01, train_bn=True, path=PosixPath('output'), model_dir='models', callback_fns=[functools.partial(<class 'fastai.basic_train.Recorder'>, add_time=True, silent=False)], callbacks=[RNNTrainer\n",
       "learn: ...\n",
       "alpha: 2\n",
       "beta: 1], layer_groups=[Sequential(\n",
       "  (0): Embedding(27720, 400, padding_idx=1)\n",
       "  (1): EmbeddingDropout(\n",
       "    (emb): Embedding(27720, 400, padding_idx=1)\n",
       "  )\n",
       "), Sequential(\n",
       "  (0): WeightDropout(\n",
       "    (module): LSTM(400, 1550, batch_first=True)\n",
       "  )\n",
       "  (1): RNNDropout()\n",
       "), Sequential(\n",
       "  (0): WeightDropout(\n",
       "    (module): LSTM(1550, 1550, batch_first=True)\n",
       "  )\n",
       "  (1): RNNDropout()\n",
       "), Sequential(\n",
       "  (0): WeightDropout(\n",
       "    (module): LSTM(1550, 1550, batch_first=True)\n",
       "  )\n",
       "  (1): RNNDropout()\n",
       "), Sequential(\n",
       "  (0): WeightDropout(\n",
       "    (module): LSTM(1550, 400, batch_first=True)\n",
       "  )\n",
       "  (1): RNNDropout()\n",
       "), Sequential(\n",
       "  (0): PoolingLinearClassifier(\n",
       "    (layers): Sequential(\n",
       "      (0): BatchNorm1d(1200, eps=1e-05, momentum=0.1, affine=True, track_running_stats=True)\n",
       "      (1): Dropout(p=0.27999999999999997, inplace=False)\n",
       "      (2): Linear(in_features=1200, out_features=50, bias=True)\n",
       "      (3): ReLU(inplace=True)\n",
       "      (4): BatchNorm1d(50, eps=1e-05, momentum=0.1, affine=True, track_running_stats=True)\n",
       "      (5): Dropout(p=0.1, inplace=False)\n",
       "      (6): Linear(in_features=50, out_features=5, bias=True)\n",
       "    )\n",
       "  )\n",
       ")], add_time=True, silent=False)"
      ]
     },
     "execution_count": 53,
     "metadata": {},
     "output_type": "execute_result"
    }
   ],
   "source": [
    "#model\n",
    "config = dict(emb_sz=400, n_hid=1550, n_layers=4, pad_token=1, qrnn=False,\n",
    "             output_p=0.4, hidden_p=0.2, input_p=0.6, embed_p=0.1, weight_p=0.5)\n",
    "trn_args = dict(bptt=70, drop_mult=0.7, alpha=2, beta=1, max_len=500)\n",
    "\n",
    "learn = text_classifier_learner(data_cls, AWD_LSTM, config=config, pretrained=False, **trn_args)\n",
    "#load pretrained finetuned model\n",
    "learn.load_encoder(\"amazon_thai_review_enc\")"
   ]
  },
  {
   "cell_type": "code",
   "execution_count": 54,
   "metadata": {
    "hidden": true
   },
   "outputs": [
    {
     "data": {
      "text/html": [
       "<table border=\"1\" class=\"dataframe\">\n",
       "  <thead>\n",
       "    <tr style=\"text-align: left;\">\n",
       "      <th>epoch</th>\n",
       "      <th>train_loss</th>\n",
       "      <th>valid_loss</th>\n",
       "      <th>accuracy</th>\n",
       "      <th>time</th>\n",
       "    </tr>\n",
       "  </thead>\n",
       "  <tbody>\n",
       "    <tr>\n",
       "      <td>0</td>\n",
       "      <td>1.154384</td>\n",
       "      <td>1.057550</td>\n",
       "      <td>0.539974</td>\n",
       "      <td>14:42</td>\n",
       "    </tr>\n",
       "  </tbody>\n",
       "</table>"
      ],
      "text/plain": [
       "<IPython.core.display.HTML object>"
      ]
     },
     "metadata": {},
     "output_type": "display_data"
    },
    {
     "data": {
      "text/html": [
       "<table border=\"1\" class=\"dataframe\">\n",
       "  <thead>\n",
       "    <tr style=\"text-align: left;\">\n",
       "      <th>epoch</th>\n",
       "      <th>train_loss</th>\n",
       "      <th>valid_loss</th>\n",
       "      <th>accuracy</th>\n",
       "      <th>time</th>\n",
       "    </tr>\n",
       "  </thead>\n",
       "  <tbody>\n",
       "    <tr>\n",
       "      <td>0</td>\n",
       "      <td>1.139452</td>\n",
       "      <td>1.054968</td>\n",
       "      <td>0.542755</td>\n",
       "      <td>15:13</td>\n",
       "    </tr>\n",
       "  </tbody>\n",
       "</table>"
      ],
      "text/plain": [
       "<IPython.core.display.HTML object>"
      ]
     },
     "metadata": {},
     "output_type": "display_data"
    },
    {
     "data": {
      "text/html": [
       "<table border=\"1\" class=\"dataframe\">\n",
       "  <thead>\n",
       "    <tr style=\"text-align: left;\">\n",
       "      <th>epoch</th>\n",
       "      <th>train_loss</th>\n",
       "      <th>valid_loss</th>\n",
       "      <th>accuracy</th>\n",
       "      <th>time</th>\n",
       "    </tr>\n",
       "  </thead>\n",
       "  <tbody>\n",
       "    <tr>\n",
       "      <td>0</td>\n",
       "      <td>1.151406</td>\n",
       "      <td>1.052472</td>\n",
       "      <td>0.543185</td>\n",
       "      <td>14:36</td>\n",
       "    </tr>\n",
       "  </tbody>\n",
       "</table>"
      ],
      "text/plain": [
       "<IPython.core.display.HTML object>"
      ]
     },
     "metadata": {},
     "output_type": "display_data"
    },
    {
     "data": {
      "text/html": [
       "<table border=\"1\" class=\"dataframe\">\n",
       "  <thead>\n",
       "    <tr style=\"text-align: left;\">\n",
       "      <th>epoch</th>\n",
       "      <th>train_loss</th>\n",
       "      <th>valid_loss</th>\n",
       "      <th>accuracy</th>\n",
       "      <th>time</th>\n",
       "    </tr>\n",
       "  </thead>\n",
       "  <tbody>\n",
       "    <tr>\n",
       "      <td>0</td>\n",
       "      <td>1.140140</td>\n",
       "      <td>1.055715</td>\n",
       "      <td>0.541927</td>\n",
       "      <td>17:40</td>\n",
       "    </tr>\n",
       "    <tr>\n",
       "      <td>1</td>\n",
       "      <td>1.136665</td>\n",
       "      <td>1.053820</td>\n",
       "      <td>0.542391</td>\n",
       "      <td>17:25</td>\n",
       "    </tr>\n",
       "    <tr>\n",
       "      <td>2</td>\n",
       "      <td>1.132597</td>\n",
       "      <td>1.054545</td>\n",
       "      <td>0.541894</td>\n",
       "      <td>16:13</td>\n",
       "    </tr>\n",
       "  </tbody>\n",
       "</table>"
      ],
      "text/plain": [
       "<IPython.core.display.HTML object>"
      ]
     },
     "metadata": {},
     "output_type": "display_data"
    },
    {
     "name": "stdout",
     "output_type": "stream",
     "text": [
      "Better model found at epoch 0 with accuracy value: 0.5419273972511292.\n",
      "Better model found at epoch 1 with accuracy value: 0.5423908233642578.\n"
     ]
    }
   ],
   "source": [
    "learn.freeze_to(-1)\n",
    "learn.fit_one_cycle(1, 2e-2)\n",
    "\n",
    "learn.freeze_to(-2)\n",
    "learn.fit_one_cycle(1, slice(2e-6 / (2.6 ** 4), 2e-6))\n",
    "\n",
    "learn.freeze_to(-3)\n",
    "learn.fit_one_cycle(1, slice(1e-6 / (2.6 ** 4), 1e-6))\n",
    "\n",
    "learn.unfreeze()\n",
    "learn.fit_one_cycle(3, slice(5e-7 / (2.6 ** 4), 5e-7),\n",
    "                   callbacks=[SaveModelCallback(learn, every='improvement', monitor='accuracy', name='bestmodel')])"
   ]
  },
  {
   "cell_type": "code",
   "execution_count": 55,
   "metadata": {
    "hidden": true
   },
   "outputs": [
    {
     "data": {
      "text/html": [],
      "text/plain": [
       "<IPython.core.display.HTML object>"
      ]
     },
     "metadata": {},
     "output_type": "display_data"
    },
    {
     "data": {
      "text/html": [],
      "text/plain": [
       "<IPython.core.display.HTML object>"
      ]
     },
     "metadata": {},
     "output_type": "display_data"
    },
    {
     "data": {
      "text/html": [],
      "text/plain": [
       "<IPython.core.display.HTML object>"
      ]
     },
     "metadata": {},
     "output_type": "display_data"
    },
    {
     "data": {
      "text/html": [],
      "text/plain": [
       "<IPython.core.display.HTML object>"
      ]
     },
     "metadata": {},
     "output_type": "display_data"
    }
   ],
   "source": [
    "learn.export(file='export_clas2.pkl')\n",
    "test_df['review_star'] = test_df['review_star'].astype(int)\n",
    "learn_ = load_learner(model_path,file='export_clas2.pkl',test=TextList.from_df(test_df, model_path, cols=[\"th_segment\"], processor=processor))\n",
    "preds, _ = learn_.get_preds(ds_type=DatasetType.Test)"
   ]
  },
  {
   "cell_type": "code",
   "execution_count": 67,
   "metadata": {
    "hidden": true
   },
   "outputs": [
    {
     "data": {
      "text/plain": [
       "0.5355050153937829"
      ]
     },
     "execution_count": 67,
     "metadata": {},
     "output_type": "execute_result"
    }
   ],
   "source": [
    "(np.array([label_enc.classes_[c] for c in preds.argmax(1).numpy()])== test_df['review_star'].values).mean()"
   ]
  },
  {
   "cell_type": "markdown",
   "metadata": {
    "heading_collapsed": true
   },
   "source": [
    "## Customised RNN based model"
   ]
  },
  {
   "cell_type": "code",
   "execution_count": 11,
   "metadata": {
    "hidden": true
   },
   "outputs": [],
   "source": [
    "# input dtypes: text -> long, numeric -> double\n",
    "in_dtypes = [torch.long, torch.double]\n",
    "# output dtypes: binary classification targ -> double (as probability), n class classification targ -> long\n",
    "targ_dtypes = [torch.double, torch.long]\n",
    "\n",
    "train_ds = UniversalDataset(ins=[text_feat_train, num_feat_train],\n",
    "              in_dtypes=in_dtypes,\n",
    "              targs=[targ1_train[:,None], targ2_train],\n",
    "              targ_dtypes=targ_dtypes)\n",
    "\n",
    "valid_ds = UniversalDataset(ins=[text_feat_valid, num_feat_valid],\n",
    "                           in_dtypes=in_dtypes,\n",
    "                           targs=[targ1_valid[:,None], targ2_valid],\n",
    "                           targ_dtypes=targ_dtypes)\n",
    "\n",
    "test_ds = UniversalDataset(ins=[text_feat_test, num_feat_test],\n",
    "                          in_dtypes=in_dtypes,\n",
    "                          targs = [targ1_test[:,None], targ2_test],\n",
    "                          targ_dtypes = targ_dtypes)\n",
    "\n",
    "bs = 256\n",
    "train_dl = DataLoader(train_ds, batch_size=bs, shuffle=True)\n",
    "valid_dl = DataLoader(valid_ds, batch_size=bs, shuffle=False)\n",
    "test_dl = DataLoader(test_ds, batch_size=bs, shuffle=False)\n",
    "\n",
    "data_train = DataBunch(train_dl, valid_dl)"
   ]
  },
  {
   "cell_type": "code",
   "execution_count": 13,
   "metadata": {
    "hidden": true
   },
   "outputs": [],
   "source": [
    "# stack train & valid data then retrain on whole data\n",
    "all_ds = ConcatDataset([train_ds,valid_ds])\n",
    "all_dl = DataLoader(all_ds,batch_size=bs, shuffle=True)\n",
    "# all_dl_ = DataLoader(all_ds,batch_size=bs, shuffle = False)\n",
    "data_all = DataBunch(all_dl, None)"
   ]
  },
  {
   "cell_type": "code",
   "execution_count": 14,
   "metadata": {
    "hidden": true
   },
   "outputs": [],
   "source": [
    "class FocalLoss(nn.Module):\n",
    "    def __init__(self, gamma):\n",
    "        super().__init__()\n",
    "        self.gamma = gamma\n",
    "        \n",
    "    def forward(self, input, target):\n",
    "        # Inspired by the implementation of binary_cross_entropy_with_logits\n",
    "        if not (target.size() == input.size()):\n",
    "            raise ValueError(\"Target size ({}) must be the same as input size ({})\".format(target.size(), input.size()))\n",
    "\n",
    "        max_val = (-input).clamp(min=0)\n",
    "        loss = input - input * target + max_val + ((-max_val).exp() + (-input - max_val).exp()).log()\n",
    "\n",
    "        # This formula gives us the log sigmoid of 1-p if y is 0 and of p if y is 1\n",
    "        invprobs = F.logsigmoid(-input * (target * 2 - 1))\n",
    "        loss = (invprobs * self.gamma).exp() * loss\n",
    "        \n",
    "        return loss.mean()\n",
    "\n",
    "def accuracy_binary(out, yb): return ((torch.sigmoid(out)>.5).float()==yb).float().mean()\n",
    "\n",
    "def accuracy_categorical(out, yb): return (torch.argmax(out, dim=1)==yb).float().mean()"
   ]
  },
  {
   "cell_type": "code",
   "execution_count": 15,
   "metadata": {
    "hidden": true
   },
   "outputs": [],
   "source": [
    "loss_func1 = FocalLoss(gamma=.5)\n",
    "loss_func2 = nn.CrossEntropyLoss()\n",
    "\n",
    "multi_loss_func = MultitasksLoss([loss_func1, loss_func2])"
   ]
  },
  {
   "cell_type": "code",
   "execution_count": 16,
   "metadata": {
    "hidden": true
   },
   "outputs": [],
   "source": [
    "metric1 = accuracy_binary\n",
    "metric2 = accuracy_categorical"
   ]
  },
  {
   "cell_type": "code",
   "execution_count": 18,
   "metadata": {
    "hidden": true
   },
   "outputs": [],
   "source": [
    "class Attention(nn.Module):\n",
    "    # borrow from: https://github.com/mttk/rnn-classifier/blob/master/model.py\n",
    "    \n",
    "    def __init__(self, query_dim, key_dim, value_dim):\n",
    "        super(Attention, self).__init__()\n",
    "        self.scale = 1. / math.sqrt(query_dim)\n",
    "\n",
    "    def forward(self, query, keys, values):\n",
    "        # Query = [BxQ]\n",
    "        # Keys = [TxBxK]\n",
    "        # Values = [TxBxV]\n",
    "        # Outputs = a:[TxB], lin_comb:[BxV]\n",
    "\n",
    "        # Here we assume q_dim == k_dim (dot product attention)\n",
    "\n",
    "        query = query.unsqueeze(1) # [BxQ] -> [Bx1xQ]\n",
    "        keys = keys.transpose(-1,1)\n",
    "        energy = torch.bmm(query, keys) # [Bx1xQ]x[BxKxT] -> [Bx1xT]\n",
    "        energy = F.softmax(energy.mul_(self.scale), dim=2) # scale, normalize\n",
    "        \n",
    "        linear_combination = torch.bmm(energy, values).squeeze(1) #[Bx1xT]x[BxTxV] -> [BxV]\n",
    "        \n",
    "        return energy, linear_combination\n",
    "\n",
    "class AmazonMultiTaskAttn(nn.Module):\n",
    "\n",
    "    def __init__(self, **config):\n",
    "        super(AmazonMultiTaskAttn, self).__init__()\n",
    "\n",
    "        # store config\n",
    "        self.config = config\n",
    "        # store current device\n",
    "        self.device = torch.device('cuda:0' if torch.cuda.is_available() else 'cpu')\n",
    "\n",
    "        # numerical feat projector\n",
    "        self.num_proj = nn.Sequential(nn.Linear(config['n_num'],config['num_dim']),\n",
    "                                      nn.BatchNorm1d(config['num_dim'])\n",
    "                                     )\n",
    "        \n",
    "        # embedding layers\n",
    "        self.word_emb = nn.Embedding(config['vocab_size'] + 2, config['emb_size'])\n",
    "\n",
    "        # rnn layers\n",
    "        self.rnn = nn.GRU(input_size=config['emb_size'], hidden_size=config['rnn_h'],\n",
    "                           num_layers=config['rnn_l'], batch_first=True, bidirectional=True)\n",
    "\n",
    "        # self-attention\n",
    "        self.attention = Attention(config['rnn_h']*2,config['rnn_h']*2,config['rnn_h']*2)\n",
    "        \n",
    "        # fc layers\n",
    "        self.lin_in = config['num_dim'] + config['rnn_h'] * 2\n",
    "        self.fc_sizes = [self.lin_in] + config['fc_sizes']\n",
    "\n",
    "        fc_layers_list = []\n",
    "        for ni, nf, p in zip(self.fc_sizes[:-1], self.fc_sizes[1:], config['fc_ps']):\n",
    "            fc_layers_list.append(nn.Linear(ni, nf))\n",
    "            fc_layers_list.append(nn.ReLU(inplace=True))\n",
    "            fc_layers_list.append(nn.BatchNorm1d(nf))\n",
    "            fc_layers_list.append(nn.Dropout(p=p))\n",
    "        self.fc_layers = nn.Sequential(*fc_layers_list)\n",
    "\n",
    "        # output heads by task\n",
    "        self.heads = nn.ModuleList([nn.Linear(self.fc_sizes[-1], out_size) for out_size in config['out_sizes']])\n",
    "        \n",
    "    def forward(self, ins):\n",
    "        text, num = ins\n",
    "        text, num = text.to(self.device), num.to(self.device)\n",
    "\n",
    "        # numeric\n",
    "        num_out = self.num_proj(num)\n",
    "        \n",
    "        # text\n",
    "        text_out = self.word_emb(text)\n",
    "        rnn_outs, rnn_hidden = self.rnn(text_out)\n",
    "        rnn_hidden = torch.cat([rnn_hidden[-1], rnn_hidden[-2]], dim=1)\n",
    "        energy, text_out = self.attention(rnn_hidden, rnn_outs, rnn_outs)\n",
    "\n",
    "        # concat\n",
    "        lin_in = torch.cat([text_out, num_out], 1)\n",
    "\n",
    "        # fc forward\n",
    "        fc_out = self.fc_layers(lin_in)\n",
    "        head_outs = [head(fc_out) for head in self.heads]\n",
    "\n",
    "        return head_outs"
   ]
  },
  {
   "cell_type": "code",
   "execution_count": 119,
   "metadata": {
    "hidden": true
   },
   "outputs": [],
   "source": [
    "config = {'vocab_size': len(vocabs),'emb_size': 400, 'rnn_h': 300,\n",
    "        'rnn_l': 2, 'fc_ps': [0.5, 0.5], 'n_num':2, 'num_dim':100 , 'fc_sizes': [1000, 500], 'out_sizes': [1,5]}\n",
    "\n",
    "model = AmazonMultiTaskAttn(**config).double()"
   ]
  },
  {
   "cell_type": "code",
   "execution_count": 120,
   "metadata": {
    "hidden": true
   },
   "outputs": [],
   "source": [
    "_ = model.to(model.device)"
   ]
  },
  {
   "cell_type": "code",
   "execution_count": 121,
   "metadata": {
    "hidden": true
   },
   "outputs": [
    {
     "data": {
      "text/plain": [
       "(torch.Size([256, 1]), torch.Size([256, 5]))"
      ]
     },
     "execution_count": 121,
     "metadata": {},
     "output_type": "execute_result"
    }
   ],
   "source": [
    "# test model with data\n",
    "model(next(iter(train_dl))[0])[0].shape, model(next(iter(train_dl))[0])[1].shape"
   ]
  },
  {
   "cell_type": "code",
   "execution_count": 122,
   "metadata": {
    "hidden": true
   },
   "outputs": [
    {
     "name": "stdout",
     "output_type": "stream",
     "text": [
      "epoch 1-train: [0.7433645853325621, tensor(0.6780, device='cuda:0'), tensor(0.4761, device='cuda:0')]\n",
      "epoch 1-valid: [0.6592615903416682, tensor(0.7061, device='cuda:0'), tensor(0.5489, device='cuda:0')]\n",
      "epoch 2-train: [0.6238996603507941, tensor(0.7160, device='cuda:0'), tensor(0.5906, device='cuda:0')]\n",
      "epoch 2-valid: [0.6139034271199542, tensor(0.7136, device='cuda:0'), tensor(0.6032, device='cuda:0')]\n",
      "epoch 3-train: [0.5431565020957869, tensor(0.7300, device='cuda:0'), tensor(0.6794, device='cuda:0')]\n",
      "epoch 3-valid: [0.5989208946867739, tensor(0.7164, device='cuda:0'), tensor(0.6351, device='cuda:0')]\n"
     ]
    }
   ],
   "source": [
    "config = {'vocab_size': len(vocabs),'emb_size': 400, 'rnn_h': 300,\n",
    "        'rnn_l': 2, 'fc_ps': [0.5, 0.5], 'n_num':2, 'num_dim':100 , 'fc_sizes': [1000, 500], 'out_sizes': [1,5]}\n",
    "\n",
    "model = AmazonMultiTaskAttn(**config).double()\n",
    "_ = model.to(model.device)\n",
    "\n",
    "multi_loss_func = MultitasksLoss([loss_func1, loss_func2],loss_weights=[.6,.4])\n",
    "opt = optim.Adam(model.parameters(),lr=1e-3)\n",
    "\n",
    "learner = Learner(model=model, data=data_train, loss_func=multi_loss_func, optimizer=opt, cbfs=cbfs)\n",
    "\n",
    "cbfs = [partial(AvgStatsCallback,[metric1, metric2])]\n",
    "\n",
    "max_lr=1e-3\n",
    "sched_lr = combine_scheds([0.3, 0.7], [sched_cos(max_lr/5,max_lr),sched_cos(max_lr,max_lr/10)])\n",
    "sched_beta1 = combine_scheds([0.3, 0.7], [sched_cos(0.9, 0.8), sched_cos(0.8, 0.9)])\n",
    "sched_beta2 = combine_scheds([0.3, 0.7], [sched_cos(0.99, 0.9), sched_cos(0.9, 0.99)])\n",
    "def sched_betas(pos): return [sched_beta1(pos), sched_beta2(pos)]\n",
    "\n",
    "sched_dict = {'lr':sched_lr, 'betas': sched_betas}\n",
    "learner.fit_with_sched(3,sched_dict)"
   ]
  },
  {
   "cell_type": "markdown",
   "metadata": {
    "hidden": true
   },
   "source": [
    "### Train with all data"
   ]
  },
  {
   "cell_type": "code",
   "execution_count": 19,
   "metadata": {
    "hidden": true
   },
   "outputs": [
    {
     "name": "stdout",
     "output_type": "stream",
     "text": [
      "epoch 1-train: [0.7380565785069271, tensor(0.6797, device='cuda:0'), tensor(0.4823, device='cuda:0')]\n",
      "epoch 2-train: [0.6197548010921846, tensor(0.7161, device='cuda:0'), tensor(0.5955, device='cuda:0')]\n",
      "epoch 3-train: [0.5362411390583282, tensor(0.7308, device='cuda:0'), tensor(0.6870, device='cuda:0')]\n"
     ]
    }
   ],
   "source": [
    "config = {'vocab_size': len(vocabs),'emb_size': 400, 'rnn_h': 300,\n",
    "        'rnn_l': 2, 'fc_ps': [0.5, 0.5], 'n_num':2, 'num_dim':100 , 'fc_sizes': [1000, 500], 'out_sizes': [1,5]}\n",
    "\n",
    "model = AmazonMultiTaskAttn(**config).double()\n",
    "_ = model.to(model.device)\n",
    "\n",
    "multi_loss_func = MultitasksLoss([loss_func1, loss_func2],loss_weights=[.6,.4])\n",
    "opt = optim.Adam(model.parameters(),lr=1e-3)\n",
    "\n",
    "cbfs = [partial(AvgStatsCallback,[metric1, metric2])]\n",
    "\n",
    "learner = Learner(model=model, data=data_all, loss_func=multi_loss_func, optimizer=opt, cbfs=cbfs)\n",
    "\n",
    "max_lr=1e-3\n",
    "sched_lr = combine_scheds([0.3, 0.7], [sched_cos(max_lr/5,max_lr),sched_cos(max_lr,max_lr/10)])\n",
    "sched_beta1 = combine_scheds([0.3, 0.7], [sched_cos(0.9, 0.8), sched_cos(0.8, 0.9)])\n",
    "sched_beta2 = combine_scheds([0.3, 0.7], [sched_cos(0.99, 0.9), sched_cos(0.9, 0.99)])\n",
    "def sched_betas(pos): return [sched_beta1(pos), sched_beta2(pos)]\n",
    "\n",
    "sched_dict = {'lr':sched_lr, 'betas': sched_betas}\n",
    "learner.fit_with_sched(3,sched_dict)"
   ]
  },
  {
   "cell_type": "markdown",
   "metadata": {
    "hidden": true
   },
   "source": [
    "Get test accuracy"
   ]
  },
  {
   "cell_type": "code",
   "execution_count": 52,
   "metadata": {
    "hidden": true
   },
   "outputs": [],
   "source": [
    "_ = model.eval()\n",
    "\n",
    "count = 0\n",
    "tot_mets = [0., 0.]\n",
    "metrics = [metric1, metric2]\n",
    "with torch.no_grad():\n",
    "    for xb,yb in test_dl:\n",
    "        pred = model(xb)\n",
    "        bn = yb[0].shape[0]\n",
    "        count += bn\n",
    "        for i,m in enumerate(metrics):\n",
    "            tot_mets[i] += m(pred[i], yb[i].to(model.device)).item() * bn\n",
    "            \n",
    "avg_stats = [met/count for met in tot_mets]"
   ]
  },
  {
   "cell_type": "code",
   "execution_count": 53,
   "metadata": {
    "hidden": true
   },
   "outputs": [
    {
     "data": {
      "text/plain": [
       "[0.7212566625110189, 0.6430628664006495]"
      ]
     },
     "execution_count": 53,
     "metadata": {},
     "output_type": "execute_result"
    }
   ],
   "source": [
    "avg_stats"
   ]
  },
  {
   "cell_type": "markdown",
   "metadata": {},
   "source": [
    "# Summary"
   ]
  },
  {
   "cell_type": "markdown",
   "metadata": {},
   "source": [
    "**model** | **task 1: predicting readable review accuracy** | **task 2: predicting review star**\n",
    "--|--|--\n",
    "Logistic regression | 71.33% | 59.61%\n",
    "ULMFit| 70.95%| 53.55%\n",
    "Bi-GRU + Attention + Multi-tasking| **72.12%** | **64.30%**"
   ]
  },
  {
   "cell_type": "code",
   "execution_count": null,
   "metadata": {},
   "outputs": [],
   "source": []
  }
 ],
 "metadata": {
  "kernelspec": {
   "display_name": "Python 3",
   "language": "python",
   "name": "python3"
  },
  "language_info": {
   "codemirror_mode": {
    "name": "ipython",
    "version": 3
   },
   "file_extension": ".py",
   "mimetype": "text/x-python",
   "name": "python",
   "nbconvert_exporter": "python",
   "pygments_lexer": "ipython3",
   "version": "3.7.3"
  },
  "nbpresent": {
   "slides": {
    "0410c19f-80cb-4a88-9d21-aad3a86ddc81": {
     "id": "0410c19f-80cb-4a88-9d21-aad3a86ddc81",
     "prev": "94f71cb7-d979-4c4c-a7c5-cd92a7179659",
     "regions": {
      "e492e737-49af-4d69-9994-02778b152194": {
       "attrs": {
        "height": 0.8,
        "width": 0.8,
        "x": 0.1,
        "y": 0.1
       },
       "content": {
        "cell": "cd236985-82db-4ef0-9657-9ca0e19c7c2f",
        "part": "whole"
       },
       "id": "e492e737-49af-4d69-9994-02778b152194"
      }
     }
    },
    "0c9c9087-b066-442a-a81c-2862ae70140f": {
     "id": "0c9c9087-b066-442a-a81c-2862ae70140f",
     "prev": "20a8d9bc-0363-42ed-9079-f74e344fdcb3",
     "regions": {
      "dc8ab36a-144f-44fc-9cd1-225ae7576079": {
       "attrs": {
        "height": 0.8,
        "width": 0.8,
        "x": 0.1,
        "y": 0.1
       },
       "content": {
        "cell": "4c75cc50-ab57-44be-bea4-b0d3b39e148d",
        "part": "whole"
       },
       "id": "dc8ab36a-144f-44fc-9cd1-225ae7576079"
      }
     }
    },
    "19a7fdac-32cb-465d-a3e2-431cfe811722": {
     "id": "19a7fdac-32cb-465d-a3e2-431cfe811722",
     "prev": "6015a480-271b-4ef1-a493-9a50813099fc",
     "regions": {
      "71d5385e-6094-4f4b-abf1-8ec1605fa830": {
       "attrs": {
        "height": 0.8,
        "width": 0.8,
        "x": 0.1,
        "y": 0.1
       },
       "content": {
        "cell": "3dc922ee-af85-4d26-8a53-bc6490ff5985",
        "part": "whole"
       },
       "id": "71d5385e-6094-4f4b-abf1-8ec1605fa830"
      }
     }
    },
    "1ae4e26b-730b-45ee-a67d-dc96d0c4a636": {
     "id": "1ae4e26b-730b-45ee-a67d-dc96d0c4a636",
     "prev": "7b5cbcd3-9ccc-4ad4-b704-c0cdb410bf83",
     "regions": {
      "6515571c-33db-4b89-bd69-ebe1618b4b5a": {
       "attrs": {
        "height": 0.8,
        "width": 0.8,
        "x": 0.1,
        "y": 0.1
       },
       "content": {
        "cell": "6abdc1d9-b4a1-442c-976c-3b9e9d486704",
        "part": "whole"
       },
       "id": "6515571c-33db-4b89-bd69-ebe1618b4b5a"
      }
     }
    },
    "20a8d9bc-0363-42ed-9079-f74e344fdcb3": {
     "id": "20a8d9bc-0363-42ed-9079-f74e344fdcb3",
     "prev": "3362b00e-e4ad-4cbb-88d3-5a0d92fe6427",
     "regions": {
      "5517c437-753c-4949-a231-f101e1af8775": {
       "attrs": {
        "height": 0.8,
        "width": 0.8,
        "x": 0.1,
        "y": 0.1
       },
       "content": {
        "cell": "51f64e06-0521-4b97-a701-4a8ff2661ed3",
        "part": "whole"
       },
       "id": "5517c437-753c-4949-a231-f101e1af8775"
      }
     }
    },
    "3234def2-1b28-45ab-9e72-5fd4df53c222": {
     "id": "3234def2-1b28-45ab-9e72-5fd4df53c222",
     "prev": "8a4975af-b4c2-44bf-aa9c-2cc3a2bf50e5",
     "regions": {
      "e72a311d-ce7c-4e6c-a018-507c357c5384": {
       "attrs": {
        "height": 0.8,
        "width": 0.8,
        "x": 0.1,
        "y": 0.1
       },
       "content": {
        "cell": "b114ac36-78b8-49f1-bb62-4bcf4a44a76b",
        "part": "whole"
       },
       "id": "e72a311d-ce7c-4e6c-a018-507c357c5384"
      }
     }
    },
    "3362b00e-e4ad-4cbb-88d3-5a0d92fe6427": {
     "id": "3362b00e-e4ad-4cbb-88d3-5a0d92fe6427",
     "prev": "db145dc5-04a5-47b8-80a1-95ba3e16f1d9",
     "regions": {
      "ebaf1e2a-6f21-46bd-8ca0-931fe0cb87e9": {
       "attrs": {
        "height": 0.8,
        "width": 0.8,
        "x": 0.1,
        "y": 0.1
       },
       "content": {
        "cell": "4424853d-b898-49d2-ae7c-63b6324fb86b",
        "part": "whole"
       },
       "id": "ebaf1e2a-6f21-46bd-8ca0-931fe0cb87e9"
      }
     }
    },
    "35933015-2fb2-4675-be28-7c03f5100406": {
     "id": "35933015-2fb2-4675-be28-7c03f5100406",
     "prev": "1ae4e26b-730b-45ee-a67d-dc96d0c4a636",
     "regions": {
      "269ccea7-63b4-4ed4-a1f0-51fbd19d9cd4": {
       "attrs": {
        "height": 0.8,
        "width": 0.8,
        "x": 0.1,
        "y": 0.1
       },
       "content": {
        "cell": "15c43e31-4ab8-4bcd-b4cc-ff0a012aab62",
        "part": "whole"
       },
       "id": "269ccea7-63b4-4ed4-a1f0-51fbd19d9cd4"
      }
     }
    },
    "3a31ba53-8148-4c13-8242-980ab0116fcb": {
     "id": "3a31ba53-8148-4c13-8242-980ab0116fcb",
     "prev": "a0f7782e-ec1e-49c0-8f09-5cce88e55793",
     "regions": {
      "8e363d78-3326-4ab9-8a55-6e1c405414ef": {
       "attrs": {
        "height": 0.8,
        "width": 0.8,
        "x": 0.1,
        "y": 0.1
       },
       "content": {
        "cell": "e2bda8b4-46b6-48e4-86ae-a94547cc0a5c",
        "part": "whole"
       },
       "id": "8e363d78-3326-4ab9-8a55-6e1c405414ef"
      }
     }
    },
    "3c2eaec5-e30b-43b3-8fef-3e56b0fba9a9": {
     "id": "3c2eaec5-e30b-43b3-8fef-3e56b0fba9a9",
     "prev": "658ffa9b-ac2b-44e2-a104-c58b3741a5b5",
     "regions": {
      "d9c6cf1a-aea9-4595-9ff4-db917739a8dc": {
       "attrs": {
        "height": 0.8,
        "width": 0.8,
        "x": 0.1,
        "y": 0.1
       },
       "content": {
        "cell": "77216781-9834-4978-ad9e-09033dd3e120",
        "part": "whole"
       },
       "id": "d9c6cf1a-aea9-4595-9ff4-db917739a8dc"
      }
     }
    },
    "41d75bbc-795b-4ae5-8443-e3210b76316f": {
     "id": "41d75bbc-795b-4ae5-8443-e3210b76316f",
     "prev": "b9b53e3d-4454-42bc-85e9-cadfacf35cec",
     "regions": {
      "8546d667-eced-45c9-a505-23e8b5dd3cab": {
       "attrs": {
        "height": 0.8,
        "width": 0.8,
        "x": 0.1,
        "y": 0.1
       },
       "content": {
        "cell": "0a5f3c22-e268-4acf-aeb5-2dee5d6345a6",
        "part": "whole"
       },
       "id": "8546d667-eced-45c9-a505-23e8b5dd3cab"
      }
     }
    },
    "4f424947-4b76-4312-a794-3e40bd57eee1": {
     "id": "4f424947-4b76-4312-a794-3e40bd57eee1",
     "prev": "d01a9296-71bb-4d7f-be08-0552d406b978",
     "regions": {
      "d97d688c-104b-487c-9d0a-55e661f7064a": {
       "attrs": {
        "height": 0.8,
        "width": 0.8,
        "x": 0.1,
        "y": 0.1
       },
       "content": {
        "cell": "dc4d5f9e-d1f3-40d8-9dd1-4cc8e77ee5cd",
        "part": "whole"
       },
       "id": "d97d688c-104b-487c-9d0a-55e661f7064a"
      }
     }
    },
    "532f6545-f26b-4862-ae28-9bb84bec75f3": {
     "id": "532f6545-f26b-4862-ae28-9bb84bec75f3",
     "prev": "55c5e745-5d14-4073-904f-715db78038bc",
     "regions": {
      "2b51f6d5-1ada-4e33-81b6-acd2dd6f4c26": {
       "attrs": {
        "height": 0.8,
        "width": 0.8,
        "x": 0.1,
        "y": 0.1
       },
       "content": {
        "cell": "228db468-5f5a-4897-b86e-164217e03b54",
        "part": "whole"
       },
       "id": "2b51f6d5-1ada-4e33-81b6-acd2dd6f4c26"
      }
     }
    },
    "55c5e745-5d14-4073-904f-715db78038bc": {
     "id": "55c5e745-5d14-4073-904f-715db78038bc",
     "prev": "3234def2-1b28-45ab-9e72-5fd4df53c222",
     "regions": {
      "291913f8-9ea5-471f-b649-dea49cfc776a": {
       "attrs": {
        "height": 0.8,
        "width": 0.8,
        "x": 0.1,
        "y": 0.1
       },
       "content": {
        "cell": "b252421b-5d03-4d2d-b83a-20e55452d9df",
        "part": "whole"
       },
       "id": "291913f8-9ea5-471f-b649-dea49cfc776a"
      }
     }
    },
    "5b0b02d9-a908-45de-b3c2-c58ac3bcc208": {
     "id": "5b0b02d9-a908-45de-b3c2-c58ac3bcc208",
     "prev": "7505d2fe-6a0f-4f6d-a528-f11400931d3d",
     "regions": {
      "b4aa8964-ee0b-4241-bc83-8c71a99beb49": {
       "attrs": {
        "height": 0.8,
        "width": 0.8,
        "x": 0.1,
        "y": 0.1
       },
       "content": {
        "cell": "7ec58639-1f78-44a6-9615-e13963ec74c5",
        "part": "whole"
       },
       "id": "b4aa8964-ee0b-4241-bc83-8c71a99beb49"
      }
     }
    },
    "6015a480-271b-4ef1-a493-9a50813099fc": {
     "id": "6015a480-271b-4ef1-a493-9a50813099fc",
     "prev": "c1c09a49-f676-4566-8da2-3bcb470fe1a4",
     "regions": {
      "9319274c-31d6-4102-ab90-cc615ea95ed0": {
       "attrs": {
        "height": 0.8,
        "width": 0.8,
        "x": 0.1,
        "y": 0.1
       },
       "content": {
        "cell": "4b7ef24b-1025-4ca0-a66c-de885e9c4467",
        "part": "whole"
       },
       "id": "9319274c-31d6-4102-ab90-cc615ea95ed0"
      }
     }
    },
    "658ffa9b-ac2b-44e2-a104-c58b3741a5b5": {
     "id": "658ffa9b-ac2b-44e2-a104-c58b3741a5b5",
     "prev": "a65cb3b3-2755-441b-b51c-bbe356d8ddf9",
     "regions": {
      "4d558c1a-1dc3-457f-9879-0b0dcdb3a2a6": {
       "attrs": {
        "height": 0.8,
        "width": 0.8,
        "x": 0.1,
        "y": 0.1
       },
       "content": {
        "cell": "5cc41258-ba74-4553-86af-af60a7ee71df",
        "part": "whole"
       },
       "id": "4d558c1a-1dc3-457f-9879-0b0dcdb3a2a6"
      }
     }
    },
    "7505d2fe-6a0f-4f6d-a528-f11400931d3d": {
     "id": "7505d2fe-6a0f-4f6d-a528-f11400931d3d",
     "prev": "4f424947-4b76-4312-a794-3e40bd57eee1",
     "regions": {
      "3ced8cb8-9a88-4db2-9c4c-12a299c6d7f6": {
       "attrs": {
        "height": 0.8,
        "width": 0.8,
        "x": 0.1,
        "y": 0.1
       },
       "content": {
        "cell": "9f2151ee-f79a-4652-b388-f2444fd0234f",
        "part": "whole"
       },
       "id": "3ced8cb8-9a88-4db2-9c4c-12a299c6d7f6"
      }
     }
    },
    "7b5cbcd3-9ccc-4ad4-b704-c0cdb410bf83": {
     "id": "7b5cbcd3-9ccc-4ad4-b704-c0cdb410bf83",
     "prev": "c8725ad6-472d-4a3e-bbd6-4a0aff11c16f",
     "regions": {
      "e91e93d1-e7d2-4f33-8f32-8994be21b49b": {
       "attrs": {
        "height": 0.8,
        "width": 0.8,
        "x": 0.1,
        "y": 0.1
       },
       "content": {
        "cell": "78556181-f120-4a81-acdc-0d0422542ef2",
        "part": "whole"
       },
       "id": "e91e93d1-e7d2-4f33-8f32-8994be21b49b"
      }
     }
    },
    "81c4748d-6f90-4349-899e-09c50d1d4ed2": {
     "id": "81c4748d-6f90-4349-899e-09c50d1d4ed2",
     "prev": "b6295605-5e24-422c-9fed-b5c45a634016",
     "regions": {
      "d1e68d91-effa-4ab3-ad40-9686b045661d": {
       "attrs": {
        "height": 0.8,
        "width": 0.8,
        "x": 0.1,
        "y": 0.1
       },
       "content": {
        "cell": "4838c0e9-96f9-415a-a6bb-d1cfb90cde7c",
        "part": "whole"
       },
       "id": "d1e68d91-effa-4ab3-ad40-9686b045661d"
      }
     }
    },
    "8a4975af-b4c2-44bf-aa9c-2cc3a2bf50e5": {
     "id": "8a4975af-b4c2-44bf-aa9c-2cc3a2bf50e5",
     "prev": "41d75bbc-795b-4ae5-8443-e3210b76316f",
     "regions": {
      "fd07f07f-e03b-4d89-b505-89d959974ea2": {
       "attrs": {
        "height": 0.8,
        "width": 0.8,
        "x": 0.1,
        "y": 0.1
       },
       "content": {
        "cell": "74b1c50a-942f-4d28-b857-2d10b370da2c",
        "part": "whole"
       },
       "id": "fd07f07f-e03b-4d89-b505-89d959974ea2"
      }
     }
    },
    "8e311ce0-8483-471f-bc38-7944d2cfd4f4": {
     "id": "8e311ce0-8483-471f-bc38-7944d2cfd4f4",
     "prev": "0410c19f-80cb-4a88-9d21-aad3a86ddc81",
     "regions": {
      "4771aa10-7160-41b2-bcf0-d2da21fa8af5": {
       "attrs": {
        "height": 0.8,
        "width": 0.8,
        "x": 0.1,
        "y": 0.1
       },
       "content": {
        "cell": "64aa1897-c3ab-4580-b822-83bf91fa6e1f",
        "part": "whole"
       },
       "id": "4771aa10-7160-41b2-bcf0-d2da21fa8af5"
      }
     }
    },
    "94b0ffc6-2e73-40a9-8994-ce9809582c2f": {
     "id": "94b0ffc6-2e73-40a9-8994-ce9809582c2f",
     "prev": "35933015-2fb2-4675-be28-7c03f5100406",
     "regions": {
      "37b0de73-f519-4f85-85d7-3eba7ec47fc6": {
       "attrs": {
        "height": 0.8,
        "width": 0.8,
        "x": 0.1,
        "y": 0.1
       },
       "content": {
        "cell": "3055fdbf-d5c8-4e21-b4c2-b0d6afb45531",
        "part": "whole"
       },
       "id": "37b0de73-f519-4f85-85d7-3eba7ec47fc6"
      }
     }
    },
    "94f71cb7-d979-4c4c-a7c5-cd92a7179659": {
     "id": "94f71cb7-d979-4c4c-a7c5-cd92a7179659",
     "prev": "94b0ffc6-2e73-40a9-8994-ce9809582c2f",
     "regions": {
      "85a7dacd-95e7-4837-946b-12e81051bbd8": {
       "attrs": {
        "height": 0.8,
        "width": 0.8,
        "x": 0.1,
        "y": 0.1
       },
       "content": {
        "cell": "20fc262e-b944-443e-b255-9b1a5b01ec8b",
        "part": "whole"
       },
       "id": "85a7dacd-95e7-4837-946b-12e81051bbd8"
      }
     }
    },
    "96d0f2ce-eb90-4fda-91fa-a8d7b2d136bc": {
     "id": "96d0f2ce-eb90-4fda-91fa-a8d7b2d136bc",
     "prev": "532f6545-f26b-4862-ae28-9bb84bec75f3",
     "regions": {
      "f8e17b18-80d2-41d8-a886-1fb4b503dba7": {
       "attrs": {
        "height": 0.8,
        "width": 0.8,
        "x": 0.1,
        "y": 0.1
       },
       "content": {
        "cell": "e94d9fa7-64a8-4109-8f60-ed962871f0d0",
        "part": "whole"
       },
       "id": "f8e17b18-80d2-41d8-a886-1fb4b503dba7"
      }
     }
    },
    "a0f7782e-ec1e-49c0-8f09-5cce88e55793": {
     "id": "a0f7782e-ec1e-49c0-8f09-5cce88e55793",
     "prev": "cacddedb-5dff-4b96-bca9-a8b3823c974a",
     "regions": {
      "28c77913-e1e6-4a9a-b7a6-333490f5a774": {
       "attrs": {
        "height": 0.8,
        "width": 0.8,
        "x": 0.1,
        "y": 0.1
       },
       "content": {
        "cell": "18103c5c-5fd0-404d-a2f5-335d75b43418",
        "part": "whole"
       },
       "id": "28c77913-e1e6-4a9a-b7a6-333490f5a774"
      }
     }
    },
    "a65cb3b3-2755-441b-b51c-bbe356d8ddf9": {
     "id": "a65cb3b3-2755-441b-b51c-bbe356d8ddf9",
     "prev": "5b0b02d9-a908-45de-b3c2-c58ac3bcc208",
     "regions": {
      "9fee087f-42f4-401d-81dc-e04e5c7c8f83": {
       "attrs": {
        "height": 0.8,
        "width": 0.8,
        "x": 0.1,
        "y": 0.1
       },
       "content": {
        "cell": "f0100153-e7e4-43b3-b47d-d0e930b465cd",
        "part": "whole"
       },
       "id": "9fee087f-42f4-401d-81dc-e04e5c7c8f83"
      }
     }
    },
    "a7e4efbb-749c-4247-9d5c-668ac52f232b": {
     "id": "a7e4efbb-749c-4247-9d5c-668ac52f232b",
     "prev": "81c4748d-6f90-4349-899e-09c50d1d4ed2",
     "regions": {
      "d534c4ec-776d-460e-a891-225dfb0bbf64": {
       "attrs": {
        "height": 0.8,
        "width": 0.8,
        "x": 0.1,
        "y": 0.1
       },
       "content": {
        "cell": "036de3c4-28b1-425b-be51-4b22ccd7d3a5",
        "part": "whole"
       },
       "id": "d534c4ec-776d-460e-a891-225dfb0bbf64"
      }
     }
    },
    "aecf6044-24a8-48c5-9bcf-4e489da4e4fc": {
     "id": "aecf6044-24a8-48c5-9bcf-4e489da4e4fc",
     "prev": "8e311ce0-8483-471f-bc38-7944d2cfd4f4",
     "regions": {
      "9553c236-5f6f-4be1-9483-fb8617a077f0": {
       "attrs": {
        "height": 0.8,
        "width": 0.8,
        "x": 0.1,
        "y": 0.1
       },
       "content": {
        "cell": "f173fb22-5d20-465b-ad34-9a68ba824d7d",
        "part": "whole"
       },
       "id": "9553c236-5f6f-4be1-9483-fb8617a077f0"
      }
     }
    },
    "b6295605-5e24-422c-9fed-b5c45a634016": {
     "id": "b6295605-5e24-422c-9fed-b5c45a634016",
     "prev": "19a7fdac-32cb-465d-a3e2-431cfe811722",
     "regions": {
      "cd8ec3c4-5202-47a3-b556-8cba39ed4286": {
       "attrs": {
        "height": 0.8,
        "width": 0.8,
        "x": 0.1,
        "y": 0.1
       },
       "content": {
        "cell": "a879da52-64e0-4727-a4c8-360611f5e30d",
        "part": "whole"
       },
       "id": "cd8ec3c4-5202-47a3-b556-8cba39ed4286"
      }
     }
    },
    "b9b53e3d-4454-42bc-85e9-cadfacf35cec": {
     "id": "b9b53e3d-4454-42bc-85e9-cadfacf35cec",
     "prev": null,
     "regions": {
      "b89ecbd1-07ff-49ab-ace6-82d6eb12ea12": {
       "attrs": {
        "height": 0.8,
        "width": 0.8,
        "x": 0.1,
        "y": 0.1
       },
       "content": {
        "cell": "f1151b15-232e-4cab-bff4-51f2ac8276d0",
        "part": "whole"
       },
       "id": "b89ecbd1-07ff-49ab-ace6-82d6eb12ea12"
      }
     }
    },
    "c1c09a49-f676-4566-8da2-3bcb470fe1a4": {
     "id": "c1c09a49-f676-4566-8da2-3bcb470fe1a4",
     "prev": "e5c5bd6d-c810-4541-ad4b-465d3167f4a2",
     "regions": {
      "fd3a28fd-2b38-4bb6-a8bc-e32f1f412834": {
       "attrs": {
        "height": 0.8,
        "width": 0.8,
        "x": 0.1,
        "y": 0.1
       },
       "content": {
        "cell": "4d1ac58c-13f3-4969-8a33-501f37c39f34",
        "part": "whole"
       },
       "id": "fd3a28fd-2b38-4bb6-a8bc-e32f1f412834"
      }
     }
    },
    "c8725ad6-472d-4a3e-bbd6-4a0aff11c16f": {
     "id": "c8725ad6-472d-4a3e-bbd6-4a0aff11c16f",
     "prev": "0c9c9087-b066-442a-a81c-2862ae70140f",
     "regions": {
      "af184387-9c38-4a7e-9734-3df1e21b7b52": {
       "attrs": {
        "height": 0.8,
        "width": 0.8,
        "x": 0.1,
        "y": 0.1
       },
       "content": {
        "cell": "7574ea1e-6992-4589-b42c-0f92228c21bf",
        "part": "whole"
       },
       "id": "af184387-9c38-4a7e-9734-3df1e21b7b52"
      }
     }
    },
    "cacddedb-5dff-4b96-bca9-a8b3823c974a": {
     "id": "cacddedb-5dff-4b96-bca9-a8b3823c974a",
     "prev": "96d0f2ce-eb90-4fda-91fa-a8d7b2d136bc",
     "regions": {
      "4f816563-cb4e-4410-a698-9b719775ace0": {
       "attrs": {
        "height": 0.8,
        "width": 0.8,
        "x": 0.1,
        "y": 0.1
       },
       "content": {
        "cell": "fc810045-cb31-4110-8885-cca5daca5d80",
        "part": "whole"
       },
       "id": "4f816563-cb4e-4410-a698-9b719775ace0"
      }
     }
    },
    "d01a9296-71bb-4d7f-be08-0552d406b978": {
     "id": "d01a9296-71bb-4d7f-be08-0552d406b978",
     "prev": "3a31ba53-8148-4c13-8242-980ab0116fcb",
     "regions": {
      "04193219-ecb3-4d08-8db8-03668440e757": {
       "attrs": {
        "height": 0.8,
        "width": 0.8,
        "x": 0.1,
        "y": 0.1
       },
       "content": {
        "cell": "bb557a4f-86f7-42f1-b49d-b16f71b24941",
        "part": "whole"
       },
       "id": "04193219-ecb3-4d08-8db8-03668440e757"
      }
     }
    },
    "db145dc5-04a5-47b8-80a1-95ba3e16f1d9": {
     "id": "db145dc5-04a5-47b8-80a1-95ba3e16f1d9",
     "prev": "3c2eaec5-e30b-43b3-8fef-3e56b0fba9a9",
     "regions": {
      "b5c7f6fc-e80d-457a-8668-7c02f14dbf23": {
       "attrs": {
        "height": 0.8,
        "width": 0.8,
        "x": 0.1,
        "y": 0.1
       },
       "content": {
        "cell": "9af808e6-b983-4b1f-ae2a-59345393b4e5",
        "part": "whole"
       },
       "id": "b5c7f6fc-e80d-457a-8668-7c02f14dbf23"
      }
     }
    },
    "e5c5bd6d-c810-4541-ad4b-465d3167f4a2": {
     "id": "e5c5bd6d-c810-4541-ad4b-465d3167f4a2",
     "prev": "aecf6044-24a8-48c5-9bcf-4e489da4e4fc",
     "regions": {
      "1cb8cf8d-690c-49a0-a08a-097337f7a1bf": {
       "attrs": {
        "height": 0.8,
        "width": 0.8,
        "x": 0.1,
        "y": 0.1
       },
       "content": {
        "cell": "de529c3d-3264-4797-bfde-3cd8f4a579a2",
        "part": "whole"
       },
       "id": "1cb8cf8d-690c-49a0-a08a-097337f7a1bf"
      }
     }
    }
   },
   "themes": {}
  },
  "toc": {
   "base_numbering": 1,
   "nav_menu": {},
   "number_sections": true,
   "sideBar": true,
   "skip_h1_title": false,
   "title_cell": "Table of Contents",
   "title_sidebar": "Contents",
   "toc_cell": false,
   "toc_position": {},
   "toc_section_display": true,
   "toc_window_display": false
  }
 },
 "nbformat": 4,
 "nbformat_minor": 2
}
