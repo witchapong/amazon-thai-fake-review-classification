{
 "cells": [
  {
   "cell_type": "code",
   "execution_count": 1,
   "metadata": {
    "nbpresent": {
     "id": "ace8b800-7656-4bb3-9402-98d41fe3881c"
    }
   },
   "outputs": [],
   "source": [
    "import pandas as pd\n",
    "pd.options.display.max_columns=999\n",
    "pd.options.display.max_rows=999\n",
    "import pandas_profiling\n",
    "from collections import Counter, defaultdict\n",
    "import re\n",
    "import numpy as np\n",
    "import matplotlib.pyplot as plt\n",
    "%matplotlib inline\n",
    "import seaborn as sns\n",
    "%reload_ext autoreload\n",
    "%autoreload 2\n",
    "from tqdm import tqdm_notebook, trange\n",
    "import pickle\n",
    "from IPython.core.interactiveshell import InteractiveShell\n",
    "InteractiveShell.ast_node_interactivity = \"all\"\n",
    "from glob import glob\n",
    "from itertools import chain\n",
    "from sklearn.preprocessing import StandardScaler, OneHotEncoder\n",
    "from sklearn.model_selection import train_test_split\n",
    "from sklearn.ensemble import RandomForestClassifier\n",
    "from sklearn.metrics import classification_report,confusion_matrix,precision_recall_curve\n",
    "import datetime\n",
    "import os"
   ]
  },
  {
   "cell_type": "code",
   "execution_count": 2,
   "metadata": {
    "nbpresent": {
     "id": "f1151b15-232e-4cab-bff4-51f2ac8276d0"
    }
   },
   "outputs": [],
   "source": [
    "review_df = pd.read_csv('src/amzn_fake_review_star_correct_302066.csv')"
   ]
  },
  {
   "cell_type": "code",
   "execution_count": 3,
   "metadata": {
    "nbpresent": {
     "id": "0a5f3c22-e268-4acf-aeb5-2dee5d6345a6"
    }
   },
   "outputs": [
    {
     "data": {
      "text/plain": [
       "(302066, 5)"
      ]
     },
     "execution_count": 3,
     "metadata": {},
     "output_type": "execute_result"
    }
   ],
   "source": [
    "review_df.shape"
   ]
  },
  {
   "cell_type": "code",
   "execution_count": 4,
   "metadata": {
    "nbpresent": {
     "id": "74b1c50a-942f-4d28-b857-2d10b370da2c"
    }
   },
   "outputs": [
    {
     "data": {
      "text/html": [
       "<div>\n",
       "<style scoped>\n",
       "    .dataframe tbody tr th:only-of-type {\n",
       "        vertical-align: middle;\n",
       "    }\n",
       "\n",
       "    .dataframe tbody tr th {\n",
       "        vertical-align: top;\n",
       "    }\n",
       "\n",
       "    .dataframe thead th {\n",
       "        text-align: right;\n",
       "    }\n",
       "</style>\n",
       "<table border=\"1\" class=\"dataframe\">\n",
       "  <thead>\n",
       "    <tr style=\"text-align: right;\">\n",
       "      <th></th>\n",
       "      <th>review_id</th>\n",
       "      <th>en_segment</th>\n",
       "      <th>th_segment</th>\n",
       "      <th>correct</th>\n",
       "      <th>review_star</th>\n",
       "    </tr>\n",
       "  </thead>\n",
       "  <tbody>\n",
       "    <tr>\n",
       "      <th>0</th>\n",
       "      <td>1-333090</td>\n",
       "      <td>Good quality product at reasonable price.</td>\n",
       "      <td>สินค้าคุณภาพดีในราคาที่เหมาะสม</td>\n",
       "      <td>1.0</td>\n",
       "      <td>4.0</td>\n",
       "    </tr>\n",
       "    <tr>\n",
       "      <th>1</th>\n",
       "      <td>1-57783</td>\n",
       "      <td>They do NOT last more than 10 bottles.</td>\n",
       "      <td>พวกเขาไม่เกิน 10 ขวด</td>\n",
       "      <td>0.0</td>\n",
       "      <td>1.0</td>\n",
       "    </tr>\n",
       "    <tr>\n",
       "      <th>2</th>\n",
       "      <td>1-319174</td>\n",
       "      <td>If you like post-apocalyptic fiction with a tw...</td>\n",
       "      <td>ถ้าคุณชอบนิยายหลังเลิกเรียนด้วยการบิดนี่คือมัน</td>\n",
       "      <td>0.0</td>\n",
       "      <td>4.0</td>\n",
       "    </tr>\n",
       "    <tr>\n",
       "      <th>3</th>\n",
       "      <td>1-425331</td>\n",
       "      <td>Was a little worried when purchasing due to so...</td>\n",
       "      <td>รู้สึกกังวลเล็กน้อยเมื่อซื้อเนื่องจากรีวิวบางอ...</td>\n",
       "      <td>0.0</td>\n",
       "      <td>4.0</td>\n",
       "    </tr>\n",
       "    <tr>\n",
       "      <th>4</th>\n",
       "      <td>1-134583</td>\n",
       "      <td>I had heard from relatives who have read this ...</td>\n",
       "      <td>ฉันได้ยินจากญาติที่อ่านหนังสือเล่มนี้ว่าพ่อแม่...</td>\n",
       "      <td>1.0</td>\n",
       "      <td>2.0</td>\n",
       "    </tr>\n",
       "  </tbody>\n",
       "</table>\n",
       "</div>"
      ],
      "text/plain": [
       "  review_id                                         en_segment  \\\n",
       "0  1-333090          Good quality product at reasonable price.   \n",
       "1   1-57783             They do NOT last more than 10 bottles.   \n",
       "2  1-319174  If you like post-apocalyptic fiction with a tw...   \n",
       "3  1-425331  Was a little worried when purchasing due to so...   \n",
       "4  1-134583  I had heard from relatives who have read this ...   \n",
       "\n",
       "                                          th_segment  correct  review_star  \n",
       "0                     สินค้าคุณภาพดีในราคาที่เหมาะสม      1.0          4.0  \n",
       "1                               พวกเขาไม่เกิน 10 ขวด      0.0          1.0  \n",
       "2     ถ้าคุณชอบนิยายหลังเลิกเรียนด้วยการบิดนี่คือมัน      0.0          4.0  \n",
       "3  รู้สึกกังวลเล็กน้อยเมื่อซื้อเนื่องจากรีวิวบางอ...      0.0          4.0  \n",
       "4  ฉันได้ยินจากญาติที่อ่านหนังสือเล่มนี้ว่าพ่อแม่...      1.0          2.0  "
      ]
     },
     "execution_count": 4,
     "metadata": {},
     "output_type": "execute_result"
    }
   ],
   "source": [
    "review_df.head()"
   ]
  },
  {
   "cell_type": "code",
   "execution_count": 11,
   "metadata": {
    "nbpresent": {
     "id": "b114ac36-78b8-49f1-bb62-4bcf4a44a76b"
    }
   },
   "outputs": [
    {
     "name": "stdout",
     "output_type": "stream",
     "text": [
      "comment: ฉันเคยมีราคาถูกสักพัก แต่นี่ยอดเยี่ยมกว่ามากมันถือบัตรเครดิตได้เกือบมากและสิ่งนั้นก็แย่มากสรุปแล้วมันช่วยปกป้องโทรศัพท์ของฉันได้เป็นอย่างดีและก็ดูเท่ด้วย :) แนะนำโดยฉันเวลาจัดส่งจากจีนใช้เวลาประมาณ 2 สัปดาห์ดังนั้นหากคุณต้องการให้สินค้าของคุณไม่ได้สั่งอย่างรวดเร็วเว้นแต่จะมีการจัดส่งแบบเร่งด่วน (: ลูกค้าที่มีความสุข:) แก้ไข: 8 มิถุนายน 2012 - มันยังทำงานได้ค่อนข้างดีหลังจาก 6 เดือน\n",
      "is_correct: 0.0\n",
      "review star:5.0\n"
     ]
    }
   ],
   "source": [
    "# show random en_segment / th_segment\n",
    "rand_idx = np.random.randint(len(review_df))\n",
    "print('comment: {}\\nis_correct: {}\\nreview star:{}'.format(review_df.iloc[rand_idx]['th_segment'],\n",
    "      review_df.iloc[rand_idx]['correct'],\n",
    "      review_df.iloc[rand_idx]['review_star']))"
   ]
  },
  {
   "cell_type": "code",
   "execution_count": 12,
   "metadata": {
    "nbpresent": {
     "id": "b252421b-5d03-4d2d-b83a-20e55452d9df"
    }
   },
   "outputs": [
    {
     "data": {
      "text/plain": [
       "review_id      0\n",
       "en_segment     0\n",
       "th_segment     0\n",
       "correct        0\n",
       "review_star    0\n",
       "dtype: int64"
      ]
     },
     "execution_count": 12,
     "metadata": {},
     "output_type": "execute_result"
    }
   ],
   "source": [
    "review_df.isna().sum()"
   ]
  },
  {
   "cell_type": "code",
   "execution_count": 13,
   "metadata": {
    "nbpresent": {
     "id": "228db468-5f5a-4897-b86e-164217e03b54"
    }
   },
   "outputs": [
    {
     "data": {
      "text/plain": [
       "<matplotlib.axes._subplots.AxesSubplot at 0x7fb82aaf3990>"
      ]
     },
     "execution_count": 13,
     "metadata": {},
     "output_type": "execute_result"
    },
    {
     "data": {
      "image/png": "[encoded data removed]",
      "text/plain": [
       "<Figure size 432x288 with 1 Axes>"
      ]
     },
     "metadata": {
      "needs_background": "light"
     },
     "output_type": "display_data"
    }
   ],
   "source": [
    "review_df['correct'].value_counts().plot(kind='bar')"
   ]
  },
  {
   "cell_type": "code",
   "execution_count": 14,
   "metadata": {
    "nbpresent": {
     "id": "e94d9fa7-64a8-4109-8f60-ed962871f0d0"
    }
   },
   "outputs": [
    {
     "data": {
      "text/plain": [
       "<matplotlib.axes._subplots.AxesSubplot at 0x7fb82aa47710>"
      ]
     },
     "execution_count": 14,
     "metadata": {},
     "output_type": "execute_result"
    },
    {
     "data": {
      "image/png": "[encoded data removed]",
      "text/plain": [
       "<Figure size 432x288 with 1 Axes>"
      ]
     },
     "metadata": {
      "needs_background": "light"
     },
     "output_type": "display_data"
    }
   ],
   "source": [
    "review_df['review_star'].value_counts().plot(kind='bar')"
   ]
  },
  {
   "cell_type": "code",
   "execution_count": 18,
   "metadata": {
    "nbpresent": {
     "id": "fc810045-cb31-4110-8885-cca5daca5d80"
    }
   },
   "outputs": [
    {
     "name": "stdout",
     "output_type": "stream",
     "text": [
      "Corpus: wiki_lm_lstm\n",
      "- Downloading: wiki_lm_lstm 0.32\n"
     ]
    },
    {
     "name": "stderr",
     "output_type": "stream",
     "text": [
      "100%|██████████| 1050919089/1050919089 [00:30<00:00, 34064861.62it/s]\n"
     ]
    },
    {
     "name": "stdout",
     "output_type": "stream",
     "text": [
      "Corpus: wiki_itos_lstm\n",
      "- Downloading: wiki_itos_lstm 0.32\n"
     ]
    },
    {
     "name": "stderr",
     "output_type": "stream",
     "text": [
      "100%|██████████| 1530484/1530484 [00:00<00:00, 11983085.92it/s]\n"
     ]
    }
   ],
   "source": [
    "from pythainlp.ulmfit import *"
   ]
  },
  {
   "cell_type": "code",
   "execution_count": null,
   "metadata": {
    "nbpresent": {
     "id": "18103c5c-5fd0-404d-a2f5-335d75b43418"
    }
   },
   "outputs": [],
   "source": [
    "review_df[\"processed\"] = review_df['th_segment'].map(lambda x: \"|\".join(process_thai(x)))\n",
    "review_df[\"wc\"] = review_df['processed'].map(lambda x: len(x.split(\"|\")))\n",
    "review_df[\"uwc\"] = review_df['processed'].map(lambda x: len(set(x.split(\"|\"))))"
   ]
  },
  {
   "cell_type": "code",
   "execution_count": 3,
   "metadata": {
    "nbpresent": {
     "id": "e2bda8b4-46b6-48e4-86ae-a94547cc0a5c"
    }
   },
   "outputs": [],
   "source": [
    "# save tokenized review\n",
    "# os.makedirs('tmp',exist_ok=True)\n",
    "# review_df.to_csv('tmp/review_df_check-point-1.csv',index=False)\n",
    "\n",
    "review_df = pd.read_csv('tmp/review_df_check-point-1.csv')"
   ]
  },
  {
   "cell_type": "markdown",
   "metadata": {
    "nbpresent": {
     "id": "bb557a4f-86f7-42f1-b49d-b16f71b24941"
    }
   },
   "source": [
    "# Train/valid split"
   ]
  },
  {
   "cell_type": "code",
   "execution_count": 4,
   "metadata": {
    "nbpresent": {
     "id": "dc4d5f9e-d1f3-40d8-9dd1-4cc8e77ee5cd"
    }
   },
   "outputs": [
    {
     "data": {
      "text/plain": [
       "((241652, 8), (30207, 8), (30207, 8))"
      ]
     },
     "execution_count": 4,
     "metadata": {},
     "output_type": "execute_result"
    }
   ],
   "source": [
    "train_df, valid_df = train_test_split(review_df, test_size=0.20, random_state=1)\n",
    "train_df = train_df.reset_index(drop=True)\n",
    "\n",
    "# further split validation to validation & test\n",
    "valid_df, test_df = train_test_split(valid_df, test_size=0.50, random_state=11)\n",
    "valid_df = valid_df.reset_index(drop=True)\n",
    "test_df = test_df.reset_index(drop=True)\n",
    "\n",
    "train_df.shape, valid_df.shape, test_df.shape"
   ]
  },
  {
   "cell_type": "code",
   "execution_count": 5,
   "metadata": {
    "nbpresent": {
     "id": "9f2151ee-f79a-4652-b388-f2444fd0234f"
    }
   },
   "outputs": [
    {
     "data": {
      "text/plain": [
       "0.0    0.689533\n",
       "1.0    0.310467\n",
       "Name: correct, dtype: float64"
      ]
     },
     "execution_count": 5,
     "metadata": {},
     "output_type": "execute_result"
    }
   ],
   "source": [
    "# prevalence\n",
    "train_df[\"correct\"].value_counts(normalize=True)"
   ]
  },
  {
   "cell_type": "code",
   "execution_count": 6,
   "metadata": {
    "nbpresent": {
     "id": "7ec58639-1f78-44a6-9615-e13963ec74c5"
    }
   },
   "outputs": [
    {
     "data": {
      "text/plain": [
       "0.0    0.682822\n",
       "1.0    0.317178\n",
       "Name: correct, dtype: float64"
      ]
     },
     "execution_count": 6,
     "metadata": {},
     "output_type": "execute_result"
    }
   ],
   "source": [
    "# prevalence\n",
    "valid_df[\"correct\"].value_counts(normalize=True)"
   ]
  },
  {
   "cell_type": "code",
   "execution_count": 8,
   "metadata": {},
   "outputs": [],
   "source": [
    "# create separate train + valid data called all df\n",
    "all_df = pd.concat([train_df,valid_df],axis=0)\n",
    "all_df.reset_index(drop=True, inplace=True)"
   ]
  },
  {
   "cell_type": "code",
   "execution_count": 9,
   "metadata": {},
   "outputs": [],
   "source": [
    "all_df.to_feather('tmp/all_df')"
   ]
  },
  {
   "cell_type": "code",
   "execution_count": 10,
   "metadata": {},
   "outputs": [
    {
     "data": {
      "text/plain": [
       "(271859, 8)"
      ]
     },
     "execution_count": 10,
     "metadata": {},
     "output_type": "execute_result"
    }
   ],
   "source": [
    "all_df.shape"
   ]
  },
  {
   "cell_type": "code",
   "execution_count": 11,
   "metadata": {},
   "outputs": [
    {
     "data": {
      "text/html": [
       "<div>\n",
       "<style scoped>\n",
       "    .dataframe tbody tr th:only-of-type {\n",
       "        vertical-align: middle;\n",
       "    }\n",
       "\n",
       "    .dataframe tbody tr th {\n",
       "        vertical-align: top;\n",
       "    }\n",
       "\n",
       "    .dataframe thead th {\n",
       "        text-align: right;\n",
       "    }\n",
       "</style>\n",
       "<table border=\"1\" class=\"dataframe\">\n",
       "  <thead>\n",
       "    <tr style=\"text-align: right;\">\n",
       "      <th></th>\n",
       "      <th>review_id</th>\n",
       "      <th>en_segment</th>\n",
       "      <th>th_segment</th>\n",
       "      <th>correct</th>\n",
       "      <th>review_star</th>\n",
       "      <th>processed</th>\n",
       "      <th>wc</th>\n",
       "      <th>uwc</th>\n",
       "    </tr>\n",
       "  </thead>\n",
       "  <tbody>\n",
       "    <tr>\n",
       "      <th>0</th>\n",
       "      <td>1-105256</td>\n",
       "      <td>The writing seems stilted and the characters a...</td>\n",
       "      <td>ดูเหมือนว่าการเขียนจะโอ้อวดและตัวละครไม่น่าสนใ...</td>\n",
       "      <td>0.0</td>\n",
       "      <td>2.0</td>\n",
       "      <td>ดูเหมือนว่า|การเขียน|จะ|โอ้อวด|และ|ตัวละคร|ไม่...</td>\n",
       "      <td>88</td>\n",
       "      <td>70</td>\n",
       "    </tr>\n",
       "    <tr>\n",
       "      <th>1</th>\n",
       "      <td>2-38709</td>\n",
       "      <td>We bought these for our 3 year old son to acco...</td>\n",
       "      <td>เราซื้อสิ่งเหล่านี้ให้กับลูกชายวัย 3 ขวบของเรา...</td>\n",
       "      <td>0.0</td>\n",
       "      <td>4.0</td>\n",
       "      <td>เรา|ซื้อ|สิ่ง|เหล่านี้|ให้|กับ|ลูกชาย|วัย|3|ขว...</td>\n",
       "      <td>37</td>\n",
       "      <td>32</td>\n",
       "    </tr>\n",
       "    <tr>\n",
       "      <th>2</th>\n",
       "      <td>1-399475</td>\n",
       "      <td>this movie was fun and funny, I loved it from ...</td>\n",
       "      <td>หนังเรื่องนี้สนุกและตลกมากฉันชอบมันตั้งแต่ต้นจ...</td>\n",
       "      <td>0.0</td>\n",
       "      <td>4.0</td>\n",
       "      <td>หนัง|เรื่อง|นี้|สนุก|และ|ตลก|มาก|ฉัน|ชอบ|มัน|ต...</td>\n",
       "      <td>24</td>\n",
       "      <td>23</td>\n",
       "    </tr>\n",
       "    <tr>\n",
       "      <th>3</th>\n",
       "      <td>2-31276</td>\n",
       "      <td>The book has a lot of helpful tips, but is lac...</td>\n",
       "      <td>หนังสือเล่มนี้มีเคล็ดลับที่เป็นประโยชน์มากมาย ...</td>\n",
       "      <td>0.0</td>\n",
       "      <td>2.0</td>\n",
       "      <td>หนังสือ|เล่ม|นี้|มี|เคล็ดลับ|ที่|เป็นประโยชน์|...</td>\n",
       "      <td>73</td>\n",
       "      <td>64</td>\n",
       "    </tr>\n",
       "    <tr>\n",
       "      <th>4</th>\n",
       "      <td>2-11047</td>\n",
       "      <td>I like the author however this book did was no...</td>\n",
       "      <td>ฉันชอบผู้แต่ง แต่หนังสือเล่มนี้ไม่ได้ขึ้นอยู่ก...</td>\n",
       "      <td>0.0</td>\n",
       "      <td>1.0</td>\n",
       "      <td>ฉัน|ชอบ|ผู้แต่ง|แต่|หนังสือ|เล่ม|นี้|ไม่ได้|ขึ...</td>\n",
       "      <td>39</td>\n",
       "      <td>33</td>\n",
       "    </tr>\n",
       "  </tbody>\n",
       "</table>\n",
       "</div>"
      ],
      "text/plain": [
       "  review_id                                         en_segment  \\\n",
       "0  1-105256  The writing seems stilted and the characters a...   \n",
       "1   2-38709  We bought these for our 3 year old son to acco...   \n",
       "2  1-399475  this movie was fun and funny, I loved it from ...   \n",
       "3   2-31276  The book has a lot of helpful tips, but is lac...   \n",
       "4   2-11047  I like the author however this book did was no...   \n",
       "\n",
       "                                          th_segment  correct  review_star  \\\n",
       "0  ดูเหมือนว่าการเขียนจะโอ้อวดและตัวละครไม่น่าสนใ...      0.0          2.0   \n",
       "1  เราซื้อสิ่งเหล่านี้ให้กับลูกชายวัย 3 ขวบของเรา...      0.0          4.0   \n",
       "2  หนังเรื่องนี้สนุกและตลกมากฉันชอบมันตั้งแต่ต้นจ...      0.0          4.0   \n",
       "3  หนังสือเล่มนี้มีเคล็ดลับที่เป็นประโยชน์มากมาย ...      0.0          2.0   \n",
       "4  ฉันชอบผู้แต่ง แต่หนังสือเล่มนี้ไม่ได้ขึ้นอยู่ก...      0.0          1.0   \n",
       "\n",
       "                                           processed  wc  uwc  \n",
       "0  ดูเหมือนว่า|การเขียน|จะ|โอ้อวด|และ|ตัวละคร|ไม่...  88   70  \n",
       "1  เรา|ซื้อ|สิ่ง|เหล่านี้|ให้|กับ|ลูกชาย|วัย|3|ขว...  37   32  \n",
       "2  หนัง|เรื่อง|นี้|สนุก|และ|ตลก|มาก|ฉัน|ชอบ|มัน|ต...  24   23  \n",
       "3  หนังสือ|เล่ม|นี้|มี|เคล็ดลับ|ที่|เป็นประโยชน์|...  73   64  \n",
       "4  ฉัน|ชอบ|ผู้แต่ง|แต่|หนังสือ|เล่ม|นี้|ไม่ได้|ขึ...  39   33  "
      ]
     },
     "execution_count": 11,
     "metadata": {},
     "output_type": "execute_result"
    }
   ],
   "source": [
    "all_df.head()"
   ]
  },
  {
   "cell_type": "markdown",
   "metadata": {
    "nbpresent": {
     "id": "f0100153-e7e4-43b3-b47d-d0e930b465cd"
    }
   },
   "source": [
    "# Logistic regression"
   ]
  },
  {
   "cell_type": "code",
   "execution_count": 4,
   "metadata": {
    "nbpresent": {
     "id": "5cc41258-ba74-4553-86af-af60a7ee71df"
    }
   },
   "outputs": [],
   "source": [
    "#dependent variables\n",
    "y_train = train_df[\"correct\"]\n",
    "y_valid = valid_df[\"correct\"]"
   ]
  },
  {
   "cell_type": "code",
   "execution_count": 5,
   "metadata": {
    "nbpresent": {
     "id": "77216781-9834-4978-ad9e-09033dd3e120"
    }
   },
   "outputs": [],
   "source": [
    "#text faetures\n",
    "from sklearn.feature_extraction.text import TfidfVectorizer\n",
    "from sklearn.linear_model import LogisticRegression"
   ]
  },
  {
   "cell_type": "code",
   "execution_count": 6,
   "metadata": {
    "nbpresent": {
     "id": "9af808e6-b983-4b1f-ae2a-59345393b4e5"
    }
   },
   "outputs": [
    {
     "name": "stderr",
     "output_type": "stream",
     "text": [
      "/opt/conda/lib/python3.7/site-packages/sklearn/feature_extraction/text.py:507: UserWarning: The parameter 'token_pattern' will not be used since 'tokenizer' is not None'\n",
      "  warnings.warn(\"The parameter 'token_pattern' will not be used\"\n"
     ]
    },
    {
     "data": {
      "text/plain": [
       "TfidfVectorizer(analyzer='word', binary=False, decode_error='strict',\n",
       "                dtype=<class 'numpy.float64'>, encoding='utf-8',\n",
       "                input='content', lowercase=True, max_df=1.0, max_features=20000,\n",
       "                min_df=1, ngram_range=(1, 2), norm='l2', preprocessor=None,\n",
       "                smooth_idf=True, stop_words=None, strip_accents=None,\n",
       "                sublinear_tf=True, token_pattern='(?u)\\\\b\\\\w\\\\w+\\\\b',\n",
       "                tokenizer=<function <lambda> at 0x7fc7639590e0>, use_idf=True,\n",
       "                vocabulary=None)"
      ]
     },
     "execution_count": 6,
     "metadata": {},
     "output_type": "execute_result"
    },
    {
     "data": {
      "text/plain": [
       "((241652, 20000), (30207, 20000))"
      ]
     },
     "execution_count": 6,
     "metadata": {},
     "output_type": "execute_result"
    }
   ],
   "source": [
    "tfidf = TfidfVectorizer(tokenizer=lambda x:x.split('|'), ngram_range=(1,2), max_features=25_000, sublinear_tf=True)\n",
    "tfidf.fit(pd.concat([train_df,valid_df],axis=0)[\"processed\"])\n",
    "text_train = tfidf.transform(train_df[\"processed\"])\n",
    "text_valid = tfidf.transform(valid_df[\"processed\"])\n",
    "text_test = tfidf.transform(test_df[\"processed\"])\n",
    "text_train.shape, text_valid.shape"
   ]
  },
  {
   "cell_type": "code",
   "execution_count": 7,
   "metadata": {
    "nbpresent": {
     "id": "4424853d-b898-49d2-ae7c-63b6324fb86b"
    }
   },
   "outputs": [
    {
     "data": {
      "text/plain": [
       "StandardScaler(copy=True, with_mean=True, with_std=True)"
      ]
     },
     "execution_count": 7,
     "metadata": {},
     "output_type": "execute_result"
    },
    {
     "name": "stdout",
     "output_type": "stream",
     "text": [
      "[55.35855351 46.01925263] [651.70895073 381.49864169]\n"
     ]
    },
    {
     "data": {
      "text/plain": [
       "((241652, 2), (30207, 2))"
      ]
     },
     "execution_count": 7,
     "metadata": {},
     "output_type": "execute_result"
    }
   ],
   "source": [
    "#word count and unique word counts; actually might not be so useful\n",
    "from sklearn.preprocessing import StandardScaler\n",
    "\n",
    "scaler = StandardScaler()\n",
    "scaler.fit(pd.concat([train_df,valid_df],axis=0)[[\"wc\",\"uwc\"]].astype(float))\n",
    "print(scaler.mean_, scaler.var_)\n",
    "num_train = scaler.transform(train_df[[\"wc\",\"uwc\"]].astype(float))\n",
    "num_valid = scaler.transform(valid_df[[\"wc\",\"uwc\"]].astype(float))\n",
    "num_test = scaler.transform(test_df[[\"wc\",\"uwc\"]].astype(float))\n",
    "num_train.shape, num_valid.shape"
   ]
  },
  {
   "cell_type": "code",
   "execution_count": null,
   "metadata": {
    "nbpresent": {
     "id": "51f64e06-0521-4b97-a701-4a8ff2661ed3"
    },
    "scrolled": true
   },
   "outputs": [],
   "source": [
    "#concatenate text and word count features\n",
    "X_train = np.concatenate([num_train,text_train.toarray()],axis=1)\n",
    "X_valid = np.concatenate([num_valid,text_valid.toarray()],axis=1)\n",
    "X_test = np.concatenate([num_test,text_test.toarray()],axis=1)\n",
    "X_train.shape, X_valid.shape"
   ]
  },
  {
   "cell_type": "code",
   "execution_count": 12,
   "metadata": {
    "nbpresent": {
     "id": "4c75cc50-ab57-44be-bea4-b0d3b39e148d"
    }
   },
   "outputs": [
    {
     "data": {
      "text/plain": [
       "LogisticRegression(C=2.0, class_weight=None, dual=False, fit_intercept=True,\n",
       "                   intercept_scaling=1, l1_ratio=None, max_iter=100,\n",
       "                   multi_class='ovr', n_jobs=None, penalty='l2',\n",
       "                   random_state=None, solver='liblinear', tol=0.0001, verbose=0,\n",
       "                   warm_start=False)"
      ]
     },
     "execution_count": 12,
     "metadata": {},
     "output_type": "execute_result"
    },
    {
     "data": {
      "text/plain": [
       "0.7160450231736923"
      ]
     },
     "execution_count": 12,
     "metadata": {},
     "output_type": "execute_result"
    }
   ],
   "source": [
    "#fit logistic regression models\n",
    "model = LogisticRegression(C=2., penalty=\"l2\", solver=\"liblinear\", dual=False, multi_class=\"ovr\")\n",
    "model.fit(X_train,y_train)\n",
    "model.score(X_valid,y_valid)"
   ]
  },
  {
   "cell_type": "code",
   "execution_count": 14,
   "metadata": {
    "nbpresent": {
     "id": "7574ea1e-6992-4589-b42c-0f92228c21bf"
    }
   },
   "outputs": [],
   "source": [
    "probs = model.predict_proba(X_valid)\n",
    "probs_df = pd.DataFrame(probs)\n",
    "probs_df.columns = model.classes_\n",
    "probs_df[\"preds\"] = model.predict(X_valid)\n",
    "probs_df[\"correct\"] = valid_df['correct']\n",
    "probs_df[\"th_segment\"] = valid_df['th_segment']\n",
    "probs_df[\"processed\"] = valid_df['processed']\n",
    "probs_df[\"wc\"] = valid_df['wc']\n",
    "probs_df[\"uwc\"] = valid_df['uwc']\n",
    "probs_df[\"hit\"] = (probs_df['preds']==probs_df['correct'])\n",
    "probs_df.to_csv(\"tmp/probs_df_linear.csv\", index=False)"
   ]
  },
  {
   "cell_type": "code",
   "execution_count": 15,
   "metadata": {
    "nbpresent": {
     "id": "78556181-f120-4a81-acdc-0d0422542ef2"
    }
   },
   "outputs": [
    {
     "data": {
      "text/html": [
       "<div>\n",
       "<style scoped>\n",
       "    .dataframe tbody tr th:only-of-type {\n",
       "        vertical-align: middle;\n",
       "    }\n",
       "\n",
       "    .dataframe tbody tr th {\n",
       "        vertical-align: top;\n",
       "    }\n",
       "\n",
       "    .dataframe thead th {\n",
       "        text-align: right;\n",
       "    }\n",
       "</style>\n",
       "<table border=\"1\" class=\"dataframe\">\n",
       "  <thead>\n",
       "    <tr style=\"text-align: right;\">\n",
       "      <th></th>\n",
       "      <th>0.0</th>\n",
       "      <th>1.0</th>\n",
       "      <th>preds</th>\n",
       "      <th>correct</th>\n",
       "      <th>th_segment</th>\n",
       "      <th>processed</th>\n",
       "      <th>wc</th>\n",
       "      <th>uwc</th>\n",
       "      <th>hit</th>\n",
       "    </tr>\n",
       "  </thead>\n",
       "  <tbody>\n",
       "    <tr>\n",
       "      <th>0</th>\n",
       "      <td>0.807132</td>\n",
       "      <td>0.192868</td>\n",
       "      <td>0.0</td>\n",
       "      <td>1.0</td>\n",
       "      <td>เหตุผลเดียวที่ทำให้มันได้รับสามดาวก็เพราะว่ามั...</td>\n",
       "      <td>เหตุผล|เดียว|ที่|ทำให้|มัน|ได้รับ|สาม|ดาว|ก็เพ...</td>\n",
       "      <td>50</td>\n",
       "      <td>43</td>\n",
       "      <td>False</td>\n",
       "    </tr>\n",
       "    <tr>\n",
       "      <th>1</th>\n",
       "      <td>0.665240</td>\n",
       "      <td>0.334760</td>\n",
       "      <td>0.0</td>\n",
       "      <td>1.0</td>\n",
       "      <td>ซื้อและลองสิ่งนี้เมื่อหน่วยเก่าของฉันล้มเหลว (...</td>\n",
       "      <td>ซื้อ|และ|ลอง|สิ่ง|นี้|เมื่อ|หน่วย|เก่า|ของ|ฉัน...</td>\n",
       "      <td>28</td>\n",
       "      <td>28</td>\n",
       "      <td>False</td>\n",
       "    </tr>\n",
       "    <tr>\n",
       "      <th>2</th>\n",
       "      <td>0.272429</td>\n",
       "      <td>0.727571</td>\n",
       "      <td>1.0</td>\n",
       "      <td>0.0</td>\n",
       "      <td>ฉันดีใจที่ฉันไม่ได้จ่ายอะไรเลย</td>\n",
       "      <td>ฉัน|ดีใจ|ที่|ฉัน|ไม่ได้|จ่าย|อะไร|เลย</td>\n",
       "      <td>8</td>\n",
       "      <td>7</td>\n",
       "      <td>False</td>\n",
       "    </tr>\n",
       "    <tr>\n",
       "      <th>3</th>\n",
       "      <td>0.864635</td>\n",
       "      <td>0.135365</td>\n",
       "      <td>0.0</td>\n",
       "      <td>0.0</td>\n",
       "      <td>ไม่ชอบสไตล์การเขียนของผู้เขียนรู้สึกว่ามันสื่อ...</td>\n",
       "      <td>ไม่|ชอบ|สไตล์|การเขียน|ของ|ผู้เขียน|รู้สึก|ว่า...</td>\n",
       "      <td>83</td>\n",
       "      <td>71</td>\n",
       "      <td>True</td>\n",
       "    </tr>\n",
       "    <tr>\n",
       "      <th>4</th>\n",
       "      <td>0.915618</td>\n",
       "      <td>0.084382</td>\n",
       "      <td>0.0</td>\n",
       "      <td>0.0</td>\n",
       "      <td>ฉันมีสุนัขตัวใหญ่มาก - £ 12 และปลอกคอนี้จะไม่พ...</td>\n",
       "      <td>ฉัน|มี|สุนัข|ตัว|ใหญ่|มาก|-|£|12|และ|ปลอกคอ|นี...</td>\n",
       "      <td>73</td>\n",
       "      <td>55</td>\n",
       "      <td>True</td>\n",
       "    </tr>\n",
       "  </tbody>\n",
       "</table>\n",
       "</div>"
      ],
      "text/plain": [
       "        0.0       1.0  preds  correct  \\\n",
       "0  0.807132  0.192868    0.0      1.0   \n",
       "1  0.665240  0.334760    0.0      1.0   \n",
       "2  0.272429  0.727571    1.0      0.0   \n",
       "3  0.864635  0.135365    0.0      0.0   \n",
       "4  0.915618  0.084382    0.0      0.0   \n",
       "\n",
       "                                          th_segment  \\\n",
       "0  เหตุผลเดียวที่ทำให้มันได้รับสามดาวก็เพราะว่ามั...   \n",
       "1  ซื้อและลองสิ่งนี้เมื่อหน่วยเก่าของฉันล้มเหลว (...   \n",
       "2                     ฉันดีใจที่ฉันไม่ได้จ่ายอะไรเลย   \n",
       "3  ไม่ชอบสไตล์การเขียนของผู้เขียนรู้สึกว่ามันสื่อ...   \n",
       "4  ฉันมีสุนัขตัวใหญ่มาก - £ 12 และปลอกคอนี้จะไม่พ...   \n",
       "\n",
       "                                           processed  wc  uwc    hit  \n",
       "0  เหตุผล|เดียว|ที่|ทำให้|มัน|ได้รับ|สาม|ดาว|ก็เพ...  50   43  False  \n",
       "1  ซื้อ|และ|ลอง|สิ่ง|นี้|เมื่อ|หน่วย|เก่า|ของ|ฉัน...  28   28  False  \n",
       "2              ฉัน|ดีใจ|ที่|ฉัน|ไม่ได้|จ่าย|อะไร|เลย   8    7  False  \n",
       "3  ไม่|ชอบ|สไตล์|การเขียน|ของ|ผู้เขียน|รู้สึก|ว่า...  83   71   True  \n",
       "4  ฉัน|มี|สุนัข|ตัว|ใหญ่|มาก|-|£|12|และ|ปลอกคอ|นี...  73   55   True  "
      ]
     },
     "execution_count": 15,
     "metadata": {},
     "output_type": "execute_result"
    }
   ],
   "source": [
    "probs_df.head()"
   ]
  },
  {
   "cell_type": "code",
   "execution_count": 17,
   "metadata": {
    "nbpresent": {
     "id": "6abdc1d9-b4a1-442c-976c-3b9e9d486704"
    }
   },
   "outputs": [
    {
     "name": "stdout",
     "output_type": "stream",
     "text": [
      "0.7160450231736923\n"
     ]
    },
    {
     "data": {
      "text/plain": [
       "<matplotlib.axes._subplots.AxesSubplot at 0x13cbbc748>"
      ]
     },
     "execution_count": 17,
     "metadata": {},
     "output_type": "execute_result"
    },
    {
     "data": {
      "text/plain": [
       "Text(30.5, 0.5, 'Actual')"
      ]
     },
     "execution_count": 17,
     "metadata": {},
     "output_type": "execute_result"
    },
    {
     "data": {
      "text/plain": [
       "Text(0.5, 12.5, 'Predicted')"
      ]
     },
     "execution_count": 17,
     "metadata": {},
     "output_type": "execute_result"
    },
    {
     "data": {
      "image/png": "[encoded data removed]",
      "text/plain": [
       "<Figure size 432x288 with 2 Axes>"
      ]
     },
     "metadata": {
      "needs_background": "light"
     },
     "output_type": "display_data"
    }
   ],
   "source": [
    "from sklearn.metrics import confusion_matrix\n",
    "\n",
    "conf_mat = confusion_matrix(probs_df['correct'],probs_df['preds'])\n",
    "print(model.score(X_valid,y_valid))\n",
    "sns.heatmap(conf_mat, annot=True, fmt=\"d\",\n",
    "            xticklabels=model.classes_, yticklabels=model.classes_)\n",
    "plt.ylabel(\"Actual\")\n",
    "plt.xlabel(\"Predicted\")\n",
    "plt.show()"
   ]
  },
  {
   "cell_type": "markdown",
   "metadata": {
    "nbpresent": {
     "id": "15c43e31-4ab8-4bcd-b4cc-ff0a012aab62"
    }
   },
   "source": [
    "## ULMFit"
   ]
  },
  {
   "cell_type": "code",
   "execution_count": 10,
   "metadata": {
    "nbpresent": {
     "id": "3055fdbf-d5c8-4e21-b4c2-b0d6afb45531"
    }
   },
   "outputs": [],
   "source": [
    "from fastai.text import *\n",
    "from fastai.callbacks import CSVLogger, SaveModelCallback\n",
    "from pythainlp.ulmfit import *"
   ]
  },
  {
   "cell_type": "code",
   "execution_count": 12,
   "metadata": {
    "nbpresent": {
     "id": "20fc262e-b944-443e-b255-9b1a5b01ec8b"
    }
   },
   "outputs": [],
   "source": [
    "os.makedirs('output', exist_ok=True)\n",
    "model_path = \"output/\"\n",
    "# review_df = pd.read_csv('src/amzn_fake_review_star_correct_302066.csv')\n",
    "# train_df, valid_df = train_test_split(review_df, test_size=0.15)"
   ]
  },
  {
   "cell_type": "code",
   "execution_count": 13,
   "metadata": {
    "nbpresent": {
     "id": "cd236985-82db-4ef0-9657-9ca0e19c7c2f"
    }
   },
   "outputs": [
    {
     "data": {
      "text/html": [],
      "text/plain": [
       "<IPython.core.display.HTML object>"
      ]
     },
     "metadata": {},
     "output_type": "display_data"
    },
    {
     "data": {
      "text/html": [],
      "text/plain": [
       "<IPython.core.display.HTML object>"
      ]
     },
     "metadata": {},
     "output_type": "display_data"
    }
   ],
   "source": [
    "tt = Tokenizer(tok_func=ThaiTokenizer, lang=\"th\", pre_rules=pre_rules_th, post_rules=post_rules_th)\n",
    "processor = [TokenizeProcessor(tokenizer=tt, chunksize=10000, mark_fields=False),\n",
    "            NumericalizeProcessor(vocab=None, max_vocab=60000, min_freq=2)]\n",
    "\n",
    "data_lm = (TextList.from_df(all_df, model_path, cols=\"th_segment\", processor=processor)\n",
    "    .split_by_rand_pct(valid_pct = 0.01, seed = 1412)\n",
    "    .label_for_lm()\n",
    "    .databunch(bs=48))\n",
    "data_lm.sanity_check()"
   ]
  },
  {
   "cell_type": "code",
   "execution_count": 14,
   "metadata": {
    "nbpresent": {
     "id": "64aa1897-c3ab-4580-b822-83bf91fa6e1f"
    }
   },
   "outputs": [],
   "source": [
    "data_lm.save('amazon_fake_review_lm.pkl')"
   ]
  },
  {
   "cell_type": "code",
   "execution_count": 15,
   "metadata": {
    "nbpresent": {
     "id": "f173fb22-5d20-465b-ad34-9a68ba824d7d"
    },
    "scrolled": false
   },
   "outputs": [
    {
     "data": {
      "text/plain": [
       "LanguageLearner(data=TextLMDataBunch;\n",
       "\n",
       "Train: LabelList (269141 items)\n",
       "x: LMTextList\n",
       "xxbos   ดูเหมือนว่า การเขียน จะ โอ้อวด และ ตัวละคร ไม่ น่าสนใจ พอ ที่จะ ดึง ฉัน เข้ามา มี หลาย คน ที่ เป็น แบบแผน เช่น   &' nerd &'   หรือ   &' jerk &' และ พล็อต เรื่อง ต่าง   ๆ   ดูเหมือน จะ ถูก วางแผน เพื่อ ความ สะดวกสบาย ของ ฉัน เรื่องราว ลาก ไป ใน สถานที่ โดยเฉพาะอย่างยิ่ง ใน บางครั้ง อาจ เป็น เพราะ ฉัน เคยชิน กับ นวนิยาย อเมริกัน สมัยใหม่ ซึ่ง มีแนวโน้ม ที่จะ เคลื่อนไหว ได้ เร็ว ขึ้น โดย ไม่ต้อง สร้าง โลก ที่ ซับซ้อน ในทางกลับกัน ตัวละคร เหล่านี้ มี ความลึก ไม่ มาก เมื่อ เทียบ กับ ที่ ฉัน มักจะ พบ   /   พบ เจอ,xxbos   เรา ซื้อ สิ่ง เหล่านี้ ให้ กับ ลูกชาย วัย   3   ขวบ ของ เรา เพื่อ ติดตาม   kindle   fire   ใหม่ ของ เขา เพราะ เรา คิด ว่า เขา จะ กลัว ที่จะ ใช้ มัน   แต่ พวกเขา กลับ กลายเป็น ว่า ถูกต้อง ง่าย นิดเดียว,xxbos   หนัง เรื่อง นี้ สนุก และ ตลก มาก ฉัน ชอบ มัน ตั้ง แต่ต้นจนจบ ภาพยนตร์ คืน วันที่ ดี เหมาะสำหรับ ผู้ ที่ ไม่ ชอบ อารมณ์ขัน หรือ ความรุนแรง,xxbos   หนังสือ เล่ม นี้ มี เคล็ดลับ ที่ เป็นประโยชน์ มากมาย   แต่ ขาด บาง วิธี ที่จะ ทำให้ มีประโยชน์ และ ใช้งาน ได้ ง่าย ขึ้น ตัวอย่างเช่น ส่วน   &' การ เริ่มต้น อย่างรวดเร็ว &'   บอ กว่า คุณ ควร เริ่ม ด้วย การ ฝึก ครั้งแรก ที่ ระบุ ไว้ จากนั้น ย้อนกลับ ไป   ผ่าน การออกกำลังกาย   1   ต่อ หนึ่ง จากนั้น ทำ แบบฝึกหัด ทั้งหมด ใน คราว เดียว ซึ่ง ดูเหมือน จะ ไม่ ค่อย เป็นประโยชน์ เพราะ มัน แทบจะ เป็นไปไม่ได้ เลย ที่จะ ไม่ ติดตาม สิ่ง หนึ่ง ที่ เกิดขึ้น หลังจากนั้น,xxbos   ฉัน ชอบ ผู้แต่ง   แต่ หนังสือ เล่ม นี้ ไม่ได้ ขึ้นอยู่กับ หนังสือ ธรรมดา ของ เขา ที่ มัน ขาด ความลึก เกี่ยวกับ ตัวละคร ดูเหมือนว่า จะ รีบ แล้วก็ รีบ มาก ไม่มี การ เชื่อมต่อ ระหว่าง ตัวละคร ที่ ทำให้ ฉัน ต้องการ พวกเขา ด้วยกัน น่า ผิดหวัง มาก\n",
       "y: LMLabelList\n",
       ",,,,\n",
       "Path: output;\n",
       "\n",
       "Valid: LabelList (2718 items)\n",
       "x: LMTextList\n",
       "xxbos   ใน โลก ของ เรา ทุกวันนี้ ทุกสิ่ง เป็น สินค้า ชุด นี้ ผลิต ใน ราคา ถูก ด้วย คุณภาพต่ำ และ มีความรู้สึก ของ การ แก้ไข ร่วมกัน เพื่อ ตอบสนอง การ สิ้นสุด ใน การผลิต อายุ ห้า ขวบ ของ ฉัน ที่รัก จอร์จ อยากรู้อยากเห็น และ การแสดง ตลก ของ เขา รัก พวกเขา   แต่ การแสดง ตัวเอง ก็ ไม่ได้ สนใจ ฉัน หวัง ว่า จะ มี ใคร ซัก คน หา วิธี อื่น สำหรับ ซีรีส์ นี้ หรือ อื่น   ๆ   ที่ รายการ ทีวี สำหรับ เด็ก ที่จะ ทำ มากกว่า สิ่ง ที่ ดูเหมือนว่า พวกเขา มี ตอนนี้ แสดงให้เห็น อึ,xxbos   หวี นี้ ดูเหมือนว่า จะ ทำ ดีมาก,xxbos   มัน ยาก ที่จะ เข้าใจ ว่า ทำไม ผู้คน มากมาย ถึง ชอบ หรือ เคารพ หนังสือ เล่ม นี้,xxbos   ก่อนอื่น ฉัน ต้อง แสดงความคิดเห็น ของ คนอื่น ว่า คุณ ต้อง การคน สอง คนใน การ ชุมนุม เมื่อ ฉัน ได้ มัน มา ด้วยกัน   ( และ ในเวลานี้ ทุก ชิ้น หลุด เข้าไป ใน สถานที่ ตั้งแต่ ชิ้นส่วน ถูก เชื่อม อย่าง ไม่ ถูกต้อง และ ไม่ได้ เชื่อม ต่อกัน อีก )   มัน ไม่ แข็งแรง พอ   -   แมว ตัว หนึ่ง ของ ฉัน กระโดด ขึ้น มา เคาะ ขา หน้า   สนับสนุน รอยขีดข่วน ใน หนึ่ง แล้วก็ กระโดด ออก เมื่อ เขา ในที่สุด ก็ คิดออก ว่า มัน ง่าย แค่ ไหน,xxbos   จนถึง ตอนนี้ ดีมาก แบตเตอรี่ นี้ มาถึง เมื่อ คาดหวัง พอดี กับ แบตเตอรี่ ที่ มี อยู่ ของ ฉัน ชาร์จ ได้ดี\n",
       "y: LMLabelList\n",
       ",,,,\n",
       "Path: output;\n",
       "\n",
       "Test: None, model=SequentialRNN(\n",
       "  (0): AWD_LSTM(\n",
       "    (encoder): Embedding(27720, 400, padding_idx=1)\n",
       "    (encoder_dp): EmbeddingDropout(\n",
       "      (emb): Embedding(27720, 400, padding_idx=1)\n",
       "    )\n",
       "    (rnns): ModuleList(\n",
       "      (0): WeightDropout(\n",
       "        (module): LSTM(400, 1550, batch_first=True)\n",
       "      )\n",
       "      (1): WeightDropout(\n",
       "        (module): LSTM(1550, 1550, batch_first=True)\n",
       "      )\n",
       "      (2): WeightDropout(\n",
       "        (module): LSTM(1550, 1550, batch_first=True)\n",
       "      )\n",
       "      (3): WeightDropout(\n",
       "        (module): LSTM(1550, 400, batch_first=True)\n",
       "      )\n",
       "    )\n",
       "    (input_dp): RNNDropout()\n",
       "    (hidden_dps): ModuleList(\n",
       "      (0): RNNDropout()\n",
       "      (1): RNNDropout()\n",
       "      (2): RNNDropout()\n",
       "      (3): RNNDropout()\n",
       "    )\n",
       "  )\n",
       "  (1): LinearDecoder(\n",
       "    (decoder): Linear(in_features=400, out_features=27720, bias=True)\n",
       "    (output_dp): RNNDropout()\n",
       "  )\n",
       "), opt_func=functools.partial(<class 'torch.optim.adam.Adam'>, betas=(0.9, 0.99)), loss_func=FlattenedLoss of CrossEntropyLoss(), metrics=[<function accuracy at 0x7f03df39f050>], true_wd=True, bn_wd=True, wd=0.01, train_bn=True, path=PosixPath('output'), model_dir='models', callback_fns=[functools.partial(<class 'fastai.basic_train.Recorder'>, add_time=True, silent=False), functools.partial(<class 'fastai.train.GradientClipping'>, clip=0.12)], callbacks=[RNNTrainer\n",
       "learn: ...\n",
       "alpha: 2\n",
       "beta: 1], layer_groups=[Sequential(\n",
       "  (0): WeightDropout(\n",
       "    (module): LSTM(400, 1550, batch_first=True)\n",
       "  )\n",
       "  (1): RNNDropout()\n",
       "), Sequential(\n",
       "  (0): WeightDropout(\n",
       "    (module): LSTM(1550, 1550, batch_first=True)\n",
       "  )\n",
       "  (1): RNNDropout()\n",
       "), Sequential(\n",
       "  (0): WeightDropout(\n",
       "    (module): LSTM(1550, 1550, batch_first=True)\n",
       "  )\n",
       "  (1): RNNDropout()\n",
       "), Sequential(\n",
       "  (0): WeightDropout(\n",
       "    (module): LSTM(1550, 400, batch_first=True)\n",
       "  )\n",
       "  (1): RNNDropout()\n",
       "), Sequential(\n",
       "  (0): Embedding(27720, 400, padding_idx=1)\n",
       "  (1): EmbeddingDropout(\n",
       "    (emb): Embedding(27720, 400, padding_idx=1)\n",
       "  )\n",
       "  (2): LinearDecoder(\n",
       "    (decoder): Linear(in_features=400, out_features=27720, bias=True)\n",
       "    (output_dp): RNNDropout()\n",
       "  )\n",
       ")], add_time=True, silent=False)"
      ]
     },
     "execution_count": 15,
     "metadata": {},
     "output_type": "execute_result"
    }
   ],
   "source": [
    "config = dict(emb_sz=400, n_hid=1550, n_layers=4, pad_token=1, qrnn=False, tie_weights=True, out_bias=True,\n",
    "             output_p=0.25, hidden_p=0.1, input_p=0.2, embed_p=0.02, weight_p=0.15)\n",
    "trn_args = dict(drop_mult=1., clip=0.12, alpha=2, beta=1)\n",
    "\n",
    "learn = language_model_learner(data_lm, AWD_LSTM, config=config, pretrained=False, **trn_args)\n",
    "\n",
    "#load pretrained models\n",
    "learn.load_pretrained(**_THWIKI_LSTM)"
   ]
  },
  {
   "cell_type": "code",
   "execution_count": 16,
   "metadata": {
    "nbpresent": {
     "id": "de529c3d-3264-4797-bfde-3cd8f4a579a2"
    }
   },
   "outputs": [
    {
     "name": "stdout",
     "output_type": "stream",
     "text": [
      "training frozen\n"
     ]
    },
    {
     "data": {
      "text/html": [
       "<table border=\"1\" class=\"dataframe\">\n",
       "  <thead>\n",
       "    <tr style=\"text-align: left;\">\n",
       "      <th>epoch</th>\n",
       "      <th>train_loss</th>\n",
       "      <th>valid_loss</th>\n",
       "      <th>accuracy</th>\n",
       "      <th>time</th>\n",
       "    </tr>\n",
       "  </thead>\n",
       "  <tbody>\n",
       "    <tr>\n",
       "      <td>0</td>\n",
       "      <td>4.089589</td>\n",
       "      <td>3.851502</td>\n",
       "      <td>0.289732</td>\n",
       "      <td>23:10</td>\n",
       "    </tr>\n",
       "  </tbody>\n",
       "</table>"
      ],
      "text/plain": [
       "<IPython.core.display.HTML object>"
      ]
     },
     "metadata": {},
     "output_type": "display_data"
    }
   ],
   "source": [
    "print(\"training frozen\")\n",
    "learn.freeze_to(-1)\n",
    "learn.fit_one_cycle(1, 1e-2, moms=(0.8, 0.7))"
   ]
  },
  {
   "cell_type": "code",
   "execution_count": 17,
   "metadata": {
    "nbpresent": {
     "id": "4d1ac58c-13f3-4969-8a33-501f37c39f34"
    }
   },
   "outputs": [
    {
     "name": "stdout",
     "output_type": "stream",
     "text": [
      "training unfrozen\n"
     ]
    },
    {
     "data": {
      "text/html": [
       "<table border=\"1\" class=\"dataframe\">\n",
       "  <thead>\n",
       "    <tr style=\"text-align: left;\">\n",
       "      <th>epoch</th>\n",
       "      <th>train_loss</th>\n",
       "      <th>valid_loss</th>\n",
       "      <th>accuracy</th>\n",
       "      <th>time</th>\n",
       "    </tr>\n",
       "  </thead>\n",
       "  <tbody>\n",
       "    <tr>\n",
       "      <td>0</td>\n",
       "      <td>3.706123</td>\n",
       "      <td>3.546770</td>\n",
       "      <td>0.326780</td>\n",
       "      <td>23:46</td>\n",
       "    </tr>\n",
       "    <tr>\n",
       "      <td>1</td>\n",
       "      <td>3.563003</td>\n",
       "      <td>3.408280</td>\n",
       "      <td>0.344232</td>\n",
       "      <td>23:44</td>\n",
       "    </tr>\n",
       "    <tr>\n",
       "      <td>2</td>\n",
       "      <td>3.476734</td>\n",
       "      <td>3.334823</td>\n",
       "      <td>0.352923</td>\n",
       "      <td>23:44</td>\n",
       "    </tr>\n",
       "    <tr>\n",
       "      <td>3</td>\n",
       "      <td>3.405852</td>\n",
       "      <td>3.290928</td>\n",
       "      <td>0.357964</td>\n",
       "      <td>23:46</td>\n",
       "    </tr>\n",
       "    <tr>\n",
       "      <td>4</td>\n",
       "      <td>3.364645</td>\n",
       "      <td>3.279840</td>\n",
       "      <td>0.359816</td>\n",
       "      <td>23:45</td>\n",
       "    </tr>\n",
       "  </tbody>\n",
       "</table>"
      ],
      "text/plain": [
       "<IPython.core.display.HTML object>"
      ]
     },
     "metadata": {},
     "output_type": "display_data"
    }
   ],
   "source": [
    "#train unfrozen\n",
    "print(\"training unfrozen\")\n",
    "learn.unfreeze()\n",
    "learn.fit_one_cycle(5, 1e-3, moms=(0.8, 0.7))"
   ]
  },
  {
   "cell_type": "code",
   "execution_count": 18,
   "metadata": {
    "nbpresent": {
     "id": "4b7ef24b-1025-4ca0-a66c-de885e9c4467"
    }
   },
   "outputs": [],
   "source": [
    "learn.save_encoder(\"amazon_thai_review_enc\")"
   ]
  },
  {
   "cell_type": "markdown",
   "metadata": {
    "nbpresent": {
     "id": "3dc922ee-af85-4d26-8a53-bc6490ff5985"
    }
   },
   "source": [
    "# Train classifier"
   ]
  },
  {
   "cell_type": "code",
   "execution_count": 20,
   "metadata": {
    "nbpresent": {
     "id": "a879da52-64e0-4727-a4c8-360611f5e30d"
    }
   },
   "outputs": [
    {
     "data": {
      "text/html": [],
      "text/plain": [
       "<IPython.core.display.HTML object>"
      ]
     },
     "metadata": {},
     "output_type": "display_data"
    },
    {
     "data": {
      "text/html": [],
      "text/plain": [
       "<IPython.core.display.HTML object>"
      ]
     },
     "metadata": {},
     "output_type": "display_data"
    },
    {
     "name": "stdout",
     "output_type": "stream",
     "text": [
      "27720\n"
     ]
    }
   ],
   "source": [
    "#lm data\n",
    "data_lm = load_data(model_path, \"amazon_fake_review_lm.pkl\")\n",
    "data_lm.sanity_check()\n",
    "\n",
    "#classification data\n",
    "tt = Tokenizer(tok_func=ThaiTokenizer, lang=\"th\", pre_rules=pre_rules_th, post_rules=post_rules_th)\n",
    "processor = [TokenizeProcessor(tokenizer=tt, chunksize=10000, mark_fields=False),\n",
    "            NumericalizeProcessor(vocab=data_lm.vocab, max_vocab=60000, min_freq=20)]\n",
    "\n",
    "data_cls = (ItemLists(model_path,train=TextList.from_df(train_df, model_path, cols=[\"th_segment\"], processor=processor),\n",
    "                     valid=TextList.from_df(valid_df, model_path, cols=[\"th_segment\"], processor=processor))\n",
    "    .label_from_df(\"correct\")\n",
    "    .databunch(bs=50)\n",
    "    )\n",
    "data_cls.sanity_check()\n",
    "print(len(data_cls.vocab.itos))"
   ]
  },
  {
   "cell_type": "code",
   "execution_count": 38,
   "metadata": {
    "nbpresent": {
     "id": "4838c0e9-96f9-415a-a6bb-d1cfb90cde7c"
    },
    "scrolled": false
   },
   "outputs": [
    {
     "data": {
      "text/plain": [
       "RNNLearner(data=TextClasDataBunch;\n",
       "\n",
       "Train: LabelList (241652 items)\n",
       "x: TextList\n",
       "xxbos   ดูเหมือนว่า การเขียน จะ โอ้อวด และ ตัวละคร ไม่ น่าสนใจ พอ ที่จะ ดึง ฉัน เข้ามา มี หลาย คน ที่ เป็น แบบแผน เช่น   &' nerd &'   หรือ   &' jerk &' และ พล็อต เรื่อง ต่าง   ๆ   ดูเหมือน จะ ถูก วางแผน เพื่อ ความ สะดวกสบาย ของ ฉัน เรื่องราว ลาก ไป ใน สถานที่ โดยเฉพาะอย่างยิ่ง ใน บางครั้ง อาจ เป็น เพราะ ฉัน เคยชิน กับ นวนิยาย อเมริกัน สมัยใหม่ ซึ่ง มีแนวโน้ม ที่จะ เคลื่อนไหว ได้ เร็ว ขึ้น โดย ไม่ต้อง สร้าง โลก ที่ ซับซ้อน ในทางกลับกัน ตัวละคร เหล่านี้ มี ความลึก ไม่ มาก เมื่อ เทียบ กับ ที่ ฉัน มักจะ พบ   /   พบ เจอ,xxbos   เรา ซื้อ สิ่ง เหล่านี้ ให้ กับ ลูกชาย วัย   3   ขวบ ของ เรา เพื่อ ติดตาม   kindle   fire   ใหม่ ของ เขา เพราะ เรา คิด ว่า เขา จะ กลัว ที่จะ ใช้ มัน   แต่ พวกเขา กลับ กลายเป็น ว่า ถูกต้อง ง่าย นิดเดียว,xxbos   หนัง เรื่อง นี้ สนุก และ ตลก มาก ฉัน ชอบ มัน ตั้ง แต่ต้นจนจบ ภาพยนตร์ คืน วันที่ ดี เหมาะสำหรับ ผู้ ที่ ไม่ ชอบ อารมณ์ขัน หรือ ความรุนแรง,xxbos   หนังสือ เล่ม นี้ มี เคล็ดลับ ที่ เป็นประโยชน์ มากมาย   แต่ ขาด บาง วิธี ที่จะ ทำให้ มีประโยชน์ และ ใช้งาน ได้ ง่าย ขึ้น ตัวอย่างเช่น ส่วน   &' การ เริ่มต้น อย่างรวดเร็ว &'   บอ กว่า คุณ ควร เริ่ม ด้วย การ ฝึก ครั้งแรก ที่ ระบุ ไว้ จากนั้น ย้อนกลับ ไป   ผ่าน การออกกำลังกาย   1   ต่อ หนึ่ง จากนั้น ทำ แบบฝึกหัด ทั้งหมด ใน คราว เดียว ซึ่ง ดูเหมือน จะ ไม่ ค่อย เป็นประโยชน์ เพราะ มัน แทบจะ เป็นไปไม่ได้ เลย ที่จะ ไม่ ติดตาม สิ่ง หนึ่ง ที่ เกิดขึ้น หลังจากนั้น,xxbos   ฉัน ชอบ ผู้แต่ง   แต่ หนังสือ เล่ม นี้ ไม่ได้ ขึ้นอยู่กับ หนังสือ ธรรมดา ของ เขา ที่ มัน ขาด ความลึก เกี่ยวกับ ตัวละคร ดูเหมือนว่า จะ รีบ แล้วก็ รีบ มาก ไม่มี การ เชื่อมต่อ ระหว่าง ตัวละคร ที่ ทำให้ ฉัน ต้องการ พวกเขา ด้วยกัน น่า ผิดหวัง มาก\n",
       "y: FloatList\n",
       "0.0,0.0,0.0,0.0,0.0\n",
       "Path: output;\n",
       "\n",
       "Valid: LabelList (30207 items)\n",
       "x: TextList\n",
       "xxbos   คุณ ซื้อ สิ่ง เหล่านี้ ใน ราคา ถูก เมื่อ คิด ว่า คุณ ได้รับ ทั้ง กรณี   แต่ จริงๆ แล้ว ครึ่งหนึ่ง ของ ราคา นั้น มัน ไม่ คุ้มค่า ที่จะ อารมณ์เสีย และ พวกเขา เข้ากัน กับ เครื่อง ปั่น ของ ฉัน   แต่ ฉัน ต้องการ เตือน ผู้อื่น ก่อนที่จะ เสียเงิน กับ สิ่ง นี้ พวกเขา ทำ สมูทตี้ ยอดเยี่ยม ด้วย ผลไม้ แช่แข็ง !   :),xxbos   ไม่แน่ใจ ว่า ใช้งาน ได้ จริง หรือไม่ ฉัน แค่ ให้ อันนี้ ให้ เพื่อน ของ ฉัน ดูเหมือนว่า ผลลัพธ์ ของ เขา จะ ดี ไม่มี การร้องเรียน จาก เขา แต่ ผลิตภัณฑ์ มี ราคาแพง มาก และ ไม่ ค่อย ดี นัก เขา บอ กว่า เขา ได้ รับประโยชน์ มากขึ้น ใน รา คาที่ ถูก กว่า,xxbos   ซื้อ จาก ผู้ขาย และ ได้รับ ใน   3   วัน กับ   prime,xxbos   ผลิตภัณฑ์ นี้ มี คุณภาพ ไม่ ดีฉัน เพิ่ง มี เวลา สอง สาม เดือน และ อีก ด้าน หนึ่ง เพิ่ง หลุด เมื่อ สามี ของ ฉัน พยายาม หาเงิน ออกจาก ทะเบียน ฝีมือ แย่ หรือ กาว ไม่ดี ? ฉัน จะ ไม่มีทาง รู้ เพราะ เรา ไม่ได้ เก็บ กระดาษ ไว้ ใน นั้น มัน เป็นปัญหา มากเกินไป สำหรับ ฉัน เนื่องจาก มี เด็ก   2   คน ที่ ไปเที่ยว กับ มัน ทุก สุดสัปดาห์ ราคา ควร มากกว่า นี้ อย่า วาง ของ หนัก   ๆ   เหมือน เงินสด เลย,xxbos   ฉัน เพิ่ง ได้รับ กรณี นี้ เป็น สีชมพู สำหรับ   ipad   2   ของ ฉัน และ จนถึง ตอนนี้ ลูกค้า มีความสุข มาก สี เป็นจริง กับ ภาพ มัน พอดี เช่นกัน สิ่ง เดียว ที่ ฉัน ร้องเรียน เกี่ยวกับ มัน   ( ไม่ มาก )   ก็ คือ มัน มี ฝุ่น อยู่ สอง สาม ชิ้น การ เช็ด อย่างรวดเร็ว ด้วย แอลกอฮอล์ ถู คงที่   แต่ ถ้า คุณ กำลัง มองหา บางสิ่ง ที่ สมบูรณ์แบบ สำหรับ ลุค ให้ ใช้ เงิน เพิ่มขึ้น อีก   $   หรือ รับ   smart   cover\n",
       "y: FloatList\n",
       "0.0,0.0,1.0,0.0,0.0\n",
       "Path: output;\n",
       "\n",
       "Test: None, model=SequentialRNN(\n",
       "  (0): MultiBatchEncoder(\n",
       "    (module): AWD_LSTM(\n",
       "      (encoder): Embedding(27720, 400, padding_idx=1)\n",
       "      (encoder_dp): EmbeddingDropout(\n",
       "        (emb): Embedding(27720, 400, padding_idx=1)\n",
       "      )\n",
       "      (rnns): ModuleList(\n",
       "        (0): WeightDropout(\n",
       "          (module): LSTM(400, 1550, batch_first=True)\n",
       "        )\n",
       "        (1): WeightDropout(\n",
       "          (module): LSTM(1550, 1550, batch_first=True)\n",
       "        )\n",
       "        (2): WeightDropout(\n",
       "          (module): LSTM(1550, 1550, batch_first=True)\n",
       "        )\n",
       "        (3): WeightDropout(\n",
       "          (module): LSTM(1550, 400, batch_first=True)\n",
       "        )\n",
       "      )\n",
       "      (input_dp): RNNDropout()\n",
       "      (hidden_dps): ModuleList(\n",
       "        (0): RNNDropout()\n",
       "        (1): RNNDropout()\n",
       "        (2): RNNDropout()\n",
       "        (3): RNNDropout()\n",
       "      )\n",
       "    )\n",
       "  )\n",
       "  (1): PoolingLinearClassifier(\n",
       "    (layers): Sequential(\n",
       "      (0): BatchNorm1d(1200, eps=1e-05, momentum=0.1, affine=True, track_running_stats=True)\n",
       "      (1): Dropout(p=0.27999999999999997, inplace=False)\n",
       "      (2): Linear(in_features=1200, out_features=50, bias=True)\n",
       "      (3): ReLU(inplace=True)\n",
       "      (4): BatchNorm1d(50, eps=1e-05, momentum=0.1, affine=True, track_running_stats=True)\n",
       "      (5): Dropout(p=0.1, inplace=False)\n",
       "      (6): Linear(in_features=50, out_features=1, bias=True)\n",
       "    )\n",
       "  )\n",
       "), opt_func=functools.partial(<class 'torch.optim.adam.Adam'>, betas=(0.9, 0.99)), loss_func=FlattenedLoss of MSELoss(), metrics=[], true_wd=True, bn_wd=True, wd=0.01, train_bn=True, path=PosixPath('output'), model_dir='models', callback_fns=[functools.partial(<class 'fastai.basic_train.Recorder'>, add_time=True, silent=False)], callbacks=[RNNTrainer\n",
       "learn: ...\n",
       "alpha: 2\n",
       "beta: 1], layer_groups=[Sequential(\n",
       "  (0): Embedding(27720, 400, padding_idx=1)\n",
       "  (1): EmbeddingDropout(\n",
       "    (emb): Embedding(27720, 400, padding_idx=1)\n",
       "  )\n",
       "), Sequential(\n",
       "  (0): WeightDropout(\n",
       "    (module): LSTM(400, 1550, batch_first=True)\n",
       "  )\n",
       "  (1): RNNDropout()\n",
       "), Sequential(\n",
       "  (0): WeightDropout(\n",
       "    (module): LSTM(1550, 1550, batch_first=True)\n",
       "  )\n",
       "  (1): RNNDropout()\n",
       "), Sequential(\n",
       "  (0): WeightDropout(\n",
       "    (module): LSTM(1550, 1550, batch_first=True)\n",
       "  )\n",
       "  (1): RNNDropout()\n",
       "), Sequential(\n",
       "  (0): WeightDropout(\n",
       "    (module): LSTM(1550, 400, batch_first=True)\n",
       "  )\n",
       "  (1): RNNDropout()\n",
       "), Sequential(\n",
       "  (0): PoolingLinearClassifier(\n",
       "    (layers): Sequential(\n",
       "      (0): BatchNorm1d(1200, eps=1e-05, momentum=0.1, affine=True, track_running_stats=True)\n",
       "      (1): Dropout(p=0.27999999999999997, inplace=False)\n",
       "      (2): Linear(in_features=1200, out_features=50, bias=True)\n",
       "      (3): ReLU(inplace=True)\n",
       "      (4): BatchNorm1d(50, eps=1e-05, momentum=0.1, affine=True, track_running_stats=True)\n",
       "      (5): Dropout(p=0.1, inplace=False)\n",
       "      (6): Linear(in_features=50, out_features=1, bias=True)\n",
       "    )\n",
       "  )\n",
       ")], add_time=True, silent=False)"
      ]
     },
     "execution_count": 38,
     "metadata": {},
     "output_type": "execute_result"
    }
   ],
   "source": [
    "#model\n",
    "config = dict(emb_sz=400, n_hid=1550, n_layers=4, pad_token=1, qrnn=False,\n",
    "             output_p=0.4, hidden_p=0.2, input_p=0.6, embed_p=0.1, weight_p=0.5)\n",
    "trn_args = dict(bptt=70, drop_mult=0.7, alpha=2, beta=1, max_len=500)\n",
    "\n",
    "learn = text_classifier_learner(data_cls, AWD_LSTM, config=config, pretrained=False, **trn_args)\n",
    "#load pretrained finetuned model\n",
    "learn.load_encoder(\"amazon_thai_review_enc\")"
   ]
  },
  {
   "cell_type": "code",
   "execution_count": 39,
   "metadata": {},
   "outputs": [
    {
     "data": {
      "text/html": [
       "\n",
       "    <div>\n",
       "        <style>\n",
       "            /* Turns off some styling */\n",
       "            progress {\n",
       "                /* gets rid of default border in Firefox and Opera. */\n",
       "                border: none;\n",
       "                /* Needs to be in here for Safari polyfill so background images work as expected. */\n",
       "                background-size: auto;\n",
       "            }\n",
       "            .progress-bar-interrupted, .progress-bar-interrupted::-webkit-progress-bar {\n",
       "                background: #F44336;\n",
       "            }\n",
       "        </style>\n",
       "      <progress value='0' class='' max='1', style='width:300px; height:20px; vertical-align: middle;'></progress>\n",
       "      0.00% [0/1 00:00<00:00]\n",
       "    </div>\n",
       "    \n",
       "<table border=\"1\" class=\"dataframe\">\n",
       "  <thead>\n",
       "    <tr style=\"text-align: left;\">\n",
       "      <th>epoch</th>\n",
       "      <th>train_loss</th>\n",
       "      <th>valid_loss</th>\n",
       "      <th>time</th>\n",
       "    </tr>\n",
       "  </thead>\n",
       "  <tbody>\n",
       "  </tbody>\n",
       "</table><p>\n",
       "\n",
       "    <div>\n",
       "        <style>\n",
       "            /* Turns off some styling */\n",
       "            progress {\n",
       "                /* gets rid of default border in Firefox and Opera. */\n",
       "                border: none;\n",
       "                /* Needs to be in here for Safari polyfill so background images work as expected. */\n",
       "                background-size: auto;\n",
       "            }\n",
       "            .progress-bar-interrupted, .progress-bar-interrupted::-webkit-progress-bar {\n",
       "                background: #F44336;\n",
       "            }\n",
       "        </style>\n",
       "      <progress value='89' class='' max='4833', style='width:300px; height:20px; vertical-align: middle;'></progress>\n",
       "      1.84% [89/4833 00:31<28:08 1.6519]\n",
       "    </div>\n",
       "    "
      ],
      "text/plain": [
       "<IPython.core.display.HTML object>"
      ]
     },
     "metadata": {},
     "output_type": "display_data"
    },
    {
     "name": "stdout",
     "output_type": "stream",
     "text": [
      "LR Finder is complete, type {learner_name}.recorder.plot() to see the graph.\n"
     ]
    }
   ],
   "source": [
    "#train unfrozen\n",
    "learn.freeze_to(-1)\n",
    "learn.lr_find()"
   ]
  },
  {
   "cell_type": "code",
   "execution_count": 40,
   "metadata": {},
   "outputs": [
    {
     "name": "stdout",
     "output_type": "stream",
     "text": [
      "Min numerical gradient: 3.98E-02\n",
      "Min loss divided by 10: 4.37E-02\n"
     ]
    },
    {
     "data": {
      "image/png": "[encoded data removed]",
      "text/plain": [
       "<Figure size 432x288 with 1 Axes>"
      ]
     },
     "metadata": {
      "needs_background": "light"
     },
     "output_type": "display_data"
    }
   ],
   "source": [
    "learn.recorder.plot(suggestion=True)"
   ]
  },
  {
   "cell_type": "code",
   "execution_count": 41,
   "metadata": {
    "scrolled": false
   },
   "outputs": [
    {
     "data": {
      "text/plain": [
       "RNNLearner(data=TextClasDataBunch;\n",
       "\n",
       "Train: LabelList (241652 items)\n",
       "x: TextList\n",
       "xxbos   ดูเหมือนว่า การเขียน จะ โอ้อวด และ ตัวละคร ไม่ น่าสนใจ พอ ที่จะ ดึง ฉัน เข้ามา มี หลาย คน ที่ เป็น แบบแผน เช่น   &' nerd &'   หรือ   &' jerk &' และ พล็อต เรื่อง ต่าง   ๆ   ดูเหมือน จะ ถูก วางแผน เพื่อ ความ สะดวกสบาย ของ ฉัน เรื่องราว ลาก ไป ใน สถานที่ โดยเฉพาะอย่างยิ่ง ใน บางครั้ง อาจ เป็น เพราะ ฉัน เคยชิน กับ นวนิยาย อเมริกัน สมัยใหม่ ซึ่ง มีแนวโน้ม ที่จะ เคลื่อนไหว ได้ เร็ว ขึ้น โดย ไม่ต้อง สร้าง โลก ที่ ซับซ้อน ในทางกลับกัน ตัวละคร เหล่านี้ มี ความลึก ไม่ มาก เมื่อ เทียบ กับ ที่ ฉัน มักจะ พบ   /   พบ เจอ,xxbos   เรา ซื้อ สิ่ง เหล่านี้ ให้ กับ ลูกชาย วัย   3   ขวบ ของ เรา เพื่อ ติดตาม   kindle   fire   ใหม่ ของ เขา เพราะ เรา คิด ว่า เขา จะ กลัว ที่จะ ใช้ มัน   แต่ พวกเขา กลับ กลายเป็น ว่า ถูกต้อง ง่าย นิดเดียว,xxbos   หนัง เรื่อง นี้ สนุก และ ตลก มาก ฉัน ชอบ มัน ตั้ง แต่ต้นจนจบ ภาพยนตร์ คืน วันที่ ดี เหมาะสำหรับ ผู้ ที่ ไม่ ชอบ อารมณ์ขัน หรือ ความรุนแรง,xxbos   หนังสือ เล่ม นี้ มี เคล็ดลับ ที่ เป็นประโยชน์ มากมาย   แต่ ขาด บาง วิธี ที่จะ ทำให้ มีประโยชน์ และ ใช้งาน ได้ ง่าย ขึ้น ตัวอย่างเช่น ส่วน   &' การ เริ่มต้น อย่างรวดเร็ว &'   บอ กว่า คุณ ควร เริ่ม ด้วย การ ฝึก ครั้งแรก ที่ ระบุ ไว้ จากนั้น ย้อนกลับ ไป   ผ่าน การออกกำลังกาย   1   ต่อ หนึ่ง จากนั้น ทำ แบบฝึกหัด ทั้งหมด ใน คราว เดียว ซึ่ง ดูเหมือน จะ ไม่ ค่อย เป็นประโยชน์ เพราะ มัน แทบจะ เป็นไปไม่ได้ เลย ที่จะ ไม่ ติดตาม สิ่ง หนึ่ง ที่ เกิดขึ้น หลังจากนั้น,xxbos   ฉัน ชอบ ผู้แต่ง   แต่ หนังสือ เล่ม นี้ ไม่ได้ ขึ้นอยู่กับ หนังสือ ธรรมดา ของ เขา ที่ มัน ขาด ความลึก เกี่ยวกับ ตัวละคร ดูเหมือนว่า จะ รีบ แล้วก็ รีบ มาก ไม่มี การ เชื่อมต่อ ระหว่าง ตัวละคร ที่ ทำให้ ฉัน ต้องการ พวกเขา ด้วยกัน น่า ผิดหวัง มาก\n",
       "y: FloatList\n",
       "0.0,0.0,0.0,0.0,0.0\n",
       "Path: output;\n",
       "\n",
       "Valid: LabelList (30207 items)\n",
       "x: TextList\n",
       "xxbos   คุณ ซื้อ สิ่ง เหล่านี้ ใน ราคา ถูก เมื่อ คิด ว่า คุณ ได้รับ ทั้ง กรณี   แต่ จริงๆ แล้ว ครึ่งหนึ่ง ของ ราคา นั้น มัน ไม่ คุ้มค่า ที่จะ อารมณ์เสีย และ พวกเขา เข้ากัน กับ เครื่อง ปั่น ของ ฉัน   แต่ ฉัน ต้องการ เตือน ผู้อื่น ก่อนที่จะ เสียเงิน กับ สิ่ง นี้ พวกเขา ทำ สมูทตี้ ยอดเยี่ยม ด้วย ผลไม้ แช่แข็ง !   :),xxbos   ไม่แน่ใจ ว่า ใช้งาน ได้ จริง หรือไม่ ฉัน แค่ ให้ อันนี้ ให้ เพื่อน ของ ฉัน ดูเหมือนว่า ผลลัพธ์ ของ เขา จะ ดี ไม่มี การร้องเรียน จาก เขา แต่ ผลิตภัณฑ์ มี ราคาแพง มาก และ ไม่ ค่อย ดี นัก เขา บอ กว่า เขา ได้ รับประโยชน์ มากขึ้น ใน รา คาที่ ถูก กว่า,xxbos   ซื้อ จาก ผู้ขาย และ ได้รับ ใน   3   วัน กับ   prime,xxbos   ผลิตภัณฑ์ นี้ มี คุณภาพ ไม่ ดีฉัน เพิ่ง มี เวลา สอง สาม เดือน และ อีก ด้าน หนึ่ง เพิ่ง หลุด เมื่อ สามี ของ ฉัน พยายาม หาเงิน ออกจาก ทะเบียน ฝีมือ แย่ หรือ กาว ไม่ดี ? ฉัน จะ ไม่มีทาง รู้ เพราะ เรา ไม่ได้ เก็บ กระดาษ ไว้ ใน นั้น มัน เป็นปัญหา มากเกินไป สำหรับ ฉัน เนื่องจาก มี เด็ก   2   คน ที่ ไปเที่ยว กับ มัน ทุก สุดสัปดาห์ ราคา ควร มากกว่า นี้ อย่า วาง ของ หนัก   ๆ   เหมือน เงินสด เลย,xxbos   ฉัน เพิ่ง ได้รับ กรณี นี้ เป็น สีชมพู สำหรับ   ipad   2   ของ ฉัน และ จนถึง ตอนนี้ ลูกค้า มีความสุข มาก สี เป็นจริง กับ ภาพ มัน พอดี เช่นกัน สิ่ง เดียว ที่ ฉัน ร้องเรียน เกี่ยวกับ มัน   ( ไม่ มาก )   ก็ คือ มัน มี ฝุ่น อยู่ สอง สาม ชิ้น การ เช็ด อย่างรวดเร็ว ด้วย แอลกอฮอล์ ถู คงที่   แต่ ถ้า คุณ กำลัง มองหา บางสิ่ง ที่ สมบูรณ์แบบ สำหรับ ลุค ให้ ใช้ เงิน เพิ่มขึ้น อีก   $   หรือ รับ   smart   cover\n",
       "y: FloatList\n",
       "0.0,0.0,1.0,0.0,0.0\n",
       "Path: output;\n",
       "\n",
       "Test: None, model=SequentialRNN(\n",
       "  (0): MultiBatchEncoder(\n",
       "    (module): AWD_LSTM(\n",
       "      (encoder): Embedding(27720, 400, padding_idx=1)\n",
       "      (encoder_dp): EmbeddingDropout(\n",
       "        (emb): Embedding(27720, 400, padding_idx=1)\n",
       "      )\n",
       "      (rnns): ModuleList(\n",
       "        (0): WeightDropout(\n",
       "          (module): LSTM(400, 1550, batch_first=True)\n",
       "        )\n",
       "        (1): WeightDropout(\n",
       "          (module): LSTM(1550, 1550, batch_first=True)\n",
       "        )\n",
       "        (2): WeightDropout(\n",
       "          (module): LSTM(1550, 1550, batch_first=True)\n",
       "        )\n",
       "        (3): WeightDropout(\n",
       "          (module): LSTM(1550, 400, batch_first=True)\n",
       "        )\n",
       "      )\n",
       "      (input_dp): RNNDropout()\n",
       "      (hidden_dps): ModuleList(\n",
       "        (0): RNNDropout()\n",
       "        (1): RNNDropout()\n",
       "        (2): RNNDropout()\n",
       "        (3): RNNDropout()\n",
       "      )\n",
       "    )\n",
       "  )\n",
       "  (1): PoolingLinearClassifier(\n",
       "    (layers): Sequential(\n",
       "      (0): BatchNorm1d(1200, eps=1e-05, momentum=0.1, affine=True, track_running_stats=True)\n",
       "      (1): Dropout(p=0.27999999999999997, inplace=False)\n",
       "      (2): Linear(in_features=1200, out_features=50, bias=True)\n",
       "      (3): ReLU(inplace=True)\n",
       "      (4): BatchNorm1d(50, eps=1e-05, momentum=0.1, affine=True, track_running_stats=True)\n",
       "      (5): Dropout(p=0.1, inplace=False)\n",
       "      (6): Linear(in_features=50, out_features=1, bias=True)\n",
       "    )\n",
       "  )\n",
       "), opt_func=functools.partial(<class 'torch.optim.adam.Adam'>, betas=(0.9, 0.99)), loss_func=FlattenedLoss of MSELoss(), metrics=[], true_wd=True, bn_wd=True, wd=0.01, train_bn=True, path=PosixPath('output'), model_dir='models', callback_fns=[functools.partial(<class 'fastai.basic_train.Recorder'>, add_time=True, silent=False)], callbacks=[RNNTrainer\n",
       "learn: ...\n",
       "alpha: 2\n",
       "beta: 1], layer_groups=[Sequential(\n",
       "  (0): Embedding(27720, 400, padding_idx=1)\n",
       "  (1): EmbeddingDropout(\n",
       "    (emb): Embedding(27720, 400, padding_idx=1)\n",
       "  )\n",
       "), Sequential(\n",
       "  (0): WeightDropout(\n",
       "    (module): LSTM(400, 1550, batch_first=True)\n",
       "  )\n",
       "  (1): RNNDropout()\n",
       "), Sequential(\n",
       "  (0): WeightDropout(\n",
       "    (module): LSTM(1550, 1550, batch_first=True)\n",
       "  )\n",
       "  (1): RNNDropout()\n",
       "), Sequential(\n",
       "  (0): WeightDropout(\n",
       "    (module): LSTM(1550, 1550, batch_first=True)\n",
       "  )\n",
       "  (1): RNNDropout()\n",
       "), Sequential(\n",
       "  (0): WeightDropout(\n",
       "    (module): LSTM(1550, 400, batch_first=True)\n",
       "  )\n",
       "  (1): RNNDropout()\n",
       "), Sequential(\n",
       "  (0): PoolingLinearClassifier(\n",
       "    (layers): Sequential(\n",
       "      (0): BatchNorm1d(1200, eps=1e-05, momentum=0.1, affine=True, track_running_stats=True)\n",
       "      (1): Dropout(p=0.27999999999999997, inplace=False)\n",
       "      (2): Linear(in_features=1200, out_features=50, bias=True)\n",
       "      (3): ReLU(inplace=True)\n",
       "      (4): BatchNorm1d(50, eps=1e-05, momentum=0.1, affine=True, track_running_stats=True)\n",
       "      (5): Dropout(p=0.1, inplace=False)\n",
       "      (6): Linear(in_features=50, out_features=1, bias=True)\n",
       "    )\n",
       "  )\n",
       ")], add_time=True, silent=False)"
      ]
     },
     "execution_count": 41,
     "metadata": {},
     "output_type": "execute_result"
    },
    {
     "data": {
      "text/html": [
       "<table border=\"1\" class=\"dataframe\">\n",
       "  <thead>\n",
       "    <tr style=\"text-align: left;\">\n",
       "      <th>epoch</th>\n",
       "      <th>train_loss</th>\n",
       "      <th>valid_loss</th>\n",
       "      <th>time</th>\n",
       "    </tr>\n",
       "  </thead>\n",
       "  <tbody>\n",
       "    <tr>\n",
       "      <td>0</td>\n",
       "      <td>0.206889</td>\n",
       "      <td>0.199349</td>\n",
       "      <td>23:00</td>\n",
       "    </tr>\n",
       "  </tbody>\n",
       "</table>"
      ],
      "text/plain": [
       "<IPython.core.display.HTML object>"
      ]
     },
     "metadata": {},
     "output_type": "display_data"
    }
   ],
   "source": [
    "learn.load_encoder(\"amazon_thai_review_enc\")\n",
    "learn.freeze_to(-1)\n",
    "learn.fit_one_cycle(1, 1e-2)\n",
    "learn.save_encoder(\"amazon_thai_review_enc-1\")"
   ]
  },
  {
   "cell_type": "code",
   "execution_count": 42,
   "metadata": {},
   "outputs": [
    {
     "data": {
      "text/plain": [
       "RNNLearner(data=TextClasDataBunch;\n",
       "\n",
       "Train: LabelList (241652 items)\n",
       "x: TextList\n",
       "xxbos   ดูเหมือนว่า การเขียน จะ โอ้อวด และ ตัวละคร ไม่ น่าสนใจ พอ ที่จะ ดึง ฉัน เข้ามา มี หลาย คน ที่ เป็น แบบแผน เช่น   &' nerd &'   หรือ   &' jerk &' และ พล็อต เรื่อง ต่าง   ๆ   ดูเหมือน จะ ถูก วางแผน เพื่อ ความ สะดวกสบาย ของ ฉัน เรื่องราว ลาก ไป ใน สถานที่ โดยเฉพาะอย่างยิ่ง ใน บางครั้ง อาจ เป็น เพราะ ฉัน เคยชิน กับ นวนิยาย อเมริกัน สมัยใหม่ ซึ่ง มีแนวโน้ม ที่จะ เคลื่อนไหว ได้ เร็ว ขึ้น โดย ไม่ต้อง สร้าง โลก ที่ ซับซ้อน ในทางกลับกัน ตัวละคร เหล่านี้ มี ความลึก ไม่ มาก เมื่อ เทียบ กับ ที่ ฉัน มักจะ พบ   /   พบ เจอ,xxbos   เรา ซื้อ สิ่ง เหล่านี้ ให้ กับ ลูกชาย วัย   3   ขวบ ของ เรา เพื่อ ติดตาม   kindle   fire   ใหม่ ของ เขา เพราะ เรา คิด ว่า เขา จะ กลัว ที่จะ ใช้ มัน   แต่ พวกเขา กลับ กลายเป็น ว่า ถูกต้อง ง่าย นิดเดียว,xxbos   หนัง เรื่อง นี้ สนุก และ ตลก มาก ฉัน ชอบ มัน ตั้ง แต่ต้นจนจบ ภาพยนตร์ คืน วันที่ ดี เหมาะสำหรับ ผู้ ที่ ไม่ ชอบ อารมณ์ขัน หรือ ความรุนแรง,xxbos   หนังสือ เล่ม นี้ มี เคล็ดลับ ที่ เป็นประโยชน์ มากมาย   แต่ ขาด บาง วิธี ที่จะ ทำให้ มีประโยชน์ และ ใช้งาน ได้ ง่าย ขึ้น ตัวอย่างเช่น ส่วน   &' การ เริ่มต้น อย่างรวดเร็ว &'   บอ กว่า คุณ ควร เริ่ม ด้วย การ ฝึก ครั้งแรก ที่ ระบุ ไว้ จากนั้น ย้อนกลับ ไป   ผ่าน การออกกำลังกาย   1   ต่อ หนึ่ง จากนั้น ทำ แบบฝึกหัด ทั้งหมด ใน คราว เดียว ซึ่ง ดูเหมือน จะ ไม่ ค่อย เป็นประโยชน์ เพราะ มัน แทบจะ เป็นไปไม่ได้ เลย ที่จะ ไม่ ติดตาม สิ่ง หนึ่ง ที่ เกิดขึ้น หลังจากนั้น,xxbos   ฉัน ชอบ ผู้แต่ง   แต่ หนังสือ เล่ม นี้ ไม่ได้ ขึ้นอยู่กับ หนังสือ ธรรมดา ของ เขา ที่ มัน ขาด ความลึก เกี่ยวกับ ตัวละคร ดูเหมือนว่า จะ รีบ แล้วก็ รีบ มาก ไม่มี การ เชื่อมต่อ ระหว่าง ตัวละคร ที่ ทำให้ ฉัน ต้องการ พวกเขา ด้วยกัน น่า ผิดหวัง มาก\n",
       "y: FloatList\n",
       "0.0,0.0,0.0,0.0,0.0\n",
       "Path: output;\n",
       "\n",
       "Valid: LabelList (30207 items)\n",
       "x: TextList\n",
       "xxbos   คุณ ซื้อ สิ่ง เหล่านี้ ใน ราคา ถูก เมื่อ คิด ว่า คุณ ได้รับ ทั้ง กรณี   แต่ จริงๆ แล้ว ครึ่งหนึ่ง ของ ราคา นั้น มัน ไม่ คุ้มค่า ที่จะ อารมณ์เสีย และ พวกเขา เข้ากัน กับ เครื่อง ปั่น ของ ฉัน   แต่ ฉัน ต้องการ เตือน ผู้อื่น ก่อนที่จะ เสียเงิน กับ สิ่ง นี้ พวกเขา ทำ สมูทตี้ ยอดเยี่ยม ด้วย ผลไม้ แช่แข็ง !   :),xxbos   ไม่แน่ใจ ว่า ใช้งาน ได้ จริง หรือไม่ ฉัน แค่ ให้ อันนี้ ให้ เพื่อน ของ ฉัน ดูเหมือนว่า ผลลัพธ์ ของ เขา จะ ดี ไม่มี การร้องเรียน จาก เขา แต่ ผลิตภัณฑ์ มี ราคาแพง มาก และ ไม่ ค่อย ดี นัก เขา บอ กว่า เขา ได้ รับประโยชน์ มากขึ้น ใน รา คาที่ ถูก กว่า,xxbos   ซื้อ จาก ผู้ขาย และ ได้รับ ใน   3   วัน กับ   prime,xxbos   ผลิตภัณฑ์ นี้ มี คุณภาพ ไม่ ดีฉัน เพิ่ง มี เวลา สอง สาม เดือน และ อีก ด้าน หนึ่ง เพิ่ง หลุด เมื่อ สามี ของ ฉัน พยายาม หาเงิน ออกจาก ทะเบียน ฝีมือ แย่ หรือ กาว ไม่ดี ? ฉัน จะ ไม่มีทาง รู้ เพราะ เรา ไม่ได้ เก็บ กระดาษ ไว้ ใน นั้น มัน เป็นปัญหา มากเกินไป สำหรับ ฉัน เนื่องจาก มี เด็ก   2   คน ที่ ไปเที่ยว กับ มัน ทุก สุดสัปดาห์ ราคา ควร มากกว่า นี้ อย่า วาง ของ หนัก   ๆ   เหมือน เงินสด เลย,xxbos   ฉัน เพิ่ง ได้รับ กรณี นี้ เป็น สีชมพู สำหรับ   ipad   2   ของ ฉัน และ จนถึง ตอนนี้ ลูกค้า มีความสุข มาก สี เป็นจริง กับ ภาพ มัน พอดี เช่นกัน สิ่ง เดียว ที่ ฉัน ร้องเรียน เกี่ยวกับ มัน   ( ไม่ มาก )   ก็ คือ มัน มี ฝุ่น อยู่ สอง สาม ชิ้น การ เช็ด อย่างรวดเร็ว ด้วย แอลกอฮอล์ ถู คงที่   แต่ ถ้า คุณ กำลัง มองหา บางสิ่ง ที่ สมบูรณ์แบบ สำหรับ ลุค ให้ ใช้ เงิน เพิ่มขึ้น อีก   $   หรือ รับ   smart   cover\n",
       "y: FloatList\n",
       "0.0,0.0,1.0,0.0,0.0\n",
       "Path: output;\n",
       "\n",
       "Test: None, model=SequentialRNN(\n",
       "  (0): MultiBatchEncoder(\n",
       "    (module): AWD_LSTM(\n",
       "      (encoder): Embedding(27720, 400, padding_idx=1)\n",
       "      (encoder_dp): EmbeddingDropout(\n",
       "        (emb): Embedding(27720, 400, padding_idx=1)\n",
       "      )\n",
       "      (rnns): ModuleList(\n",
       "        (0): WeightDropout(\n",
       "          (module): LSTM(400, 1550, batch_first=True)\n",
       "        )\n",
       "        (1): WeightDropout(\n",
       "          (module): LSTM(1550, 1550, batch_first=True)\n",
       "        )\n",
       "        (2): WeightDropout(\n",
       "          (module): LSTM(1550, 1550, batch_first=True)\n",
       "        )\n",
       "        (3): WeightDropout(\n",
       "          (module): LSTM(1550, 400, batch_first=True)\n",
       "        )\n",
       "      )\n",
       "      (input_dp): RNNDropout()\n",
       "      (hidden_dps): ModuleList(\n",
       "        (0): RNNDropout()\n",
       "        (1): RNNDropout()\n",
       "        (2): RNNDropout()\n",
       "        (3): RNNDropout()\n",
       "      )\n",
       "    )\n",
       "  )\n",
       "  (1): PoolingLinearClassifier(\n",
       "    (layers): Sequential(\n",
       "      (0): BatchNorm1d(1200, eps=1e-05, momentum=0.1, affine=True, track_running_stats=True)\n",
       "      (1): Dropout(p=0.27999999999999997, inplace=False)\n",
       "      (2): Linear(in_features=1200, out_features=50, bias=True)\n",
       "      (3): ReLU(inplace=True)\n",
       "      (4): BatchNorm1d(50, eps=1e-05, momentum=0.1, affine=True, track_running_stats=True)\n",
       "      (5): Dropout(p=0.1, inplace=False)\n",
       "      (6): Linear(in_features=50, out_features=1, bias=True)\n",
       "    )\n",
       "  )\n",
       "), opt_func=functools.partial(<class 'torch.optim.adam.Adam'>, betas=(0.9, 0.99)), loss_func=FlattenedLoss of MSELoss(), metrics=[], true_wd=True, bn_wd=True, wd=0.01, train_bn=True, path=PosixPath('output'), model_dir='models', callback_fns=[functools.partial(<class 'fastai.basic_train.Recorder'>, add_time=True, silent=False)], callbacks=[RNNTrainer\n",
       "learn: ...\n",
       "alpha: 2\n",
       "beta: 1], layer_groups=[Sequential(\n",
       "  (0): Embedding(27720, 400, padding_idx=1)\n",
       "  (1): EmbeddingDropout(\n",
       "    (emb): Embedding(27720, 400, padding_idx=1)\n",
       "  )\n",
       "), Sequential(\n",
       "  (0): WeightDropout(\n",
       "    (module): LSTM(400, 1550, batch_first=True)\n",
       "  )\n",
       "  (1): RNNDropout()\n",
       "), Sequential(\n",
       "  (0): WeightDropout(\n",
       "    (module): LSTM(1550, 1550, batch_first=True)\n",
       "  )\n",
       "  (1): RNNDropout()\n",
       "), Sequential(\n",
       "  (0): WeightDropout(\n",
       "    (module): LSTM(1550, 1550, batch_first=True)\n",
       "  )\n",
       "  (1): RNNDropout()\n",
       "), Sequential(\n",
       "  (0): WeightDropout(\n",
       "    (module): LSTM(1550, 400, batch_first=True)\n",
       "  )\n",
       "  (1): RNNDropout()\n",
       "), Sequential(\n",
       "  (0): PoolingLinearClassifier(\n",
       "    (layers): Sequential(\n",
       "      (0): BatchNorm1d(1200, eps=1e-05, momentum=0.1, affine=True, track_running_stats=True)\n",
       "      (1): Dropout(p=0.27999999999999997, inplace=False)\n",
       "      (2): Linear(in_features=1200, out_features=50, bias=True)\n",
       "      (3): ReLU(inplace=True)\n",
       "      (4): BatchNorm1d(50, eps=1e-05, momentum=0.1, affine=True, track_running_stats=True)\n",
       "      (5): Dropout(p=0.1, inplace=False)\n",
       "      (6): Linear(in_features=50, out_features=1, bias=True)\n",
       "    )\n",
       "  )\n",
       ")], add_time=True, silent=False)"
      ]
     },
     "execution_count": 42,
     "metadata": {},
     "output_type": "execute_result"
    },
    {
     "data": {
      "text/html": [
       "\n",
       "    <div>\n",
       "        <style>\n",
       "            /* Turns off some styling */\n",
       "            progress {\n",
       "                /* gets rid of default border in Firefox and Opera. */\n",
       "                border: none;\n",
       "                /* Needs to be in here for Safari polyfill so background images work as expected. */\n",
       "                background-size: auto;\n",
       "            }\n",
       "            .progress-bar-interrupted, .progress-bar-interrupted::-webkit-progress-bar {\n",
       "                background: #F44336;\n",
       "            }\n",
       "        </style>\n",
       "      <progress value='0' class='' max='1', style='width:300px; height:20px; vertical-align: middle;'></progress>\n",
       "      0.00% [0/1 00:00<00:00]\n",
       "    </div>\n",
       "    \n",
       "<table border=\"1\" class=\"dataframe\">\n",
       "  <thead>\n",
       "    <tr style=\"text-align: left;\">\n",
       "      <th>epoch</th>\n",
       "      <th>train_loss</th>\n",
       "      <th>valid_loss</th>\n",
       "      <th>time</th>\n",
       "    </tr>\n",
       "  </thead>\n",
       "  <tbody>\n",
       "  </tbody>\n",
       "</table><p>\n",
       "\n",
       "    <div>\n",
       "        <style>\n",
       "            /* Turns off some styling */\n",
       "            progress {\n",
       "                /* gets rid of default border in Firefox and Opera. */\n",
       "                border: none;\n",
       "                /* Needs to be in here for Safari polyfill so background images work as expected. */\n",
       "                background-size: auto;\n",
       "            }\n",
       "            .progress-bar-interrupted, .progress-bar-interrupted::-webkit-progress-bar {\n",
       "                background: #F44336;\n",
       "            }\n",
       "        </style>\n",
       "      <progress value='84' class='' max='4833', style='width:300px; height:20px; vertical-align: middle;'></progress>\n",
       "      1.74% [84/4833 00:28<26:57 0.3337]\n",
       "    </div>\n",
       "    "
      ],
      "text/plain": [
       "<IPython.core.display.HTML object>"
      ]
     },
     "metadata": {},
     "output_type": "display_data"
    },
    {
     "name": "stdout",
     "output_type": "stream",
     "text": [
      "LR Finder is complete, type {learner_name}.recorder.plot() to see the graph.\n"
     ]
    }
   ],
   "source": [
    "learn.load_encoder(\"amazon_thai_review_enc-1\")\n",
    "learn.freeze_to(-2)\n",
    "learn.lr_find()"
   ]
  },
  {
   "cell_type": "code",
   "execution_count": 43,
   "metadata": {},
   "outputs": [
    {
     "name": "stdout",
     "output_type": "stream",
     "text": [
      "Min numerical gradient: 1.58E-06\n",
      "Min loss divided by 10: 7.59E-08\n"
     ]
    },
    {
     "data": {
      "image/png": "[encoded data removed]",
      "text/plain": [
       "<Figure size 432x288 with 1 Axes>"
      ]
     },
     "metadata": {
      "needs_background": "light"
     },
     "output_type": "display_data"
    }
   ],
   "source": [
    "learn.recorder.plot(suggestion=True)"
   ]
  },
  {
   "cell_type": "code",
   "execution_count": 44,
   "metadata": {},
   "outputs": [
    {
     "data": {
      "text/plain": [
       "RNNLearner(data=TextClasDataBunch;\n",
       "\n",
       "Train: LabelList (241652 items)\n",
       "x: TextList\n",
       "xxbos   ดูเหมือนว่า การเขียน จะ โอ้อวด และ ตัวละคร ไม่ น่าสนใจ พอ ที่จะ ดึง ฉัน เข้ามา มี หลาย คน ที่ เป็น แบบแผน เช่น   &' nerd &'   หรือ   &' jerk &' และ พล็อต เรื่อง ต่าง   ๆ   ดูเหมือน จะ ถูก วางแผน เพื่อ ความ สะดวกสบาย ของ ฉัน เรื่องราว ลาก ไป ใน สถานที่ โดยเฉพาะอย่างยิ่ง ใน บางครั้ง อาจ เป็น เพราะ ฉัน เคยชิน กับ นวนิยาย อเมริกัน สมัยใหม่ ซึ่ง มีแนวโน้ม ที่จะ เคลื่อนไหว ได้ เร็ว ขึ้น โดย ไม่ต้อง สร้าง โลก ที่ ซับซ้อน ในทางกลับกัน ตัวละคร เหล่านี้ มี ความลึก ไม่ มาก เมื่อ เทียบ กับ ที่ ฉัน มักจะ พบ   /   พบ เจอ,xxbos   เรา ซื้อ สิ่ง เหล่านี้ ให้ กับ ลูกชาย วัย   3   ขวบ ของ เรา เพื่อ ติดตาม   kindle   fire   ใหม่ ของ เขา เพราะ เรา คิด ว่า เขา จะ กลัว ที่จะ ใช้ มัน   แต่ พวกเขา กลับ กลายเป็น ว่า ถูกต้อง ง่าย นิดเดียว,xxbos   หนัง เรื่อง นี้ สนุก และ ตลก มาก ฉัน ชอบ มัน ตั้ง แต่ต้นจนจบ ภาพยนตร์ คืน วันที่ ดี เหมาะสำหรับ ผู้ ที่ ไม่ ชอบ อารมณ์ขัน หรือ ความรุนแรง,xxbos   หนังสือ เล่ม นี้ มี เคล็ดลับ ที่ เป็นประโยชน์ มากมาย   แต่ ขาด บาง วิธี ที่จะ ทำให้ มีประโยชน์ และ ใช้งาน ได้ ง่าย ขึ้น ตัวอย่างเช่น ส่วน   &' การ เริ่มต้น อย่างรวดเร็ว &'   บอ กว่า คุณ ควร เริ่ม ด้วย การ ฝึก ครั้งแรก ที่ ระบุ ไว้ จากนั้น ย้อนกลับ ไป   ผ่าน การออกกำลังกาย   1   ต่อ หนึ่ง จากนั้น ทำ แบบฝึกหัด ทั้งหมด ใน คราว เดียว ซึ่ง ดูเหมือน จะ ไม่ ค่อย เป็นประโยชน์ เพราะ มัน แทบจะ เป็นไปไม่ได้ เลย ที่จะ ไม่ ติดตาม สิ่ง หนึ่ง ที่ เกิดขึ้น หลังจากนั้น,xxbos   ฉัน ชอบ ผู้แต่ง   แต่ หนังสือ เล่ม นี้ ไม่ได้ ขึ้นอยู่กับ หนังสือ ธรรมดา ของ เขา ที่ มัน ขาด ความลึก เกี่ยวกับ ตัวละคร ดูเหมือนว่า จะ รีบ แล้วก็ รีบ มาก ไม่มี การ เชื่อมต่อ ระหว่าง ตัวละคร ที่ ทำให้ ฉัน ต้องการ พวกเขา ด้วยกัน น่า ผิดหวัง มาก\n",
       "y: FloatList\n",
       "0.0,0.0,0.0,0.0,0.0\n",
       "Path: output;\n",
       "\n",
       "Valid: LabelList (30207 items)\n",
       "x: TextList\n",
       "xxbos   คุณ ซื้อ สิ่ง เหล่านี้ ใน ราคา ถูก เมื่อ คิด ว่า คุณ ได้รับ ทั้ง กรณี   แต่ จริงๆ แล้ว ครึ่งหนึ่ง ของ ราคา นั้น มัน ไม่ คุ้มค่า ที่จะ อารมณ์เสีย และ พวกเขา เข้ากัน กับ เครื่อง ปั่น ของ ฉัน   แต่ ฉัน ต้องการ เตือน ผู้อื่น ก่อนที่จะ เสียเงิน กับ สิ่ง นี้ พวกเขา ทำ สมูทตี้ ยอดเยี่ยม ด้วย ผลไม้ แช่แข็ง !   :),xxbos   ไม่แน่ใจ ว่า ใช้งาน ได้ จริง หรือไม่ ฉัน แค่ ให้ อันนี้ ให้ เพื่อน ของ ฉัน ดูเหมือนว่า ผลลัพธ์ ของ เขา จะ ดี ไม่มี การร้องเรียน จาก เขา แต่ ผลิตภัณฑ์ มี ราคาแพง มาก และ ไม่ ค่อย ดี นัก เขา บอ กว่า เขา ได้ รับประโยชน์ มากขึ้น ใน รา คาที่ ถูก กว่า,xxbos   ซื้อ จาก ผู้ขาย และ ได้รับ ใน   3   วัน กับ   prime,xxbos   ผลิตภัณฑ์ นี้ มี คุณภาพ ไม่ ดีฉัน เพิ่ง มี เวลา สอง สาม เดือน และ อีก ด้าน หนึ่ง เพิ่ง หลุด เมื่อ สามี ของ ฉัน พยายาม หาเงิน ออกจาก ทะเบียน ฝีมือ แย่ หรือ กาว ไม่ดี ? ฉัน จะ ไม่มีทาง รู้ เพราะ เรา ไม่ได้ เก็บ กระดาษ ไว้ ใน นั้น มัน เป็นปัญหา มากเกินไป สำหรับ ฉัน เนื่องจาก มี เด็ก   2   คน ที่ ไปเที่ยว กับ มัน ทุก สุดสัปดาห์ ราคา ควร มากกว่า นี้ อย่า วาง ของ หนัก   ๆ   เหมือน เงินสด เลย,xxbos   ฉัน เพิ่ง ได้รับ กรณี นี้ เป็น สีชมพู สำหรับ   ipad   2   ของ ฉัน และ จนถึง ตอนนี้ ลูกค้า มีความสุข มาก สี เป็นจริง กับ ภาพ มัน พอดี เช่นกัน สิ่ง เดียว ที่ ฉัน ร้องเรียน เกี่ยวกับ มัน   ( ไม่ มาก )   ก็ คือ มัน มี ฝุ่น อยู่ สอง สาม ชิ้น การ เช็ด อย่างรวดเร็ว ด้วย แอลกอฮอล์ ถู คงที่   แต่ ถ้า คุณ กำลัง มองหา บางสิ่ง ที่ สมบูรณ์แบบ สำหรับ ลุค ให้ ใช้ เงิน เพิ่มขึ้น อีก   $   หรือ รับ   smart   cover\n",
       "y: FloatList\n",
       "0.0,0.0,1.0,0.0,0.0\n",
       "Path: output;\n",
       "\n",
       "Test: None, model=SequentialRNN(\n",
       "  (0): MultiBatchEncoder(\n",
       "    (module): AWD_LSTM(\n",
       "      (encoder): Embedding(27720, 400, padding_idx=1)\n",
       "      (encoder_dp): EmbeddingDropout(\n",
       "        (emb): Embedding(27720, 400, padding_idx=1)\n",
       "      )\n",
       "      (rnns): ModuleList(\n",
       "        (0): WeightDropout(\n",
       "          (module): LSTM(400, 1550, batch_first=True)\n",
       "        )\n",
       "        (1): WeightDropout(\n",
       "          (module): LSTM(1550, 1550, batch_first=True)\n",
       "        )\n",
       "        (2): WeightDropout(\n",
       "          (module): LSTM(1550, 1550, batch_first=True)\n",
       "        )\n",
       "        (3): WeightDropout(\n",
       "          (module): LSTM(1550, 400, batch_first=True)\n",
       "        )\n",
       "      )\n",
       "      (input_dp): RNNDropout()\n",
       "      (hidden_dps): ModuleList(\n",
       "        (0): RNNDropout()\n",
       "        (1): RNNDropout()\n",
       "        (2): RNNDropout()\n",
       "        (3): RNNDropout()\n",
       "      )\n",
       "    )\n",
       "  )\n",
       "  (1): PoolingLinearClassifier(\n",
       "    (layers): Sequential(\n",
       "      (0): BatchNorm1d(1200, eps=1e-05, momentum=0.1, affine=True, track_running_stats=True)\n",
       "      (1): Dropout(p=0.27999999999999997, inplace=False)\n",
       "      (2): Linear(in_features=1200, out_features=50, bias=True)\n",
       "      (3): ReLU(inplace=True)\n",
       "      (4): BatchNorm1d(50, eps=1e-05, momentum=0.1, affine=True, track_running_stats=True)\n",
       "      (5): Dropout(p=0.1, inplace=False)\n",
       "      (6): Linear(in_features=50, out_features=1, bias=True)\n",
       "    )\n",
       "  )\n",
       "), opt_func=functools.partial(<class 'torch.optim.adam.Adam'>, betas=(0.9, 0.99)), loss_func=FlattenedLoss of MSELoss(), metrics=[], true_wd=True, bn_wd=True, wd=0.01, train_bn=True, path=PosixPath('output'), model_dir='models', callback_fns=[functools.partial(<class 'fastai.basic_train.Recorder'>, add_time=True, silent=False)], callbacks=[RNNTrainer\n",
       "learn: ...\n",
       "alpha: 2\n",
       "beta: 1], layer_groups=[Sequential(\n",
       "  (0): Embedding(27720, 400, padding_idx=1)\n",
       "  (1): EmbeddingDropout(\n",
       "    (emb): Embedding(27720, 400, padding_idx=1)\n",
       "  )\n",
       "), Sequential(\n",
       "  (0): WeightDropout(\n",
       "    (module): LSTM(400, 1550, batch_first=True)\n",
       "  )\n",
       "  (1): RNNDropout()\n",
       "), Sequential(\n",
       "  (0): WeightDropout(\n",
       "    (module): LSTM(1550, 1550, batch_first=True)\n",
       "  )\n",
       "  (1): RNNDropout()\n",
       "), Sequential(\n",
       "  (0): WeightDropout(\n",
       "    (module): LSTM(1550, 1550, batch_first=True)\n",
       "  )\n",
       "  (1): RNNDropout()\n",
       "), Sequential(\n",
       "  (0): WeightDropout(\n",
       "    (module): LSTM(1550, 400, batch_first=True)\n",
       "  )\n",
       "  (1): RNNDropout()\n",
       "), Sequential(\n",
       "  (0): PoolingLinearClassifier(\n",
       "    (layers): Sequential(\n",
       "      (0): BatchNorm1d(1200, eps=1e-05, momentum=0.1, affine=True, track_running_stats=True)\n",
       "      (1): Dropout(p=0.27999999999999997, inplace=False)\n",
       "      (2): Linear(in_features=1200, out_features=50, bias=True)\n",
       "      (3): ReLU(inplace=True)\n",
       "      (4): BatchNorm1d(50, eps=1e-05, momentum=0.1, affine=True, track_running_stats=True)\n",
       "      (5): Dropout(p=0.1, inplace=False)\n",
       "      (6): Linear(in_features=50, out_features=1, bias=True)\n",
       "    )\n",
       "  )\n",
       ")], add_time=True, silent=False)"
      ]
     },
     "execution_count": 44,
     "metadata": {},
     "output_type": "execute_result"
    },
    {
     "data": {
      "text/html": [
       "<table border=\"1\" class=\"dataframe\">\n",
       "  <thead>\n",
       "    <tr style=\"text-align: left;\">\n",
       "      <th>epoch</th>\n",
       "      <th>train_loss</th>\n",
       "      <th>valid_loss</th>\n",
       "      <th>time</th>\n",
       "    </tr>\n",
       "  </thead>\n",
       "  <tbody>\n",
       "    <tr>\n",
       "      <td>0</td>\n",
       "      <td>0.207407</td>\n",
       "      <td>0.199462</td>\n",
       "      <td>23:05</td>\n",
       "    </tr>\n",
       "  </tbody>\n",
       "</table>"
      ],
      "text/plain": [
       "<IPython.core.display.HTML object>"
      ]
     },
     "metadata": {},
     "output_type": "display_data"
    }
   ],
   "source": [
    "learn.load_encoder(\"amazon_thai_review_enc-1\")\n",
    "learn.freeze_to(-2)\n",
    "learn.fit_one_cycle(1, slice(1e-6 / (2.6 ** 4), 1e-6))\n",
    "learn.save_encoder(\"amazon_thai_review_enc-2\")"
   ]
  },
  {
   "cell_type": "code",
   "execution_count": 45,
   "metadata": {},
   "outputs": [
    {
     "data": {
      "text/plain": [
       "RNNLearner(data=TextClasDataBunch;\n",
       "\n",
       "Train: LabelList (241652 items)\n",
       "x: TextList\n",
       "xxbos   ดูเหมือนว่า การเขียน จะ โอ้อวด และ ตัวละคร ไม่ น่าสนใจ พอ ที่จะ ดึง ฉัน เข้ามา มี หลาย คน ที่ เป็น แบบแผน เช่น   &' nerd &'   หรือ   &' jerk &' และ พล็อต เรื่อง ต่าง   ๆ   ดูเหมือน จะ ถูก วางแผน เพื่อ ความ สะดวกสบาย ของ ฉัน เรื่องราว ลาก ไป ใน สถานที่ โดยเฉพาะอย่างยิ่ง ใน บางครั้ง อาจ เป็น เพราะ ฉัน เคยชิน กับ นวนิยาย อเมริกัน สมัยใหม่ ซึ่ง มีแนวโน้ม ที่จะ เคลื่อนไหว ได้ เร็ว ขึ้น โดย ไม่ต้อง สร้าง โลก ที่ ซับซ้อน ในทางกลับกัน ตัวละคร เหล่านี้ มี ความลึก ไม่ มาก เมื่อ เทียบ กับ ที่ ฉัน มักจะ พบ   /   พบ เจอ,xxbos   เรา ซื้อ สิ่ง เหล่านี้ ให้ กับ ลูกชาย วัย   3   ขวบ ของ เรา เพื่อ ติดตาม   kindle   fire   ใหม่ ของ เขา เพราะ เรา คิด ว่า เขา จะ กลัว ที่จะ ใช้ มัน   แต่ พวกเขา กลับ กลายเป็น ว่า ถูกต้อง ง่าย นิดเดียว,xxbos   หนัง เรื่อง นี้ สนุก และ ตลก มาก ฉัน ชอบ มัน ตั้ง แต่ต้นจนจบ ภาพยนตร์ คืน วันที่ ดี เหมาะสำหรับ ผู้ ที่ ไม่ ชอบ อารมณ์ขัน หรือ ความรุนแรง,xxbos   หนังสือ เล่ม นี้ มี เคล็ดลับ ที่ เป็นประโยชน์ มากมาย   แต่ ขาด บาง วิธี ที่จะ ทำให้ มีประโยชน์ และ ใช้งาน ได้ ง่าย ขึ้น ตัวอย่างเช่น ส่วน   &' การ เริ่มต้น อย่างรวดเร็ว &'   บอ กว่า คุณ ควร เริ่ม ด้วย การ ฝึก ครั้งแรก ที่ ระบุ ไว้ จากนั้น ย้อนกลับ ไป   ผ่าน การออกกำลังกาย   1   ต่อ หนึ่ง จากนั้น ทำ แบบฝึกหัด ทั้งหมด ใน คราว เดียว ซึ่ง ดูเหมือน จะ ไม่ ค่อย เป็นประโยชน์ เพราะ มัน แทบจะ เป็นไปไม่ได้ เลย ที่จะ ไม่ ติดตาม สิ่ง หนึ่ง ที่ เกิดขึ้น หลังจากนั้น,xxbos   ฉัน ชอบ ผู้แต่ง   แต่ หนังสือ เล่ม นี้ ไม่ได้ ขึ้นอยู่กับ หนังสือ ธรรมดา ของ เขา ที่ มัน ขาด ความลึก เกี่ยวกับ ตัวละคร ดูเหมือนว่า จะ รีบ แล้วก็ รีบ มาก ไม่มี การ เชื่อมต่อ ระหว่าง ตัวละคร ที่ ทำให้ ฉัน ต้องการ พวกเขา ด้วยกัน น่า ผิดหวัง มาก\n",
       "y: FloatList\n",
       "0.0,0.0,0.0,0.0,0.0\n",
       "Path: output;\n",
       "\n",
       "Valid: LabelList (30207 items)\n",
       "x: TextList\n",
       "xxbos   คุณ ซื้อ สิ่ง เหล่านี้ ใน ราคา ถูก เมื่อ คิด ว่า คุณ ได้รับ ทั้ง กรณี   แต่ จริงๆ แล้ว ครึ่งหนึ่ง ของ ราคา นั้น มัน ไม่ คุ้มค่า ที่จะ อารมณ์เสีย และ พวกเขา เข้ากัน กับ เครื่อง ปั่น ของ ฉัน   แต่ ฉัน ต้องการ เตือน ผู้อื่น ก่อนที่จะ เสียเงิน กับ สิ่ง นี้ พวกเขา ทำ สมูทตี้ ยอดเยี่ยม ด้วย ผลไม้ แช่แข็ง !   :),xxbos   ไม่แน่ใจ ว่า ใช้งาน ได้ จริง หรือไม่ ฉัน แค่ ให้ อันนี้ ให้ เพื่อน ของ ฉัน ดูเหมือนว่า ผลลัพธ์ ของ เขา จะ ดี ไม่มี การร้องเรียน จาก เขา แต่ ผลิตภัณฑ์ มี ราคาแพง มาก และ ไม่ ค่อย ดี นัก เขา บอ กว่า เขา ได้ รับประโยชน์ มากขึ้น ใน รา คาที่ ถูก กว่า,xxbos   ซื้อ จาก ผู้ขาย และ ได้รับ ใน   3   วัน กับ   prime,xxbos   ผลิตภัณฑ์ นี้ มี คุณภาพ ไม่ ดีฉัน เพิ่ง มี เวลา สอง สาม เดือน และ อีก ด้าน หนึ่ง เพิ่ง หลุด เมื่อ สามี ของ ฉัน พยายาม หาเงิน ออกจาก ทะเบียน ฝีมือ แย่ หรือ กาว ไม่ดี ? ฉัน จะ ไม่มีทาง รู้ เพราะ เรา ไม่ได้ เก็บ กระดาษ ไว้ ใน นั้น มัน เป็นปัญหา มากเกินไป สำหรับ ฉัน เนื่องจาก มี เด็ก   2   คน ที่ ไปเที่ยว กับ มัน ทุก สุดสัปดาห์ ราคา ควร มากกว่า นี้ อย่า วาง ของ หนัก   ๆ   เหมือน เงินสด เลย,xxbos   ฉัน เพิ่ง ได้รับ กรณี นี้ เป็น สีชมพู สำหรับ   ipad   2   ของ ฉัน และ จนถึง ตอนนี้ ลูกค้า มีความสุข มาก สี เป็นจริง กับ ภาพ มัน พอดี เช่นกัน สิ่ง เดียว ที่ ฉัน ร้องเรียน เกี่ยวกับ มัน   ( ไม่ มาก )   ก็ คือ มัน มี ฝุ่น อยู่ สอง สาม ชิ้น การ เช็ด อย่างรวดเร็ว ด้วย แอลกอฮอล์ ถู คงที่   แต่ ถ้า คุณ กำลัง มองหา บางสิ่ง ที่ สมบูรณ์แบบ สำหรับ ลุค ให้ ใช้ เงิน เพิ่มขึ้น อีก   $   หรือ รับ   smart   cover\n",
       "y: FloatList\n",
       "0.0,0.0,1.0,0.0,0.0\n",
       "Path: output;\n",
       "\n",
       "Test: None, model=SequentialRNN(\n",
       "  (0): MultiBatchEncoder(\n",
       "    (module): AWD_LSTM(\n",
       "      (encoder): Embedding(27720, 400, padding_idx=1)\n",
       "      (encoder_dp): EmbeddingDropout(\n",
       "        (emb): Embedding(27720, 400, padding_idx=1)\n",
       "      )\n",
       "      (rnns): ModuleList(\n",
       "        (0): WeightDropout(\n",
       "          (module): LSTM(400, 1550, batch_first=True)\n",
       "        )\n",
       "        (1): WeightDropout(\n",
       "          (module): LSTM(1550, 1550, batch_first=True)\n",
       "        )\n",
       "        (2): WeightDropout(\n",
       "          (module): LSTM(1550, 1550, batch_first=True)\n",
       "        )\n",
       "        (3): WeightDropout(\n",
       "          (module): LSTM(1550, 400, batch_first=True)\n",
       "        )\n",
       "      )\n",
       "      (input_dp): RNNDropout()\n",
       "      (hidden_dps): ModuleList(\n",
       "        (0): RNNDropout()\n",
       "        (1): RNNDropout()\n",
       "        (2): RNNDropout()\n",
       "        (3): RNNDropout()\n",
       "      )\n",
       "    )\n",
       "  )\n",
       "  (1): PoolingLinearClassifier(\n",
       "    (layers): Sequential(\n",
       "      (0): BatchNorm1d(1200, eps=1e-05, momentum=0.1, affine=True, track_running_stats=True)\n",
       "      (1): Dropout(p=0.27999999999999997, inplace=False)\n",
       "      (2): Linear(in_features=1200, out_features=50, bias=True)\n",
       "      (3): ReLU(inplace=True)\n",
       "      (4): BatchNorm1d(50, eps=1e-05, momentum=0.1, affine=True, track_running_stats=True)\n",
       "      (5): Dropout(p=0.1, inplace=False)\n",
       "      (6): Linear(in_features=50, out_features=1, bias=True)\n",
       "    )\n",
       "  )\n",
       "), opt_func=functools.partial(<class 'torch.optim.adam.Adam'>, betas=(0.9, 0.99)), loss_func=FlattenedLoss of MSELoss(), metrics=[], true_wd=True, bn_wd=True, wd=0.01, train_bn=True, path=PosixPath('output'), model_dir='models', callback_fns=[functools.partial(<class 'fastai.basic_train.Recorder'>, add_time=True, silent=False)], callbacks=[RNNTrainer\n",
       "learn: ...\n",
       "alpha: 2\n",
       "beta: 1], layer_groups=[Sequential(\n",
       "  (0): Embedding(27720, 400, padding_idx=1)\n",
       "  (1): EmbeddingDropout(\n",
       "    (emb): Embedding(27720, 400, padding_idx=1)\n",
       "  )\n",
       "), Sequential(\n",
       "  (0): WeightDropout(\n",
       "    (module): LSTM(400, 1550, batch_first=True)\n",
       "  )\n",
       "  (1): RNNDropout()\n",
       "), Sequential(\n",
       "  (0): WeightDropout(\n",
       "    (module): LSTM(1550, 1550, batch_first=True)\n",
       "  )\n",
       "  (1): RNNDropout()\n",
       "), Sequential(\n",
       "  (0): WeightDropout(\n",
       "    (module): LSTM(1550, 1550, batch_first=True)\n",
       "  )\n",
       "  (1): RNNDropout()\n",
       "), Sequential(\n",
       "  (0): WeightDropout(\n",
       "    (module): LSTM(1550, 400, batch_first=True)\n",
       "  )\n",
       "  (1): RNNDropout()\n",
       "), Sequential(\n",
       "  (0): PoolingLinearClassifier(\n",
       "    (layers): Sequential(\n",
       "      (0): BatchNorm1d(1200, eps=1e-05, momentum=0.1, affine=True, track_running_stats=True)\n",
       "      (1): Dropout(p=0.27999999999999997, inplace=False)\n",
       "      (2): Linear(in_features=1200, out_features=50, bias=True)\n",
       "      (3): ReLU(inplace=True)\n",
       "      (4): BatchNorm1d(50, eps=1e-05, momentum=0.1, affine=True, track_running_stats=True)\n",
       "      (5): Dropout(p=0.1, inplace=False)\n",
       "      (6): Linear(in_features=50, out_features=1, bias=True)\n",
       "    )\n",
       "  )\n",
       ")], add_time=True, silent=False)"
      ]
     },
     "execution_count": 45,
     "metadata": {},
     "output_type": "execute_result"
    },
    {
     "data": {
      "text/html": [
       "\n",
       "    <div>\n",
       "        <style>\n",
       "            /* Turns off some styling */\n",
       "            progress {\n",
       "                /* gets rid of default border in Firefox and Opera. */\n",
       "                border: none;\n",
       "                /* Needs to be in here for Safari polyfill so background images work as expected. */\n",
       "                background-size: auto;\n",
       "            }\n",
       "            .progress-bar-interrupted, .progress-bar-interrupted::-webkit-progress-bar {\n",
       "                background: #F44336;\n",
       "            }\n",
       "        </style>\n",
       "      <progress value='0' class='' max='1', style='width:300px; height:20px; vertical-align: middle;'></progress>\n",
       "      0.00% [0/1 00:00<00:00]\n",
       "    </div>\n",
       "    \n",
       "<table border=\"1\" class=\"dataframe\">\n",
       "  <thead>\n",
       "    <tr style=\"text-align: left;\">\n",
       "      <th>epoch</th>\n",
       "      <th>train_loss</th>\n",
       "      <th>valid_loss</th>\n",
       "      <th>time</th>\n",
       "    </tr>\n",
       "  </thead>\n",
       "  <tbody>\n",
       "  </tbody>\n",
       "</table><p>\n",
       "\n",
       "    <div>\n",
       "        <style>\n",
       "            /* Turns off some styling */\n",
       "            progress {\n",
       "                /* gets rid of default border in Firefox and Opera. */\n",
       "                border: none;\n",
       "                /* Needs to be in here for Safari polyfill so background images work as expected. */\n",
       "                background-size: auto;\n",
       "            }\n",
       "            .progress-bar-interrupted, .progress-bar-interrupted::-webkit-progress-bar {\n",
       "                background: #F44336;\n",
       "            }\n",
       "        </style>\n",
       "      <progress value='87' class='' max='4833', style='width:300px; height:20px; vertical-align: middle;'></progress>\n",
       "      1.80% [87/4833 00:30<27:53 0.3686]\n",
       "    </div>\n",
       "    "
      ],
      "text/plain": [
       "<IPython.core.display.HTML object>"
      ]
     },
     "metadata": {},
     "output_type": "display_data"
    },
    {
     "name": "stdout",
     "output_type": "stream",
     "text": [
      "LR Finder is complete, type {learner_name}.recorder.plot() to see the graph.\n"
     ]
    }
   ],
   "source": [
    "learn.load_encoder(\"amazon_thai_review_enc-2\")\n",
    "learn.freeze_to(-3)\n",
    "learn.lr_find()"
   ]
  },
  {
   "cell_type": "code",
   "execution_count": 46,
   "metadata": {},
   "outputs": [
    {
     "name": "stdout",
     "output_type": "stream",
     "text": [
      "Min numerical gradient: 1.91E-06\n",
      "Min loss divided by 10: 7.59E-08\n"
     ]
    },
    {
     "data": {
      "image/png": "[encoded data removed]",
      "text/plain": [
       "<Figure size 432x288 with 1 Axes>"
      ]
     },
     "metadata": {
      "needs_background": "light"
     },
     "output_type": "display_data"
    }
   ],
   "source": [
    "learn.recorder.plot(suggestion=True)"
   ]
  },
  {
   "cell_type": "code",
   "execution_count": 47,
   "metadata": {},
   "outputs": [
    {
     "data": {
      "text/plain": [
       "RNNLearner(data=TextClasDataBunch;\n",
       "\n",
       "Train: LabelList (241652 items)\n",
       "x: TextList\n",
       "xxbos   ดูเหมือนว่า การเขียน จะ โอ้อวด และ ตัวละคร ไม่ น่าสนใจ พอ ที่จะ ดึง ฉัน เข้ามา มี หลาย คน ที่ เป็น แบบแผน เช่น   &' nerd &'   หรือ   &' jerk &' และ พล็อต เรื่อง ต่าง   ๆ   ดูเหมือน จะ ถูก วางแผน เพื่อ ความ สะดวกสบาย ของ ฉัน เรื่องราว ลาก ไป ใน สถานที่ โดยเฉพาะอย่างยิ่ง ใน บางครั้ง อาจ เป็น เพราะ ฉัน เคยชิน กับ นวนิยาย อเมริกัน สมัยใหม่ ซึ่ง มีแนวโน้ม ที่จะ เคลื่อนไหว ได้ เร็ว ขึ้น โดย ไม่ต้อง สร้าง โลก ที่ ซับซ้อน ในทางกลับกัน ตัวละคร เหล่านี้ มี ความลึก ไม่ มาก เมื่อ เทียบ กับ ที่ ฉัน มักจะ พบ   /   พบ เจอ,xxbos   เรา ซื้อ สิ่ง เหล่านี้ ให้ กับ ลูกชาย วัย   3   ขวบ ของ เรา เพื่อ ติดตาม   kindle   fire   ใหม่ ของ เขา เพราะ เรา คิด ว่า เขา จะ กลัว ที่จะ ใช้ มัน   แต่ พวกเขา กลับ กลายเป็น ว่า ถูกต้อง ง่าย นิดเดียว,xxbos   หนัง เรื่อง นี้ สนุก และ ตลก มาก ฉัน ชอบ มัน ตั้ง แต่ต้นจนจบ ภาพยนตร์ คืน วันที่ ดี เหมาะสำหรับ ผู้ ที่ ไม่ ชอบ อารมณ์ขัน หรือ ความรุนแรง,xxbos   หนังสือ เล่ม นี้ มี เคล็ดลับ ที่ เป็นประโยชน์ มากมาย   แต่ ขาด บาง วิธี ที่จะ ทำให้ มีประโยชน์ และ ใช้งาน ได้ ง่าย ขึ้น ตัวอย่างเช่น ส่วน   &' การ เริ่มต้น อย่างรวดเร็ว &'   บอ กว่า คุณ ควร เริ่ม ด้วย การ ฝึก ครั้งแรก ที่ ระบุ ไว้ จากนั้น ย้อนกลับ ไป   ผ่าน การออกกำลังกาย   1   ต่อ หนึ่ง จากนั้น ทำ แบบฝึกหัด ทั้งหมด ใน คราว เดียว ซึ่ง ดูเหมือน จะ ไม่ ค่อย เป็นประโยชน์ เพราะ มัน แทบจะ เป็นไปไม่ได้ เลย ที่จะ ไม่ ติดตาม สิ่ง หนึ่ง ที่ เกิดขึ้น หลังจากนั้น,xxbos   ฉัน ชอบ ผู้แต่ง   แต่ หนังสือ เล่ม นี้ ไม่ได้ ขึ้นอยู่กับ หนังสือ ธรรมดา ของ เขา ที่ มัน ขาด ความลึก เกี่ยวกับ ตัวละคร ดูเหมือนว่า จะ รีบ แล้วก็ รีบ มาก ไม่มี การ เชื่อมต่อ ระหว่าง ตัวละคร ที่ ทำให้ ฉัน ต้องการ พวกเขา ด้วยกัน น่า ผิดหวัง มาก\n",
       "y: FloatList\n",
       "0.0,0.0,0.0,0.0,0.0\n",
       "Path: output;\n",
       "\n",
       "Valid: LabelList (30207 items)\n",
       "x: TextList\n",
       "xxbos   คุณ ซื้อ สิ่ง เหล่านี้ ใน ราคา ถูก เมื่อ คิด ว่า คุณ ได้รับ ทั้ง กรณี   แต่ จริงๆ แล้ว ครึ่งหนึ่ง ของ ราคา นั้น มัน ไม่ คุ้มค่า ที่จะ อารมณ์เสีย และ พวกเขา เข้ากัน กับ เครื่อง ปั่น ของ ฉัน   แต่ ฉัน ต้องการ เตือน ผู้อื่น ก่อนที่จะ เสียเงิน กับ สิ่ง นี้ พวกเขา ทำ สมูทตี้ ยอดเยี่ยม ด้วย ผลไม้ แช่แข็ง !   :),xxbos   ไม่แน่ใจ ว่า ใช้งาน ได้ จริง หรือไม่ ฉัน แค่ ให้ อันนี้ ให้ เพื่อน ของ ฉัน ดูเหมือนว่า ผลลัพธ์ ของ เขา จะ ดี ไม่มี การร้องเรียน จาก เขา แต่ ผลิตภัณฑ์ มี ราคาแพง มาก และ ไม่ ค่อย ดี นัก เขา บอ กว่า เขา ได้ รับประโยชน์ มากขึ้น ใน รา คาที่ ถูก กว่า,xxbos   ซื้อ จาก ผู้ขาย และ ได้รับ ใน   3   วัน กับ   prime,xxbos   ผลิตภัณฑ์ นี้ มี คุณภาพ ไม่ ดีฉัน เพิ่ง มี เวลา สอง สาม เดือน และ อีก ด้าน หนึ่ง เพิ่ง หลุด เมื่อ สามี ของ ฉัน พยายาม หาเงิน ออกจาก ทะเบียน ฝีมือ แย่ หรือ กาว ไม่ดี ? ฉัน จะ ไม่มีทาง รู้ เพราะ เรา ไม่ได้ เก็บ กระดาษ ไว้ ใน นั้น มัน เป็นปัญหา มากเกินไป สำหรับ ฉัน เนื่องจาก มี เด็ก   2   คน ที่ ไปเที่ยว กับ มัน ทุก สุดสัปดาห์ ราคา ควร มากกว่า นี้ อย่า วาง ของ หนัก   ๆ   เหมือน เงินสด เลย,xxbos   ฉัน เพิ่ง ได้รับ กรณี นี้ เป็น สีชมพู สำหรับ   ipad   2   ของ ฉัน และ จนถึง ตอนนี้ ลูกค้า มีความสุข มาก สี เป็นจริง กับ ภาพ มัน พอดี เช่นกัน สิ่ง เดียว ที่ ฉัน ร้องเรียน เกี่ยวกับ มัน   ( ไม่ มาก )   ก็ คือ มัน มี ฝุ่น อยู่ สอง สาม ชิ้น การ เช็ด อย่างรวดเร็ว ด้วย แอลกอฮอล์ ถู คงที่   แต่ ถ้า คุณ กำลัง มองหา บางสิ่ง ที่ สมบูรณ์แบบ สำหรับ ลุค ให้ ใช้ เงิน เพิ่มขึ้น อีก   $   หรือ รับ   smart   cover\n",
       "y: FloatList\n",
       "0.0,0.0,1.0,0.0,0.0\n",
       "Path: output;\n",
       "\n",
       "Test: None, model=SequentialRNN(\n",
       "  (0): MultiBatchEncoder(\n",
       "    (module): AWD_LSTM(\n",
       "      (encoder): Embedding(27720, 400, padding_idx=1)\n",
       "      (encoder_dp): EmbeddingDropout(\n",
       "        (emb): Embedding(27720, 400, padding_idx=1)\n",
       "      )\n",
       "      (rnns): ModuleList(\n",
       "        (0): WeightDropout(\n",
       "          (module): LSTM(400, 1550, batch_first=True)\n",
       "        )\n",
       "        (1): WeightDropout(\n",
       "          (module): LSTM(1550, 1550, batch_first=True)\n",
       "        )\n",
       "        (2): WeightDropout(\n",
       "          (module): LSTM(1550, 1550, batch_first=True)\n",
       "        )\n",
       "        (3): WeightDropout(\n",
       "          (module): LSTM(1550, 400, batch_first=True)\n",
       "        )\n",
       "      )\n",
       "      (input_dp): RNNDropout()\n",
       "      (hidden_dps): ModuleList(\n",
       "        (0): RNNDropout()\n",
       "        (1): RNNDropout()\n",
       "        (2): RNNDropout()\n",
       "        (3): RNNDropout()\n",
       "      )\n",
       "    )\n",
       "  )\n",
       "  (1): PoolingLinearClassifier(\n",
       "    (layers): Sequential(\n",
       "      (0): BatchNorm1d(1200, eps=1e-05, momentum=0.1, affine=True, track_running_stats=True)\n",
       "      (1): Dropout(p=0.27999999999999997, inplace=False)\n",
       "      (2): Linear(in_features=1200, out_features=50, bias=True)\n",
       "      (3): ReLU(inplace=True)\n",
       "      (4): BatchNorm1d(50, eps=1e-05, momentum=0.1, affine=True, track_running_stats=True)\n",
       "      (5): Dropout(p=0.1, inplace=False)\n",
       "      (6): Linear(in_features=50, out_features=1, bias=True)\n",
       "    )\n",
       "  )\n",
       "), opt_func=functools.partial(<class 'torch.optim.adam.Adam'>, betas=(0.9, 0.99)), loss_func=FlattenedLoss of MSELoss(), metrics=[], true_wd=True, bn_wd=True, wd=0.01, train_bn=True, path=PosixPath('output'), model_dir='models', callback_fns=[functools.partial(<class 'fastai.basic_train.Recorder'>, add_time=True, silent=False)], callbacks=[RNNTrainer\n",
       "learn: ...\n",
       "alpha: 2\n",
       "beta: 1], layer_groups=[Sequential(\n",
       "  (0): Embedding(27720, 400, padding_idx=1)\n",
       "  (1): EmbeddingDropout(\n",
       "    (emb): Embedding(27720, 400, padding_idx=1)\n",
       "  )\n",
       "), Sequential(\n",
       "  (0): WeightDropout(\n",
       "    (module): LSTM(400, 1550, batch_first=True)\n",
       "  )\n",
       "  (1): RNNDropout()\n",
       "), Sequential(\n",
       "  (0): WeightDropout(\n",
       "    (module): LSTM(1550, 1550, batch_first=True)\n",
       "  )\n",
       "  (1): RNNDropout()\n",
       "), Sequential(\n",
       "  (0): WeightDropout(\n",
       "    (module): LSTM(1550, 1550, batch_first=True)\n",
       "  )\n",
       "  (1): RNNDropout()\n",
       "), Sequential(\n",
       "  (0): WeightDropout(\n",
       "    (module): LSTM(1550, 400, batch_first=True)\n",
       "  )\n",
       "  (1): RNNDropout()\n",
       "), Sequential(\n",
       "  (0): PoolingLinearClassifier(\n",
       "    (layers): Sequential(\n",
       "      (0): BatchNorm1d(1200, eps=1e-05, momentum=0.1, affine=True, track_running_stats=True)\n",
       "      (1): Dropout(p=0.27999999999999997, inplace=False)\n",
       "      (2): Linear(in_features=1200, out_features=50, bias=True)\n",
       "      (3): ReLU(inplace=True)\n",
       "      (4): BatchNorm1d(50, eps=1e-05, momentum=0.1, affine=True, track_running_stats=True)\n",
       "      (5): Dropout(p=0.1, inplace=False)\n",
       "      (6): Linear(in_features=50, out_features=1, bias=True)\n",
       "    )\n",
       "  )\n",
       ")], add_time=True, silent=False)"
      ]
     },
     "execution_count": 47,
     "metadata": {},
     "output_type": "execute_result"
    },
    {
     "data": {
      "text/html": [
       "<table border=\"1\" class=\"dataframe\">\n",
       "  <thead>\n",
       "    <tr style=\"text-align: left;\">\n",
       "      <th>epoch</th>\n",
       "      <th>train_loss</th>\n",
       "      <th>valid_loss</th>\n",
       "      <th>time</th>\n",
       "    </tr>\n",
       "  </thead>\n",
       "  <tbody>\n",
       "    <tr>\n",
       "      <td>0</td>\n",
       "      <td>0.209430</td>\n",
       "      <td>0.199060</td>\n",
       "      <td>21:14</td>\n",
       "    </tr>\n",
       "  </tbody>\n",
       "</table>"
      ],
      "text/plain": [
       "<IPython.core.display.HTML object>"
      ]
     },
     "metadata": {},
     "output_type": "display_data"
    }
   ],
   "source": [
    "learn.load_encoder(\"amazon_thai_review_enc-2\")\n",
    "learn.freeze_to(-3)\n",
    "learn.fit_one_cycle(1, slice(2e-6 / (2.6 ** 4), 2e-6))\n",
    "learn.save_encoder(\"amazon_thai_review_enc-3\")"
   ]
  },
  {
   "cell_type": "code",
   "execution_count": 48,
   "metadata": {},
   "outputs": [
    {
     "data": {
      "text/plain": [
       "RNNLearner(data=TextClasDataBunch;\n",
       "\n",
       "Train: LabelList (241652 items)\n",
       "x: TextList\n",
       "xxbos   ดูเหมือนว่า การเขียน จะ โอ้อวด และ ตัวละคร ไม่ น่าสนใจ พอ ที่จะ ดึง ฉัน เข้ามา มี หลาย คน ที่ เป็น แบบแผน เช่น   &' nerd &'   หรือ   &' jerk &' และ พล็อต เรื่อง ต่าง   ๆ   ดูเหมือน จะ ถูก วางแผน เพื่อ ความ สะดวกสบาย ของ ฉัน เรื่องราว ลาก ไป ใน สถานที่ โดยเฉพาะอย่างยิ่ง ใน บางครั้ง อาจ เป็น เพราะ ฉัน เคยชิน กับ นวนิยาย อเมริกัน สมัยใหม่ ซึ่ง มีแนวโน้ม ที่จะ เคลื่อนไหว ได้ เร็ว ขึ้น โดย ไม่ต้อง สร้าง โลก ที่ ซับซ้อน ในทางกลับกัน ตัวละคร เหล่านี้ มี ความลึก ไม่ มาก เมื่อ เทียบ กับ ที่ ฉัน มักจะ พบ   /   พบ เจอ,xxbos   เรา ซื้อ สิ่ง เหล่านี้ ให้ กับ ลูกชาย วัย   3   ขวบ ของ เรา เพื่อ ติดตาม   kindle   fire   ใหม่ ของ เขา เพราะ เรา คิด ว่า เขา จะ กลัว ที่จะ ใช้ มัน   แต่ พวกเขา กลับ กลายเป็น ว่า ถูกต้อง ง่าย นิดเดียว,xxbos   หนัง เรื่อง นี้ สนุก และ ตลก มาก ฉัน ชอบ มัน ตั้ง แต่ต้นจนจบ ภาพยนตร์ คืน วันที่ ดี เหมาะสำหรับ ผู้ ที่ ไม่ ชอบ อารมณ์ขัน หรือ ความรุนแรง,xxbos   หนังสือ เล่ม นี้ มี เคล็ดลับ ที่ เป็นประโยชน์ มากมาย   แต่ ขาด บาง วิธี ที่จะ ทำให้ มีประโยชน์ และ ใช้งาน ได้ ง่าย ขึ้น ตัวอย่างเช่น ส่วน   &' การ เริ่มต้น อย่างรวดเร็ว &'   บอ กว่า คุณ ควร เริ่ม ด้วย การ ฝึก ครั้งแรก ที่ ระบุ ไว้ จากนั้น ย้อนกลับ ไป   ผ่าน การออกกำลังกาย   1   ต่อ หนึ่ง จากนั้น ทำ แบบฝึกหัด ทั้งหมด ใน คราว เดียว ซึ่ง ดูเหมือน จะ ไม่ ค่อย เป็นประโยชน์ เพราะ มัน แทบจะ เป็นไปไม่ได้ เลย ที่จะ ไม่ ติดตาม สิ่ง หนึ่ง ที่ เกิดขึ้น หลังจากนั้น,xxbos   ฉัน ชอบ ผู้แต่ง   แต่ หนังสือ เล่ม นี้ ไม่ได้ ขึ้นอยู่กับ หนังสือ ธรรมดา ของ เขา ที่ มัน ขาด ความลึก เกี่ยวกับ ตัวละคร ดูเหมือนว่า จะ รีบ แล้วก็ รีบ มาก ไม่มี การ เชื่อมต่อ ระหว่าง ตัวละคร ที่ ทำให้ ฉัน ต้องการ พวกเขา ด้วยกัน น่า ผิดหวัง มาก\n",
       "y: FloatList\n",
       "0.0,0.0,0.0,0.0,0.0\n",
       "Path: output;\n",
       "\n",
       "Valid: LabelList (30207 items)\n",
       "x: TextList\n",
       "xxbos   คุณ ซื้อ สิ่ง เหล่านี้ ใน ราคา ถูก เมื่อ คิด ว่า คุณ ได้รับ ทั้ง กรณี   แต่ จริงๆ แล้ว ครึ่งหนึ่ง ของ ราคา นั้น มัน ไม่ คุ้มค่า ที่จะ อารมณ์เสีย และ พวกเขา เข้ากัน กับ เครื่อง ปั่น ของ ฉัน   แต่ ฉัน ต้องการ เตือน ผู้อื่น ก่อนที่จะ เสียเงิน กับ สิ่ง นี้ พวกเขา ทำ สมูทตี้ ยอดเยี่ยม ด้วย ผลไม้ แช่แข็ง !   :),xxbos   ไม่แน่ใจ ว่า ใช้งาน ได้ จริง หรือไม่ ฉัน แค่ ให้ อันนี้ ให้ เพื่อน ของ ฉัน ดูเหมือนว่า ผลลัพธ์ ของ เขา จะ ดี ไม่มี การร้องเรียน จาก เขา แต่ ผลิตภัณฑ์ มี ราคาแพง มาก และ ไม่ ค่อย ดี นัก เขา บอ กว่า เขา ได้ รับประโยชน์ มากขึ้น ใน รา คาที่ ถูก กว่า,xxbos   ซื้อ จาก ผู้ขาย และ ได้รับ ใน   3   วัน กับ   prime,xxbos   ผลิตภัณฑ์ นี้ มี คุณภาพ ไม่ ดีฉัน เพิ่ง มี เวลา สอง สาม เดือน และ อีก ด้าน หนึ่ง เพิ่ง หลุด เมื่อ สามี ของ ฉัน พยายาม หาเงิน ออกจาก ทะเบียน ฝีมือ แย่ หรือ กาว ไม่ดี ? ฉัน จะ ไม่มีทาง รู้ เพราะ เรา ไม่ได้ เก็บ กระดาษ ไว้ ใน นั้น มัน เป็นปัญหา มากเกินไป สำหรับ ฉัน เนื่องจาก มี เด็ก   2   คน ที่ ไปเที่ยว กับ มัน ทุก สุดสัปดาห์ ราคา ควร มากกว่า นี้ อย่า วาง ของ หนัก   ๆ   เหมือน เงินสด เลย,xxbos   ฉัน เพิ่ง ได้รับ กรณี นี้ เป็น สีชมพู สำหรับ   ipad   2   ของ ฉัน และ จนถึง ตอนนี้ ลูกค้า มีความสุข มาก สี เป็นจริง กับ ภาพ มัน พอดี เช่นกัน สิ่ง เดียว ที่ ฉัน ร้องเรียน เกี่ยวกับ มัน   ( ไม่ มาก )   ก็ คือ มัน มี ฝุ่น อยู่ สอง สาม ชิ้น การ เช็ด อย่างรวดเร็ว ด้วย แอลกอฮอล์ ถู คงที่   แต่ ถ้า คุณ กำลัง มองหา บางสิ่ง ที่ สมบูรณ์แบบ สำหรับ ลุค ให้ ใช้ เงิน เพิ่มขึ้น อีก   $   หรือ รับ   smart   cover\n",
       "y: FloatList\n",
       "0.0,0.0,1.0,0.0,0.0\n",
       "Path: output;\n",
       "\n",
       "Test: None, model=SequentialRNN(\n",
       "  (0): MultiBatchEncoder(\n",
       "    (module): AWD_LSTM(\n",
       "      (encoder): Embedding(27720, 400, padding_idx=1)\n",
       "      (encoder_dp): EmbeddingDropout(\n",
       "        (emb): Embedding(27720, 400, padding_idx=1)\n",
       "      )\n",
       "      (rnns): ModuleList(\n",
       "        (0): WeightDropout(\n",
       "          (module): LSTM(400, 1550, batch_first=True)\n",
       "        )\n",
       "        (1): WeightDropout(\n",
       "          (module): LSTM(1550, 1550, batch_first=True)\n",
       "        )\n",
       "        (2): WeightDropout(\n",
       "          (module): LSTM(1550, 1550, batch_first=True)\n",
       "        )\n",
       "        (3): WeightDropout(\n",
       "          (module): LSTM(1550, 400, batch_first=True)\n",
       "        )\n",
       "      )\n",
       "      (input_dp): RNNDropout()\n",
       "      (hidden_dps): ModuleList(\n",
       "        (0): RNNDropout()\n",
       "        (1): RNNDropout()\n",
       "        (2): RNNDropout()\n",
       "        (3): RNNDropout()\n",
       "      )\n",
       "    )\n",
       "  )\n",
       "  (1): PoolingLinearClassifier(\n",
       "    (layers): Sequential(\n",
       "      (0): BatchNorm1d(1200, eps=1e-05, momentum=0.1, affine=True, track_running_stats=True)\n",
       "      (1): Dropout(p=0.27999999999999997, inplace=False)\n",
       "      (2): Linear(in_features=1200, out_features=50, bias=True)\n",
       "      (3): ReLU(inplace=True)\n",
       "      (4): BatchNorm1d(50, eps=1e-05, momentum=0.1, affine=True, track_running_stats=True)\n",
       "      (5): Dropout(p=0.1, inplace=False)\n",
       "      (6): Linear(in_features=50, out_features=1, bias=True)\n",
       "    )\n",
       "  )\n",
       "), opt_func=functools.partial(<class 'torch.optim.adam.Adam'>, betas=(0.9, 0.99)), loss_func=FlattenedLoss of MSELoss(), metrics=[], true_wd=True, bn_wd=True, wd=0.01, train_bn=True, path=PosixPath('output'), model_dir='models', callback_fns=[functools.partial(<class 'fastai.basic_train.Recorder'>, add_time=True, silent=False)], callbacks=[RNNTrainer\n",
       "learn: ...\n",
       "alpha: 2\n",
       "beta: 1], layer_groups=[Sequential(\n",
       "  (0): Embedding(27720, 400, padding_idx=1)\n",
       "  (1): EmbeddingDropout(\n",
       "    (emb): Embedding(27720, 400, padding_idx=1)\n",
       "  )\n",
       "), Sequential(\n",
       "  (0): WeightDropout(\n",
       "    (module): LSTM(400, 1550, batch_first=True)\n",
       "  )\n",
       "  (1): RNNDropout()\n",
       "), Sequential(\n",
       "  (0): WeightDropout(\n",
       "    (module): LSTM(1550, 1550, batch_first=True)\n",
       "  )\n",
       "  (1): RNNDropout()\n",
       "), Sequential(\n",
       "  (0): WeightDropout(\n",
       "    (module): LSTM(1550, 1550, batch_first=True)\n",
       "  )\n",
       "  (1): RNNDropout()\n",
       "), Sequential(\n",
       "  (0): WeightDropout(\n",
       "    (module): LSTM(1550, 400, batch_first=True)\n",
       "  )\n",
       "  (1): RNNDropout()\n",
       "), Sequential(\n",
       "  (0): PoolingLinearClassifier(\n",
       "    (layers): Sequential(\n",
       "      (0): BatchNorm1d(1200, eps=1e-05, momentum=0.1, affine=True, track_running_stats=True)\n",
       "      (1): Dropout(p=0.27999999999999997, inplace=False)\n",
       "      (2): Linear(in_features=1200, out_features=50, bias=True)\n",
       "      (3): ReLU(inplace=True)\n",
       "      (4): BatchNorm1d(50, eps=1e-05, momentum=0.1, affine=True, track_running_stats=True)\n",
       "      (5): Dropout(p=0.1, inplace=False)\n",
       "      (6): Linear(in_features=50, out_features=1, bias=True)\n",
       "    )\n",
       "  )\n",
       ")], add_time=True, silent=False)"
      ]
     },
     "execution_count": 48,
     "metadata": {},
     "output_type": "execute_result"
    },
    {
     "data": {
      "text/html": [
       "\n",
       "    <div>\n",
       "        <style>\n",
       "            /* Turns off some styling */\n",
       "            progress {\n",
       "                /* gets rid of default border in Firefox and Opera. */\n",
       "                border: none;\n",
       "                /* Needs to be in here for Safari polyfill so background images work as expected. */\n",
       "                background-size: auto;\n",
       "            }\n",
       "            .progress-bar-interrupted, .progress-bar-interrupted::-webkit-progress-bar {\n",
       "                background: #F44336;\n",
       "            }\n",
       "        </style>\n",
       "      <progress value='0' class='' max='1', style='width:300px; height:20px; vertical-align: middle;'></progress>\n",
       "      0.00% [0/1 00:00<00:00]\n",
       "    </div>\n",
       "    \n",
       "<table border=\"1\" class=\"dataframe\">\n",
       "  <thead>\n",
       "    <tr style=\"text-align: left;\">\n",
       "      <th>epoch</th>\n",
       "      <th>train_loss</th>\n",
       "      <th>valid_loss</th>\n",
       "      <th>time</th>\n",
       "    </tr>\n",
       "  </thead>\n",
       "  <tbody>\n",
       "  </tbody>\n",
       "</table><p>\n",
       "\n",
       "    <div>\n",
       "        <style>\n",
       "            /* Turns off some styling */\n",
       "            progress {\n",
       "                /* gets rid of default border in Firefox and Opera. */\n",
       "                border: none;\n",
       "                /* Needs to be in here for Safari polyfill so background images work as expected. */\n",
       "                background-size: auto;\n",
       "            }\n",
       "            .progress-bar-interrupted, .progress-bar-interrupted::-webkit-progress-bar {\n",
       "                background: #F44336;\n",
       "            }\n",
       "        </style>\n",
       "      <progress value='86' class='' max='4833', style='width:300px; height:20px; vertical-align: middle;'></progress>\n",
       "      1.78% [86/4833 00:33<30:40 0.6091]\n",
       "    </div>\n",
       "    "
      ],
      "text/plain": [
       "<IPython.core.display.HTML object>"
      ]
     },
     "metadata": {},
     "output_type": "display_data"
    },
    {
     "name": "stdout",
     "output_type": "stream",
     "text": [
      "LR Finder is complete, type {learner_name}.recorder.plot() to see the graph.\n"
     ]
    }
   ],
   "source": [
    "learn.load_encoder(\"amazon_thai_review_enc-3\")\n",
    "learn.unfreeze()\n",
    "learn.lr_find()"
   ]
  },
  {
   "cell_type": "code",
   "execution_count": 49,
   "metadata": {},
   "outputs": [
    {
     "name": "stdout",
     "output_type": "stream",
     "text": [
      "Min numerical gradient: 1.10E-06\n",
      "Min loss divided by 10: 1.32E-07\n"
     ]
    },
    {
     "data": {
      "image/png": "[encoded data removed]",
      "text/plain": [
       "<Figure size 432x288 with 1 Axes>"
      ]
     },
     "metadata": {
      "needs_background": "light"
     },
     "output_type": "display_data"
    }
   ],
   "source": [
    "learn.recorder.plot(suggestion=True)"
   ]
  },
  {
   "cell_type": "code",
   "execution_count": 50,
   "metadata": {
    "nbpresent": {
     "id": "036de3c4-28b1-425b-be51-4b22ccd7d3a5"
    }
   },
   "outputs": [
    {
     "data": {
      "text/plain": [
       "RNNLearner(data=TextClasDataBunch;\n",
       "\n",
       "Train: LabelList (241652 items)\n",
       "x: TextList\n",
       "xxbos   ดูเหมือนว่า การเขียน จะ โอ้อวด และ ตัวละคร ไม่ น่าสนใจ พอ ที่จะ ดึง ฉัน เข้ามา มี หลาย คน ที่ เป็น แบบแผน เช่น   &' nerd &'   หรือ   &' jerk &' และ พล็อต เรื่อง ต่าง   ๆ   ดูเหมือน จะ ถูก วางแผน เพื่อ ความ สะดวกสบาย ของ ฉัน เรื่องราว ลาก ไป ใน สถานที่ โดยเฉพาะอย่างยิ่ง ใน บางครั้ง อาจ เป็น เพราะ ฉัน เคยชิน กับ นวนิยาย อเมริกัน สมัยใหม่ ซึ่ง มีแนวโน้ม ที่จะ เคลื่อนไหว ได้ เร็ว ขึ้น โดย ไม่ต้อง สร้าง โลก ที่ ซับซ้อน ในทางกลับกัน ตัวละคร เหล่านี้ มี ความลึก ไม่ มาก เมื่อ เทียบ กับ ที่ ฉัน มักจะ พบ   /   พบ เจอ,xxbos   เรา ซื้อ สิ่ง เหล่านี้ ให้ กับ ลูกชาย วัย   3   ขวบ ของ เรา เพื่อ ติดตาม   kindle   fire   ใหม่ ของ เขา เพราะ เรา คิด ว่า เขา จะ กลัว ที่จะ ใช้ มัน   แต่ พวกเขา กลับ กลายเป็น ว่า ถูกต้อง ง่าย นิดเดียว,xxbos   หนัง เรื่อง นี้ สนุก และ ตลก มาก ฉัน ชอบ มัน ตั้ง แต่ต้นจนจบ ภาพยนตร์ คืน วันที่ ดี เหมาะสำหรับ ผู้ ที่ ไม่ ชอบ อารมณ์ขัน หรือ ความรุนแรง,xxbos   หนังสือ เล่ม นี้ มี เคล็ดลับ ที่ เป็นประโยชน์ มากมาย   แต่ ขาด บาง วิธี ที่จะ ทำให้ มีประโยชน์ และ ใช้งาน ได้ ง่าย ขึ้น ตัวอย่างเช่น ส่วน   &' การ เริ่มต้น อย่างรวดเร็ว &'   บอ กว่า คุณ ควร เริ่ม ด้วย การ ฝึก ครั้งแรก ที่ ระบุ ไว้ จากนั้น ย้อนกลับ ไป   ผ่าน การออกกำลังกาย   1   ต่อ หนึ่ง จากนั้น ทำ แบบฝึกหัด ทั้งหมด ใน คราว เดียว ซึ่ง ดูเหมือน จะ ไม่ ค่อย เป็นประโยชน์ เพราะ มัน แทบจะ เป็นไปไม่ได้ เลย ที่จะ ไม่ ติดตาม สิ่ง หนึ่ง ที่ เกิดขึ้น หลังจากนั้น,xxbos   ฉัน ชอบ ผู้แต่ง   แต่ หนังสือ เล่ม นี้ ไม่ได้ ขึ้นอยู่กับ หนังสือ ธรรมดา ของ เขา ที่ มัน ขาด ความลึก เกี่ยวกับ ตัวละคร ดูเหมือนว่า จะ รีบ แล้วก็ รีบ มาก ไม่มี การ เชื่อมต่อ ระหว่าง ตัวละคร ที่ ทำให้ ฉัน ต้องการ พวกเขา ด้วยกัน น่า ผิดหวัง มาก\n",
       "y: FloatList\n",
       "0.0,0.0,0.0,0.0,0.0\n",
       "Path: output;\n",
       "\n",
       "Valid: LabelList (30207 items)\n",
       "x: TextList\n",
       "xxbos   คุณ ซื้อ สิ่ง เหล่านี้ ใน ราคา ถูก เมื่อ คิด ว่า คุณ ได้รับ ทั้ง กรณี   แต่ จริงๆ แล้ว ครึ่งหนึ่ง ของ ราคา นั้น มัน ไม่ คุ้มค่า ที่จะ อารมณ์เสีย และ พวกเขา เข้ากัน กับ เครื่อง ปั่น ของ ฉัน   แต่ ฉัน ต้องการ เตือน ผู้อื่น ก่อนที่จะ เสียเงิน กับ สิ่ง นี้ พวกเขา ทำ สมูทตี้ ยอดเยี่ยม ด้วย ผลไม้ แช่แข็ง !   :),xxbos   ไม่แน่ใจ ว่า ใช้งาน ได้ จริง หรือไม่ ฉัน แค่ ให้ อันนี้ ให้ เพื่อน ของ ฉัน ดูเหมือนว่า ผลลัพธ์ ของ เขา จะ ดี ไม่มี การร้องเรียน จาก เขา แต่ ผลิตภัณฑ์ มี ราคาแพง มาก และ ไม่ ค่อย ดี นัก เขา บอ กว่า เขา ได้ รับประโยชน์ มากขึ้น ใน รา คาที่ ถูก กว่า,xxbos   ซื้อ จาก ผู้ขาย และ ได้รับ ใน   3   วัน กับ   prime,xxbos   ผลิตภัณฑ์ นี้ มี คุณภาพ ไม่ ดีฉัน เพิ่ง มี เวลา สอง สาม เดือน และ อีก ด้าน หนึ่ง เพิ่ง หลุด เมื่อ สามี ของ ฉัน พยายาม หาเงิน ออกจาก ทะเบียน ฝีมือ แย่ หรือ กาว ไม่ดี ? ฉัน จะ ไม่มีทาง รู้ เพราะ เรา ไม่ได้ เก็บ กระดาษ ไว้ ใน นั้น มัน เป็นปัญหา มากเกินไป สำหรับ ฉัน เนื่องจาก มี เด็ก   2   คน ที่ ไปเที่ยว กับ มัน ทุก สุดสัปดาห์ ราคา ควร มากกว่า นี้ อย่า วาง ของ หนัก   ๆ   เหมือน เงินสด เลย,xxbos   ฉัน เพิ่ง ได้รับ กรณี นี้ เป็น สีชมพู สำหรับ   ipad   2   ของ ฉัน และ จนถึง ตอนนี้ ลูกค้า มีความสุข มาก สี เป็นจริง กับ ภาพ มัน พอดี เช่นกัน สิ่ง เดียว ที่ ฉัน ร้องเรียน เกี่ยวกับ มัน   ( ไม่ มาก )   ก็ คือ มัน มี ฝุ่น อยู่ สอง สาม ชิ้น การ เช็ด อย่างรวดเร็ว ด้วย แอลกอฮอล์ ถู คงที่   แต่ ถ้า คุณ กำลัง มองหา บางสิ่ง ที่ สมบูรณ์แบบ สำหรับ ลุค ให้ ใช้ เงิน เพิ่มขึ้น อีก   $   หรือ รับ   smart   cover\n",
       "y: FloatList\n",
       "0.0,0.0,1.0,0.0,0.0\n",
       "Path: output;\n",
       "\n",
       "Test: None, model=SequentialRNN(\n",
       "  (0): MultiBatchEncoder(\n",
       "    (module): AWD_LSTM(\n",
       "      (encoder): Embedding(27720, 400, padding_idx=1)\n",
       "      (encoder_dp): EmbeddingDropout(\n",
       "        (emb): Embedding(27720, 400, padding_idx=1)\n",
       "      )\n",
       "      (rnns): ModuleList(\n",
       "        (0): WeightDropout(\n",
       "          (module): LSTM(400, 1550, batch_first=True)\n",
       "        )\n",
       "        (1): WeightDropout(\n",
       "          (module): LSTM(1550, 1550, batch_first=True)\n",
       "        )\n",
       "        (2): WeightDropout(\n",
       "          (module): LSTM(1550, 1550, batch_first=True)\n",
       "        )\n",
       "        (3): WeightDropout(\n",
       "          (module): LSTM(1550, 400, batch_first=True)\n",
       "        )\n",
       "      )\n",
       "      (input_dp): RNNDropout()\n",
       "      (hidden_dps): ModuleList(\n",
       "        (0): RNNDropout()\n",
       "        (1): RNNDropout()\n",
       "        (2): RNNDropout()\n",
       "        (3): RNNDropout()\n",
       "      )\n",
       "    )\n",
       "  )\n",
       "  (1): PoolingLinearClassifier(\n",
       "    (layers): Sequential(\n",
       "      (0): BatchNorm1d(1200, eps=1e-05, momentum=0.1, affine=True, track_running_stats=True)\n",
       "      (1): Dropout(p=0.27999999999999997, inplace=False)\n",
       "      (2): Linear(in_features=1200, out_features=50, bias=True)\n",
       "      (3): ReLU(inplace=True)\n",
       "      (4): BatchNorm1d(50, eps=1e-05, momentum=0.1, affine=True, track_running_stats=True)\n",
       "      (5): Dropout(p=0.1, inplace=False)\n",
       "      (6): Linear(in_features=50, out_features=1, bias=True)\n",
       "    )\n",
       "  )\n",
       "), opt_func=functools.partial(<class 'torch.optim.adam.Adam'>, betas=(0.9, 0.99)), loss_func=FlattenedLoss of MSELoss(), metrics=[], true_wd=True, bn_wd=True, wd=0.01, train_bn=True, path=PosixPath('output'), model_dir='models', callback_fns=[functools.partial(<class 'fastai.basic_train.Recorder'>, add_time=True, silent=False)], callbacks=[RNNTrainer\n",
       "learn: ...\n",
       "alpha: 2\n",
       "beta: 1], layer_groups=[Sequential(\n",
       "  (0): Embedding(27720, 400, padding_idx=1)\n",
       "  (1): EmbeddingDropout(\n",
       "    (emb): Embedding(27720, 400, padding_idx=1)\n",
       "  )\n",
       "), Sequential(\n",
       "  (0): WeightDropout(\n",
       "    (module): LSTM(400, 1550, batch_first=True)\n",
       "  )\n",
       "  (1): RNNDropout()\n",
       "), Sequential(\n",
       "  (0): WeightDropout(\n",
       "    (module): LSTM(1550, 1550, batch_first=True)\n",
       "  )\n",
       "  (1): RNNDropout()\n",
       "), Sequential(\n",
       "  (0): WeightDropout(\n",
       "    (module): LSTM(1550, 1550, batch_first=True)\n",
       "  )\n",
       "  (1): RNNDropout()\n",
       "), Sequential(\n",
       "  (0): WeightDropout(\n",
       "    (module): LSTM(1550, 400, batch_first=True)\n",
       "  )\n",
       "  (1): RNNDropout()\n",
       "), Sequential(\n",
       "  (0): PoolingLinearClassifier(\n",
       "    (layers): Sequential(\n",
       "      (0): BatchNorm1d(1200, eps=1e-05, momentum=0.1, affine=True, track_running_stats=True)\n",
       "      (1): Dropout(p=0.27999999999999997, inplace=False)\n",
       "      (2): Linear(in_features=1200, out_features=50, bias=True)\n",
       "      (3): ReLU(inplace=True)\n",
       "      (4): BatchNorm1d(50, eps=1e-05, momentum=0.1, affine=True, track_running_stats=True)\n",
       "      (5): Dropout(p=0.1, inplace=False)\n",
       "      (6): Linear(in_features=50, out_features=1, bias=True)\n",
       "    )\n",
       "  )\n",
       ")], add_time=True, silent=False)"
      ]
     },
     "execution_count": 50,
     "metadata": {},
     "output_type": "execute_result"
    },
    {
     "data": {
      "text/html": [
       "<table border=\"1\" class=\"dataframe\">\n",
       "  <thead>\n",
       "    <tr style=\"text-align: left;\">\n",
       "      <th>epoch</th>\n",
       "      <th>train_loss</th>\n",
       "      <th>valid_loss</th>\n",
       "      <th>time</th>\n",
       "    </tr>\n",
       "  </thead>\n",
       "  <tbody>\n",
       "    <tr>\n",
       "      <td>0</td>\n",
       "      <td>0.213511</td>\n",
       "      <td>0.199746</td>\n",
       "      <td>23:31</td>\n",
       "    </tr>\n",
       "    <tr>\n",
       "      <td>1</td>\n",
       "      <td>0.205616</td>\n",
       "      <td>0.199260</td>\n",
       "      <td>22:17</td>\n",
       "    </tr>\n",
       "    <tr>\n",
       "      <td>2</td>\n",
       "      <td>0.204030</td>\n",
       "      <td>0.199670</td>\n",
       "      <td>20:39</td>\n",
       "    </tr>\n",
       "    <tr>\n",
       "      <td>3</td>\n",
       "      <td>0.208544</td>\n",
       "      <td>0.199196</td>\n",
       "      <td>20:46</td>\n",
       "    </tr>\n",
       "    <tr>\n",
       "      <td>4</td>\n",
       "      <td>0.206184</td>\n",
       "      <td>0.199325</td>\n",
       "      <td>20:24</td>\n",
       "    </tr>\n",
       "    <tr>\n",
       "      <td>5</td>\n",
       "      <td>0.206489</td>\n",
       "      <td>0.200255</td>\n",
       "      <td>23:40</td>\n",
       "    </tr>\n",
       "    <tr>\n",
       "      <td>6</td>\n",
       "      <td>0.203239</td>\n",
       "      <td>0.199223</td>\n",
       "      <td>21:16</td>\n",
       "    </tr>\n",
       "    <tr>\n",
       "      <td>7</td>\n",
       "      <td>0.211367</td>\n",
       "      <td>0.198830</td>\n",
       "      <td>20:42</td>\n",
       "    </tr>\n",
       "    <tr>\n",
       "      <td>8</td>\n",
       "      <td>0.211338</td>\n",
       "      <td>0.198910</td>\n",
       "      <td>20:33</td>\n",
       "    </tr>\n",
       "    <tr>\n",
       "      <td>9</td>\n",
       "      <td>0.201529</td>\n",
       "      <td>0.199328</td>\n",
       "      <td>22:42</td>\n",
       "    </tr>\n",
       "  </tbody>\n",
       "</table>"
      ],
      "text/plain": [
       "<IPython.core.display.HTML object>"
      ]
     },
     "metadata": {},
     "output_type": "display_data"
    },
    {
     "name": "stderr",
     "output_type": "stream",
     "text": [
      "/opt/conda/lib/python3.7/site-packages/fastai/callbacks/tracker.py:50: UserWarning: <class 'fastai.callbacks.tracker.SaveModelCallback'> conditioned on metric `accuracy` which is not available. Available metrics are: train_loss, valid_loss\n",
      "  warn(f'{self.__class__} conditioned on metric `{self.monitor}` which is not available. Available metrics are: {\", \".join(map(str, self.learn.recorder.names[1:-1]))}')\n",
      "/opt/conda/lib/python3.7/site-packages/fastai/callbacks/tracker.py:50: UserWarning: <class 'fastai.callbacks.tracker.SaveModelCallback'> conditioned on metric `accuracy` which is not available. Available metrics are: train_loss, valid_loss\n",
      "  warn(f'{self.__class__} conditioned on metric `{self.monitor}` which is not available. Available metrics are: {\", \".join(map(str, self.learn.recorder.names[1:-1]))}')\n",
      "/opt/conda/lib/python3.7/site-packages/fastai/callbacks/tracker.py:50: UserWarning: <class 'fastai.callbacks.tracker.SaveModelCallback'> conditioned on metric `accuracy` which is not available. Available metrics are: train_loss, valid_loss\n",
      "  warn(f'{self.__class__} conditioned on metric `{self.monitor}` which is not available. Available metrics are: {\", \".join(map(str, self.learn.recorder.names[1:-1]))}')\n",
      "/opt/conda/lib/python3.7/site-packages/fastai/callbacks/tracker.py:50: UserWarning: <class 'fastai.callbacks.tracker.SaveModelCallback'> conditioned on metric `accuracy` which is not available. Available metrics are: train_loss, valid_loss\n",
      "  warn(f'{self.__class__} conditioned on metric `{self.monitor}` which is not available. Available metrics are: {\", \".join(map(str, self.learn.recorder.names[1:-1]))}')\n",
      "/opt/conda/lib/python3.7/site-packages/fastai/callbacks/tracker.py:50: UserWarning: <class 'fastai.callbacks.tracker.SaveModelCallback'> conditioned on metric `accuracy` which is not available. Available metrics are: train_loss, valid_loss\n",
      "  warn(f'{self.__class__} conditioned on metric `{self.monitor}` which is not available. Available metrics are: {\", \".join(map(str, self.learn.recorder.names[1:-1]))}')\n",
      "/opt/conda/lib/python3.7/site-packages/fastai/callbacks/tracker.py:50: UserWarning: <class 'fastai.callbacks.tracker.SaveModelCallback'> conditioned on metric `accuracy` which is not available. Available metrics are: train_loss, valid_loss\n",
      "  warn(f'{self.__class__} conditioned on metric `{self.monitor}` which is not available. Available metrics are: {\", \".join(map(str, self.learn.recorder.names[1:-1]))}')\n",
      "/opt/conda/lib/python3.7/site-packages/fastai/callbacks/tracker.py:50: UserWarning: <class 'fastai.callbacks.tracker.SaveModelCallback'> conditioned on metric `accuracy` which is not available. Available metrics are: train_loss, valid_loss\n",
      "  warn(f'{self.__class__} conditioned on metric `{self.monitor}` which is not available. Available metrics are: {\", \".join(map(str, self.learn.recorder.names[1:-1]))}')\n",
      "/opt/conda/lib/python3.7/site-packages/fastai/callbacks/tracker.py:50: UserWarning: <class 'fastai.callbacks.tracker.SaveModelCallback'> conditioned on metric `accuracy` which is not available. Available metrics are: train_loss, valid_loss\n",
      "  warn(f'{self.__class__} conditioned on metric `{self.monitor}` which is not available. Available metrics are: {\", \".join(map(str, self.learn.recorder.names[1:-1]))}')\n",
      "/opt/conda/lib/python3.7/site-packages/fastai/callbacks/tracker.py:50: UserWarning: <class 'fastai.callbacks.tracker.SaveModelCallback'> conditioned on metric `accuracy` which is not available. Available metrics are: train_loss, valid_loss\n",
      "  warn(f'{self.__class__} conditioned on metric `{self.monitor}` which is not available. Available metrics are: {\", \".join(map(str, self.learn.recorder.names[1:-1]))}')\n",
      "/opt/conda/lib/python3.7/site-packages/fastai/callbacks/tracker.py:50: UserWarning: <class 'fastai.callbacks.tracker.SaveModelCallback'> conditioned on metric `accuracy` which is not available. Available metrics are: train_loss, valid_loss\n",
      "  warn(f'{self.__class__} conditioned on metric `{self.monitor}` which is not available. Available metrics are: {\", \".join(map(str, self.learn.recorder.names[1:-1]))}')\n"
     ]
    },
    {
     "ename": "FileNotFoundError",
     "evalue": "[Errno 2] No such file or directory: 'output/models/bestmodel.pth'",
     "output_type": "error",
     "traceback": [
      "\u001b[0;31m---------------------------------------------------------------------------\u001b[0m",
      "\u001b[0;31mFileNotFoundError\u001b[0m                         Traceback (most recent call last)",
      "\u001b[0;32m<ipython-input-50-8b99c6f1bd11>\u001b[0m in \u001b[0;36m<module>\u001b[0;34m\u001b[0m\n\u001b[1;32m      2\u001b[0m \u001b[0mlearn\u001b[0m\u001b[0;34m.\u001b[0m\u001b[0munfreeze\u001b[0m\u001b[0;34m(\u001b[0m\u001b[0;34m)\u001b[0m\u001b[0;34m\u001b[0m\u001b[0;34m\u001b[0m\u001b[0m\n\u001b[1;32m      3\u001b[0m learn.fit_one_cycle(10, slice(1e-6 / (2.6 ** 4), 1e-6),\n\u001b[0;32m----> 4\u001b[0;31m                    callbacks=[SaveModelCallback(learn, every='improvement', monitor='accuracy', name='bestmodel')])\n\u001b[0m",
      "\u001b[0;32m/opt/conda/lib/python3.7/site-packages/fastai/train.py\u001b[0m in \u001b[0;36mfit_one_cycle\u001b[0;34m(learn, cyc_len, max_lr, moms, div_factor, pct_start, final_div, wd, callbacks, tot_epochs, start_epoch)\u001b[0m\n\u001b[1;32m     21\u001b[0m     callbacks.append(OneCycleScheduler(learn, max_lr, moms=moms, div_factor=div_factor, pct_start=pct_start,\n\u001b[1;32m     22\u001b[0m                                        final_div=final_div, tot_epochs=tot_epochs, start_epoch=start_epoch))\n\u001b[0;32m---> 23\u001b[0;31m     \u001b[0mlearn\u001b[0m\u001b[0;34m.\u001b[0m\u001b[0mfit\u001b[0m\u001b[0;34m(\u001b[0m\u001b[0mcyc_len\u001b[0m\u001b[0;34m,\u001b[0m \u001b[0mmax_lr\u001b[0m\u001b[0;34m,\u001b[0m \u001b[0mwd\u001b[0m\u001b[0;34m=\u001b[0m\u001b[0mwd\u001b[0m\u001b[0;34m,\u001b[0m \u001b[0mcallbacks\u001b[0m\u001b[0;34m=\u001b[0m\u001b[0mcallbacks\u001b[0m\u001b[0;34m)\u001b[0m\u001b[0;34m\u001b[0m\u001b[0;34m\u001b[0m\u001b[0m\n\u001b[0m\u001b[1;32m     24\u001b[0m \u001b[0;34m\u001b[0m\u001b[0m\n\u001b[1;32m     25\u001b[0m def fit_fc(learn:Learner, tot_epochs:int=1, lr:float=defaults.lr,  moms:Tuple[float,float]=(0.95,0.85), start_pct:float=0.72,\n",
      "\u001b[0;32m/opt/conda/lib/python3.7/site-packages/fastai/basic_train.py\u001b[0m in \u001b[0;36mfit\u001b[0;34m(self, epochs, lr, wd, callbacks)\u001b[0m\n\u001b[1;32m    198\u001b[0m         \u001b[0;32melse\u001b[0m\u001b[0;34m:\u001b[0m \u001b[0mself\u001b[0m\u001b[0;34m.\u001b[0m\u001b[0mopt\u001b[0m\u001b[0;34m.\u001b[0m\u001b[0mlr\u001b[0m\u001b[0;34m,\u001b[0m\u001b[0mself\u001b[0m\u001b[0;34m.\u001b[0m\u001b[0mopt\u001b[0m\u001b[0;34m.\u001b[0m\u001b[0mwd\u001b[0m \u001b[0;34m=\u001b[0m \u001b[0mlr\u001b[0m\u001b[0;34m,\u001b[0m\u001b[0mwd\u001b[0m\u001b[0;34m\u001b[0m\u001b[0;34m\u001b[0m\u001b[0m\n\u001b[1;32m    199\u001b[0m         \u001b[0mcallbacks\u001b[0m \u001b[0;34m=\u001b[0m \u001b[0;34m[\u001b[0m\u001b[0mcb\u001b[0m\u001b[0;34m(\u001b[0m\u001b[0mself\u001b[0m\u001b[0;34m)\u001b[0m \u001b[0;32mfor\u001b[0m \u001b[0mcb\u001b[0m \u001b[0;32min\u001b[0m \u001b[0mself\u001b[0m\u001b[0;34m.\u001b[0m\u001b[0mcallback_fns\u001b[0m \u001b[0;34m+\u001b[0m \u001b[0mlistify\u001b[0m\u001b[0;34m(\u001b[0m\u001b[0mdefaults\u001b[0m\u001b[0;34m.\u001b[0m\u001b[0mextra_callback_fns\u001b[0m\u001b[0;34m)\u001b[0m\u001b[0;34m]\u001b[0m \u001b[0;34m+\u001b[0m \u001b[0mlistify\u001b[0m\u001b[0;34m(\u001b[0m\u001b[0mcallbacks\u001b[0m\u001b[0;34m)\u001b[0m\u001b[0;34m\u001b[0m\u001b[0;34m\u001b[0m\u001b[0m\n\u001b[0;32m--> 200\u001b[0;31m         \u001b[0mfit\u001b[0m\u001b[0;34m(\u001b[0m\u001b[0mepochs\u001b[0m\u001b[0;34m,\u001b[0m \u001b[0mself\u001b[0m\u001b[0;34m,\u001b[0m \u001b[0mmetrics\u001b[0m\u001b[0;34m=\u001b[0m\u001b[0mself\u001b[0m\u001b[0;34m.\u001b[0m\u001b[0mmetrics\u001b[0m\u001b[0;34m,\u001b[0m \u001b[0mcallbacks\u001b[0m\u001b[0;34m=\u001b[0m\u001b[0mself\u001b[0m\u001b[0;34m.\u001b[0m\u001b[0mcallbacks\u001b[0m\u001b[0;34m+\u001b[0m\u001b[0mcallbacks\u001b[0m\u001b[0;34m)\u001b[0m\u001b[0;34m\u001b[0m\u001b[0;34m\u001b[0m\u001b[0m\n\u001b[0m\u001b[1;32m    201\u001b[0m \u001b[0;34m\u001b[0m\u001b[0m\n\u001b[1;32m    202\u001b[0m     \u001b[0;32mdef\u001b[0m \u001b[0mcreate_opt\u001b[0m\u001b[0;34m(\u001b[0m\u001b[0mself\u001b[0m\u001b[0;34m,\u001b[0m \u001b[0mlr\u001b[0m\u001b[0;34m:\u001b[0m\u001b[0mFloats\u001b[0m\u001b[0;34m,\u001b[0m \u001b[0mwd\u001b[0m\u001b[0;34m:\u001b[0m\u001b[0mFloats\u001b[0m\u001b[0;34m=\u001b[0m\u001b[0;36m0.\u001b[0m\u001b[0;34m)\u001b[0m\u001b[0;34m->\u001b[0m\u001b[0;32mNone\u001b[0m\u001b[0;34m:\u001b[0m\u001b[0;34m\u001b[0m\u001b[0;34m\u001b[0m\u001b[0m\n",
      "\u001b[0;32m/opt/conda/lib/python3.7/site-packages/fastai/basic_train.py\u001b[0m in \u001b[0;36mfit\u001b[0;34m(epochs, learn, callbacks, metrics)\u001b[0m\n\u001b[1;32m    110\u001b[0m         \u001b[0mexception\u001b[0m \u001b[0;34m=\u001b[0m \u001b[0me\u001b[0m\u001b[0;34m\u001b[0m\u001b[0;34m\u001b[0m\u001b[0m\n\u001b[1;32m    111\u001b[0m         \u001b[0;32mraise\u001b[0m\u001b[0;34m\u001b[0m\u001b[0;34m\u001b[0m\u001b[0m\n\u001b[0;32m--> 112\u001b[0;31m     \u001b[0;32mfinally\u001b[0m\u001b[0;34m:\u001b[0m \u001b[0mcb_handler\u001b[0m\u001b[0;34m.\u001b[0m\u001b[0mon_train_end\u001b[0m\u001b[0;34m(\u001b[0m\u001b[0mexception\u001b[0m\u001b[0;34m)\u001b[0m\u001b[0;34m\u001b[0m\u001b[0;34m\u001b[0m\u001b[0m\n\u001b[0m\u001b[1;32m    113\u001b[0m \u001b[0;34m\u001b[0m\u001b[0m\n\u001b[1;32m    114\u001b[0m loss_func_name2activ = {'cross_entropy_loss': F.softmax, 'nll_loss': torch.exp, 'poisson_nll_loss': torch.exp,\n",
      "\u001b[0;32m/opt/conda/lib/python3.7/site-packages/fastai/callback.py\u001b[0m in \u001b[0;36mon_train_end\u001b[0;34m(self, exception)\u001b[0m\n\u001b[1;32m    321\u001b[0m     \u001b[0;32mdef\u001b[0m \u001b[0mon_train_end\u001b[0m\u001b[0;34m(\u001b[0m\u001b[0mself\u001b[0m\u001b[0;34m,\u001b[0m \u001b[0mexception\u001b[0m\u001b[0;34m:\u001b[0m\u001b[0mUnion\u001b[0m\u001b[0;34m[\u001b[0m\u001b[0mbool\u001b[0m\u001b[0;34m,\u001b[0m\u001b[0mException\u001b[0m\u001b[0;34m]\u001b[0m\u001b[0;34m)\u001b[0m\u001b[0;34m->\u001b[0m\u001b[0;32mNone\u001b[0m\u001b[0;34m:\u001b[0m\u001b[0;34m\u001b[0m\u001b[0;34m\u001b[0m\u001b[0m\n\u001b[1;32m    322\u001b[0m         \u001b[0;34m\"Handle end of training, `exception` is an `Exception` or False if no exceptions during training.\"\u001b[0m\u001b[0;34m\u001b[0m\u001b[0;34m\u001b[0m\u001b[0m\n\u001b[0;32m--> 323\u001b[0;31m         \u001b[0mself\u001b[0m\u001b[0;34m(\u001b[0m\u001b[0;34m'train_end'\u001b[0m\u001b[0;34m,\u001b[0m \u001b[0mexception\u001b[0m\u001b[0;34m=\u001b[0m\u001b[0mexception\u001b[0m\u001b[0;34m)\u001b[0m\u001b[0;34m\u001b[0m\u001b[0;34m\u001b[0m\u001b[0m\n\u001b[0m\u001b[1;32m    324\u001b[0m \u001b[0;34m\u001b[0m\u001b[0m\n\u001b[1;32m    325\u001b[0m     \u001b[0;34m@\u001b[0m\u001b[0mproperty\u001b[0m\u001b[0;34m\u001b[0m\u001b[0;34m\u001b[0m\u001b[0m\n",
      "\u001b[0;32m/opt/conda/lib/python3.7/site-packages/fastai/callback.py\u001b[0m in \u001b[0;36m__call__\u001b[0;34m(self, cb_name, call_mets, **kwargs)\u001b[0m\n\u001b[1;32m    249\u001b[0m         \u001b[0;32mif\u001b[0m \u001b[0mcall_mets\u001b[0m\u001b[0;34m:\u001b[0m\u001b[0;34m\u001b[0m\u001b[0;34m\u001b[0m\u001b[0m\n\u001b[1;32m    250\u001b[0m             \u001b[0;32mfor\u001b[0m \u001b[0mmet\u001b[0m \u001b[0;32min\u001b[0m \u001b[0mself\u001b[0m\u001b[0;34m.\u001b[0m\u001b[0mmetrics\u001b[0m\u001b[0;34m:\u001b[0m \u001b[0mself\u001b[0m\u001b[0;34m.\u001b[0m\u001b[0m_call_and_update\u001b[0m\u001b[0;34m(\u001b[0m\u001b[0mmet\u001b[0m\u001b[0;34m,\u001b[0m \u001b[0mcb_name\u001b[0m\u001b[0;34m,\u001b[0m \u001b[0;34m**\u001b[0m\u001b[0mkwargs\u001b[0m\u001b[0;34m)\u001b[0m\u001b[0;34m\u001b[0m\u001b[0;34m\u001b[0m\u001b[0m\n\u001b[0;32m--> 251\u001b[0;31m         \u001b[0;32mfor\u001b[0m \u001b[0mcb\u001b[0m \u001b[0;32min\u001b[0m \u001b[0mself\u001b[0m\u001b[0;34m.\u001b[0m\u001b[0mcallbacks\u001b[0m\u001b[0;34m:\u001b[0m \u001b[0mself\u001b[0m\u001b[0;34m.\u001b[0m\u001b[0m_call_and_update\u001b[0m\u001b[0;34m(\u001b[0m\u001b[0mcb\u001b[0m\u001b[0;34m,\u001b[0m \u001b[0mcb_name\u001b[0m\u001b[0;34m,\u001b[0m \u001b[0;34m**\u001b[0m\u001b[0mkwargs\u001b[0m\u001b[0;34m)\u001b[0m\u001b[0;34m\u001b[0m\u001b[0;34m\u001b[0m\u001b[0m\n\u001b[0m\u001b[1;32m    252\u001b[0m \u001b[0;34m\u001b[0m\u001b[0m\n\u001b[1;32m    253\u001b[0m     \u001b[0;32mdef\u001b[0m \u001b[0mset_dl\u001b[0m\u001b[0;34m(\u001b[0m\u001b[0mself\u001b[0m\u001b[0;34m,\u001b[0m \u001b[0mdl\u001b[0m\u001b[0;34m:\u001b[0m\u001b[0mDataLoader\u001b[0m\u001b[0;34m)\u001b[0m\u001b[0;34m:\u001b[0m\u001b[0;34m\u001b[0m\u001b[0;34m\u001b[0m\u001b[0m\n",
      "\u001b[0;32m/opt/conda/lib/python3.7/site-packages/fastai/callback.py\u001b[0m in \u001b[0;36m_call_and_update\u001b[0;34m(self, cb, cb_name, **kwargs)\u001b[0m\n\u001b[1;32m    239\u001b[0m     \u001b[0;32mdef\u001b[0m \u001b[0m_call_and_update\u001b[0m\u001b[0;34m(\u001b[0m\u001b[0mself\u001b[0m\u001b[0;34m,\u001b[0m \u001b[0mcb\u001b[0m\u001b[0;34m,\u001b[0m \u001b[0mcb_name\u001b[0m\u001b[0;34m,\u001b[0m \u001b[0;34m**\u001b[0m\u001b[0mkwargs\u001b[0m\u001b[0;34m)\u001b[0m\u001b[0;34m->\u001b[0m\u001b[0;32mNone\u001b[0m\u001b[0;34m:\u001b[0m\u001b[0;34m\u001b[0m\u001b[0;34m\u001b[0m\u001b[0m\n\u001b[1;32m    240\u001b[0m         \u001b[0;34m\"Call `cb_name` on `cb` and update the inner state.\"\u001b[0m\u001b[0;34m\u001b[0m\u001b[0;34m\u001b[0m\u001b[0m\n\u001b[0;32m--> 241\u001b[0;31m         \u001b[0mnew\u001b[0m \u001b[0;34m=\u001b[0m \u001b[0mifnone\u001b[0m\u001b[0;34m(\u001b[0m\u001b[0mgetattr\u001b[0m\u001b[0;34m(\u001b[0m\u001b[0mcb\u001b[0m\u001b[0;34m,\u001b[0m \u001b[0;34mf'on_{cb_name}'\u001b[0m\u001b[0;34m)\u001b[0m\u001b[0;34m(\u001b[0m\u001b[0;34m**\u001b[0m\u001b[0mself\u001b[0m\u001b[0;34m.\u001b[0m\u001b[0mstate_dict\u001b[0m\u001b[0;34m,\u001b[0m \u001b[0;34m**\u001b[0m\u001b[0mkwargs\u001b[0m\u001b[0;34m)\u001b[0m\u001b[0;34m,\u001b[0m \u001b[0mdict\u001b[0m\u001b[0;34m(\u001b[0m\u001b[0;34m)\u001b[0m\u001b[0;34m)\u001b[0m\u001b[0;34m\u001b[0m\u001b[0;34m\u001b[0m\u001b[0m\n\u001b[0m\u001b[1;32m    242\u001b[0m         \u001b[0;32mfor\u001b[0m \u001b[0mk\u001b[0m\u001b[0;34m,\u001b[0m\u001b[0mv\u001b[0m \u001b[0;32min\u001b[0m \u001b[0mnew\u001b[0m\u001b[0;34m.\u001b[0m\u001b[0mitems\u001b[0m\u001b[0;34m(\u001b[0m\u001b[0;34m)\u001b[0m\u001b[0;34m:\u001b[0m\u001b[0;34m\u001b[0m\u001b[0;34m\u001b[0m\u001b[0m\n\u001b[1;32m    243\u001b[0m             \u001b[0;32mif\u001b[0m \u001b[0mk\u001b[0m \u001b[0;32mnot\u001b[0m \u001b[0;32min\u001b[0m \u001b[0mself\u001b[0m\u001b[0;34m.\u001b[0m\u001b[0mstate_dict\u001b[0m\u001b[0;34m:\u001b[0m\u001b[0;34m\u001b[0m\u001b[0;34m\u001b[0m\u001b[0m\n",
      "\u001b[0;32m/opt/conda/lib/python3.7/site-packages/fastai/callbacks/tracker.py\u001b[0m in \u001b[0;36mon_train_end\u001b[0;34m(self, **kwargs)\u001b[0m\n\u001b[1;32m    103\u001b[0m         \u001b[0;34m\"Load the best model.\"\u001b[0m\u001b[0;34m\u001b[0m\u001b[0;34m\u001b[0m\u001b[0m\n\u001b[1;32m    104\u001b[0m         \u001b[0;32mif\u001b[0m \u001b[0mself\u001b[0m\u001b[0;34m.\u001b[0m\u001b[0mevery\u001b[0m\u001b[0;34m==\u001b[0m\u001b[0;34m\"improvement\"\u001b[0m\u001b[0;34m:\u001b[0m\u001b[0;34m\u001b[0m\u001b[0;34m\u001b[0m\u001b[0m\n\u001b[0;32m--> 105\u001b[0;31m             \u001b[0mself\u001b[0m\u001b[0;34m.\u001b[0m\u001b[0mlearn\u001b[0m\u001b[0;34m.\u001b[0m\u001b[0mload\u001b[0m\u001b[0;34m(\u001b[0m\u001b[0;34mf'{self.name}'\u001b[0m\u001b[0;34m,\u001b[0m \u001b[0mpurge\u001b[0m\u001b[0;34m=\u001b[0m\u001b[0;32mFalse\u001b[0m\u001b[0;34m)\u001b[0m\u001b[0;34m\u001b[0m\u001b[0;34m\u001b[0m\u001b[0m\n\u001b[0m\u001b[1;32m    106\u001b[0m \u001b[0;34m\u001b[0m\u001b[0m\n\u001b[1;32m    107\u001b[0m \u001b[0;32mclass\u001b[0m \u001b[0mReduceLROnPlateauCallback\u001b[0m\u001b[0;34m(\u001b[0m\u001b[0mTrackerCallback\u001b[0m\u001b[0;34m)\u001b[0m\u001b[0;34m:\u001b[0m\u001b[0;34m\u001b[0m\u001b[0;34m\u001b[0m\u001b[0m\n",
      "\u001b[0;32m/opt/conda/lib/python3.7/site-packages/fastai/basic_train.py\u001b[0m in \u001b[0;36mload\u001b[0;34m(self, file, device, strict, with_opt, purge, remove_module)\u001b[0m\n\u001b[1;32m    267\u001b[0m         \u001b[0msource\u001b[0m \u001b[0;34m=\u001b[0m \u001b[0mself\u001b[0m\u001b[0;34m.\u001b[0m\u001b[0mpath\u001b[0m\u001b[0;34m/\u001b[0m\u001b[0mself\u001b[0m\u001b[0;34m.\u001b[0m\u001b[0mmodel_dir\u001b[0m\u001b[0;34m/\u001b[0m\u001b[0;34mf'{file}.pth'\u001b[0m \u001b[0;32mif\u001b[0m \u001b[0mis_pathlike\u001b[0m\u001b[0;34m(\u001b[0m\u001b[0mfile\u001b[0m\u001b[0;34m)\u001b[0m \u001b[0;32melse\u001b[0m \u001b[0mfile\u001b[0m\u001b[0;34m\u001b[0m\u001b[0;34m\u001b[0m\u001b[0m\n\u001b[1;32m    268\u001b[0m         \u001b[0mdistrib_barrier\u001b[0m\u001b[0;34m(\u001b[0m\u001b[0;34m)\u001b[0m\u001b[0;34m\u001b[0m\u001b[0;34m\u001b[0m\u001b[0m\n\u001b[0;32m--> 269\u001b[0;31m         \u001b[0mstate\u001b[0m \u001b[0;34m=\u001b[0m \u001b[0mtorch\u001b[0m\u001b[0;34m.\u001b[0m\u001b[0mload\u001b[0m\u001b[0;34m(\u001b[0m\u001b[0msource\u001b[0m\u001b[0;34m,\u001b[0m \u001b[0mmap_location\u001b[0m\u001b[0;34m=\u001b[0m\u001b[0mdevice\u001b[0m\u001b[0;34m)\u001b[0m\u001b[0;34m\u001b[0m\u001b[0;34m\u001b[0m\u001b[0m\n\u001b[0m\u001b[1;32m    270\u001b[0m         \u001b[0;32mif\u001b[0m \u001b[0mset\u001b[0m\u001b[0;34m(\u001b[0m\u001b[0mstate\u001b[0m\u001b[0;34m.\u001b[0m\u001b[0mkeys\u001b[0m\u001b[0;34m(\u001b[0m\u001b[0;34m)\u001b[0m\u001b[0;34m)\u001b[0m \u001b[0;34m==\u001b[0m \u001b[0;34m{\u001b[0m\u001b[0;34m'model'\u001b[0m\u001b[0;34m,\u001b[0m \u001b[0;34m'opt'\u001b[0m\u001b[0;34m}\u001b[0m\u001b[0;34m:\u001b[0m\u001b[0;34m\u001b[0m\u001b[0;34m\u001b[0m\u001b[0m\n\u001b[1;32m    271\u001b[0m             \u001b[0mmodel_state\u001b[0m \u001b[0;34m=\u001b[0m \u001b[0mstate\u001b[0m\u001b[0;34m[\u001b[0m\u001b[0;34m'model'\u001b[0m\u001b[0;34m]\u001b[0m\u001b[0;34m\u001b[0m\u001b[0;34m\u001b[0m\u001b[0m\n",
      "\u001b[0;32m/opt/conda/lib/python3.7/site-packages/torch/serialization.py\u001b[0m in \u001b[0;36mload\u001b[0;34m(f, map_location, pickle_module, **pickle_load_args)\u001b[0m\n\u001b[1;32m    523\u001b[0m         \u001b[0mpickle_load_args\u001b[0m\u001b[0;34m[\u001b[0m\u001b[0;34m'encoding'\u001b[0m\u001b[0;34m]\u001b[0m \u001b[0;34m=\u001b[0m \u001b[0;34m'utf-8'\u001b[0m\u001b[0;34m\u001b[0m\u001b[0;34m\u001b[0m\u001b[0m\n\u001b[1;32m    524\u001b[0m \u001b[0;34m\u001b[0m\u001b[0m\n\u001b[0;32m--> 525\u001b[0;31m     \u001b[0;32mwith\u001b[0m \u001b[0m_open_file_like\u001b[0m\u001b[0;34m(\u001b[0m\u001b[0mf\u001b[0m\u001b[0;34m,\u001b[0m \u001b[0;34m'rb'\u001b[0m\u001b[0;34m)\u001b[0m \u001b[0;32mas\u001b[0m \u001b[0mopened_file\u001b[0m\u001b[0;34m:\u001b[0m\u001b[0;34m\u001b[0m\u001b[0;34m\u001b[0m\u001b[0m\n\u001b[0m\u001b[1;32m    526\u001b[0m         \u001b[0;32mif\u001b[0m \u001b[0m_is_zipfile\u001b[0m\u001b[0;34m(\u001b[0m\u001b[0mopened_file\u001b[0m\u001b[0;34m)\u001b[0m\u001b[0;34m:\u001b[0m\u001b[0;34m\u001b[0m\u001b[0;34m\u001b[0m\u001b[0m\n\u001b[1;32m    527\u001b[0m             \u001b[0;32mwith\u001b[0m \u001b[0m_open_zipfile_reader\u001b[0m\u001b[0;34m(\u001b[0m\u001b[0mf\u001b[0m\u001b[0;34m)\u001b[0m \u001b[0;32mas\u001b[0m \u001b[0mopened_zipfile\u001b[0m\u001b[0;34m:\u001b[0m\u001b[0;34m\u001b[0m\u001b[0;34m\u001b[0m\u001b[0m\n",
      "\u001b[0;32m/opt/conda/lib/python3.7/site-packages/torch/serialization.py\u001b[0m in \u001b[0;36m_open_file_like\u001b[0;34m(name_or_buffer, mode)\u001b[0m\n\u001b[1;32m    210\u001b[0m \u001b[0;32mdef\u001b[0m \u001b[0m_open_file_like\u001b[0m\u001b[0;34m(\u001b[0m\u001b[0mname_or_buffer\u001b[0m\u001b[0;34m,\u001b[0m \u001b[0mmode\u001b[0m\u001b[0;34m)\u001b[0m\u001b[0;34m:\u001b[0m\u001b[0;34m\u001b[0m\u001b[0;34m\u001b[0m\u001b[0m\n\u001b[1;32m    211\u001b[0m     \u001b[0;32mif\u001b[0m \u001b[0m_is_path\u001b[0m\u001b[0;34m(\u001b[0m\u001b[0mname_or_buffer\u001b[0m\u001b[0;34m)\u001b[0m\u001b[0;34m:\u001b[0m\u001b[0;34m\u001b[0m\u001b[0;34m\u001b[0m\u001b[0m\n\u001b[0;32m--> 212\u001b[0;31m         \u001b[0;32mreturn\u001b[0m \u001b[0m_open_file\u001b[0m\u001b[0;34m(\u001b[0m\u001b[0mname_or_buffer\u001b[0m\u001b[0;34m,\u001b[0m \u001b[0mmode\u001b[0m\u001b[0;34m)\u001b[0m\u001b[0;34m\u001b[0m\u001b[0;34m\u001b[0m\u001b[0m\n\u001b[0m\u001b[1;32m    213\u001b[0m     \u001b[0;32melse\u001b[0m\u001b[0;34m:\u001b[0m\u001b[0;34m\u001b[0m\u001b[0;34m\u001b[0m\u001b[0m\n\u001b[1;32m    214\u001b[0m         \u001b[0;32mif\u001b[0m \u001b[0;34m'w'\u001b[0m \u001b[0;32min\u001b[0m \u001b[0mmode\u001b[0m\u001b[0;34m:\u001b[0m\u001b[0;34m\u001b[0m\u001b[0;34m\u001b[0m\u001b[0m\n",
      "\u001b[0;32m/opt/conda/lib/python3.7/site-packages/torch/serialization.py\u001b[0m in \u001b[0;36m__init__\u001b[0;34m(self, name, mode)\u001b[0m\n\u001b[1;32m    191\u001b[0m \u001b[0;32mclass\u001b[0m \u001b[0m_open_file\u001b[0m\u001b[0;34m(\u001b[0m\u001b[0m_opener\u001b[0m\u001b[0;34m)\u001b[0m\u001b[0;34m:\u001b[0m\u001b[0;34m\u001b[0m\u001b[0;34m\u001b[0m\u001b[0m\n\u001b[1;32m    192\u001b[0m     \u001b[0;32mdef\u001b[0m \u001b[0m__init__\u001b[0m\u001b[0;34m(\u001b[0m\u001b[0mself\u001b[0m\u001b[0;34m,\u001b[0m \u001b[0mname\u001b[0m\u001b[0;34m,\u001b[0m \u001b[0mmode\u001b[0m\u001b[0;34m)\u001b[0m\u001b[0;34m:\u001b[0m\u001b[0;34m\u001b[0m\u001b[0;34m\u001b[0m\u001b[0m\n\u001b[0;32m--> 193\u001b[0;31m         \u001b[0msuper\u001b[0m\u001b[0;34m(\u001b[0m\u001b[0m_open_file\u001b[0m\u001b[0;34m,\u001b[0m \u001b[0mself\u001b[0m\u001b[0;34m)\u001b[0m\u001b[0;34m.\u001b[0m\u001b[0m__init__\u001b[0m\u001b[0;34m(\u001b[0m\u001b[0mopen\u001b[0m\u001b[0;34m(\u001b[0m\u001b[0mname\u001b[0m\u001b[0;34m,\u001b[0m \u001b[0mmode\u001b[0m\u001b[0;34m)\u001b[0m\u001b[0;34m)\u001b[0m\u001b[0;34m\u001b[0m\u001b[0;34m\u001b[0m\u001b[0m\n\u001b[0m\u001b[1;32m    194\u001b[0m \u001b[0;34m\u001b[0m\u001b[0m\n\u001b[1;32m    195\u001b[0m     \u001b[0;32mdef\u001b[0m \u001b[0m__exit__\u001b[0m\u001b[0;34m(\u001b[0m\u001b[0mself\u001b[0m\u001b[0;34m,\u001b[0m \u001b[0;34m*\u001b[0m\u001b[0margs\u001b[0m\u001b[0;34m)\u001b[0m\u001b[0;34m:\u001b[0m\u001b[0;34m\u001b[0m\u001b[0;34m\u001b[0m\u001b[0m\n",
      "\u001b[0;31mFileNotFoundError\u001b[0m: [Errno 2] No such file or directory: 'output/models/bestmodel.pth'"
     ]
    }
   ],
   "source": [
    "learn.load_encoder(\"amazon_thai_review_enc-3\")\n",
    "learn.unfreeze()\n",
    "learn.fit_one_cycle(10, slice(1e-6 / (2.6 ** 4), 1e-6),\n",
    "                   callbacks=[SaveModelCallback(learn, every='improvement', monitor='accuracy', name='bestmodel')])"
   ]
  },
  {
   "cell_type": "code",
   "execution_count": 52,
   "metadata": {},
   "outputs": [],
   "source": [
    "learn.save_encoder(\"amazon_thai_review_enc-4\")"
   ]
  },
  {
   "cell_type": "code",
   "execution_count": 86,
   "metadata": {},
   "outputs": [
    {
     "data": {
      "text/html": [],
      "text/plain": [
       "<IPython.core.display.HTML object>"
      ]
     },
     "metadata": {},
     "output_type": "display_data"
    }
   ],
   "source": [
    "#get predictions\n",
    "probs, y_true, loss = learn.get_preds(ds_type = DatasetType.Valid, ordered=True, with_loss=True)\n",
    "y_true = y_true.numpy()\n",
    "preds = (probs.numpy()>.5).astype(np.float)\n",
    "loss = loss.numpy()"
   ]
  },
  {
   "cell_type": "code",
   "execution_count": 93,
   "metadata": {},
   "outputs": [
    {
     "data": {
      "text/plain": [
       "0.6490137079542622"
      ]
     },
     "execution_count": 93,
     "metadata": {},
     "output_type": "execute_result"
    }
   ],
   "source": [
    "to_df = np.concatenate([y_true[:,None],preds,loss[:,None],probs.numpy()],1)\n",
    "probs_df = pd.DataFrame(to_df)\n",
    "probs_df.columns = ['true','pred','loss','prob']\n",
    "probs_df[\"hit\"] = (probs_df['true'] == probs_df['pred'])\n",
    "probs_df[\"text\"] = valid_df['th_segment']\n",
    "(y_true==preds).mean()"
   ]
  }
 ],
 "metadata": {
  "kernelspec": {
   "display_name": "Python 3",
   "language": "python",
   "name": "python3"
  },
  "language_info": {
   "codemirror_mode": {
    "name": "ipython",
    "version": 3
   },
   "file_extension": ".py",
   "mimetype": "text/x-python",
   "name": "python",
   "nbconvert_exporter": "python",
   "pygments_lexer": "ipython3",
   "version": "3.7.6"
  },
  "nbpresent": {
   "slides": {
    "0410c19f-80cb-4a88-9d21-aad3a86ddc81": {
     "id": "0410c19f-80cb-4a88-9d21-aad3a86ddc81",
     "prev": "94f71cb7-d979-4c4c-a7c5-cd92a7179659",
     "regions": {
      "e492e737-49af-4d69-9994-02778b152194": {
       "attrs": {
        "height": 0.8,
        "width": 0.8,
        "x": 0.1,
        "y": 0.1
       },
       "content": {
        "cell": "cd236985-82db-4ef0-9657-9ca0e19c7c2f",
        "part": "whole"
       },
       "id": "e492e737-49af-4d69-9994-02778b152194"
      }
     }
    },
    "0c9c9087-b066-442a-a81c-2862ae70140f": {
     "id": "0c9c9087-b066-442a-a81c-2862ae70140f",
     "prev": "20a8d9bc-0363-42ed-9079-f74e344fdcb3",
     "regions": {
      "dc8ab36a-144f-44fc-9cd1-225ae7576079": {
       "attrs": {
        "height": 0.8,
        "width": 0.8,
        "x": 0.1,
        "y": 0.1
       },
       "content": {
        "cell": "4c75cc50-ab57-44be-bea4-b0d3b39e148d",
        "part": "whole"
       },
       "id": "dc8ab36a-144f-44fc-9cd1-225ae7576079"
      }
     }
    },
    "19a7fdac-32cb-465d-a3e2-431cfe811722": {
     "id": "19a7fdac-32cb-465d-a3e2-431cfe811722",
     "prev": "6015a480-271b-4ef1-a493-9a50813099fc",
     "regions": {
      "71d5385e-6094-4f4b-abf1-8ec1605fa830": {
       "attrs": {
        "height": 0.8,
        "width": 0.8,
        "x": 0.1,
        "y": 0.1
       },
       "content": {
        "cell": "3dc922ee-af85-4d26-8a53-bc6490ff5985",
        "part": "whole"
       },
       "id": "71d5385e-6094-4f4b-abf1-8ec1605fa830"
      }
     }
    },
    "1ae4e26b-730b-45ee-a67d-dc96d0c4a636": {
     "id": "1ae4e26b-730b-45ee-a67d-dc96d0c4a636",
     "prev": "7b5cbcd3-9ccc-4ad4-b704-c0cdb410bf83",
     "regions": {
      "6515571c-33db-4b89-bd69-ebe1618b4b5a": {
       "attrs": {
        "height": 0.8,
        "width": 0.8,
        "x": 0.1,
        "y": 0.1
       },
       "content": {
        "cell": "6abdc1d9-b4a1-442c-976c-3b9e9d486704",
        "part": "whole"
       },
       "id": "6515571c-33db-4b89-bd69-ebe1618b4b5a"
      }
     }
    },
    "20a8d9bc-0363-42ed-9079-f74e344fdcb3": {
     "id": "20a8d9bc-0363-42ed-9079-f74e344fdcb3",
     "prev": "3362b00e-e4ad-4cbb-88d3-5a0d92fe6427",
     "regions": {
      "5517c437-753c-4949-a231-f101e1af8775": {
       "attrs": {
        "height": 0.8,
        "width": 0.8,
        "x": 0.1,
        "y": 0.1
       },
       "content": {
        "cell": "51f64e06-0521-4b97-a701-4a8ff2661ed3",
        "part": "whole"
       },
       "id": "5517c437-753c-4949-a231-f101e1af8775"
      }
     }
    },
    "3234def2-1b28-45ab-9e72-5fd4df53c222": {
     "id": "3234def2-1b28-45ab-9e72-5fd4df53c222",
     "prev": "8a4975af-b4c2-44bf-aa9c-2cc3a2bf50e5",
     "regions": {
      "e72a311d-ce7c-4e6c-a018-507c357c5384": {
       "attrs": {
        "height": 0.8,
        "width": 0.8,
        "x": 0.1,
        "y": 0.1
       },
       "content": {
        "cell": "b114ac36-78b8-49f1-bb62-4bcf4a44a76b",
        "part": "whole"
       },
       "id": "e72a311d-ce7c-4e6c-a018-507c357c5384"
      }
     }
    },
    "3362b00e-e4ad-4cbb-88d3-5a0d92fe6427": {
     "id": "3362b00e-e4ad-4cbb-88d3-5a0d92fe6427",
     "prev": "db145dc5-04a5-47b8-80a1-95ba3e16f1d9",
     "regions": {
      "ebaf1e2a-6f21-46bd-8ca0-931fe0cb87e9": {
       "attrs": {
        "height": 0.8,
        "width": 0.8,
        "x": 0.1,
        "y": 0.1
       },
       "content": {
        "cell": "4424853d-b898-49d2-ae7c-63b6324fb86b",
        "part": "whole"
       },
       "id": "ebaf1e2a-6f21-46bd-8ca0-931fe0cb87e9"
      }
     }
    },
    "35933015-2fb2-4675-be28-7c03f5100406": {
     "id": "35933015-2fb2-4675-be28-7c03f5100406",
     "prev": "1ae4e26b-730b-45ee-a67d-dc96d0c4a636",
     "regions": {
      "269ccea7-63b4-4ed4-a1f0-51fbd19d9cd4": {
       "attrs": {
        "height": 0.8,
        "width": 0.8,
        "x": 0.1,
        "y": 0.1
       },
       "content": {
        "cell": "15c43e31-4ab8-4bcd-b4cc-ff0a012aab62",
        "part": "whole"
       },
       "id": "269ccea7-63b4-4ed4-a1f0-51fbd19d9cd4"
      }
     }
    },
    "3a31ba53-8148-4c13-8242-980ab0116fcb": {
     "id": "3a31ba53-8148-4c13-8242-980ab0116fcb",
     "prev": "a0f7782e-ec1e-49c0-8f09-5cce88e55793",
     "regions": {
      "8e363d78-3326-4ab9-8a55-6e1c405414ef": {
       "attrs": {
        "height": 0.8,
        "width": 0.8,
        "x": 0.1,
        "y": 0.1
       },
       "content": {
        "cell": "e2bda8b4-46b6-48e4-86ae-a94547cc0a5c",
        "part": "whole"
       },
       "id": "8e363d78-3326-4ab9-8a55-6e1c405414ef"
      }
     }
    },
    "3c2eaec5-e30b-43b3-8fef-3e56b0fba9a9": {
     "id": "3c2eaec5-e30b-43b3-8fef-3e56b0fba9a9",
     "prev": "658ffa9b-ac2b-44e2-a104-c58b3741a5b5",
     "regions": {
      "d9c6cf1a-aea9-4595-9ff4-db917739a8dc": {
       "attrs": {
        "height": 0.8,
        "width": 0.8,
        "x": 0.1,
        "y": 0.1
       },
       "content": {
        "cell": "77216781-9834-4978-ad9e-09033dd3e120",
        "part": "whole"
       },
       "id": "d9c6cf1a-aea9-4595-9ff4-db917739a8dc"
      }
     }
    },
    "41d75bbc-795b-4ae5-8443-e3210b76316f": {
     "id": "41d75bbc-795b-4ae5-8443-e3210b76316f",
     "prev": "b9b53e3d-4454-42bc-85e9-cadfacf35cec",
     "regions": {
      "8546d667-eced-45c9-a505-23e8b5dd3cab": {
       "attrs": {
        "height": 0.8,
        "width": 0.8,
        "x": 0.1,
        "y": 0.1
       },
       "content": {
        "cell": "0a5f3c22-e268-4acf-aeb5-2dee5d6345a6",
        "part": "whole"
       },
       "id": "8546d667-eced-45c9-a505-23e8b5dd3cab"
      }
     }
    },
    "4f424947-4b76-4312-a794-3e40bd57eee1": {
     "id": "4f424947-4b76-4312-a794-3e40bd57eee1",
     "prev": "d01a9296-71bb-4d7f-be08-0552d406b978",
     "regions": {
      "d97d688c-104b-487c-9d0a-55e661f7064a": {
       "attrs": {
        "height": 0.8,
        "width": 0.8,
        "x": 0.1,
        "y": 0.1
       },
       "content": {
        "cell": "dc4d5f9e-d1f3-40d8-9dd1-4cc8e77ee5cd",
        "part": "whole"
       },
       "id": "d97d688c-104b-487c-9d0a-55e661f7064a"
      }
     }
    },
    "532f6545-f26b-4862-ae28-9bb84bec75f3": {
     "id": "532f6545-f26b-4862-ae28-9bb84bec75f3",
     "prev": "55c5e745-5d14-4073-904f-715db78038bc",
     "regions": {
      "2b51f6d5-1ada-4e33-81b6-acd2dd6f4c26": {
       "attrs": {
        "height": 0.8,
        "width": 0.8,
        "x": 0.1,
        "y": 0.1
       },
       "content": {
        "cell": "228db468-5f5a-4897-b86e-164217e03b54",
        "part": "whole"
       },
       "id": "2b51f6d5-1ada-4e33-81b6-acd2dd6f4c26"
      }
     }
    },
    "55c5e745-5d14-4073-904f-715db78038bc": {
     "id": "55c5e745-5d14-4073-904f-715db78038bc",
     "prev": "3234def2-1b28-45ab-9e72-5fd4df53c222",
     "regions": {
      "291913f8-9ea5-471f-b649-dea49cfc776a": {
       "attrs": {
        "height": 0.8,
        "width": 0.8,
        "x": 0.1,
        "y": 0.1
       },
       "content": {
        "cell": "b252421b-5d03-4d2d-b83a-20e55452d9df",
        "part": "whole"
       },
       "id": "291913f8-9ea5-471f-b649-dea49cfc776a"
      }
     }
    },
    "5b0b02d9-a908-45de-b3c2-c58ac3bcc208": {
     "id": "5b0b02d9-a908-45de-b3c2-c58ac3bcc208",
     "prev": "7505d2fe-6a0f-4f6d-a528-f11400931d3d",
     "regions": {
      "b4aa8964-ee0b-4241-bc83-8c71a99beb49": {
       "attrs": {
        "height": 0.8,
        "width": 0.8,
        "x": 0.1,
        "y": 0.1
       },
       "content": {
        "cell": "7ec58639-1f78-44a6-9615-e13963ec74c5",
        "part": "whole"
       },
       "id": "b4aa8964-ee0b-4241-bc83-8c71a99beb49"
      }
     }
    },
    "6015a480-271b-4ef1-a493-9a50813099fc": {
     "id": "6015a480-271b-4ef1-a493-9a50813099fc",
     "prev": "c1c09a49-f676-4566-8da2-3bcb470fe1a4",
     "regions": {
      "9319274c-31d6-4102-ab90-cc615ea95ed0": {
       "attrs": {
        "height": 0.8,
        "width": 0.8,
        "x": 0.1,
        "y": 0.1
       },
       "content": {
        "cell": "4b7ef24b-1025-4ca0-a66c-de885e9c4467",
        "part": "whole"
       },
       "id": "9319274c-31d6-4102-ab90-cc615ea95ed0"
      }
     }
    },
    "658ffa9b-ac2b-44e2-a104-c58b3741a5b5": {
     "id": "658ffa9b-ac2b-44e2-a104-c58b3741a5b5",
     "prev": "a65cb3b3-2755-441b-b51c-bbe356d8ddf9",
     "regions": {
      "4d558c1a-1dc3-457f-9879-0b0dcdb3a2a6": {
       "attrs": {
        "height": 0.8,
        "width": 0.8,
        "x": 0.1,
        "y": 0.1
       },
       "content": {
        "cell": "5cc41258-ba74-4553-86af-af60a7ee71df",
        "part": "whole"
       },
       "id": "4d558c1a-1dc3-457f-9879-0b0dcdb3a2a6"
      }
     }
    },
    "7505d2fe-6a0f-4f6d-a528-f11400931d3d": {
     "id": "7505d2fe-6a0f-4f6d-a528-f11400931d3d",
     "prev": "4f424947-4b76-4312-a794-3e40bd57eee1",
     "regions": {
      "3ced8cb8-9a88-4db2-9c4c-12a299c6d7f6": {
       "attrs": {
        "height": 0.8,
        "width": 0.8,
        "x": 0.1,
        "y": 0.1
       },
       "content": {
        "cell": "9f2151ee-f79a-4652-b388-f2444fd0234f",
        "part": "whole"
       },
       "id": "3ced8cb8-9a88-4db2-9c4c-12a299c6d7f6"
      }
     }
    },
    "7b5cbcd3-9ccc-4ad4-b704-c0cdb410bf83": {
     "id": "7b5cbcd3-9ccc-4ad4-b704-c0cdb410bf83",
     "prev": "c8725ad6-472d-4a3e-bbd6-4a0aff11c16f",
     "regions": {
      "e91e93d1-e7d2-4f33-8f32-8994be21b49b": {
       "attrs": {
        "height": 0.8,
        "width": 0.8,
        "x": 0.1,
        "y": 0.1
       },
       "content": {
        "cell": "78556181-f120-4a81-acdc-0d0422542ef2",
        "part": "whole"
       },
       "id": "e91e93d1-e7d2-4f33-8f32-8994be21b49b"
      }
     }
    },
    "81c4748d-6f90-4349-899e-09c50d1d4ed2": {
     "id": "81c4748d-6f90-4349-899e-09c50d1d4ed2",
     "prev": "b6295605-5e24-422c-9fed-b5c45a634016",
     "regions": {
      "d1e68d91-effa-4ab3-ad40-9686b045661d": {
       "attrs": {
        "height": 0.8,
        "width": 0.8,
        "x": 0.1,
        "y": 0.1
       },
       "content": {
        "cell": "4838c0e9-96f9-415a-a6bb-d1cfb90cde7c",
        "part": "whole"
       },
       "id": "d1e68d91-effa-4ab3-ad40-9686b045661d"
      }
     }
    },
    "8a4975af-b4c2-44bf-aa9c-2cc3a2bf50e5": {
     "id": "8a4975af-b4c2-44bf-aa9c-2cc3a2bf50e5",
     "prev": "41d75bbc-795b-4ae5-8443-e3210b76316f",
     "regions": {
      "fd07f07f-e03b-4d89-b505-89d959974ea2": {
       "attrs": {
        "height": 0.8,
        "width": 0.8,
        "x": 0.1,
        "y": 0.1
       },
       "content": {
        "cell": "74b1c50a-942f-4d28-b857-2d10b370da2c",
        "part": "whole"
       },
       "id": "fd07f07f-e03b-4d89-b505-89d959974ea2"
      }
     }
    },
    "8e311ce0-8483-471f-bc38-7944d2cfd4f4": {
     "id": "8e311ce0-8483-471f-bc38-7944d2cfd4f4",
     "prev": "0410c19f-80cb-4a88-9d21-aad3a86ddc81",
     "regions": {
      "4771aa10-7160-41b2-bcf0-d2da21fa8af5": {
       "attrs": {
        "height": 0.8,
        "width": 0.8,
        "x": 0.1,
        "y": 0.1
       },
       "content": {
        "cell": "64aa1897-c3ab-4580-b822-83bf91fa6e1f",
        "part": "whole"
       },
       "id": "4771aa10-7160-41b2-bcf0-d2da21fa8af5"
      }
     }
    },
    "94b0ffc6-2e73-40a9-8994-ce9809582c2f": {
     "id": "94b0ffc6-2e73-40a9-8994-ce9809582c2f",
     "prev": "35933015-2fb2-4675-be28-7c03f5100406",
     "regions": {
      "37b0de73-f519-4f85-85d7-3eba7ec47fc6": {
       "attrs": {
        "height": 0.8,
        "width": 0.8,
        "x": 0.1,
        "y": 0.1
       },
       "content": {
        "cell": "3055fdbf-d5c8-4e21-b4c2-b0d6afb45531",
        "part": "whole"
       },
       "id": "37b0de73-f519-4f85-85d7-3eba7ec47fc6"
      }
     }
    },
    "94f71cb7-d979-4c4c-a7c5-cd92a7179659": {
     "id": "94f71cb7-d979-4c4c-a7c5-cd92a7179659",
     "prev": "94b0ffc6-2e73-40a9-8994-ce9809582c2f",
     "regions": {
      "85a7dacd-95e7-4837-946b-12e81051bbd8": {
       "attrs": {
        "height": 0.8,
        "width": 0.8,
        "x": 0.1,
        "y": 0.1
       },
       "content": {
        "cell": "20fc262e-b944-443e-b255-9b1a5b01ec8b",
        "part": "whole"
       },
       "id": "85a7dacd-95e7-4837-946b-12e81051bbd8"
      }
     }
    },
    "96d0f2ce-eb90-4fda-91fa-a8d7b2d136bc": {
     "id": "96d0f2ce-eb90-4fda-91fa-a8d7b2d136bc",
     "prev": "532f6545-f26b-4862-ae28-9bb84bec75f3",
     "regions": {
      "f8e17b18-80d2-41d8-a886-1fb4b503dba7": {
       "attrs": {
        "height": 0.8,
        "width": 0.8,
        "x": 0.1,
        "y": 0.1
       },
       "content": {
        "cell": "e94d9fa7-64a8-4109-8f60-ed962871f0d0",
        "part": "whole"
       },
       "id": "f8e17b18-80d2-41d8-a886-1fb4b503dba7"
      }
     }
    },
    "a0f7782e-ec1e-49c0-8f09-5cce88e55793": {
     "id": "a0f7782e-ec1e-49c0-8f09-5cce88e55793",
     "prev": "cacddedb-5dff-4b96-bca9-a8b3823c974a",
     "regions": {
      "28c77913-e1e6-4a9a-b7a6-333490f5a774": {
       "attrs": {
        "height": 0.8,
        "width": 0.8,
        "x": 0.1,
        "y": 0.1
       },
       "content": {
        "cell": "18103c5c-5fd0-404d-a2f5-335d75b43418",
        "part": "whole"
       },
       "id": "28c77913-e1e6-4a9a-b7a6-333490f5a774"
      }
     }
    },
    "a65cb3b3-2755-441b-b51c-bbe356d8ddf9": {
     "id": "a65cb3b3-2755-441b-b51c-bbe356d8ddf9",
     "prev": "5b0b02d9-a908-45de-b3c2-c58ac3bcc208",
     "regions": {
      "9fee087f-42f4-401d-81dc-e04e5c7c8f83": {
       "attrs": {
        "height": 0.8,
        "width": 0.8,
        "x": 0.1,
        "y": 0.1
       },
       "content": {
        "cell": "f0100153-e7e4-43b3-b47d-d0e930b465cd",
        "part": "whole"
       },
       "id": "9fee087f-42f4-401d-81dc-e04e5c7c8f83"
      }
     }
    },
    "a7e4efbb-749c-4247-9d5c-668ac52f232b": {
     "id": "a7e4efbb-749c-4247-9d5c-668ac52f232b",
     "prev": "81c4748d-6f90-4349-899e-09c50d1d4ed2",
     "regions": {
      "d534c4ec-776d-460e-a891-225dfb0bbf64": {
       "attrs": {
        "height": 0.8,
        "width": 0.8,
        "x": 0.1,
        "y": 0.1
       },
       "content": {
        "cell": "036de3c4-28b1-425b-be51-4b22ccd7d3a5",
        "part": "whole"
       },
       "id": "d534c4ec-776d-460e-a891-225dfb0bbf64"
      }
     }
    },
    "aecf6044-24a8-48c5-9bcf-4e489da4e4fc": {
     "id": "aecf6044-24a8-48c5-9bcf-4e489da4e4fc",
     "prev": "8e311ce0-8483-471f-bc38-7944d2cfd4f4",
     "regions": {
      "9553c236-5f6f-4be1-9483-fb8617a077f0": {
       "attrs": {
        "height": 0.8,
        "width": 0.8,
        "x": 0.1,
        "y": 0.1
       },
       "content": {
        "cell": "f173fb22-5d20-465b-ad34-9a68ba824d7d",
        "part": "whole"
       },
       "id": "9553c236-5f6f-4be1-9483-fb8617a077f0"
      }
     }
    },
    "b6295605-5e24-422c-9fed-b5c45a634016": {
     "id": "b6295605-5e24-422c-9fed-b5c45a634016",
     "prev": "19a7fdac-32cb-465d-a3e2-431cfe811722",
     "regions": {
      "cd8ec3c4-5202-47a3-b556-8cba39ed4286": {
       "attrs": {
        "height": 0.8,
        "width": 0.8,
        "x": 0.1,
        "y": 0.1
       },
       "content": {
        "cell": "a879da52-64e0-4727-a4c8-360611f5e30d",
        "part": "whole"
       },
       "id": "cd8ec3c4-5202-47a3-b556-8cba39ed4286"
      }
     }
    },
    "b9b53e3d-4454-42bc-85e9-cadfacf35cec": {
     "id": "b9b53e3d-4454-42bc-85e9-cadfacf35cec",
     "prev": null,
     "regions": {
      "b89ecbd1-07ff-49ab-ace6-82d6eb12ea12": {
       "attrs": {
        "height": 0.8,
        "width": 0.8,
        "x": 0.1,
        "y": 0.1
       },
       "content": {
        "cell": "f1151b15-232e-4cab-bff4-51f2ac8276d0",
        "part": "whole"
       },
       "id": "b89ecbd1-07ff-49ab-ace6-82d6eb12ea12"
      }
     }
    },
    "c1c09a49-f676-4566-8da2-3bcb470fe1a4": {
     "id": "c1c09a49-f676-4566-8da2-3bcb470fe1a4",
     "prev": "e5c5bd6d-c810-4541-ad4b-465d3167f4a2",
     "regions": {
      "fd3a28fd-2b38-4bb6-a8bc-e32f1f412834": {
       "attrs": {
        "height": 0.8,
        "width": 0.8,
        "x": 0.1,
        "y": 0.1
       },
       "content": {
        "cell": "4d1ac58c-13f3-4969-8a33-501f37c39f34",
        "part": "whole"
       },
       "id": "fd3a28fd-2b38-4bb6-a8bc-e32f1f412834"
      }
     }
    },
    "c8725ad6-472d-4a3e-bbd6-4a0aff11c16f": {
     "id": "c8725ad6-472d-4a3e-bbd6-4a0aff11c16f",
     "prev": "0c9c9087-b066-442a-a81c-2862ae70140f",
     "regions": {
      "af184387-9c38-4a7e-9734-3df1e21b7b52": {
       "attrs": {
        "height": 0.8,
        "width": 0.8,
        "x": 0.1,
        "y": 0.1
       },
       "content": {
        "cell": "7574ea1e-6992-4589-b42c-0f92228c21bf",
        "part": "whole"
       },
       "id": "af184387-9c38-4a7e-9734-3df1e21b7b52"
      }
     }
    },
    "cacddedb-5dff-4b96-bca9-a8b3823c974a": {
     "id": "cacddedb-5dff-4b96-bca9-a8b3823c974a",
     "prev": "96d0f2ce-eb90-4fda-91fa-a8d7b2d136bc",
     "regions": {
      "4f816563-cb4e-4410-a698-9b719775ace0": {
       "attrs": {
        "height": 0.8,
        "width": 0.8,
        "x": 0.1,
        "y": 0.1
       },
       "content": {
        "cell": "fc810045-cb31-4110-8885-cca5daca5d80",
        "part": "whole"
       },
       "id": "4f816563-cb4e-4410-a698-9b719775ace0"
      }
     }
    },
    "d01a9296-71bb-4d7f-be08-0552d406b978": {
     "id": "d01a9296-71bb-4d7f-be08-0552d406b978",
     "prev": "3a31ba53-8148-4c13-8242-980ab0116fcb",
     "regions": {
      "04193219-ecb3-4d08-8db8-03668440e757": {
       "attrs": {
        "height": 0.8,
        "width": 0.8,
        "x": 0.1,
        "y": 0.1
       },
       "content": {
        "cell": "bb557a4f-86f7-42f1-b49d-b16f71b24941",
        "part": "whole"
       },
       "id": "04193219-ecb3-4d08-8db8-03668440e757"
      }
     }
    },
    "db145dc5-04a5-47b8-80a1-95ba3e16f1d9": {
     "id": "db145dc5-04a5-47b8-80a1-95ba3e16f1d9",
     "prev": "3c2eaec5-e30b-43b3-8fef-3e56b0fba9a9",
     "regions": {
      "b5c7f6fc-e80d-457a-8668-7c02f14dbf23": {
       "attrs": {
        "height": 0.8,
        "width": 0.8,
        "x": 0.1,
        "y": 0.1
       },
       "content": {
        "cell": "9af808e6-b983-4b1f-ae2a-59345393b4e5",
        "part": "whole"
       },
       "id": "b5c7f6fc-e80d-457a-8668-7c02f14dbf23"
      }
     }
    },
    "e5c5bd6d-c810-4541-ad4b-465d3167f4a2": {
     "id": "e5c5bd6d-c810-4541-ad4b-465d3167f4a2",
     "prev": "aecf6044-24a8-48c5-9bcf-4e489da4e4fc",
     "regions": {
      "1cb8cf8d-690c-49a0-a08a-097337f7a1bf": {
       "attrs": {
        "height": 0.8,
        "width": 0.8,
        "x": 0.1,
        "y": 0.1
       },
       "content": {
        "cell": "de529c3d-3264-4797-bfde-3cd8f4a579a2",
        "part": "whole"
       },
       "id": "1cb8cf8d-690c-49a0-a08a-097337f7a1bf"
      }
     }
    }
   },
   "themes": {}
  },
  "toc": {
   "base_numbering": 1,
   "nav_menu": {},
   "number_sections": true,
   "sideBar": true,
   "skip_h1_title": false,
   "title_cell": "Table of Contents",
   "title_sidebar": "Contents",
   "toc_cell": false,
   "toc_position": {},
   "toc_section_display": true,
   "toc_window_display": false
  }
 },
 "nbformat": 4,
 "nbformat_minor": 2
}
