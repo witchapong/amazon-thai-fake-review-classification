{
 "cells": [
  {
   "cell_type": "code",
   "execution_count": 1,
   "metadata": {},
   "outputs": [],
   "source": [
    "import pandas as pd\n",
    "pd.options.display.max_columns=999\n",
    "pd.options.display.max_rows=999\n",
    "import pandas_profiling\n",
    "from collections import Counter, defaultdict\n",
    "import re\n",
    "import numpy as np\n",
    "import matplotlib.pyplot as plt\n",
    "%matplotlib inline\n",
    "import seaborn as sns\n",
    "import plotly.express as px\n",
    "import plotly.graph_objects as go\n",
    "%reload_ext autoreload\n",
    "%autoreload 2\n",
    "from tqdm import tqdm_notebook, trange\n",
    "import pickle\n",
    "from IPython.core.interactiveshell import InteractiveShell\n",
    "InteractiveShell.ast_node_interactivity = \"all\"\n",
    "from glob import glob\n",
    "from itertools import chain\n",
    "from sklearn.preprocessing import StandardScaler, OneHotEncoder\n",
    "from sklearn.model_selection import train_test_split\n",
    "from sklearn.ensemble import RandomForestClassifier\n",
    "from sklearn.metrics import classification_report,confusion_matrix,precision_recall_curve\n",
    "from scipy.spatial.distance import pdist, cdist\n",
    "import datetime"
   ]
  },
  {
   "cell_type": "code",
   "execution_count": 4,
   "metadata": {},
   "outputs": [],
   "source": [
    "review_df = pd.read_csv('src/amzn_fake_review_star_correct_302066.csv')"
   ]
  },
  {
   "cell_type": "code",
   "execution_count": 5,
   "metadata": {},
   "outputs": [
    {
     "data": {
      "text/plain": [
       "(302066, 5)"
      ]
     },
     "execution_count": 5,
     "metadata": {},
     "output_type": "execute_result"
    }
   ],
   "source": [
    "review_df.shape"
   ]
  },
  {
   "cell_type": "code",
   "execution_count": 6,
   "metadata": {},
   "outputs": [
    {
     "data": {
      "text/html": [
       "<div>\n",
       "<style scoped>\n",
       "    .dataframe tbody tr th:only-of-type {\n",
       "        vertical-align: middle;\n",
       "    }\n",
       "\n",
       "    .dataframe tbody tr th {\n",
       "        vertical-align: top;\n",
       "    }\n",
       "\n",
       "    .dataframe thead th {\n",
       "        text-align: right;\n",
       "    }\n",
       "</style>\n",
       "<table border=\"1\" class=\"dataframe\">\n",
       "  <thead>\n",
       "    <tr style=\"text-align: right;\">\n",
       "      <th></th>\n",
       "      <th>review_id</th>\n",
       "      <th>en_segment</th>\n",
       "      <th>th_segment</th>\n",
       "      <th>correct</th>\n",
       "      <th>review_star</th>\n",
       "    </tr>\n",
       "  </thead>\n",
       "  <tbody>\n",
       "    <tr>\n",
       "      <th>0</th>\n",
       "      <td>1-333090</td>\n",
       "      <td>Good quality product at reasonable price.</td>\n",
       "      <td>สินค้าคุณภาพดีในราคาที่เหมาะสม</td>\n",
       "      <td>1.0</td>\n",
       "      <td>4.0</td>\n",
       "    </tr>\n",
       "    <tr>\n",
       "      <th>1</th>\n",
       "      <td>1-57783</td>\n",
       "      <td>They do NOT last more than 10 bottles.</td>\n",
       "      <td>พวกเขาไม่เกิน 10 ขวด</td>\n",
       "      <td>0.0</td>\n",
       "      <td>1.0</td>\n",
       "    </tr>\n",
       "    <tr>\n",
       "      <th>2</th>\n",
       "      <td>1-319174</td>\n",
       "      <td>If you like post-apocalyptic fiction with a tw...</td>\n",
       "      <td>ถ้าคุณชอบนิยายหลังเลิกเรียนด้วยการบิดนี่คือมัน</td>\n",
       "      <td>0.0</td>\n",
       "      <td>4.0</td>\n",
       "    </tr>\n",
       "    <tr>\n",
       "      <th>3</th>\n",
       "      <td>1-425331</td>\n",
       "      <td>Was a little worried when purchasing due to so...</td>\n",
       "      <td>รู้สึกกังวลเล็กน้อยเมื่อซื้อเนื่องจากรีวิวบางอ...</td>\n",
       "      <td>0.0</td>\n",
       "      <td>4.0</td>\n",
       "    </tr>\n",
       "    <tr>\n",
       "      <th>4</th>\n",
       "      <td>1-134583</td>\n",
       "      <td>I had heard from relatives who have read this ...</td>\n",
       "      <td>ฉันได้ยินจากญาติที่อ่านหนังสือเล่มนี้ว่าพ่อแม่...</td>\n",
       "      <td>1.0</td>\n",
       "      <td>2.0</td>\n",
       "    </tr>\n",
       "  </tbody>\n",
       "</table>\n",
       "</div>"
      ],
      "text/plain": [
       "  review_id                                         en_segment  \\\n",
       "0  1-333090          Good quality product at reasonable price.   \n",
       "1   1-57783             They do NOT last more than 10 bottles.   \n",
       "2  1-319174  If you like post-apocalyptic fiction with a tw...   \n",
       "3  1-425331  Was a little worried when purchasing due to so...   \n",
       "4  1-134583  I had heard from relatives who have read this ...   \n",
       "\n",
       "                                          th_segment  correct  review_star  \n",
       "0                     สินค้าคุณภาพดีในราคาที่เหมาะสม      1.0          4.0  \n",
       "1                               พวกเขาไม่เกิน 10 ขวด      0.0          1.0  \n",
       "2     ถ้าคุณชอบนิยายหลังเลิกเรียนด้วยการบิดนี่คือมัน      0.0          4.0  \n",
       "3  รู้สึกกังวลเล็กน้อยเมื่อซื้อเนื่องจากรีวิวบางอ...      0.0          4.0  \n",
       "4  ฉันได้ยินจากญาติที่อ่านหนังสือเล่มนี้ว่าพ่อแม่...      1.0          2.0  "
      ]
     },
     "execution_count": 6,
     "metadata": {},
     "output_type": "execute_result"
    }
   ],
   "source": [
    "review_df.head()"
   ]
  },
  {
   "cell_type": "code",
   "execution_count": 7,
   "metadata": {},
   "outputs": [
    {
     "name": "stdout",
     "output_type": "stream",
     "text": [
      "comment: ในฐานะนักเดินทางระยะไกลที่อาศัยอยู่ในอิตาลีฉันโชคดีที่ได้ยินเพลงของนักร้องที่สวยงามจริงๆที่นี่ แต่เมื่อเปรียบเทียบกับโลกโอเปร่าไม่มีการเปรียบเทียบMs. Gheorghiu มีเครื่องดนตรีจริงหนึ่งเสียงซึ่งเธอปรับใช้อย่างสวยงามโดยเฉพาะในการบันทึกนี้นี่จะเป็นหนึ่งในบันทึกที่มีค่าของฉัน\n",
      "is_correct: 0.0\n",
      "review star:4.0\n"
     ]
    }
   ],
   "source": [
    "# show random en_segment / th_segment\n",
    "rand_idx = np.random.randint(len(review_df))\n",
    "print('comment: {}\\nis_correct: {}\\nreview star:{}'.format(review_df.iloc[rand_idx]['th_segment'],\n",
    "      review_df.iloc[rand_idx]['correct'],\n",
    "      review_df.iloc[rand_idx]['review_star']))"
   ]
  },
  {
   "cell_type": "code",
   "execution_count": 10,
   "metadata": {},
   "outputs": [
    {
     "data": {
      "text/plain": [
       "review_id      0\n",
       "en_segment     0\n",
       "th_segment     0\n",
       "correct        0\n",
       "review_star    0\n",
       "dtype: int64"
      ]
     },
     "execution_count": 10,
     "metadata": {},
     "output_type": "execute_result"
    }
   ],
   "source": [
    "review_df.isna().sum()"
   ]
  },
  {
   "cell_type": "code",
   "execution_count": 35,
   "metadata": {},
   "outputs": [
    {
     "data": {
      "text/plain": [
       "<matplotlib.axes._subplots.AxesSubplot at 0x15ca9d5c0>"
      ]
     },
     "execution_count": 35,
     "metadata": {},
     "output_type": "execute_result"
    },
    {
     "data": {
      "image/png": "[encoded data removed]",
      "text/plain": [
       "<Figure size 432x288 with 1 Axes>"
      ]
     },
     "metadata": {
      "needs_background": "light"
     },
     "output_type": "display_data"
    }
   ],
   "source": [
    "review_df['correct'].value_counts().plot(kind='bar')"
   ]
  },
  {
   "cell_type": "code",
   "execution_count": 36,
   "metadata": {},
   "outputs": [
    {
     "data": {
      "text/plain": [
       "<matplotlib.axes._subplots.AxesSubplot at 0x15d553d68>"
      ]
     },
     "execution_count": 36,
     "metadata": {},
     "output_type": "execute_result"
    },
    {
     "data": {
      "image/png": "[encoded data removed]",
      "text/plain": [
       "<Figure size 432x288 with 1 Axes>"
      ]
     },
     "metadata": {
      "needs_background": "light"
     },
     "output_type": "display_data"
    }
   ],
   "source": [
    "review_df['review_star'].value_counts().plot(kind='bar')"
   ]
  },
  {
   "cell_type": "code",
   "execution_count": 2,
   "metadata": {},
   "outputs": [
    {
     "name": "stdout",
     "output_type": "stream",
     "text": [
      "Corpus: wiki_lm_lstm\n",
      "- Downloading: wiki_lm_lstm 0.32\n"
     ]
    },
    {
     "name": "stderr",
     "output_type": "stream",
     "text": [
      "100%|██████████| 1050919089/1050919089 [29:15<00:00, 598482.49it/s] \n"
     ]
    },
    {
     "name": "stdout",
     "output_type": "stream",
     "text": [
      "Corpus: wiki_itos_lstm\n",
      "- Downloading: wiki_itos_lstm 0.32\n"
     ]
    },
    {
     "name": "stderr",
     "output_type": "stream",
     "text": [
      "100%|██████████| 1530484/1530484 [00:00<00:00, 1601750.63it/s]\n"
     ]
    }
   ],
   "source": [
    "from pythainlp.ulmfit import *"
   ]
  },
  {
   "cell_type": "code",
   "execution_count": 21,
   "metadata": {},
   "outputs": [],
   "source": [
    "review_df[\"processed\"] = review_df['th_segment'].map(lambda x: \"|\".join(process_thai(x)))\n",
    "review_df[\"wc\"] = review_df['processed'].map(lambda x: len(x.split(\"|\")))\n",
    "review_df[\"uwc\"] = review_df['processed'].map(lambda x: len(set(x.split(\"|\"))))"
   ]
  },
  {
   "cell_type": "code",
   "execution_count": 2,
   "metadata": {},
   "outputs": [],
   "source": [
    "import os\n",
    "# save tokenized review\n",
    "# os.makedirs('tmp',exist_ok=True)\n",
    "# review_df.to_csv('tmp/review_df_check-point-1.csv',index=False)\n",
    "\n",
    "review_df = pd.read_csv('tmp/review_df_check-point-1.csv')"
   ]
  },
  {
   "cell_type": "markdown",
   "metadata": {},
   "source": [
    "Train/valid split"
   ]
  },
  {
   "cell_type": "code",
   "execution_count": 3,
   "metadata": {},
   "outputs": [],
   "source": [
    "from sklearn.model_selection import train_test_split\n",
    "train_df, valid_df = train_test_split(review_df, test_size=0.15)\n",
    "train_df = train_df.reset_index(drop=True)\n",
    "valid_df = valid_df.reset_index(drop=True)"
   ]
  },
  {
   "cell_type": "code",
   "execution_count": 4,
   "metadata": {},
   "outputs": [
    {
     "data": {
      "text/plain": [
       "0.0    0.688514\n",
       "1.0    0.311486\n",
       "Name: correct, dtype: float64"
      ]
     },
     "execution_count": 4,
     "metadata": {},
     "output_type": "execute_result"
    }
   ],
   "source": [
    "#prevalence\n",
    "train_df[\"correct\"].value_counts(normalize=True)"
   ]
  },
  {
   "cell_type": "code",
   "execution_count": 5,
   "metadata": {},
   "outputs": [
    {
     "data": {
      "text/plain": [
       "0.0    0.6887\n",
       "1.0    0.3113\n",
       "Name: correct, dtype: float64"
      ]
     },
     "execution_count": 5,
     "metadata": {},
     "output_type": "execute_result"
    }
   ],
   "source": [
    "#prevalence\n",
    "valid_df[\"correct\"].value_counts(normalize=True)"
   ]
  },
  {
   "cell_type": "markdown",
   "metadata": {},
   "source": [
    "Logistic regression"
   ]
  },
  {
   "cell_type": "code",
   "execution_count": 6,
   "metadata": {},
   "outputs": [],
   "source": [
    "#dependent variables\n",
    "y_train = train_df[\"correct\"]\n",
    "y_valid = valid_df[\"correct\"]"
   ]
  },
  {
   "cell_type": "code",
   "execution_count": 7,
   "metadata": {},
   "outputs": [],
   "source": [
    "#text faetures\n",
    "from sklearn.feature_extraction.text import TfidfVectorizer\n",
    "from sklearn.linear_model import LogisticRegression"
   ]
  },
  {
   "cell_type": "code",
   "execution_count": 9,
   "metadata": {},
   "outputs": [
    {
     "data": {
      "text/plain": [
       "((256756, 25000), (45310, 25000))"
      ]
     },
     "execution_count": 9,
     "metadata": {},
     "output_type": "execute_result"
    }
   ],
   "source": [
    "tfidf = TfidfVectorizer(tokenizer=lambda x:x.split('|'), ngram_range=(1,2), max_features=25_000, sublinear_tf=True)\n",
    "# tfidf_fit = tfidf.fit(all_df[\"texts\"])\n",
    "text_train = tfidf.fit_transform(train_df[\"processed\"])\n",
    "text_valid = tfidf.transform(valid_df[\"processed\"])\n",
    "text_train.shape, text_valid.shape"
   ]
  },
  {
   "cell_type": "code",
   "execution_count": 10,
   "metadata": {},
   "outputs": [
    {
     "data": {
      "text/plain": [
       "((256756, 2), (45310, 2))"
      ]
     },
     "execution_count": 10,
     "metadata": {},
     "output_type": "execute_result"
    }
   ],
   "source": [
    "#word count and unique word counts; actually might not be so useful\n",
    "from sklearn.preprocessing import StandardScaler\n",
    "\n",
    "scaler = StandardScaler()\n",
    "num_train = scaler.fit_transform(train_df[[\"wc\",\"uwc\"]].astype(float))\n",
    "num_valid = scaler.transform(valid_df[[\"wc\",\"uwc\"]].astype(float))\n",
    "num_train.shape, num_valid.shape"
   ]
  },
  {
   "cell_type": "code",
   "execution_count": 11,
   "metadata": {},
   "outputs": [
    {
     "data": {
      "text/plain": [
       "((256756, 25002), (45310, 25002))"
      ]
     },
     "execution_count": 11,
     "metadata": {},
     "output_type": "execute_result"
    }
   ],
   "source": [
    "#concatenate text and word count features\n",
    "X_train = np.concatenate([num_train,text_train.toarray()],axis=1)\n",
    "X_valid = np.concatenate([num_valid,text_valid.toarray()],axis=1)\n",
    "X_train.shape, X_valid.shape"
   ]
  },
  {
   "cell_type": "code",
   "execution_count": 12,
   "metadata": {},
   "outputs": [
    {
     "data": {
      "text/plain": [
       "LogisticRegression(C=2.0, class_weight=None, dual=False, fit_intercept=True,\n",
       "                   intercept_scaling=1, l1_ratio=None, max_iter=100,\n",
       "                   multi_class='ovr', n_jobs=None, penalty='l2',\n",
       "                   random_state=None, solver='liblinear', tol=0.0001, verbose=0,\n",
       "                   warm_start=False)"
      ]
     },
     "execution_count": 12,
     "metadata": {},
     "output_type": "execute_result"
    },
    {
     "data": {
      "text/plain": [
       "0.7160450231736923"
      ]
     },
     "execution_count": 12,
     "metadata": {},
     "output_type": "execute_result"
    }
   ],
   "source": [
    "#fit logistic regression models\n",
    "model = LogisticRegression(C=2., penalty=\"l2\", solver=\"liblinear\", dual=False, multi_class=\"ovr\")\n",
    "model.fit(X_train,y_train)\n",
    "model.score(X_valid,y_valid)"
   ]
  },
  {
   "cell_type": "code",
   "execution_count": 14,
   "metadata": {},
   "outputs": [],
   "source": [
    "probs = model.predict_proba(X_valid)\n",
    "probs_df = pd.DataFrame(probs)\n",
    "probs_df.columns = model.classes_\n",
    "probs_df[\"preds\"] = model.predict(X_valid)\n",
    "probs_df[\"correct\"] = valid_df['correct']\n",
    "probs_df[\"th_segment\"] = valid_df['th_segment']\n",
    "probs_df[\"processed\"] = valid_df['processed']\n",
    "probs_df[\"wc\"] = valid_df['wc']\n",
    "probs_df[\"uwc\"] = valid_df['uwc']\n",
    "probs_df[\"hit\"] = (probs_df['preds']==probs_df['correct'])\n",
    "probs_df.to_csv(\"tmp/probs_df_linear.csv\", index=False)"
   ]
  },
  {
   "cell_type": "code",
   "execution_count": 15,
   "metadata": {},
   "outputs": [
    {
     "data": {
      "text/html": [
       "<div>\n",
       "<style scoped>\n",
       "    .dataframe tbody tr th:only-of-type {\n",
       "        vertical-align: middle;\n",
       "    }\n",
       "\n",
       "    .dataframe tbody tr th {\n",
       "        vertical-align: top;\n",
       "    }\n",
       "\n",
       "    .dataframe thead th {\n",
       "        text-align: right;\n",
       "    }\n",
       "</style>\n",
       "<table border=\"1\" class=\"dataframe\">\n",
       "  <thead>\n",
       "    <tr style=\"text-align: right;\">\n",
       "      <th></th>\n",
       "      <th>0.0</th>\n",
       "      <th>1.0</th>\n",
       "      <th>preds</th>\n",
       "      <th>correct</th>\n",
       "      <th>th_segment</th>\n",
       "      <th>processed</th>\n",
       "      <th>wc</th>\n",
       "      <th>uwc</th>\n",
       "      <th>hit</th>\n",
       "    </tr>\n",
       "  </thead>\n",
       "  <tbody>\n",
       "    <tr>\n",
       "      <th>0</th>\n",
       "      <td>0.807132</td>\n",
       "      <td>0.192868</td>\n",
       "      <td>0.0</td>\n",
       "      <td>1.0</td>\n",
       "      <td>เหตุผลเดียวที่ทำให้มันได้รับสามดาวก็เพราะว่ามั...</td>\n",
       "      <td>เหตุผล|เดียว|ที่|ทำให้|มัน|ได้รับ|สาม|ดาว|ก็เพ...</td>\n",
       "      <td>50</td>\n",
       "      <td>43</td>\n",
       "      <td>False</td>\n",
       "    </tr>\n",
       "    <tr>\n",
       "      <th>1</th>\n",
       "      <td>0.665240</td>\n",
       "      <td>0.334760</td>\n",
       "      <td>0.0</td>\n",
       "      <td>1.0</td>\n",
       "      <td>ซื้อและลองสิ่งนี้เมื่อหน่วยเก่าของฉันล้มเหลว (...</td>\n",
       "      <td>ซื้อ|และ|ลอง|สิ่ง|นี้|เมื่อ|หน่วย|เก่า|ของ|ฉัน...</td>\n",
       "      <td>28</td>\n",
       "      <td>28</td>\n",
       "      <td>False</td>\n",
       "    </tr>\n",
       "    <tr>\n",
       "      <th>2</th>\n",
       "      <td>0.272429</td>\n",
       "      <td>0.727571</td>\n",
       "      <td>1.0</td>\n",
       "      <td>0.0</td>\n",
       "      <td>ฉันดีใจที่ฉันไม่ได้จ่ายอะไรเลย</td>\n",
       "      <td>ฉัน|ดีใจ|ที่|ฉัน|ไม่ได้|จ่าย|อะไร|เลย</td>\n",
       "      <td>8</td>\n",
       "      <td>7</td>\n",
       "      <td>False</td>\n",
       "    </tr>\n",
       "    <tr>\n",
       "      <th>3</th>\n",
       "      <td>0.864635</td>\n",
       "      <td>0.135365</td>\n",
       "      <td>0.0</td>\n",
       "      <td>0.0</td>\n",
       "      <td>ไม่ชอบสไตล์การเขียนของผู้เขียนรู้สึกว่ามันสื่อ...</td>\n",
       "      <td>ไม่|ชอบ|สไตล์|การเขียน|ของ|ผู้เขียน|รู้สึก|ว่า...</td>\n",
       "      <td>83</td>\n",
       "      <td>71</td>\n",
       "      <td>True</td>\n",
       "    </tr>\n",
       "    <tr>\n",
       "      <th>4</th>\n",
       "      <td>0.915618</td>\n",
       "      <td>0.084382</td>\n",
       "      <td>0.0</td>\n",
       "      <td>0.0</td>\n",
       "      <td>ฉันมีสุนัขตัวใหญ่มาก - £ 12 และปลอกคอนี้จะไม่พ...</td>\n",
       "      <td>ฉัน|มี|สุนัข|ตัว|ใหญ่|มาก|-|£|12|และ|ปลอกคอ|นี...</td>\n",
       "      <td>73</td>\n",
       "      <td>55</td>\n",
       "      <td>True</td>\n",
       "    </tr>\n",
       "  </tbody>\n",
       "</table>\n",
       "</div>"
      ],
      "text/plain": [
       "        0.0       1.0  preds  correct  \\\n",
       "0  0.807132  0.192868    0.0      1.0   \n",
       "1  0.665240  0.334760    0.0      1.0   \n",
       "2  0.272429  0.727571    1.0      0.0   \n",
       "3  0.864635  0.135365    0.0      0.0   \n",
       "4  0.915618  0.084382    0.0      0.0   \n",
       "\n",
       "                                          th_segment  \\\n",
       "0  เหตุผลเดียวที่ทำให้มันได้รับสามดาวก็เพราะว่ามั...   \n",
       "1  ซื้อและลองสิ่งนี้เมื่อหน่วยเก่าของฉันล้มเหลว (...   \n",
       "2                     ฉันดีใจที่ฉันไม่ได้จ่ายอะไรเลย   \n",
       "3  ไม่ชอบสไตล์การเขียนของผู้เขียนรู้สึกว่ามันสื่อ...   \n",
       "4  ฉันมีสุนัขตัวใหญ่มาก - £ 12 และปลอกคอนี้จะไม่พ...   \n",
       "\n",
       "                                           processed  wc  uwc    hit  \n",
       "0  เหตุผล|เดียว|ที่|ทำให้|มัน|ได้รับ|สาม|ดาว|ก็เพ...  50   43  False  \n",
       "1  ซื้อ|และ|ลอง|สิ่ง|นี้|เมื่อ|หน่วย|เก่า|ของ|ฉัน...  28   28  False  \n",
       "2              ฉัน|ดีใจ|ที่|ฉัน|ไม่ได้|จ่าย|อะไร|เลย   8    7  False  \n",
       "3  ไม่|ชอบ|สไตล์|การเขียน|ของ|ผู้เขียน|รู้สึก|ว่า...  83   71   True  \n",
       "4  ฉัน|มี|สุนัข|ตัว|ใหญ่|มาก|-|£|12|และ|ปลอกคอ|นี...  73   55   True  "
      ]
     },
     "execution_count": 15,
     "metadata": {},
     "output_type": "execute_result"
    }
   ],
   "source": [
    "probs_df.head()"
   ]
  },
  {
   "cell_type": "code",
   "execution_count": 17,
   "metadata": {},
   "outputs": [
    {
     "name": "stdout",
     "output_type": "stream",
     "text": [
      "0.7160450231736923\n"
     ]
    },
    {
     "data": {
      "text/plain": [
       "<matplotlib.axes._subplots.AxesSubplot at 0x13cbbc748>"
      ]
     },
     "execution_count": 17,
     "metadata": {},
     "output_type": "execute_result"
    },
    {
     "data": {
      "text/plain": [
       "Text(30.5, 0.5, 'Actual')"
      ]
     },
     "execution_count": 17,
     "metadata": {},
     "output_type": "execute_result"
    },
    {
     "data": {
      "text/plain": [
       "Text(0.5, 12.5, 'Predicted')"
      ]
     },
     "execution_count": 17,
     "metadata": {},
     "output_type": "execute_result"
    },
    {
     "data": {
      "image/png": "[encoded data removed]",
      "text/plain": [
       "<Figure size 432x288 with 2 Axes>"
      ]
     },
     "metadata": {
      "needs_background": "light"
     },
     "output_type": "display_data"
    }
   ],
   "source": [
    "from sklearn.metrics import confusion_matrix\n",
    "\n",
    "conf_mat = confusion_matrix(probs_df['correct'],probs_df['preds'])\n",
    "print(model.score(X_valid,y_valid))\n",
    "sns.heatmap(conf_mat, annot=True, fmt=\"d\",\n",
    "            xticklabels=model.classes_, yticklabels=model.classes_)\n",
    "plt.ylabel(\"Actual\")\n",
    "plt.xlabel(\"Predicted\")\n",
    "plt.show()"
   ]
  },
  {
   "cell_type": "code",
   "execution_count": 4,
   "metadata": {},
   "outputs": [],
   "source": [
    "from fastai.text import *\n",
    "from fastai.callbacks import CSVLogger, SaveModelCallback\n",
    "from pythainlp.ulmfit import *"
   ]
  },
  {
   "cell_type": "code",
   "execution_count": 5,
   "metadata": {},
   "outputs": [],
   "source": [
    "model_path = \"output/\"\n",
    "review_df = pd.read_csv('src/amzn_fake_review_star_correct_302066.csv')\n",
    "train_df, valid_df = train_test_split(review_df, test_size=0.15)"
   ]
  },
  {
   "cell_type": "code",
   "execution_count": 6,
   "metadata": {},
   "outputs": [],
   "source": [
    "tt = Tokenizer(tok_func=ThaiTokenizer, lang=\"th\", pre_rules=pre_rules_th, post_rules=post_rules_th)\n",
    "processor = [TokenizeProcessor(tokenizer=tt, chunksize=10000, mark_fields=False),\n",
    "            NumericalizeProcessor(vocab=None, max_vocab=60000, min_freq=2)]\n",
    "\n",
    "data_lm = (TextList.from_df(train_df, model_path, cols=\"th_segment\", processor=processor)\n",
    "    .split_by_rand_pct(valid_pct = 0.01, seed = 1412)\n",
    "    .label_for_lm()\n",
    "    .databunch(bs=48))\n",
    "data_lm.sanity_check()\n",
    "# data_lm.save('amazon_fake_review_lm.pkl')"
   ]
  },
  {
   "cell_type": "code",
   "execution_count": 7,
   "metadata": {},
   "outputs": [
    {
     "data": {
      "text/plain": [
       "LanguageLearner(data=TextLMDataBunch;\n",
       "\n",
       "Train: LabelList (254189 items)\n",
       "x: LMTextList\n",
       "xxbos   ฉัน ชอบ ผลิตภัณฑ์ และ ราคา มัน แพง ไป ดังนั้น ฉัน อาจ เปลี่ยนสี หรือ ขนาดที่ ใหญ่ กว่า,xxbos   มัน เป็น หนังสือ ที่ ดี   แต่ ไม่ใช่ สิ่ง ที่ ฉัน คาดหวัง ไม่ คุ้ม กับ ราคา เมื่อ เทียบ กับ หนังสือ อื่น   ๆ   ที่ คล้าย กัน หาก ใคร ต้องการ มัน ฟรี ไป เลย เพียง จำไว้ ว่า มี ตัวเลือก ที่ ดีกว่า,xxbos   มันดี ใน ตอนแรก   แต่ หลังจาก ผ่าน ไป ระยะ หนึ่ง มัน ก็ เริ่ม กระจุย กับ ฉัน   ...   ฉัน คิด ว่า คุณ จะ ได้รับ สิ่ง ที่ คุณ จ่าย ไป,xxbos   ฉัน ทำ การวิจัย มากมาย ก่อน ตัดสินใจ ซื้อ ฉัน ไม่เคย มี มา ก่อน ดังนั้น สิ่ง เดียว ที่ ฉัน ได้ เรียนรู้ คือ สิ่ง ที่ คาดหวัง จาก ความเห็น ของ ผู้อื่น คุณภาพ ดูเหมือน จะ ยอดเยี่ยม และ ใช้งาน ได้ ดีมาก โดย ใช้   itouch   ของ ฉัน เป็น รีโมท แต่ ก็ เหมือน ทุกอย่าง คุณ จะ ได้ รับเงิน มากขึ้น ดังนั้น ฉัน จะ ทิ้ง มัน ไว้ และ ใช้ รี โม ต อื่น เมื่อ ฉัน เดินทาง   แต่ ถ้า คุณ อยู่ ใน ตลาด อยู่ดี ก็ อย่า มอง ไกล ไป กว่า อันนี้,xxbos   หนังสือ เล่ม นี้ มี ภาพประกอบ ที่ ยอดเยี่ยม มากมาย   แต่ หนา เกินไป กับ ข้อมูล ที่ ไร้ประโยชน์ มี ข้อมูลออก มี มากมาย เกิน กว่า ที่ ผู้ดูแล โรงเรียน ส่วนใหญ่ ต้องการ ตัวอย่างเช่น ตรวจสอบ   [...\n",
       "y: LMLabelList\n",
       ",,,,\n",
       "Path: output;\n",
       "\n",
       "Valid: LabelList (2567 items)\n",
       "x: LMTextList\n",
       "xxbos   หนังสือ เล่ม นี้ มี ขนาด สมบูรณ์ พร้อม การเขียน ที่ ชัดเจน มัน ให้ คำแนะนำ ที่ ดี เกี่ยวกับ วิธี ทำให้ แมว ของ คุณ แข็งแรง สุนัข ของ ฉัน มี อาการ แพ้ และ มีปัญหา เรื่อง อาหาร มากมาย ดังนั้น อาหาร นี้ ช่วย ได้ แน่นอน ผู้เขียน ยัง มี สูตร ใน บางครั้ง ความคิดเห็น เชิงลบ เดียว ที่ ฉัน มี คือ เกี่ยวกับ ระยะเวลา บางครั้ง ลูก แมว ของ ฉัน ก็ ปวด ตอนเช้า เพราะ กิน ไม่ ถูกต้อง และ ใช้เวลา หลาย วัน,xxbos   อย่า หลงกล โดย ภาพ ผลิตภัณฑ์ นี้ ไม่มี อะไร เหมือน ที่ ฉัน สั่ง นี่ เป็นเรื่อง โกหก สำหรับ ฉัน มัน ไม่ใช่ สิ่ง ที่ ฉัน คาดหวัง ไว้ ฉัน ไม่ สามารถ คืน พวกเขา ได้ ใน ตอนนี้ เพราะ พวกเขา ถูก ส่ง จาก ทะเล ข้าม พวกเขา ใช้เวลา ตลอดไป แม้ หลังจากนั้น อย่า ซื้อ เหล่านี้ ! ไม่ คุ้มค่า   !!!,xxbos   ไม่ น่าตื่นเต้น เหมือน หนังสือ เล่ม ก่อน   ๆ รู้สึก ค่อนข้าง ซ้ำซาก เรื่องราว ที่ น่าสนใจ   แต่ คาดการณ์ ได้ ใน แง่มุม นั้น สิ้นสุด ความรู้สึก เหมือน เพิ่ง หยุด,xxbos   ฉัน จะ ไม่ แนะนำ หนังสือ เล่ม นี้ มัน เต็มไปด้วย ความคิด โบราณ และ คุณ ได้รับ ปริมาณ มหาศาล ของ สิ่ง ที่ ไม่ได้ เป็น มุมมอง วัตถุประสงค์ ใน โลก   -   มัน เพียงแค่ กระโดด จาก ประเทศ หนึ่ง ไป ยัง อีก ประเทศ หนึ่ง ไม่ใช่ ว่า มัน ผิด เพราะ ฉัน แค่ หน้า   39   แต่ ฉัน ไม่ คิด ว่า มัน น่าสนใจ มาก,xxbos   ไม่เป็นไร . ไม่ คลั่งไคล้ เลย ฉัน ใช้ มัน เพราะ มัน ราคา ถูก และ ฉัน ไม่ต้อง การลงทุน เงิน จำนวนมาก สำหรับ การซื้อขาย จริง สำหรับ คน ที่ เพิ่ง เริ่ม แต่งหน้า คุณ อาจจะ ดีกว่า ถ้า มอง ไป ที่ พู่กัน อื่น เท่าที่ แปรง นี้ ทำ มาจาก :   จริง   ๆ   แล้ว เป็น แผน ดั้งเดิม ของ ฉัน ใน การ ซื้อ มัน   ...   แต่ เมื่อ ฉัน ได้รับ มัน ไม่มี ข้อบ่งชี้ ว่า จริง   ๆ   แล้ว มัน สังเคราะห์ มัน ให้ ความรู้สึก ถูก ซึ่ง ทำให้ ฉัน ไม่เชื่อ\n",
       "y: LMLabelList\n",
       ",,,,\n",
       "Path: output;\n",
       "\n",
       "Test: None, model=SequentialRNN(\n",
       "  (0): AWD_LSTM(\n",
       "    (encoder): Embedding(27104, 400, padding_idx=1)\n",
       "    (encoder_dp): EmbeddingDropout(\n",
       "      (emb): Embedding(27104, 400, padding_idx=1)\n",
       "    )\n",
       "    (rnns): ModuleList(\n",
       "      (0): WeightDropout(\n",
       "        (module): LSTM(400, 1550, batch_first=True)\n",
       "      )\n",
       "      (1): WeightDropout(\n",
       "        (module): LSTM(1550, 1550, batch_first=True)\n",
       "      )\n",
       "      (2): WeightDropout(\n",
       "        (module): LSTM(1550, 1550, batch_first=True)\n",
       "      )\n",
       "      (3): WeightDropout(\n",
       "        (module): LSTM(1550, 400, batch_first=True)\n",
       "      )\n",
       "    )\n",
       "    (input_dp): RNNDropout()\n",
       "    (hidden_dps): ModuleList(\n",
       "      (0): RNNDropout()\n",
       "      (1): RNNDropout()\n",
       "      (2): RNNDropout()\n",
       "      (3): RNNDropout()\n",
       "    )\n",
       "  )\n",
       "  (1): LinearDecoder(\n",
       "    (decoder): Linear(in_features=400, out_features=27104, bias=True)\n",
       "    (output_dp): RNNDropout()\n",
       "  )\n",
       "), opt_func=functools.partial(<class 'torch.optim.adam.Adam'>, betas=(0.9, 0.99)), loss_func=FlattenedLoss of CrossEntropyLoss(), metrics=[<function accuracy at 0x1425c0950>], true_wd=True, bn_wd=True, wd=0.01, train_bn=True, path=PosixPath('output'), model_dir='models', callback_fns=[functools.partial(<class 'fastai.basic_train.Recorder'>, add_time=True, silent=False), functools.partial(<class 'fastai.train.GradientClipping'>, clip=0.12)], callbacks=[RNNTrainer\n",
       "learn: ...\n",
       "alpha: 2\n",
       "beta: 1], layer_groups=[Sequential(\n",
       "  (0): WeightDropout(\n",
       "    (module): LSTM(400, 1550, batch_first=True)\n",
       "  )\n",
       "  (1): RNNDropout()\n",
       "), Sequential(\n",
       "  (0): WeightDropout(\n",
       "    (module): LSTM(1550, 1550, batch_first=True)\n",
       "  )\n",
       "  (1): RNNDropout()\n",
       "), Sequential(\n",
       "  (0): WeightDropout(\n",
       "    (module): LSTM(1550, 1550, batch_first=True)\n",
       "  )\n",
       "  (1): RNNDropout()\n",
       "), Sequential(\n",
       "  (0): WeightDropout(\n",
       "    (module): LSTM(1550, 400, batch_first=True)\n",
       "  )\n",
       "  (1): RNNDropout()\n",
       "), Sequential(\n",
       "  (0): Embedding(27104, 400, padding_idx=1)\n",
       "  (1): EmbeddingDropout(\n",
       "    (emb): Embedding(27104, 400, padding_idx=1)\n",
       "  )\n",
       "  (2): LinearDecoder(\n",
       "    (decoder): Linear(in_features=400, out_features=27104, bias=True)\n",
       "    (output_dp): RNNDropout()\n",
       "  )\n",
       ")], add_time=True, silent=False, cb_fns_registered=False)"
      ]
     },
     "execution_count": 7,
     "metadata": {},
     "output_type": "execute_result"
    }
   ],
   "source": [
    "config = dict(emb_sz=400, n_hid=1550, n_layers=4, pad_token=1, qrnn=False, tie_weights=True, out_bias=True,\n",
    "             output_p=0.25, hidden_p=0.1, input_p=0.2, embed_p=0.02, weight_p=0.15)\n",
    "trn_args = dict(drop_mult=1., clip=0.12, alpha=2, beta=1)\n",
    "\n",
    "learn = language_model_learner(data_lm, AWD_LSTM, config=config, pretrained=False, **trn_args)\n",
    "\n",
    "#load pretrained models\n",
    "learn.load_pretrained(**_THWIKI_LSTM)"
   ]
  },
  {
   "cell_type": "code",
   "execution_count": 17,
   "metadata": {},
   "outputs": [
    {
     "data": {
      "text/plain": [
       "{'wgts_fname': '/Users/admin/pythainlp-data/thwiki_model_lstm.pth',\n",
       " 'itos_fname': '/Users/admin/pythainlp-data/itos_lstm.pkl'}"
      ]
     },
     "execution_count": 17,
     "metadata": {},
     "output_type": "execute_result"
    }
   ],
   "source": [
    "_THWIKI_LSTM"
   ]
  },
  {
   "cell_type": "code",
   "execution_count": null,
   "metadata": {},
   "outputs": [],
   "source": []
  }
 ],
 "metadata": {
  "kernelspec": {
   "display_name": "Python 3",
   "language": "python",
   "name": "python3"
  },
  "language_info": {
   "codemirror_mode": {
    "name": "ipython",
    "version": 3
   },
   "file_extension": ".py",
   "mimetype": "text/x-python",
   "name": "python",
   "nbconvert_exporter": "python",
   "pygments_lexer": "ipython3",
   "version": "3.7.3"
  },
  "toc": {
   "base_numbering": 1,
   "nav_menu": {},
   "number_sections": true,
   "sideBar": true,
   "skip_h1_title": false,
   "title_cell": "Table of Contents",
   "title_sidebar": "Contents",
   "toc_cell": false,
   "toc_position": {},
   "toc_section_display": true,
   "toc_window_display": false
  }
 },
 "nbformat": 4,
 "nbformat_minor": 2
}
